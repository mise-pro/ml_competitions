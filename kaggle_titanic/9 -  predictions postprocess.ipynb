{
 "cells": [
  {
   "cell_type": "code",
   "execution_count": 34,
   "metadata": {
    "ExecuteTime": {
     "end_time": "2018-11-23T21:02:06.348093Z",
     "start_time": "2018-11-23T21:02:06.171974Z"
    }
   },
   "outputs": [
    {
     "name": "stdout",
     "output_type": "stream",
     "text": [
      "The autoreload extension is already loaded. To reload it, use:\n",
      "  %reload_ext autoreload\n"
     ]
    }
   ],
   "source": [
    "%load_ext autoreload\n",
    "%autoreload 2\n",
    "import pandas as pd\n",
    "from sklearn.externals import joblib\n",
    "import xgboost as xgb\n",
    "from lightgbm import LGBMClassifier"
   ]
  },
  {
   "cell_type": "code",
   "execution_count": 56,
   "metadata": {
    "ExecuteTime": {
     "end_time": "2018-11-23T21:19:07.892445Z",
     "start_time": "2018-11-23T21:19:07.687306Z"
    }
   },
   "outputs": [],
   "source": [
    "#load data\n",
    "_, _, dataTest, _, dataTestScaled = joblib.load('data_modified/dataModified.pkl')\n",
    "\n",
    "#model, selectedFeatures = joblib.load('modelsTrained/' + fileName)\n",
    "dataTestRaw = pd.read_csv('data_raw/test.csv')\n",
    "submission = pd.read_csv('submissions/submission - pl XGBscaled 0.77990.csv')"
   ]
  },
  {
   "cell_type": "markdown",
   "metadata": {},
   "source": [
    "## Postprocess 1: save all children below 15 yo depending on class"
   ]
  },
  {
   "cell_type": "code",
   "execution_count": 79,
   "metadata": {
    "ExecuteTime": {
     "end_time": "2018-11-23T21:34:11.773865Z",
     "start_time": "2018-11-23T21:34:11.602750Z"
    }
   },
   "outputs": [
    {
     "data": {
      "text/plain": [
       "0    242\n",
       "1    176\n",
       "Name: Survived, dtype: int64"
      ]
     },
     "execution_count": 79,
     "metadata": {},
     "output_type": "execute_result"
    }
   ],
   "source": [
    "submission['Survived'].value_counts()\n",
    "#dataTestRaw.query('(Pclass == 1 or Pclass == 2) and Age<17')\n",
    "#dataTestRaw.query('Age<17')"
   ]
  },
  {
   "cell_type": "code",
   "execution_count": 80,
   "metadata": {
    "ExecuteTime": {
     "end_time": "2018-11-23T21:34:14.045846Z",
     "start_time": "2018-11-23T21:34:13.880728Z"
    },
    "scrolled": true
   },
   "outputs": [],
   "source": [
    "children_idx = submission['PassengerId'].isin(dataTestRaw.query('Age<17').PassengerId)\n",
    "submission['Survived'].loc[children_idx] = 1"
   ]
  },
  {
   "cell_type": "code",
   "execution_count": 81,
   "metadata": {
    "ExecuteTime": {
     "end_time": "2018-11-23T21:34:16.119994Z",
     "start_time": "2018-11-23T21:34:15.954883Z"
    }
   },
   "outputs": [
    {
     "data": {
      "text/plain": [
       "0    242\n",
       "1    176\n",
       "Name: Survived, dtype: int64"
      ]
     },
     "execution_count": 81,
     "metadata": {},
     "output_type": "execute_result"
    }
   ],
   "source": [
    "submission['Survived'].value_counts()"
   ]
  },
  {
   "cell_type": "code",
   "execution_count": 27,
   "metadata": {
    "ExecuteTime": {
     "end_time": "2018-11-23T18:03:24.437486Z",
     "start_time": "2018-11-23T18:03:24.261433Z"
    }
   },
   "outputs": [],
   "source": [
    "#@\n",
    "submission.to_csv('submissions/submission(postprocess1).csv', index=False)"
   ]
  }
 ],
 "metadata": {
  "kernelspec": {
   "display_name": "Python 3",
   "language": "python",
   "name": "python3"
  },
  "language_info": {
   "codemirror_mode": {
    "name": "ipython",
    "version": 3
   },
   "file_extension": ".py",
   "mimetype": "text/x-python",
   "name": "python",
   "nbconvert_exporter": "python",
   "pygments_lexer": "ipython3",
   "version": "3.6.4"
  }
 },
 "nbformat": 4,
 "nbformat_minor": 2
}
