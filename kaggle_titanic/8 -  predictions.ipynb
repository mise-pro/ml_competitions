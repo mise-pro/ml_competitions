{
 "cells": [
  {
   "cell_type": "code",
   "execution_count": 1,
   "metadata": {
    "ExecuteTime": {
     "end_time": "2018-12-06T17:31:39.273564Z",
     "start_time": "2018-12-06T17:31:34.851536Z"
    }
   },
   "outputs": [],
   "source": [
    "%load_ext autoreload\n",
    "%autoreload 2\n",
    "import pandas as pd\n",
    "from sklearn.externals import joblib\n",
    "import xgboost as xgb\n",
    "from lightgbm import LGBMClassifier\n",
    "from sklearn.preprocessing import StandardScaler\n",
    "\n",
    "import sys\n",
    "sys.path.insert(0, 'G:/work/GitHub/ml_baseline_things/functions/')\n",
    "#import GridSearchCVcustom as GSC\n",
    "import featureEngineringFunctions as fef"
   ]
  },
  {
   "cell_type": "code",
   "execution_count": 2,
   "metadata": {
    "ExecuteTime": {
     "end_time": "2018-12-06T17:31:39.480553Z",
     "start_time": "2018-12-06T17:31:39.275565Z"
    }
   },
   "outputs": [
    {
     "data": {
      "text/plain": [
       "['AgeBin_LE',\n",
       " 'FamilySize_LE',\n",
       " 'FareBin_LE',\n",
       " 'Pclass_LE',\n",
       " 'Sex_LE',\n",
       " 'FamilySurvival_bin']"
      ]
     },
     "execution_count": 2,
     "metadata": {},
     "output_type": "execute_result"
    }
   ],
   "source": [
    "#load data\n",
    "#_, _, dataTest, _, dataTestScaled = joblib.load('data_modified/dataModified.pkl')\n",
    "\n",
    "fileName = 'modelKNN--2018-12-06--20-31.pkl'\n",
    "model, selectedFeatures = joblib.load('modelsTrained/' + fileName)\n",
    "selectedFeatures"
   ]
  },
  {
   "cell_type": "code",
   "execution_count": 3,
   "metadata": {
    "ExecuteTime": {
     "end_time": "2018-12-06T17:31:39.710550Z",
     "start_time": "2018-12-06T17:31:39.482553Z"
    }
   },
   "outputs": [],
   "source": [
    "dataTestRaw = pd.read_csv('data_raw/test.csv')\n",
    "\n",
    "trainVStest = 891\n",
    "\n",
    "dataAll = fef.create_dataset_from_features (selectedFeatures, '2-featuresPack/')\n",
    "dataTest = fef.create_dataset_from_features (selectedFeatures, '2-featuresPack/')[trainVStest:]\n",
    "#dataTrainTarget =fef.create_dataset_from_features (['Survived'], '2-featuresPack/')[:trainVStest]\n",
    "\n",
    "dataTestScaled = StandardScaler().fit(dataAll).transform(dataTest)\n"
   ]
  },
  {
   "cell_type": "code",
   "execution_count": 4,
   "metadata": {
    "ExecuteTime": {
     "end_time": "2018-12-06T17:31:39.906248Z",
     "start_time": "2018-12-06T17:31:39.712551Z"
    }
   },
   "outputs": [],
   "source": [
    "#@\n",
    "prediction = model.predict(dataTestScaled).astype(int)\n",
    "\n",
    "submission = pd.DataFrame({\n",
    "        \"PassengerId\": dataTestRaw['PassengerId'],\n",
    "        \"Survived\": prediction\n",
    "    })\n",
    "submission.to_csv('submissions/submission.csv', index=False)"
   ]
  }
 ],
 "metadata": {
  "kernelspec": {
   "display_name": "Python 3",
   "language": "python",
   "name": "python3"
  },
  "language_info": {
   "codemirror_mode": {
    "name": "ipython",
    "version": 3
   },
   "file_extension": ".py",
   "mimetype": "text/x-python",
   "name": "python",
   "nbconvert_exporter": "python",
   "pygments_lexer": "ipython3",
   "version": "3.6.4"
  }
 },
 "nbformat": 4,
 "nbformat_minor": 2
}
