{
 "cells": [
  {
   "cell_type": "code",
   "execution_count": 1,
   "metadata": {
    "ExecuteTime": {
     "end_time": "2018-12-01T22:39:35.002394Z",
     "start_time": "2018-12-01T22:39:30.539377Z"
    }
   },
   "outputs": [],
   "source": [
    "%load_ext autoreload\n",
    "%autoreload 2\n",
    "import pandas as pd\n",
    "from sklearn.externals import joblib\n",
    "import xgboost as xgb\n",
    "from lightgbm import LGBMClassifier\n",
    "\n",
    "import sys\n",
    "sys.path.insert(0, 'G:/work/GitHub/ml_baseline_things/functions/')\n",
    "#import GridSearchCVcustom as GSC\n",
    "import featureEngineringFunctions as fef"
   ]
  },
  {
   "cell_type": "code",
   "execution_count": 2,
   "metadata": {
    "ExecuteTime": {
     "end_time": "2018-12-01T22:39:35.242551Z",
     "start_time": "2018-12-01T22:39:35.004391Z"
    }
   },
   "outputs": [
    {
     "data": {
      "text/plain": [
       "['Age_lev',\n",
       " 'Age*Class',\n",
       " 'Deck_LE',\n",
       " 'FamilySize',\n",
       " 'Fare_lev',\n",
       " 'Pclass',\n",
       " 'Sex_LE',\n",
       " 'Title_LE']"
      ]
     },
     "execution_count": 2,
     "metadata": {},
     "output_type": "execute_result"
    }
   ],
   "source": [
    "#load data\n",
    "_, _, dataTest, _, dataTestScaled = joblib.load('data_modified/dataModified.pkl')\n",
    "\n",
    "fileName = 'modelKNN--2018-12-02--01-38.pkl'\n",
    "model, selectedFeatures = joblib.load('modelsTrained/' + fileName)\n",
    "selectedFeatures"
   ]
  },
  {
   "cell_type": "code",
   "execution_count": 3,
   "metadata": {
    "ExecuteTime": {
     "end_time": "2018-12-01T22:39:35.469702Z",
     "start_time": "2018-12-01T22:39:35.244553Z"
    }
   },
   "outputs": [
    {
     "data": {
      "text/html": [
       "<div>\n",
       "<style scoped>\n",
       "    .dataframe tbody tr th:only-of-type {\n",
       "        vertical-align: middle;\n",
       "    }\n",
       "\n",
       "    .dataframe tbody tr th {\n",
       "        vertical-align: top;\n",
       "    }\n",
       "\n",
       "    .dataframe thead th {\n",
       "        text-align: right;\n",
       "    }\n",
       "</style>\n",
       "<table border=\"1\" class=\"dataframe\">\n",
       "  <thead>\n",
       "    <tr style=\"text-align: right;\">\n",
       "      <th></th>\n",
       "      <th>Age_lev</th>\n",
       "      <th>Age*Class</th>\n",
       "      <th>Deck_LE</th>\n",
       "      <th>FamilySize</th>\n",
       "      <th>Fare_lev</th>\n",
       "      <th>Pclass</th>\n",
       "      <th>Sex_LE</th>\n",
       "      <th>Title_LE</th>\n",
       "    </tr>\n",
       "  </thead>\n",
       "  <tbody>\n",
       "    <tr>\n",
       "      <th>0</th>\n",
       "      <td>2</td>\n",
       "      <td>103.5</td>\n",
       "      <td>7</td>\n",
       "      <td>1</td>\n",
       "      <td>0</td>\n",
       "      <td>3</td>\n",
       "      <td>1</td>\n",
       "      <td>2</td>\n",
       "    </tr>\n",
       "    <tr>\n",
       "      <th>1</th>\n",
       "      <td>2</td>\n",
       "      <td>141.0</td>\n",
       "      <td>7</td>\n",
       "      <td>2</td>\n",
       "      <td>0</td>\n",
       "      <td>3</td>\n",
       "      <td>0</td>\n",
       "      <td>3</td>\n",
       "    </tr>\n",
       "    <tr>\n",
       "      <th>2</th>\n",
       "      <td>3</td>\n",
       "      <td>124.0</td>\n",
       "      <td>7</td>\n",
       "      <td>1</td>\n",
       "      <td>1</td>\n",
       "      <td>2</td>\n",
       "      <td>1</td>\n",
       "      <td>2</td>\n",
       "    </tr>\n",
       "    <tr>\n",
       "      <th>3</th>\n",
       "      <td>1</td>\n",
       "      <td>81.0</td>\n",
       "      <td>7</td>\n",
       "      <td>1</td>\n",
       "      <td>1</td>\n",
       "      <td>3</td>\n",
       "      <td>1</td>\n",
       "      <td>2</td>\n",
       "    </tr>\n",
       "    <tr>\n",
       "      <th>4</th>\n",
       "      <td>1</td>\n",
       "      <td>66.0</td>\n",
       "      <td>7</td>\n",
       "      <td>3</td>\n",
       "      <td>2</td>\n",
       "      <td>3</td>\n",
       "      <td>0</td>\n",
       "      <td>3</td>\n",
       "    </tr>\n",
       "  </tbody>\n",
       "</table>\n",
       "</div>"
      ],
      "text/plain": [
       "   Age_lev  Age*Class  Deck_LE  FamilySize  Fare_lev  Pclass  Sex_LE  Title_LE\n",
       "0        2      103.5        7           1         0       3       1         2\n",
       "1        2      141.0        7           2         0       3       0         3\n",
       "2        3      124.0        7           1         1       2       1         2\n",
       "3        1       81.0        7           1         1       3       1         2\n",
       "4        1       66.0        7           3         2       3       0         3"
      ]
     },
     "execution_count": 3,
     "metadata": {},
     "output_type": "execute_result"
    }
   ],
   "source": [
    "dataTestRaw = pd.read_csv('data_raw/test.csv')\n",
    "featureListForTest = [\n",
    "'AGE_lev_test',\n",
    "'Age-Class_cnt_test',\n",
    "'Deck_LE_test',\n",
    "'FamilySize_cnt_test',\n",
    "'Fare_lev_test',\n",
    "#'HasBloodRelatives_train',\n",
    "#'HasWifeHasb_train',\n",
    "#'IsAlone_train',\n",
    "'Pclass_cnt_test',\n",
    "'SEX_LE_test',\n",
    "'Title_LE_test'\n",
    "]\n",
    "dataTest = fef.create_dataset_from_features (featureListForTest, '2.1-featuresPack/')\n",
    "dataTest.head()"
   ]
  },
  {
   "cell_type": "code",
   "execution_count": null,
   "metadata": {
    "ExecuteTime": {
     "end_time": "2018-11-23T19:28:11.679065Z",
     "start_time": "2018-11-23T19:28:11.513941Z"
    }
   },
   "outputs": [],
   "source": []
  },
  {
   "cell_type": "code",
   "execution_count": 4,
   "metadata": {
    "ExecuteTime": {
     "end_time": "2018-12-01T22:39:35.674838Z",
     "start_time": "2018-12-01T22:39:35.471705Z"
    }
   },
   "outputs": [],
   "source": [
    "@\n",
    "prediction = model.predict(dataTest)\n",
    "\n",
    "submission = pd.DataFrame({\n",
    "        \"PassengerId\": dataTestRaw['PassengerId'],\n",
    "        \"Survived\": prediction\n",
    "    })\n",
    "submission.to_csv('submissions/submission.csv', index=False)"
   ]
  }
 ],
 "metadata": {
  "kernelspec": {
   "display_name": "Python 3",
   "language": "python",
   "name": "python3"
  },
  "language_info": {
   "codemirror_mode": {
    "name": "ipython",
    "version": 3
   },
   "file_extension": ".py",
   "mimetype": "text/x-python",
   "name": "python",
   "nbconvert_exporter": "python",
   "pygments_lexer": "ipython3",
   "version": "3.6.4"
  }
 },
 "nbformat": 4,
 "nbformat_minor": 2
}
