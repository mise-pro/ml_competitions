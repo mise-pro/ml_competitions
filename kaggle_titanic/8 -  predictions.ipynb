{
 "cells": [
  {
   "cell_type": "code",
   "execution_count": 1,
   "metadata": {
    "ExecuteTime": {
     "end_time": "2018-11-23T19:28:05.753798Z",
     "start_time": "2018-11-23T19:28:01.551781Z"
    }
   },
   "outputs": [],
   "source": [
    "%load_ext autoreload\n",
    "%autoreload 2\n",
    "import pandas as pd\n",
    "from sklearn.externals import joblib\n",
    "import xgboost as xgb\n",
    "from lightgbm import LGBMClassifier\n",
    "\n",
    "#import sys\n",
    "#sys.path.insert(0, 'G:/work/GitHub/ml_baseline_things/functions/')\n",
    "#import GridSearchCVcustom as GSC"
   ]
  },
  {
   "cell_type": "code",
   "execution_count": 2,
   "metadata": {
    "ExecuteTime": {
     "end_time": "2018-11-23T19:28:05.974745Z",
     "start_time": "2018-11-23T19:28:05.755794Z"
    }
   },
   "outputs": [],
   "source": [
    "#load data\n",
    "_, _, dataTest, _, dataTestScaled = joblib.load('data_modified/dataModified.pkl')\n",
    "\n",
    "fileName = 'modelXGBScaled--2018-11-23--22-26.pkl'\n",
    "model, selectedFeatures = joblib.load('modelsTrained/' + fileName)"
   ]
  },
  {
   "cell_type": "code",
   "execution_count": 3,
   "metadata": {
    "ExecuteTime": {
     "end_time": "2018-11-23T19:28:06.555808Z",
     "start_time": "2018-11-23T19:28:05.976748Z"
    }
   },
   "outputs": [],
   "source": [
    "dataTestRaw = pd.read_csv('data_raw/test.csv')\n"
   ]
  },
  {
   "cell_type": "code",
   "execution_count": 4,
   "metadata": {
    "ExecuteTime": {
     "end_time": "2018-11-23T19:28:11.679065Z",
     "start_time": "2018-11-23T19:28:11.513941Z"
    }
   },
   "outputs": [],
   "source": [
    "#dataTestScaled[selectedFeatures].head()"
   ]
  },
  {
   "cell_type": "code",
   "execution_count": 6,
   "metadata": {
    "ExecuteTime": {
     "end_time": "2018-11-23T19:28:32.483524Z",
     "start_time": "2018-11-23T19:28:29.045048Z"
    }
   },
   "outputs": [
    {
     "name": "stderr",
     "output_type": "stream",
     "text": [
      "C:\\ProgramData\\Anaconda3\\lib\\site-packages\\sklearn\\preprocessing\\label.py:151: DeprecationWarning: The truth value of an empty array is ambiguous. Returning False, but in future this will result in an error. Use `array.size > 0` to check that an array is not empty.\n",
      "  if diff:\n"
     ]
    }
   ],
   "source": [
    "@\n",
    "prediction = model.predict(dataTestScaled[selectedFeatures])\n",
    "\n",
    "submission = pd.DataFrame({\n",
    "        \"PassengerId\": dataTestRaw['PassengerId'],\n",
    "        \"Survived\": prediction\n",
    "    })\n",
    "submission.to_csv('submissions/submission.csv', index=False)"
   ]
  }
 ],
 "metadata": {
  "kernelspec": {
   "display_name": "Python 3",
   "language": "python",
   "name": "python3"
  },
  "language_info": {
   "codemirror_mode": {
    "name": "ipython",
    "version": 3
   },
   "file_extension": ".py",
   "mimetype": "text/x-python",
   "name": "python",
   "nbconvert_exporter": "python",
   "pygments_lexer": "ipython3",
   "version": "3.6.4"
  }
 },
 "nbformat": 4,
 "nbformat_minor": 2
}
