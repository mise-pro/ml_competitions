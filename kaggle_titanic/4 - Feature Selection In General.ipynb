{
 "cells": [
  {
   "cell_type": "code",
   "execution_count": 1,
   "metadata": {
    "ExecuteTime": {
     "end_time": "2018-11-30T20:25:23.998557Z",
     "start_time": "2018-11-30T20:25:15.145787Z"
    }
   },
   "outputs": [],
   "source": [
    "%load_ext autoreload\n",
    "%autoreload 2\n",
    "\n",
    "import pandas as pd\n",
    "import numpy as np\n",
    "\n",
    "import matplotlib.pyplot as plt\n",
    "%matplotlib inline\n",
    "\n",
    "from sklearn.externals import joblib\n",
    "from datetime import datetime\n",
    "\n",
    "import sys\n",
    "sys.path.insert(0, 'G:/work/GitHub/ml_baseline_things/functions/')\n",
    "sys.path.insert(0, 'G:/work/GitHub/ml_baseline_things/featureSelector/')\n",
    "import supportFunctions as sf\n",
    "import featureEngineringFunctions as fef\n",
    "from feature_selector import FeatureSelector\n",
    "\n",
    "from sklearn.feature_selection import SelectKBest, f_classif, chi2"
   ]
  },
  {
   "cell_type": "code",
   "execution_count": 2,
   "metadata": {
    "ExecuteTime": {
     "end_time": "2018-11-30T20:25:37.488850Z",
     "start_time": "2018-11-30T20:25:37.295690Z"
    }
   },
   "outputs": [],
   "source": [
    "def to_source_columns_order (featureSet, featureRightOrder):\n",
    "    return [feature for feature in featureRightOrder if feature in featureSet]"
   ]
  },
  {
   "cell_type": "code",
   "execution_count": 6,
   "metadata": {
    "ExecuteTime": {
     "end_time": "2018-11-30T20:26:52.446695Z",
     "start_time": "2018-11-30T20:26:52.190854Z"
    }
   },
   "outputs": [],
   "source": [
    "#dataTrain, dataTrainTarget, dataTest, dataTrainScaled, dataTestScaled = sf.load_modified_data('data_modified/dataModified.pkl')\n",
    "featureListLElev = [\n",
    "'AGE_lev_train',\n",
    "'Age-Class_cnt_train',\n",
    "'Deck_LE_train',\n",
    "'FamilySize_cnt_train',\n",
    "'Fare_lev_train',\n",
    "'HasBloodRelatives_train',\n",
    "'HasWifeHasb_train',\n",
    "'IsAlone_train',\n",
    "'Pclass_cnt_train',\n",
    "'SEX_LE_train',\n",
    "'Title_LE_train'\n",
    "]\n",
    "dataTrain = fef.create_dataset_from_features (featureListLElev, '2.1-featuresPack/')\n",
    "dataTrainTarget =fef.create_dataset_from_features (['Survived_train'], '2.1-featuresPack/')"
   ]
  },
  {
   "cell_type": "code",
   "execution_count": 8,
   "metadata": {
    "ExecuteTime": {
     "end_time": "2018-11-30T20:27:10.064262Z",
     "start_time": "2018-11-30T20:27:09.847116Z"
    }
   },
   "outputs": [
    {
     "data": {
      "text/html": [
       "<div>\n",
       "<style scoped>\n",
       "    .dataframe tbody tr th:only-of-type {\n",
       "        vertical-align: middle;\n",
       "    }\n",
       "\n",
       "    .dataframe tbody tr th {\n",
       "        vertical-align: top;\n",
       "    }\n",
       "\n",
       "    .dataframe thead th {\n",
       "        text-align: right;\n",
       "    }\n",
       "</style>\n",
       "<table border=\"1\" class=\"dataframe\">\n",
       "  <thead>\n",
       "    <tr style=\"text-align: right;\">\n",
       "      <th></th>\n",
       "      <th>Age_lev</th>\n",
       "      <th>Age*Class</th>\n",
       "      <th>Deck_LE</th>\n",
       "      <th>FamilySize</th>\n",
       "      <th>Fare_lev</th>\n",
       "      <th>HasBloodRelatives</th>\n",
       "      <th>HasWifeHasb</th>\n",
       "      <th>IsAlone</th>\n",
       "      <th>Pclass</th>\n",
       "      <th>Sex_LE</th>\n",
       "      <th>Title_LE</th>\n",
       "    </tr>\n",
       "  </thead>\n",
       "  <tbody>\n",
       "    <tr>\n",
       "      <th>0</th>\n",
       "      <td>1</td>\n",
       "      <td>66.0</td>\n",
       "      <td>7</td>\n",
       "      <td>2</td>\n",
       "      <td>0</td>\n",
       "      <td>0</td>\n",
       "      <td>1</td>\n",
       "      <td>0</td>\n",
       "      <td>3</td>\n",
       "      <td>1</td>\n",
       "      <td>2</td>\n",
       "    </tr>\n",
       "    <tr>\n",
       "      <th>1</th>\n",
       "      <td>2</td>\n",
       "      <td>38.0</td>\n",
       "      <td>2</td>\n",
       "      <td>2</td>\n",
       "      <td>4</td>\n",
       "      <td>0</td>\n",
       "      <td>1</td>\n",
       "      <td>0</td>\n",
       "      <td>1</td>\n",
       "      <td>0</td>\n",
       "      <td>3</td>\n",
       "    </tr>\n",
       "    <tr>\n",
       "      <th>2</th>\n",
       "      <td>1</td>\n",
       "      <td>78.0</td>\n",
       "      <td>7</td>\n",
       "      <td>1</td>\n",
       "      <td>1</td>\n",
       "      <td>0</td>\n",
       "      <td>0</td>\n",
       "      <td>1</td>\n",
       "      <td>3</td>\n",
       "      <td>0</td>\n",
       "      <td>1</td>\n",
       "    </tr>\n",
       "    <tr>\n",
       "      <th>3</th>\n",
       "      <td>2</td>\n",
       "      <td>35.0</td>\n",
       "      <td>2</td>\n",
       "      <td>2</td>\n",
       "      <td>4</td>\n",
       "      <td>0</td>\n",
       "      <td>1</td>\n",
       "      <td>0</td>\n",
       "      <td>1</td>\n",
       "      <td>0</td>\n",
       "      <td>3</td>\n",
       "    </tr>\n",
       "    <tr>\n",
       "      <th>4</th>\n",
       "      <td>2</td>\n",
       "      <td>105.0</td>\n",
       "      <td>7</td>\n",
       "      <td>1</td>\n",
       "      <td>1</td>\n",
       "      <td>0</td>\n",
       "      <td>0</td>\n",
       "      <td>1</td>\n",
       "      <td>3</td>\n",
       "      <td>1</td>\n",
       "      <td>2</td>\n",
       "    </tr>\n",
       "  </tbody>\n",
       "</table>\n",
       "</div>"
      ],
      "text/plain": [
       "   Age_lev  Age*Class  Deck_LE  FamilySize  Fare_lev  HasBloodRelatives  \\\n",
       "0        1       66.0        7           2         0                  0   \n",
       "1        2       38.0        2           2         4                  0   \n",
       "2        1       78.0        7           1         1                  0   \n",
       "3        2       35.0        2           2         4                  0   \n",
       "4        2      105.0        7           1         1                  0   \n",
       "\n",
       "   HasWifeHasb  IsAlone  Pclass  Sex_LE  Title_LE  \n",
       "0            1        0       3       1         2  \n",
       "1            1        0       1       0         3  \n",
       "2            0        1       3       0         1  \n",
       "3            1        0       1       0         3  \n",
       "4            0        1       3       1         2  "
      ]
     },
     "execution_count": 8,
     "metadata": {},
     "output_type": "execute_result"
    }
   ],
   "source": [
    "dataTrain.head()\n"
   ]
  },
  {
   "cell_type": "code",
   "execution_count": 5,
   "metadata": {
    "ExecuteTime": {
     "end_time": "2018-11-30T20:25:44.411811Z",
     "start_time": "2018-11-30T20:25:44.208674Z"
    }
   },
   "outputs": [
    {
     "data": {
      "text/html": [
       "<div>\n",
       "<style scoped>\n",
       "    .dataframe tbody tr th:only-of-type {\n",
       "        vertical-align: middle;\n",
       "    }\n",
       "\n",
       "    .dataframe tbody tr th {\n",
       "        vertical-align: top;\n",
       "    }\n",
       "\n",
       "    .dataframe thead th {\n",
       "        text-align: right;\n",
       "    }\n",
       "</style>\n",
       "<table border=\"1\" class=\"dataframe\">\n",
       "  <thead>\n",
       "    <tr style=\"text-align: right;\">\n",
       "      <th></th>\n",
       "      <th>0</th>\n",
       "    </tr>\n",
       "  </thead>\n",
       "  <tbody>\n",
       "    <tr>\n",
       "      <th>0</th>\n",
       "      <td>Age_lev</td>\n",
       "    </tr>\n",
       "    <tr>\n",
       "      <th>1</th>\n",
       "      <td>Age*Class</td>\n",
       "    </tr>\n",
       "    <tr>\n",
       "      <th>2</th>\n",
       "      <td>Deck_LE</td>\n",
       "    </tr>\n",
       "    <tr>\n",
       "      <th>3</th>\n",
       "      <td>FamilySize</td>\n",
       "    </tr>\n",
       "    <tr>\n",
       "      <th>4</th>\n",
       "      <td>Fare_lev</td>\n",
       "    </tr>\n",
       "    <tr>\n",
       "      <th>5</th>\n",
       "      <td>HasBloodRelatives</td>\n",
       "    </tr>\n",
       "    <tr>\n",
       "      <th>6</th>\n",
       "      <td>HasWifeHasb</td>\n",
       "    </tr>\n",
       "    <tr>\n",
       "      <th>7</th>\n",
       "      <td>IsAlone</td>\n",
       "    </tr>\n",
       "    <tr>\n",
       "      <th>8</th>\n",
       "      <td>Pclass</td>\n",
       "    </tr>\n",
       "    <tr>\n",
       "      <th>9</th>\n",
       "      <td>Sex_LE</td>\n",
       "    </tr>\n",
       "    <tr>\n",
       "      <th>10</th>\n",
       "      <td>Title_LE</td>\n",
       "    </tr>\n",
       "  </tbody>\n",
       "</table>\n",
       "</div>"
      ],
      "text/plain": [
       "                    0\n",
       "0             Age_lev\n",
       "1           Age*Class\n",
       "2             Deck_LE\n",
       "3          FamilySize\n",
       "4            Fare_lev\n",
       "5   HasBloodRelatives\n",
       "6         HasWifeHasb\n",
       "7             IsAlone\n",
       "8              Pclass\n",
       "9              Sex_LE\n",
       "10           Title_LE"
      ]
     },
     "execution_count": 5,
     "metadata": {},
     "output_type": "execute_result"
    }
   ],
   "source": [
    "pd.DataFrame(dataTrain.columns)"
   ]
  },
  {
   "cell_type": "markdown",
   "metadata": {},
   "source": [
    "## SelectKBest"
   ]
  },
  {
   "cell_type": "code",
   "execution_count": 10,
   "metadata": {
    "ExecuteTime": {
     "end_time": "2018-11-30T20:27:25.239299Z",
     "start_time": "2018-11-30T20:27:24.720552Z"
    }
   },
   "outputs": [
    {
     "data": {
      "image/png": "[encoded data removed]",
      "text/plain": [
       "<matplotlib.figure.Figure at 0xf80a4c8f98>"
      ]
     },
     "metadata": {},
     "output_type": "display_data"
    }
   ],
   "source": [
    "fCount = 8\n",
    "\n",
    "#f_classif\n",
    "selector = SelectKBest(f_classif, k=fCount)\n",
    "selector.fit(dataTrain, dataTrainTarget)\n",
    "#scores = np.log10(selector.scores_)\n",
    "scores = selector.scores_\n",
    "\n",
    "plt.bar(range(len(dataTrain.columns)), scores)\n",
    "plt.xticks(range(len(dataTrain.columns)), dataTrain.columns, rotation='vertical')\n",
    "plt.show()"
   ]
  },
  {
   "cell_type": "code",
   "execution_count": 11,
   "metadata": {
    "ExecuteTime": {
     "end_time": "2018-11-30T20:27:46.870322Z",
     "start_time": "2018-11-30T20:27:46.653988Z"
    }
   },
   "outputs": [
    {
     "data": {
      "text/plain": [
       "['Age*Class',\n",
       " 'Deck_LE',\n",
       " 'Fare_lev',\n",
       " 'HasWifeHasb',\n",
       " 'IsAlone',\n",
       " 'Pclass',\n",
       " 'Sex_LE',\n",
       " 'Title_LE']"
      ]
     },
     "execution_count": 11,
     "metadata": {},
     "output_type": "execute_result"
    }
   ],
   "source": [
    "fScores = pd.DataFrame(selector.scores_, columns=['fScores'])\n",
    "topFScores = (\n",
    "    fScores.join(pd.DataFrame(dataTrain.columns, columns=['fName']))\n",
    "    .sort_values(by='fScores', ascending=False)\n",
    "    .head(fCount)\n",
    "    #.sort_index()\n",
    "    .fName)\n",
    "selectedFeatures1 = to_source_columns_order(list(topFScores), dataTrain.columns)\n",
    "#list(topFScores)\n",
    "#dataTrain[selectedFeatures].head()\n",
    "selectedFeatures1"
   ]
  },
  {
   "cell_type": "code",
   "execution_count": 12,
   "metadata": {
    "ExecuteTime": {
     "end_time": "2018-11-30T20:27:54.258921Z",
     "start_time": "2018-11-30T20:27:53.806194Z"
    }
   },
   "outputs": [
    {
     "data": {
      "image/png": "[encoded data removed]",
      "text/plain": [
       "<matplotlib.figure.Figure at 0xf806643c88>"
      ]
     },
     "metadata": {},
     "output_type": "display_data"
    }
   ],
   "source": [
    "#chi2\n",
    "selector = SelectKBest(chi2, k=fCount)\n",
    "selector.fit(dataTrain, dataTrainTarget)\n",
    "#scores = np.log10(selector.scores_)\n",
    "scores = selector.scores_\n",
    "\n",
    "plt.bar(range(len(dataTrain.columns)), scores)\n",
    "plt.xticks(range(len(dataTrain.columns)), dataTrain.columns, rotation='vertical')\n",
    "plt.show()"
   ]
  },
  {
   "cell_type": "code",
   "execution_count": 13,
   "metadata": {
    "ExecuteTime": {
     "end_time": "2018-11-30T20:28:14.073482Z",
     "start_time": "2018-11-30T20:28:13.846332Z"
    }
   },
   "outputs": [
    {
     "data": {
      "text/plain": [
       "['Age*Class',\n",
       " 'Deck_LE',\n",
       " 'Fare_lev',\n",
       " 'HasWifeHasb',\n",
       " 'IsAlone',\n",
       " 'Pclass',\n",
       " 'Sex_LE',\n",
       " 'Title_LE']"
      ]
     },
     "execution_count": 13,
     "metadata": {},
     "output_type": "execute_result"
    }
   ],
   "source": [
    "fScores = pd.DataFrame(scores, columns=['fScores'])\n",
    "topFScores = (\n",
    "    fScores.join(pd.DataFrame(dataTrain.columns, columns=['fName']))\n",
    "    .sort_values(by='fScores', ascending=False)\n",
    "    .head(fCount)\n",
    "    #.sort_index()\n",
    "    .fName)\n",
    "selectedFeatures2 = to_source_columns_order(list(topFScores), dataTrain.columns)\n",
    "selectedFeatures2"
   ]
  },
  {
   "cell_type": "code",
   "execution_count": 14,
   "metadata": {
    "ExecuteTime": {
     "end_time": "2018-11-30T20:28:34.493111Z",
     "start_time": "2018-11-30T20:28:34.277970Z"
    }
   },
   "outputs": [
    {
     "name": "stdout",
     "output_type": "stream",
     "text": [
      "Both feature selections iters have these features:\n",
      "\n",
      "['Age*Class', 'Deck_LE', 'Fare_lev', 'HasWifeHasb', 'IsAlone', 'Pclass', 'Sex_LE', 'Title_LE'] \n",
      "\n",
      "Only in one feature selection: \n",
      "\n",
      "[] \n",
      "\n"
     ]
    }
   ],
   "source": [
    "selectedFeatures1and2 = to_source_columns_order(set(selectedFeatures1) & set(selectedFeatures2), dataTrain.columns)\n",
    "selectedFeatures1xor2 = to_source_columns_order(set(selectedFeatures1) ^ set(selectedFeatures2), dataTrain.columns)\n",
    "\n",
    "print ('Both feature selections iters have these features:\\n')\n",
    "print (selectedFeatures1and2,'\\n')\n",
    "print ('Only in one feature selection: \\n')\n",
    "print (selectedFeatures1xor2,'\\n')"
   ]
  },
  {
   "cell_type": "markdown",
   "metadata": {},
   "source": [
    "## Using pure logistic regression"
   ]
  },
  {
   "cell_type": "code",
   "execution_count": 15,
   "metadata": {
    "ExecuteTime": {
     "end_time": "2018-11-30T20:28:58.091860Z",
     "start_time": "2018-11-30T20:28:57.798425Z"
    }
   },
   "outputs": [
    {
     "data": {
      "text/plain": [
       "['Age_lev',\n",
       " 'FamilySize',\n",
       " 'Fare_lev',\n",
       " 'HasWifeHasb',\n",
       " 'IsAlone',\n",
       " 'Pclass',\n",
       " 'Sex_LE',\n",
       " 'Title_LE']"
      ]
     },
     "execution_count": 15,
     "metadata": {},
     "output_type": "execute_result"
    }
   ],
   "source": [
    "# Logistic Regression\n",
    "from sklearn.linear_model import LogisticRegression\n",
    "\n",
    "lrModel = LogisticRegression()\n",
    "lrModel.fit(dataTrain, dataTrainTarget)\n",
    "\n",
    "fScores = lrModel.coef_[0]\n",
    "\n",
    "topFScores = pd.DataFrame(dataTrain.columns, columns=['fName'])\n",
    "topFScores[\"Correlation\"] = pd.Series(fScores)\n",
    "topFScores[\"CorrelationAbs\"] = abs(topFScores[\"Correlation\"])\n",
    "\n",
    "topFScores = ( \n",
    "    topFScores\n",
    "    .sort_values(by='CorrelationAbs', ascending=False)\n",
    "    .head(fCount)\n",
    "    #.sort_index()\n",
    "    .fName)\n",
    "selectedFeaturesLR = to_source_columns_order(list(topFScores), dataTrain.columns)\n",
    "selectedFeaturesLR\n"
   ]
  },
  {
   "cell_type": "code",
   "execution_count": 16,
   "metadata": {
    "ExecuteTime": {
     "end_time": "2018-11-30T20:29:01.664908Z",
     "start_time": "2018-11-30T20:29:01.460772Z"
    }
   },
   "outputs": [
    {
     "name": "stdout",
     "output_type": "stream",
     "text": [
      "Both feature selections iters have these features:\n",
      "\n",
      "['Fare_lev', 'HasWifeHasb', 'IsAlone', 'Pclass', 'Sex_LE', 'Title_LE'] \n",
      "\n",
      "Only in one feature selection: \n",
      "\n",
      "['Age_lev', 'FamilySize', 'Fare_lev', 'HasWifeHasb', 'IsAlone', 'Pclass', 'Sex_LE', 'Title_LE']\n"
     ]
    }
   ],
   "source": [
    "selectedFeatures12andLR = to_source_columns_order(set(selectedFeatures1and2) & set(selectedFeaturesLR), dataTrain.columns)\n",
    "selectedFeatures12xorLR = to_source_columns_order(set(selectedFeatures1xor2) ^ set(selectedFeaturesLR), dataTrain.columns)\n",
    "print ('Both feature selections iters have these features:\\n')\n",
    "print (selectedFeatures12andLR, '\\n')\n",
    "print ('Only in one feature selection: \\n')\n",
    "print (selectedFeatures12xorLR)"
   ]
  },
  {
   "cell_type": "markdown",
   "metadata": {},
   "source": [
    "## Selecting features using FeatureSelectorTool"
   ]
  },
  {
   "cell_type": "code",
   "execution_count": 17,
   "metadata": {
    "ExecuteTime": {
     "end_time": "2018-11-30T20:29:08.499101Z",
     "start_time": "2018-11-30T20:29:08.300954Z"
    }
   },
   "outputs": [],
   "source": [
    "fs = FeatureSelector(data = dataTrain, labels = dataTrainTarget)"
   ]
  },
  {
   "cell_type": "code",
   "execution_count": 18,
   "metadata": {
    "ExecuteTime": {
     "end_time": "2018-11-30T20:29:12.687318Z",
     "start_time": "2018-11-30T20:29:10.533045Z"
    }
   },
   "outputs": [
    {
     "name": "stdout",
     "output_type": "stream",
     "text": [
      "0 features with greater than 0.60 missing values.\n",
      "\n",
      "1 features with a single unique value.\n",
      "\n",
      "1 features with a correlation magnitude greater than 0.98.\n",
      "\n",
      "Training Gradient Boosting Model\n",
      "\n",
      "Training until validation scores don't improve for 100 rounds.\n",
      "Early stopping, best iteration is:\n",
      "[17]\tvalid_0's binary_logloss: 0.494191\tvalid_0's auc: 0.86706\n",
      "Training until validation scores don't improve for 100 rounds.\n",
      "Early stopping, best iteration is:\n",
      "[134]\tvalid_0's binary_logloss: 0.443221\tvalid_0's auc: 0.865306\n",
      "Training until validation scores don't improve for 100 rounds.\n",
      "Early stopping, best iteration is:\n",
      "[65]\tvalid_0's binary_logloss: 0.430834\tvalid_0's auc: 0.867262\n",
      "Training until validation scores don't improve for 100 rounds.\n",
      "Early stopping, best iteration is:\n",
      "[54]\tvalid_0's binary_logloss: 0.431311\tvalid_0's auc: 0.85991\n",
      "Training until validation scores don't improve for 100 rounds.\n",
      "Early stopping, best iteration is:\n",
      "[88]\tvalid_0's binary_logloss: 0.360588\tvalid_0's auc: 0.906117\n",
      "Training until validation scores don't improve for 100 rounds.\n",
      "Early stopping, best iteration is:\n",
      "[5]\tvalid_0's binary_logloss: 0.578945\tvalid_0's auc: 0.826334\n",
      "Training until validation scores don't improve for 100 rounds.\n",
      "Early stopping, best iteration is:\n",
      "[42]\tvalid_0's binary_logloss: 0.462865\tvalid_0's auc: 0.867793\n",
      "Training until validation scores don't improve for 100 rounds.\n",
      "Early stopping, best iteration is:\n",
      "[6]\tvalid_0's binary_logloss: 0.591123\tvalid_0's auc: 0.841991\n",
      "Training until validation scores don't improve for 100 rounds.\n",
      "Early stopping, best iteration is:\n",
      "[359]\tvalid_0's binary_logloss: 0.279868\tvalid_0's auc: 0.934833\n",
      "Training until validation scores don't improve for 100 rounds.\n",
      "Early stopping, best iteration is:\n",
      "[103]\tvalid_0's binary_logloss: 0.370397\tvalid_0's auc: 0.89919\n",
      "\n",
      "1 features with zero importance after one-hot encoding.\n",
      "\n",
      "8 features required for cumulative importance of 0.99 after one hot encoding.\n",
      "3 features do not contribute to cumulative importance of 0.99.\n",
      "\n",
      "3 total features out of 11 identified for removal after one-hot encoding.\n",
      "\n"
     ]
    }
   ],
   "source": [
    "fs.identify_all(selection_params = {'missing_threshold': 0.6,    \n",
    "                                    'correlation_threshold': 0.98, \n",
    "                                    'task': 'classification',    \n",
    "                                    'eval_metric': 'auc', \n",
    "                                    'cumulative_importance': 0.99})"
   ]
  },
  {
   "cell_type": "code",
   "execution_count": 19,
   "metadata": {
    "ExecuteTime": {
     "end_time": "2018-11-30T20:29:30.064732Z",
     "start_time": "2018-11-30T20:29:29.861596Z"
    }
   },
   "outputs": [
    {
     "data": {
      "text/plain": [
       "{'collinear': ['IsAlone'],\n",
       " 'low_importance': ['IsAlone', 'HasWifeHasb', 'HasBloodRelatives'],\n",
       " 'missing': [],\n",
       " 'single_unique': ['HasBloodRelatives'],\n",
       " 'zero_importance': ['HasBloodRelatives']}"
      ]
     },
     "execution_count": 19,
     "metadata": {},
     "output_type": "execute_result"
    }
   ],
   "source": [
    "fs.ops"
   ]
  },
  {
   "cell_type": "code",
   "execution_count": 20,
   "metadata": {
    "ExecuteTime": {
     "end_time": "2018-11-30T20:29:50.600699Z",
     "start_time": "2018-11-30T20:29:50.396563Z"
    }
   },
   "outputs": [
    {
     "data": {
      "text/plain": [
       "['Age_lev',\n",
       " 'Age*Class',\n",
       " 'Deck_LE',\n",
       " 'FamilySize',\n",
       " 'Fare_lev',\n",
       " 'Pclass',\n",
       " 'Sex_LE',\n",
       " 'Title_LE']"
      ]
     },
     "execution_count": 20,
     "metadata": {},
     "output_type": "execute_result"
    }
   ],
   "source": [
    "tempFeaturesSet = set (fs.ops.get('low_importance') + fs.ops.get('zero_importance') + fs.ops.get('single_unique'))\n",
    "selectedFeaturesFSTool = to_source_columns_order(set(dataTrain.columns) - tempFeaturesSet, dataTrain.columns)\n",
    "selectedFeaturesFSTool"
   ]
  },
  {
   "cell_type": "markdown",
   "metadata": {},
   "source": [
    "## Feature Extraction with RFE"
   ]
  },
  {
   "cell_type": "code",
   "execution_count": 21,
   "metadata": {
    "ExecuteTime": {
     "end_time": "2018-11-30T20:29:58.329742Z",
     "start_time": "2018-11-30T20:29:58.101591Z"
    }
   },
   "outputs": [
    {
     "name": "stdout",
     "output_type": "stream",
     "text": [
      "Num Features: 8\n",
      "Selected Features Indexes: [ True False False  True  True False  True  True  True  True  True]\n",
      "Feature Ranking: [1 3 2 1 1 4 1 1 1 1 1]\n"
     ]
    },
    {
     "data": {
      "text/plain": [
       "['Age_lev',\n",
       " 'FamilySize',\n",
       " 'Fare_lev',\n",
       " 'HasWifeHasb',\n",
       " 'IsAlone',\n",
       " 'Pclass',\n",
       " 'Sex_LE',\n",
       " 'Title_LE']"
      ]
     },
     "execution_count": 21,
     "metadata": {},
     "output_type": "execute_result"
    }
   ],
   "source": [
    "# \n",
    "from sklearn.feature_selection import RFE\n",
    "from sklearn.linear_model import LogisticRegression\n",
    "\n",
    "# feature extraction\n",
    "model = LogisticRegression()\n",
    "rfe = RFE(model, fCount)\n",
    "fit = rfe.fit(dataTrain, dataTrainTarget)\n",
    "print(\"Num Features: {}\".format(fit.n_features_))\n",
    "print(\"Selected Features Indexes: {}\".format(fit.support_))\n",
    "print(\"Feature Ranking: {}\".format(fit.ranking_))\n",
    "selectedFeaturesRFElr = list(dataTrain.columns[fit.support_])\n",
    "selectedFeaturesRFElr"
   ]
  },
  {
   "cell_type": "code",
   "execution_count": 23,
   "metadata": {
    "ExecuteTime": {
     "end_time": "2018-11-30T20:30:38.405566Z",
     "start_time": "2018-11-30T20:30:37.829179Z"
    }
   },
   "outputs": [
    {
     "name": "stdout",
     "output_type": "stream",
     "text": [
      "Num Features: 8\n",
      "Selected Features Indexes: [ True  True  True  True  True False False False  True  True  True]\n",
      "Feature Ranking: [1 1 1 1 1 4 3 2 1 1 1]\n"
     ]
    },
    {
     "data": {
      "text/plain": [
       "['Age_lev',\n",
       " 'Age*Class',\n",
       " 'Deck_LE',\n",
       " 'FamilySize',\n",
       " 'Fare_lev',\n",
       " 'Pclass',\n",
       " 'Sex_LE',\n",
       " 'Title_LE']"
      ]
     },
     "execution_count": 23,
     "metadata": {},
     "output_type": "execute_result"
    }
   ],
   "source": [
    "import xgboost as xgb\n",
    "# feature extraction\n",
    "model = xgb.XGBClassifier(n_jobs=-1)\n",
    "rfe = RFE(model, 8)\n",
    "fit = rfe.fit(dataTrain, dataTrainTarget)\n",
    "print(\"Num Features: {}\".format(fit.n_features_))\n",
    "print(\"Selected Features Indexes: {}\".format(fit.support_))\n",
    "print(\"Feature Ranking: {}\".format(fit.ranking_))\n",
    "selectedFeaturesRFExgb = list(dataTrain.columns[fit.support_])\n",
    "selectedFeaturesRFExgb"
   ]
  },
  {
   "cell_type": "markdown",
   "metadata": {},
   "source": [
    "## Feature Importance with Extra Trees"
   ]
  },
  {
   "cell_type": "code",
   "execution_count": 24,
   "metadata": {
    "ExecuteTime": {
     "end_time": "2018-11-30T20:30:47.309834Z",
     "start_time": "2018-11-30T20:30:47.012568Z"
    }
   },
   "outputs": [
    {
     "name": "stdout",
     "output_type": "stream",
     "text": [
      "[0.03723232 0.28101085 0.06588874 0.07495207 0.07453067 0.\n",
      " 0.01490358 0.01109049 0.08671284 0.254741   0.09893744]\n"
     ]
    },
    {
     "data": {
      "text/plain": [
       "['Age_lev',\n",
       " 'Age*Class',\n",
       " 'Deck_LE',\n",
       " 'FamilySize',\n",
       " 'Fare_lev',\n",
       " 'Pclass',\n",
       " 'Sex_LE',\n",
       " 'Title_LE']"
      ]
     },
     "execution_count": 24,
     "metadata": {},
     "output_type": "execute_result"
    }
   ],
   "source": [
    "from sklearn.ensemble import ExtraTreesClassifier\n",
    "\n",
    "# feature extraction\n",
    "model = ExtraTreesClassifier()\n",
    "model.fit(dataTrain, dataTrainTarget)\n",
    "print(model.feature_importances_)\n",
    "\n",
    "scores = model.feature_importances_\n",
    "\n",
    "fScores = pd.DataFrame(scores, columns=['fScores'])\n",
    "topFScores = (\n",
    "    fScores.join(pd.DataFrame(dataTrain.columns, columns=['fName']))\n",
    "    .sort_values(by='fScores', ascending=False)\n",
    "    .head(fCount)\n",
    "    .fName)\n",
    "\n",
    "selectedFeaturesFI = to_source_columns_order(list(topFScores), dataTrain.columns)\n",
    "selectedFeaturesFI\n"
   ]
  },
  {
   "cell_type": "markdown",
   "metadata": {},
   "source": [
    "## Final Selecting features"
   ]
  },
  {
   "cell_type": "code",
   "execution_count": 25,
   "metadata": {
    "ExecuteTime": {
     "end_time": "2018-11-30T20:31:05.182483Z",
     "start_time": "2018-11-30T20:31:04.981349Z"
    }
   },
   "outputs": [
    {
     "data": {
      "text/plain": [
       "['Age*Class',\n",
       " 'Deck_LE',\n",
       " 'Fare_lev',\n",
       " 'HasWifeHasb',\n",
       " 'IsAlone',\n",
       " 'Pclass',\n",
       " 'Sex_LE',\n",
       " 'Title_LE']"
      ]
     },
     "execution_count": 25,
     "metadata": {},
     "output_type": "execute_result"
    }
   ],
   "source": [
    "#TODO как визуализировать выбранные признаки?\n",
    "selectedFeatures1"
   ]
  },
  {
   "cell_type": "code",
   "execution_count": 26,
   "metadata": {
    "ExecuteTime": {
     "end_time": "2018-11-30T20:31:07.828249Z",
     "start_time": "2018-11-30T20:31:07.621111Z"
    }
   },
   "outputs": [
    {
     "data": {
      "text/plain": [
       "['Age*Class',\n",
       " 'Deck_LE',\n",
       " 'Fare_lev',\n",
       " 'HasWifeHasb',\n",
       " 'IsAlone',\n",
       " 'Pclass',\n",
       " 'Sex_LE',\n",
       " 'Title_LE']"
      ]
     },
     "execution_count": 26,
     "metadata": {},
     "output_type": "execute_result"
    }
   ],
   "source": [
    "selectedFeatures2"
   ]
  },
  {
   "cell_type": "code",
   "execution_count": 27,
   "metadata": {
    "ExecuteTime": {
     "end_time": "2018-11-30T20:31:10.977069Z",
     "start_time": "2018-11-30T20:31:10.771931Z"
    }
   },
   "outputs": [
    {
     "data": {
      "text/plain": [
       "['Age_lev',\n",
       " 'FamilySize',\n",
       " 'Fare_lev',\n",
       " 'HasWifeHasb',\n",
       " 'IsAlone',\n",
       " 'Pclass',\n",
       " 'Sex_LE',\n",
       " 'Title_LE']"
      ]
     },
     "execution_count": 27,
     "metadata": {},
     "output_type": "execute_result"
    }
   ],
   "source": [
    "selectedFeaturesLR"
   ]
  },
  {
   "cell_type": "code",
   "execution_count": 28,
   "metadata": {
    "ExecuteTime": {
     "end_time": "2018-11-30T20:31:15.659649Z",
     "start_time": "2018-11-30T20:31:15.460516Z"
    }
   },
   "outputs": [
    {
     "data": {
      "text/plain": [
       "['Age_lev',\n",
       " 'Age*Class',\n",
       " 'Deck_LE',\n",
       " 'FamilySize',\n",
       " 'Fare_lev',\n",
       " 'Pclass',\n",
       " 'Sex_LE',\n",
       " 'Title_LE']"
      ]
     },
     "execution_count": 28,
     "metadata": {},
     "output_type": "execute_result"
    }
   ],
   "source": [
    "selectedFeaturesFSTool"
   ]
  },
  {
   "cell_type": "markdown",
   "metadata": {},
   "source": [
    "## delete duplicates"
   ]
  },
  {
   "cell_type": "code",
   "execution_count": 24,
   "metadata": {
    "ExecuteTime": {
     "end_time": "2018-11-16T17:26:33.607280Z",
     "start_time": "2018-11-16T17:26:33.414238Z"
    }
   },
   "outputs": [],
   "source": [
    "#comment this line if ready\n",
    "selectedFeatures1 = ['Pclass',\n",
    " #'Sex',\n",
    " #'Fare',\n",
    " 'SexD_0',\n",
    " 'SexD_1',\n",
    " #'Title',\n",
    " 'TitleD_1',\n",
    " 'TitleD_2',\n",
    " 'TitleD_3',\n",
    " 'IsAlone',\n",
    " 'HasWifeHasb',\n",
    " 'Age*Class',\n",
    " 'FareBands',\n",
    " 'DeckF',\n",
    " 'DeckD_U']\n",
    "\n",
    "selectedFeatures2 = ['Pclass',\n",
    " #'Sex',\n",
    " #'Fare',\n",
    " 'SexD_0',\n",
    " 'SexD_1',\n",
    " #'Title',\n",
    " 'TitleD_1',\n",
    " 'TitleD_2',\n",
    " 'TitleD_3',\n",
    " 'HasWifeHasb',\n",
    " 'Age*Class',\n",
    " 'FareBands',\n",
    " 'DeckF',\n",
    " 'DeckD_B',\n",
    " 'DeckD_U']\n",
    "\n",
    "selectedFeaturesLR\n",
    "\n",
    "#selectedFeaturesFSTool\n",
    "\n",
    "selectedFeaturesAll = list(dataTrain.columns)"
   ]
  },
  {
   "cell_type": "markdown",
   "metadata": {},
   "source": [
    "## Save to disk"
   ]
  },
  {
   "cell_type": "code",
   "execution_count": 29,
   "metadata": {
    "ExecuteTime": {
     "end_time": "2018-11-30T20:31:27.750457Z",
     "start_time": "2018-11-30T20:31:27.541317Z"
    }
   },
   "outputs": [
    {
     "data": {
      "text/plain": [
       "[['Age_lev',\n",
       "  'FamilySize',\n",
       "  'Fare_lev',\n",
       "  'HasWifeHasb',\n",
       "  'IsAlone',\n",
       "  'Pclass',\n",
       "  'Sex_LE',\n",
       "  'Title_LE'],\n",
       " ['Age_lev',\n",
       "  'Age*Class',\n",
       "  'Deck_LE',\n",
       "  'FamilySize',\n",
       "  'Fare_lev',\n",
       "  'Pclass',\n",
       "  'Sex_LE',\n",
       "  'Title_LE'],\n",
       " ['Age_lev',\n",
       "  'Age*Class',\n",
       "  'Deck_LE',\n",
       "  'FamilySize',\n",
       "  'Fare_lev',\n",
       "  'Pclass',\n",
       "  'Sex_LE',\n",
       "  'Title_LE']]"
      ]
     },
     "execution_count": 29,
     "metadata": {},
     "output_type": "execute_result"
    }
   ],
   "source": [
    "#choice sets to pack\n",
    "packfOfSelectedFeatures = [\n",
    "    #selectedFeatures1,\n",
    "    #selectedFeatures2,\n",
    "    #selectedFeaturesLR,\n",
    "    #selectedFeaturesFSTool,\n",
    "    selectedFeaturesRFElr,\n",
    "    selectedFeaturesRFExgb,\n",
    "    selectedFeaturesFI\n",
    "]\n",
    "packfOfSelectedFeatures"
   ]
  },
  {
   "cell_type": "code",
   "execution_count": 27,
   "metadata": {
    "ExecuteTime": {
     "end_time": "2018-11-16T17:26:41.738227Z",
     "start_time": "2018-11-16T17:26:41.550988Z"
    }
   },
   "outputs": [],
   "source": [
    "comment this line if ready\n",
    "_ = joblib.dump(packfOfSelectedFeatures, \n",
    "            open('selectedFeatures/selectedFeatures--{}.pkl'.format(datetime.now().strftime(\"%Y-%m-%d--%H-%M\")), 'wb'), 9)"
   ]
  }
 ],
 "metadata": {
  "kernelspec": {
   "display_name": "Python 3",
   "language": "python",
   "name": "python3"
  },
  "language_info": {
   "codemirror_mode": {
    "name": "ipython",
    "version": 3
   },
   "file_extension": ".py",
   "mimetype": "text/x-python",
   "name": "python",
   "nbconvert_exporter": "python",
   "pygments_lexer": "ipython3",
   "version": "3.6.4"
  }
 },
 "nbformat": 4,
 "nbformat_minor": 2
}
