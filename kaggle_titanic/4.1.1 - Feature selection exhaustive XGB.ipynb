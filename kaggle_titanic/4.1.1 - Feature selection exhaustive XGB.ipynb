{
 "cells": [
  {
   "cell_type": "markdown",
   "metadata": {},
   "source": [
    "##   Feature selection exhaustive"
   ]
  },
  {
   "cell_type": "code",
   "execution_count": null,
   "metadata": {
    "ExecuteTime": {
     "end_time": "2018-11-20T15:57:46.960085Z",
     "start_time": "2018-11-20T15:57:46.752094Z"
    }
   },
   "outputs": [],
   "source": [
    "%load_ext autoreload\n",
    "%autoreload 2\n",
    "import pandas as pd\n",
    "from sklearn.externals import joblib\n",
    "from sklearn.model_selection import StratifiedKFold\n",
    "#from sklearn.model_selection import ParameterGrid\n",
    "\n",
    "import xgboost as xgb\n",
    "\n",
    "import sys\n",
    "sys.path.insert(0, 'G:/work/GitHub/ml_baseline_things/functions/')\n",
    "sys.path.insert(0, 'G:/work/GitHub/ml_baseline_things/featureSelectionExhaustiveAndSelection')\n",
    "\n",
    "from exhaustive_feature_selector import ExhaustiveFeatureSelector as EFS\n",
    "from sequential_feature_selector import SequentialFeatureSelector as SFS\n",
    "\n",
    "import CheckClassificationModels as ccm\n",
    "import supportFunctions as sf"
   ]
  },
  {
   "cell_type": "code",
   "execution_count": null,
   "metadata": {
    "ExecuteTime": {
     "end_time": "2018-11-20T15:57:57.981064Z",
     "start_time": "2018-11-20T15:57:57.733568Z"
    }
   },
   "outputs": [],
   "source": [
    "dataTrain, dataTrainTarget, dataTest, dataTrainScaled, dataTestScaled = sf.load_modified_data('data_modified/dataModified.pkl')"
   ]
  },
  {
   "cell_type": "markdown",
   "metadata": {},
   "source": [
    "## check xgb"
   ]
  },
  {
   "cell_type": "code",
   "execution_count": null,
   "metadata": {
    "ExecuteTime": {
     "end_time": "2018-11-20T10:45:12.332926Z",
     "start_time": "2018-11-20T10:45:12.156807Z"
    }
   },
   "outputs": [],
   "source": [
    "len(dataTrain.columns)"
   ]
  },
  {
   "cell_type": "code",
   "execution_count": null,
   "metadata": {
    "ExecuteTime": {
     "end_time": "2018-11-20T15:28:55.321069Z",
     "start_time": "2018-11-20T13:51:32.567173Z"
    }
   },
   "outputs": [],
   "source": [
    "XGBModel = xgb.XGBClassifier(random_state=1, n_jobs=-1)\n",
    "\n",
    "efs1 = EFS(XGBModel, \n",
    "           min_features=4,\n",
    "           max_features=4,\n",
    "           scoring='accuracy',\n",
    "           print_progress=True,\n",
    "           cv=3)\n",
    "\n",
    "efs1 = efs1.fit(dataTrain, dataTrainTarget)\n",
    "\n",
    "print('Best accuracy score: %.2f' % efs1.best_score_)\n",
    "print('Best subset (indices):', efs1.best_idx_)\n",
    "print('Best subset (corresponding names):', efs1.best_feature_names_)"
   ]
  },
  {
   "cell_type": "code",
   "execution_count": null,
   "metadata": {
    "ExecuteTime": {
     "end_time": "2018-11-20T11:00:46.647209Z",
     "start_time": "2018-11-20T11:00:46.457082Z"
    }
   },
   "outputs": [],
   "source": [
    "print('Best accuracy score: %.2f' % efs1.best_score_)\n",
    "print('Best subset (indices):', efs1.best_idx_)\n",
    "print('Best subset (corresponding names):', efs1.best_feature_names_)"
   ]
  }
 ],
 "metadata": {
  "kernelspec": {
   "display_name": "Python 3",
   "language": "python",
   "name": "python3"
  },
  "language_info": {
   "codemirror_mode": {
    "name": "ipython",
    "version": 3
   },
   "file_extension": ".py",
   "mimetype": "text/x-python",
   "name": "python",
   "nbconvert_exporter": "python",
   "pygments_lexer": "ipython3",
   "version": "3.6.4"
  }
 },
 "nbformat": 4,
 "nbformat_minor": 2
}
