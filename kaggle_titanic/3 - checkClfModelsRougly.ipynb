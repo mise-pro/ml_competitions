{
 "cells": [
  {
   "cell_type": "code",
   "execution_count": 1,
   "metadata": {
    "ExecuteTime": {
     "end_time": "2018-11-26T17:00:31.813258Z",
     "start_time": "2018-11-26T17:00:27.227154Z"
    }
   },
   "outputs": [],
   "source": [
    "%load_ext autoreload\n",
    "%autoreload 2\n",
    "import pandas as pd\n",
    "from sklearn.externals import joblib\n",
    "from sklearn.model_selection import StratifiedKFold\n",
    "\n",
    "import sys\n",
    "sys.path.insert(0, 'G:/work/GitHub/ml_baseline_things/functions/')\n",
    "\n",
    "import CheckClassificationModels as ccm"
   ]
  },
  {
   "cell_type": "code",
   "execution_count": 2,
   "metadata": {
    "ExecuteTime": {
     "end_time": "2018-11-26T17:00:32.021394Z",
     "start_time": "2018-11-26T17:00:31.815257Z"
    }
   },
   "outputs": [
    {
     "data": {
      "text/plain": [
       "[['Pclass',\n",
       "  'Sex',\n",
       "  'Age',\n",
       "  'SibSp',\n",
       "  'Parch',\n",
       "  'Fare',\n",
       "  'SexD_0',\n",
       "  'SexD_1',\n",
       "  'Title',\n",
       "  'TitleD_1',\n",
       "  'TitleD_2',\n",
       "  'TitleD_3',\n",
       "  'TitleD_4',\n",
       "  'TitleD_5',\n",
       "  'AgeBands',\n",
       "  'FamilySize',\n",
       "  'IsAlone',\n",
       "  'HasWifeHasb',\n",
       "  'HasBloodRelatives',\n",
       "  'Age*Class',\n",
       "  'FareBands',\n",
       "  'DeckF',\n",
       "  'DeckD_A',\n",
       "  'DeckD_B',\n",
       "  'DeckD_C',\n",
       "  'DeckD_D',\n",
       "  'DeckD_E',\n",
       "  'DeckD_F',\n",
       "  'DeckD_G',\n",
       "  'DeckD_U']]"
      ]
     },
     "execution_count": 2,
     "metadata": {},
     "output_type": "execute_result"
    }
   ],
   "source": [
    "dataTrain, dataTarget, _ , dataTrainScaled, _ = joblib.load('data_modified/dataModified.pkl')\n",
    "\n",
    "fileName = 'selectedFeatures.pkl'\n",
    "#selectedFeaturesPack = [selectedFeatures for selectedFeatures in joblib.load('selectedFeatures/'+fileName)]\n",
    "selectedFeaturesPack = [list(dataTrain.columns)]\n",
    "selectedFeaturesPack"
   ]
  },
  {
   "cell_type": "markdown",
   "metadata": {},
   "source": [
    "## задача этого ноута - построить кроссвалидацию + все начальные модели"
   ]
  },
  {
   "cell_type": "markdown",
   "metadata": {},
   "source": [
    "## Crossvalidation"
   ]
  },
  {
   "cell_type": "code",
   "execution_count": 3,
   "metadata": {
    "ExecuteTime": {
     "end_time": "2018-11-26T17:00:32.198513Z",
     "start_time": "2018-11-26T17:00:32.023396Z"
    }
   },
   "outputs": [
    {
     "name": "stdout",
     "output_type": "stream",
     "text": [
      "check if balanced or not: 0.3838383838383838\n"
     ]
    }
   ],
   "source": [
    "#check if balanced or not\n",
    "print ('check if balanced or not: {}'.format(float(sum(dataTarget))/len(dataTrain)))\n",
    "\n",
    "#http://scikit-learn.org/stable/modules/cross_validation.html#cross-validation-iterators\n",
    "# checklist CV strategy\n",
    "# данные приходят из i.i.d распределения?\n",
    "# данные имеют временную зависимоть?\n",
    "# данные имеют зависимость от группы? например, строки можно объединить в группы, где целевая переменная генерится по своему закону по каждой группе?\n",
    "# может выделить искуственную группу от признака, от которого есть большая корреляция?\n",
    "# есть ли смежные данные?\n",
    "\n",
    "# TODO metrics should be choosen optimally"
   ]
  },
  {
   "cell_type": "code",
   "execution_count": 4,
   "metadata": {
    "ExecuteTime": {
     "end_time": "2018-11-26T17:08:59.352801Z",
     "start_time": "2018-11-26T17:00:32.200514Z"
    },
    "code_folding": []
   },
   "outputs": [
    {
     "name": "stdout",
     "output_type": "stream",
     "text": [
      "Total iterations will be perform (for each featureSet) = 2\n",
      "AdaBoostClassifier (n=50) calculating...\n",
      "AdaBoostClassifier (n=50) DONE. Accuracy: 0.8192875497556306, std: 0.01479316773315864\n",
      "BaggingClassifier (n=10) calculating...\n",
      "BaggingClassifier (n=10) DONE. Accuracy: 0.8058321156849901, std: 0.0035849246737542084\n",
      "ExtraTreesClassifier (n=10) calculating...\n",
      "ExtraTreesClassifier (n=10) DONE. Accuracy: 0.7811457651030382, std: 0.0008767068070740791\n",
      "GradientBoostingClassifier (n=100) calculating...\n",
      "GradientBoostingClassifier (n=100) DONE. Accuracy: 0.8361314052501638, std: 0.006917922104096308\n",
      "RandomForestClassifier (auto) calculating...\n",
      "RandomForestClassifier (auto) DONE. Accuracy: 0.8125585730840934, std: 0.010311382072857367\n",
      "GaussianProcessClassifier calculating...\n",
      "GaussianProcessClassifier DONE. Accuracy: 0.8260240842444702, std: 0.012540938177054428\n",
      "LogisticRegressionCV calculating...\n",
      "LogisticRegressionCV DONE. Accuracy: 0.8271426412052199, std: 0.015906686149040172\n",
      "PassiveAggressiveClassifier calculating...\n",
      "PassiveAggressiveClassifier DONE. Accuracy: 0.6181941855192221, std: 0.18898070237315462\n",
      "RidgeClassifierCV calculating...\n",
      "RidgeClassifierCV DONE. Accuracy: 0.8383659998992291, std: 0.01589408978686957\n",
      "SGDClassifier calculating...\n",
      "SGDClassifier DONE. Accuracy: 0.6497027258527737, std: 0.1148712651786164\n",
      "Perceptron calculating...\n",
      "Perceptron DONE. Accuracy: 0.6654078702070843, std: 0.12158764548798312\n",
      "BernoulliNB calculating...\n",
      "BernoulliNB DONE. Accuracy: 0.7934826422129289, std: 0.006965788280344609\n",
      "GaussianNB calculating...\n",
      "GaussianNB DONE. Accuracy: 0.7822366100670126, std: 0.027180430291731728\n",
      "KNeighborsClassifier (n=2) calculating...\n",
      "KNeighborsClassifier (n=2) DONE. Accuracy: 0.8024638484405704, std: 0.0047110394518063425\n",
      "SVC calculating...\n",
      "SVC DONE. Accuracy: 0.7867486269965234, std: 0.006973346097646993\n",
      "NuSVC calculating...\n",
      "NuSVC DONE. Accuracy: 0.7867486269965234, std: 0.006973346097646993\n",
      "LinearSVC calculating...\n",
      "LinearSVC DONE. Accuracy: 0.8305134277220738, std: 0.01253589963218621\n",
      "DecisionTreeClassifier calculating...\n",
      "DecisionTreeClassifier DONE. Accuracy: 0.75869904771502, std: 0.0008515140827329293\n",
      "ExtraTreeClassifier calculating...\n",
      "ExtraTreeClassifier DONE. Accuracy: 0.7632009875547942, std: 0.012079911321610348\n",
      "LinearDiscriminantAnalysis calculating...\n",
      "LinearDiscriminantAnalysis DONE. Accuracy: 0.7418879427621303, std: 0.022157001058094428\n",
      "XGBClassifier calculating...\n",
      "XGBClassifier DONE. Accuracy: 0.8170504358341311, std: 0.008061671789187319\n",
      "LGBMClassifier calculating...\n",
      "LGBMClassifier DONE. Accuracy: 0.8215422985841689, std: 0.00581196150551716\n",
      "Iteration done in 3.28 [mins]\n",
      "AdaBoostClassifier (n=50) calculating...\n",
      "AdaBoostClassifier (n=50) DONE. Accuracy: 0.8193128917274096, std: 0.03167728662476319\n",
      "BaggingClassifier (n=10) calculating...\n",
      "BaggingClassifier (n=10) DONE. Accuracy: 0.8070161769713339, std: 0.02597738071541792\n",
      "ExtraTreesClassifier (n=10) calculating...\n",
      "ExtraTreesClassifier (n=10) DONE. Accuracy: 0.7991181894979542, std: 0.01674522587053794\n",
      "GradientBoostingClassifier (n=100) calculating...\n",
      "GradientBoostingClassifier (n=100) DONE. Accuracy: 0.8327660319672652, std: 0.02002169091077837\n",
      "RandomForestClassifier (auto) calculating...\n",
      "RandomForestClassifier (auto) DONE. Accuracy: 0.8148185320971195, std: 0.009654724325156403\n",
      "GaussianProcessClassifier calculating...\n",
      "GaussianProcessClassifier DONE. Accuracy: 0.8192575683466939, std: 0.019074792077632824\n",
      "LogisticRegressionCV calculating...\n",
      "LogisticRegressionCV DONE. Accuracy: 0.8248881989773245, std: 0.018806734774092355\n",
      "PassiveAggressiveClassifier calculating...\n",
      "PassiveAggressiveClassifier DONE. Accuracy: 0.7743989635455442, std: 0.024596056548796978\n",
      "RidgeClassifierCV calculating...\n",
      "RidgeClassifierCV DONE. Accuracy: 0.8271002324393579, std: 0.020959682223331052\n",
      "SGDClassifier calculating...\n",
      "SGDClassifier DONE. Accuracy: 0.7968205783858812, std: 0.02732993460169211\n",
      "Perceptron calculating...\n",
      "Perceptron DONE. Accuracy: 0.8102988779137883, std: 0.018908355401329215\n",
      "BernoulliNB calculating...\n",
      "BernoulliNB DONE. Accuracy: 0.7889881042557612, std: 0.01124490926902555\n",
      "GaussianNB calculating...\n",
      "GaussianNB DONE. Accuracy: 0.7957396758545863, std: 0.025647152249851275\n",
      "KNeighborsClassifier (n=2) calculating...\n",
      "KNeighborsClassifier (n=2) DONE. Accuracy: 0.8092079206849385, std: 0.016863820665237533\n",
      "SVC calculating...\n",
      "SVC DONE. Accuracy: 0.7911951780015121, std: 0.016925927053355567\n",
      "NuSVC calculating...\n",
      "NuSVC DONE. Accuracy: 0.7867208375896717, std: 0.01184157336060438\n",
      "LinearSVC calculating...\n",
      "LinearSVC DONE. Accuracy: 0.8248781442797699, std: 0.0211717426914294\n",
      "DecisionTreeClassifier calculating...\n",
      "DecisionTreeClassifier DONE. Accuracy: 0.792406836689348, std: 0.038036088443343365\n",
      "ExtraTreeClassifier calculating...\n",
      "ExtraTreeClassifier DONE. Accuracy: 0.7834076569362444, std: 0.024260285717307654\n",
      "LinearDiscriminantAnalysis calculating...\n",
      "LinearDiscriminantAnalysis DONE. Accuracy: 0.7911597385742565, std: 0.03510475366678253\n",
      "XGBClassifier calculating...\n",
      "XGBClassifier DONE. Accuracy: 0.833912177311841, std: 0.02953904679019344\n",
      "LGBMClassifier calculating...\n",
      "LGBMClassifier DONE. Accuracy: 0.8271756201268533, std: 0.023359251399753023\n",
      "Iteration done in 5.17 [mins]\n",
      "Congrats! All DONE. Total time is [mins]: 8.45\n",
      "\n",
      "All files were successfully saved to disk...\n"
     ]
    }
   ],
   "source": [
    "RS = 100\n",
    "nSamples = len(dataTrain)\n",
    "nSplits = [2,4,6,10]\n",
    "\n",
    "for selectedFeatures in selectedFeaturesPack[:]:\n",
    "\n",
    "    dataTrain_ = dataTrain[selectedFeatures]\n",
    "    dataTrainScaled_ = dataTrainScaled[selectedFeatures]\n",
    "\n",
    "    cvs = [StratifiedKFold(n_splits=i, random_state=RS, shuffle=True) for i in nSplits]\n",
    "\n",
    "    dataTrainMods = [\n",
    "        ['scaled', dataTrainScaled_[:nSamples]],\n",
    "        #['non-scaled', dataTrain_[:nSamples]]\n",
    "        ]\n",
    "\n",
    "    results = ccm.global_check_clf_models (dataTrainMods, dataTarget[:nSamples], cvs, RS, n_jobs = -1)#, debugMode=1)\n",
    "    ccm.postprocess_and_save_results(results, selectedFeatures, cvs, dataTrainMods, path='selectedFeatures/')"
   ]
  }
 ],
 "metadata": {
  "kernelspec": {
   "display_name": "Python 3",
   "language": "python",
   "name": "python3"
  },
  "language_info": {
   "codemirror_mode": {
    "name": "ipython",
    "version": 3
   },
   "file_extension": ".py",
   "mimetype": "text/x-python",
   "name": "python",
   "nbconvert_exporter": "python",
   "pygments_lexer": "ipython3",
   "version": "3.6.4"
  }
 },
 "nbformat": 4,
 "nbformat_minor": 2
}
