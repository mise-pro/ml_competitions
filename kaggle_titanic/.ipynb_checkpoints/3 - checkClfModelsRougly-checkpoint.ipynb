{
 "cells": [
  {
   "cell_type": "code",
   "execution_count": 1,
   "metadata": {
    "ExecuteTime": {
     "end_time": "2018-11-22T16:27:08.073675Z",
     "start_time": "2018-11-22T16:26:57.575377Z"
    }
   },
   "outputs": [],
   "source": [
    "%load_ext autoreload\n",
    "%autoreload 2\n",
    "import pandas as pd\n",
    "from sklearn.externals import joblib\n",
    "from sklearn.model_selection import StratifiedKFold\n",
    "\n",
    "import sys\n",
    "sys.path.insert(0, 'G:/work/GitHub/ml_baseline_things/functions/')\n",
    "\n",
    "import CheckClassificationModels as ccm"
   ]
  },
  {
   "cell_type": "code",
   "execution_count": 5,
   "metadata": {
    "ExecuteTime": {
     "end_time": "2018-11-22T16:40:18.713879Z",
     "start_time": "2018-11-22T16:40:18.505542Z"
    }
   },
   "outputs": [
    {
     "data": {
      "text/plain": [
       "['Pclass',\n",
       " 'Sex',\n",
       " 'Age',\n",
       " 'SibSp',\n",
       " 'Parch',\n",
       " 'Fare',\n",
       " 'SexD_0',\n",
       " 'SexD_1',\n",
       " 'Title',\n",
       " 'TitleD_1',\n",
       " 'TitleD_2',\n",
       " 'TitleD_3',\n",
       " 'TitleD_4',\n",
       " 'TitleD_5',\n",
       " 'AgeBands',\n",
       " 'FamilySize',\n",
       " 'IsAlone',\n",
       " 'HasWifeHasb',\n",
       " 'HasBloodRelatives',\n",
       " 'Age*Class',\n",
       " 'FareBands',\n",
       " 'DeckF',\n",
       " 'DeckD_A',\n",
       " 'DeckD_B',\n",
       " 'DeckD_C',\n",
       " 'DeckD_D',\n",
       " 'DeckD_E',\n",
       " 'DeckD_F',\n",
       " 'DeckD_G',\n",
       " 'DeckD_U']"
      ]
     },
     "execution_count": 5,
     "metadata": {},
     "output_type": "execute_result"
    }
   ],
   "source": [
    "dataTrain, dataTarget, _ , dataTrainScaled, _ = joblib.load('data_modified/dataModified.pkl')\n",
    "\n",
    "fileName = 'selectedFeatures.pkl'\n",
    "#selectedFeaturesPack = [selectedFeatures for selectedFeatures in joblib.load('selectedFeatures/'+fileName)]\n",
    "selectedFeaturesPack = list(dataTrain.columns)\n",
    "selectedFeaturesPack"
   ]
  },
  {
   "cell_type": "markdown",
   "metadata": {},
   "source": [
    "## задача этого ноута - построить кроссвалидацию + все начальные модели"
   ]
  },
  {
   "cell_type": "markdown",
   "metadata": {},
   "source": [
    "## Crossvalidation"
   ]
  },
  {
   "cell_type": "code",
   "execution_count": 3,
   "metadata": {
    "ExecuteTime": {
     "end_time": "2018-11-16T17:28:25.786688Z",
     "start_time": "2018-11-16T17:28:25.618575Z"
    }
   },
   "outputs": [
    {
     "name": "stdout",
     "output_type": "stream",
     "text": [
      "check if balanced or not: 0.3838383838383838\n"
     ]
    }
   ],
   "source": [
    "#check if balanced or not\n",
    "print ('check if balanced or not: {}'.format(float(sum(dataTarget))/len(dataTrain)))\n",
    "\n",
    "#http://scikit-learn.org/stable/modules/cross_validation.html#cross-validation-iterators\n",
    "# checklist CV strategy\n",
    "# данные приходят из i.i.d распределения?\n",
    "# данные имеют временную зависимоть?\n",
    "# данные имеют зависимость от группы? например, строки можно объединить в группы, где целевая переменная генерится по своему закону по каждой группе?\n",
    "# может выделить искуственную группу от признака, от которого есть большая корреляция?\n",
    "# есть ли смежные данные?\n",
    "\n",
    "# TODO metrics should be choosen optimally"
   ]
  },
  {
   "cell_type": "code",
   "execution_count": 4,
   "metadata": {
    "ExecuteTime": {
     "end_time": "2018-11-16T19:31:32.924538Z",
     "start_time": "2018-11-16T17:28:25.788690Z"
    },
    "code_folding": []
   },
   "outputs": [
    {
     "name": "stdout",
     "output_type": "stream",
     "text": [
      "Total iterations will be perform (for each featureSet) = 4\n",
      "Iteration done in 86.23 [mins]\n",
      "Iteration done in 2.72 [mins]\n",
      "Iteration done in 3.76 [mins]\n",
      "Iteration done in 4.8 [mins]\n",
      "Congrats! All DONE. Total time is [mins]: 97.52\n",
      "\n",
      "All files were successfully saved to disk...\n",
      "Total iterations will be perform (for each featureSet) = 4\n",
      "Iteration done in 1.67 [mins]\n",
      "Iteration done in 2.65 [mins]\n",
      "Iteration done in 3.71 [mins]\n",
      "Iteration done in 4.73 [mins]\n",
      "Congrats! All DONE. Total time is [mins]: 12.77\n",
      "\n",
      "All files were successfully saved to disk...\n",
      "Total iterations will be perform (for each featureSet) = 4\n",
      "Iteration done in 1.67 [mins]\n",
      "Iteration done in 2.69 [mins]\n",
      "Iteration done in 3.72 [mins]\n",
      "Iteration done in 4.74 [mins]\n",
      "Congrats! All DONE. Total time is [mins]: 12.82\n",
      "\n",
      "All files were successfully saved to disk...\n"
     ]
    }
   ],
   "source": [
    "RS = 100\n",
    "nSamples = len(dataTrain)\n",
    "nSplits = [2,4,6,10]\n",
    "\n",
    "for selectedFeatures in selectedFeaturesPack[:]:\n",
    "\n",
    "    dataTrain_ = dataTrain[selectedFeatures]\n",
    "    dataTrainScaled_ = dataTrainScaled[selectedFeatures]\n",
    "\n",
    "    cvs = [StratifiedKFold(n_splits=i, random_state=RS, shuffle=True) for i in nSplits]\n",
    "\n",
    "    dataTrainMods = [\n",
    "        ['scaled', dataTrainScaled_[:nSamples]],\n",
    "        ['non-scaled', dataTrain_[:nSamples]]\n",
    "        ]\n",
    "\n",
    "    results = ccm.global_check_clf_models (dataTrainMods, dataTarget[:nSamples], cvs, RS, n_jobs = -1)#, debugMode=1)\n",
    "    ccm.postprocess_and_save_results(results, selectedFeatures, cvs, dataTrainMods, path='featureSelectionResults/')"
   ]
  },
  {
   "cell_type": "code",
   "execution_count": null,
   "metadata": {
    "ExecuteTime": {
     "end_time": "2018-11-15T16:37:02.306690Z",
     "start_time": "2018-11-15T16:37:02.128569Z"
    }
   },
   "outputs": [],
   "source": []
  }
 ],
 "metadata": {
  "kernelspec": {
   "display_name": "Python 3",
   "language": "python",
   "name": "python3"
  },
  "language_info": {
   "codemirror_mode": {
    "name": "ipython",
    "version": 3
   },
   "file_extension": ".py",
   "mimetype": "text/x-python",
   "name": "python",
   "nbconvert_exporter": "python",
   "pygments_lexer": "ipython3",
   "version": "3.6.4"
  }
 },
 "nbformat": 4,
 "nbformat_minor": 2
}
