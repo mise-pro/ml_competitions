{
 "cells": [
  {
   "cell_type": "markdown",
   "metadata": {
    "ExecuteTime": {
     "end_time": "2018-10-30T09:01:38.991455Z",
     "start_time": "2018-10-30T09:01:38.987456Z"
    }
   },
   "source": [
    "## Welcome and exploring new data"
   ]
  },
  {
   "cell_type": "code",
   "execution_count": 1,
   "metadata": {
    "ExecuteTime": {
     "end_time": "2018-10-31T18:49:22.093462Z",
     "start_time": "2018-10-31T18:49:13.843260Z"
    }
   },
   "outputs": [],
   "source": [
    "import pandas as pd\n",
    "import numpy as np\n",
    "\n",
    "import seaborn as sns\n",
    "import matplotlib.pyplot as plt\n",
    "%matplotlib inline\n",
    "\n",
    "import sys\n",
    "sys.path.insert(0, 'G:/work/GitHub/ml_baseline_things/functions/')\n",
    "import supportFunctions as sf"
   ]
  },
  {
   "cell_type": "code",
   "execution_count": 2,
   "metadata": {
    "ExecuteTime": {
     "end_time": "2018-10-31T18:49:22.232641Z",
     "start_time": "2018-10-31T18:49:22.095461Z"
    }
   },
   "outputs": [
    {
     "name": "stdout",
     "output_type": "stream",
     "text": [
      "Train (891, 12); Test (418, 11); Total (1309, 12).\n"
     ]
    }
   ],
   "source": [
    "dataTrain, dataTest, dataAll = sf.load_raw_data()"
   ]
  },
  {
   "cell_type": "code",
   "execution_count": 3,
   "metadata": {
    "ExecuteTime": {
     "end_time": "2018-10-31T18:49:22.239646Z",
     "start_time": "2018-10-31T18:49:22.234643Z"
    }
   },
   "outputs": [
    {
     "name": "stdout",
     "output_type": "stream",
     "text": [
      "['PassengerId' 'Survived' 'Pclass' 'Name' 'Sex' 'Age' 'SibSp' 'Parch'\n",
      " 'Ticket' 'Fare' 'Cabin' 'Embarked']\n"
     ]
    }
   ],
   "source": [
    "print(dataTrain.columns.values)"
   ]
  },
  {
   "cell_type": "markdown",
   "metadata": {},
   "source": [
    "* survival - 0 = No, 1 = Yes\n",
    "* pclass - Ticket class\t1 = 1st, 2 = 2nd, 3 = 3rd\n",
    "* sex - Sex\t\n",
    "* name\n",
    "* Age - Age in years\t\n",
    "* sibsp\t- # of siblings / spouses aboard the Titanic\t\n",
    "* parch\t- # of parents / children aboard the Titanic\t\n",
    "* ticket - Ticket number\t\n",
    "* fare - Passenger fare\t\n",
    "* cabin\t- Cabin number\t\n",
    "* embarked - Port of Embarkation\tC = Cherbourg, Q = Queenstown, S = Southampton"
   ]
  },
  {
   "cell_type": "code",
   "execution_count": 4,
   "metadata": {
    "ExecuteTime": {
     "end_time": "2018-10-31T18:49:22.287677Z",
     "start_time": "2018-10-31T18:49:22.241648Z"
    }
   },
   "outputs": [
    {
     "data": {
      "text/html": [
       "<div>\n",
       "<style scoped>\n",
       "    .dataframe tbody tr th:only-of-type {\n",
       "        vertical-align: middle;\n",
       "    }\n",
       "\n",
       "    .dataframe tbody tr th {\n",
       "        vertical-align: top;\n",
       "    }\n",
       "\n",
       "    .dataframe thead th {\n",
       "        text-align: right;\n",
       "    }\n",
       "</style>\n",
       "<table border=\"1\" class=\"dataframe\">\n",
       "  <thead>\n",
       "    <tr style=\"text-align: right;\">\n",
       "      <th></th>\n",
       "      <th>PassengerId</th>\n",
       "      <th>Survived</th>\n",
       "      <th>Pclass</th>\n",
       "      <th>Name</th>\n",
       "      <th>Sex</th>\n",
       "      <th>Age</th>\n",
       "      <th>SibSp</th>\n",
       "      <th>Parch</th>\n",
       "      <th>Ticket</th>\n",
       "      <th>Fare</th>\n",
       "      <th>Cabin</th>\n",
       "      <th>Embarked</th>\n",
       "    </tr>\n",
       "  </thead>\n",
       "  <tbody>\n",
       "    <tr>\n",
       "      <th>0</th>\n",
       "      <td>1</td>\n",
       "      <td>0</td>\n",
       "      <td>3</td>\n",
       "      <td>Braund, Mr. Owen Harris</td>\n",
       "      <td>male</td>\n",
       "      <td>22.0</td>\n",
       "      <td>1</td>\n",
       "      <td>0</td>\n",
       "      <td>A/5 21171</td>\n",
       "      <td>7.2500</td>\n",
       "      <td>NaN</td>\n",
       "      <td>S</td>\n",
       "    </tr>\n",
       "    <tr>\n",
       "      <th>1</th>\n",
       "      <td>2</td>\n",
       "      <td>1</td>\n",
       "      <td>1</td>\n",
       "      <td>Cumings, Mrs. John Bradley (Florence Briggs Th...</td>\n",
       "      <td>female</td>\n",
       "      <td>38.0</td>\n",
       "      <td>1</td>\n",
       "      <td>0</td>\n",
       "      <td>PC 17599</td>\n",
       "      <td>71.2833</td>\n",
       "      <td>C85</td>\n",
       "      <td>C</td>\n",
       "    </tr>\n",
       "    <tr>\n",
       "      <th>2</th>\n",
       "      <td>3</td>\n",
       "      <td>1</td>\n",
       "      <td>3</td>\n",
       "      <td>Heikkinen, Miss. Laina</td>\n",
       "      <td>female</td>\n",
       "      <td>26.0</td>\n",
       "      <td>0</td>\n",
       "      <td>0</td>\n",
       "      <td>STON/O2. 3101282</td>\n",
       "      <td>7.9250</td>\n",
       "      <td>NaN</td>\n",
       "      <td>S</td>\n",
       "    </tr>\n",
       "    <tr>\n",
       "      <th>3</th>\n",
       "      <td>4</td>\n",
       "      <td>1</td>\n",
       "      <td>1</td>\n",
       "      <td>Futrelle, Mrs. Jacques Heath (Lily May Peel)</td>\n",
       "      <td>female</td>\n",
       "      <td>35.0</td>\n",
       "      <td>1</td>\n",
       "      <td>0</td>\n",
       "      <td>113803</td>\n",
       "      <td>53.1000</td>\n",
       "      <td>C123</td>\n",
       "      <td>S</td>\n",
       "    </tr>\n",
       "    <tr>\n",
       "      <th>4</th>\n",
       "      <td>5</td>\n",
       "      <td>0</td>\n",
       "      <td>3</td>\n",
       "      <td>Allen, Mr. William Henry</td>\n",
       "      <td>male</td>\n",
       "      <td>35.0</td>\n",
       "      <td>0</td>\n",
       "      <td>0</td>\n",
       "      <td>373450</td>\n",
       "      <td>8.0500</td>\n",
       "      <td>NaN</td>\n",
       "      <td>S</td>\n",
       "    </tr>\n",
       "  </tbody>\n",
       "</table>\n",
       "</div>"
      ],
      "text/plain": [
       "   PassengerId  Survived  Pclass  \\\n",
       "0            1         0       3   \n",
       "1            2         1       1   \n",
       "2            3         1       3   \n",
       "3            4         1       1   \n",
       "4            5         0       3   \n",
       "\n",
       "                                                Name     Sex   Age  SibSp  \\\n",
       "0                            Braund, Mr. Owen Harris    male  22.0      1   \n",
       "1  Cumings, Mrs. John Bradley (Florence Briggs Th...  female  38.0      1   \n",
       "2                             Heikkinen, Miss. Laina  female  26.0      0   \n",
       "3       Futrelle, Mrs. Jacques Heath (Lily May Peel)  female  35.0      1   \n",
       "4                           Allen, Mr. William Henry    male  35.0      0   \n",
       "\n",
       "   Parch            Ticket     Fare Cabin Embarked  \n",
       "0      0         A/5 21171   7.2500   NaN        S  \n",
       "1      0          PC 17599  71.2833   C85        C  \n",
       "2      0  STON/O2. 3101282   7.9250   NaN        S  \n",
       "3      0            113803  53.1000  C123        S  \n",
       "4      0            373450   8.0500   NaN        S  "
      ]
     },
     "execution_count": 4,
     "metadata": {},
     "output_type": "execute_result"
    }
   ],
   "source": [
    "dataTrain.head()"
   ]
  },
  {
   "cell_type": "code",
   "execution_count": 5,
   "metadata": {
    "ExecuteTime": {
     "end_time": "2018-10-31T18:49:22.322706Z",
     "start_time": "2018-10-31T18:49:22.291681Z"
    }
   },
   "outputs": [
    {
     "name": "stdout",
     "output_type": "stream",
     "text": [
      "<class 'pandas.core.frame.DataFrame'>\n",
      "RangeIndex: 891 entries, 0 to 890\n",
      "Data columns (total 12 columns):\n",
      "PassengerId    891 non-null int64\n",
      "Survived       891 non-null int64\n",
      "Pclass         891 non-null int64\n",
      "Name           891 non-null object\n",
      "Sex            891 non-null object\n",
      "Age            714 non-null float64\n",
      "SibSp          891 non-null int64\n",
      "Parch          891 non-null int64\n",
      "Ticket         891 non-null object\n",
      "Fare           891 non-null float64\n",
      "Cabin          204 non-null object\n",
      "Embarked       889 non-null object\n",
      "dtypes: float64(2), int64(5), object(5)\n",
      "memory usage: 83.6+ KB\n",
      "________________________________________\n",
      "<class 'pandas.core.frame.DataFrame'>\n",
      "RangeIndex: 418 entries, 0 to 417\n",
      "Data columns (total 11 columns):\n",
      "PassengerId    418 non-null int64\n",
      "Pclass         418 non-null int64\n",
      "Name           418 non-null object\n",
      "Sex            418 non-null object\n",
      "Age            332 non-null float64\n",
      "SibSp          418 non-null int64\n",
      "Parch          418 non-null int64\n",
      "Ticket         418 non-null object\n",
      "Fare           417 non-null float64\n",
      "Cabin          91 non-null object\n",
      "Embarked       418 non-null object\n",
      "dtypes: float64(2), int64(4), object(5)\n",
      "memory usage: 36.0+ KB\n"
     ]
    }
   ],
   "source": [
    "#general info\n",
    "dataTrain.info()\n",
    "print('_'*40)\n",
    "dataTest.info()"
   ]
  },
  {
   "cell_type": "code",
   "execution_count": 6,
   "metadata": {
    "ExecuteTime": {
     "end_time": "2018-10-31T18:49:22.423767Z",
     "start_time": "2018-10-31T18:49:22.327704Z"
    }
   },
   "outputs": [
    {
     "name": "stdout",
     "output_type": "stream",
     "text": [
      "['PassengerId', 'Survived', 'Pclass', 'Age', 'SibSp', 'Parch', 'Fare']\n"
     ]
    },
    {
     "data": {
      "text/html": [
       "<div>\n",
       "<style scoped>\n",
       "    .dataframe tbody tr th:only-of-type {\n",
       "        vertical-align: middle;\n",
       "    }\n",
       "\n",
       "    .dataframe tbody tr th {\n",
       "        vertical-align: top;\n",
       "    }\n",
       "\n",
       "    .dataframe thead th {\n",
       "        text-align: right;\n",
       "    }\n",
       "</style>\n",
       "<table border=\"1\" class=\"dataframe\">\n",
       "  <thead>\n",
       "    <tr style=\"text-align: right;\">\n",
       "      <th></th>\n",
       "      <th>PassengerId</th>\n",
       "      <th>Survived</th>\n",
       "      <th>Pclass</th>\n",
       "      <th>Age</th>\n",
       "      <th>SibSp</th>\n",
       "      <th>Parch</th>\n",
       "      <th>Fare</th>\n",
       "    </tr>\n",
       "  </thead>\n",
       "  <tbody>\n",
       "    <tr>\n",
       "      <th>count</th>\n",
       "      <td>891.000000</td>\n",
       "      <td>891.000000</td>\n",
       "      <td>891.000000</td>\n",
       "      <td>714.000000</td>\n",
       "      <td>891.000000</td>\n",
       "      <td>891.000000</td>\n",
       "      <td>891.000000</td>\n",
       "    </tr>\n",
       "    <tr>\n",
       "      <th>mean</th>\n",
       "      <td>446.000000</td>\n",
       "      <td>0.383838</td>\n",
       "      <td>2.308642</td>\n",
       "      <td>29.699118</td>\n",
       "      <td>0.523008</td>\n",
       "      <td>0.381594</td>\n",
       "      <td>32.204208</td>\n",
       "    </tr>\n",
       "    <tr>\n",
       "      <th>std</th>\n",
       "      <td>257.353842</td>\n",
       "      <td>0.486592</td>\n",
       "      <td>0.836071</td>\n",
       "      <td>14.526497</td>\n",
       "      <td>1.102743</td>\n",
       "      <td>0.806057</td>\n",
       "      <td>49.693429</td>\n",
       "    </tr>\n",
       "    <tr>\n",
       "      <th>min</th>\n",
       "      <td>1.000000</td>\n",
       "      <td>0.000000</td>\n",
       "      <td>1.000000</td>\n",
       "      <td>0.420000</td>\n",
       "      <td>0.000000</td>\n",
       "      <td>0.000000</td>\n",
       "      <td>0.000000</td>\n",
       "    </tr>\n",
       "    <tr>\n",
       "      <th>25%</th>\n",
       "      <td>223.500000</td>\n",
       "      <td>0.000000</td>\n",
       "      <td>2.000000</td>\n",
       "      <td>20.125000</td>\n",
       "      <td>0.000000</td>\n",
       "      <td>0.000000</td>\n",
       "      <td>7.910400</td>\n",
       "    </tr>\n",
       "    <tr>\n",
       "      <th>50%</th>\n",
       "      <td>446.000000</td>\n",
       "      <td>0.000000</td>\n",
       "      <td>3.000000</td>\n",
       "      <td>28.000000</td>\n",
       "      <td>0.000000</td>\n",
       "      <td>0.000000</td>\n",
       "      <td>14.454200</td>\n",
       "    </tr>\n",
       "    <tr>\n",
       "      <th>75%</th>\n",
       "      <td>668.500000</td>\n",
       "      <td>1.000000</td>\n",
       "      <td>3.000000</td>\n",
       "      <td>38.000000</td>\n",
       "      <td>1.000000</td>\n",
       "      <td>0.000000</td>\n",
       "      <td>31.000000</td>\n",
       "    </tr>\n",
       "    <tr>\n",
       "      <th>max</th>\n",
       "      <td>891.000000</td>\n",
       "      <td>1.000000</td>\n",
       "      <td>3.000000</td>\n",
       "      <td>80.000000</td>\n",
       "      <td>8.000000</td>\n",
       "      <td>6.000000</td>\n",
       "      <td>512.329200</td>\n",
       "    </tr>\n",
       "  </tbody>\n",
       "</table>\n",
       "</div>"
      ],
      "text/plain": [
       "       PassengerId    Survived      Pclass         Age       SibSp  \\\n",
       "count   891.000000  891.000000  891.000000  714.000000  891.000000   \n",
       "mean    446.000000    0.383838    2.308642   29.699118    0.523008   \n",
       "std     257.353842    0.486592    0.836071   14.526497    1.102743   \n",
       "min       1.000000    0.000000    1.000000    0.420000    0.000000   \n",
       "25%     223.500000    0.000000    2.000000   20.125000    0.000000   \n",
       "50%     446.000000    0.000000    3.000000   28.000000    0.000000   \n",
       "75%     668.500000    1.000000    3.000000   38.000000    1.000000   \n",
       "max     891.000000    1.000000    3.000000   80.000000    8.000000   \n",
       "\n",
       "            Parch        Fare  \n",
       "count  891.000000  891.000000  \n",
       "mean     0.381594   32.204208  \n",
       "std      0.806057   49.693429  \n",
       "min      0.000000    0.000000  \n",
       "25%      0.000000    7.910400  \n",
       "50%      0.000000   14.454200  \n",
       "75%      0.000000   31.000000  \n",
       "max      6.000000  512.329200  "
      ]
     },
     "execution_count": 6,
     "metadata": {},
     "output_type": "execute_result"
    }
   ],
   "source": [
    "#look to numbers\n",
    "numColumns = list(dataTrain.describe().columns)\n",
    "print (list(dataTrain.describe().columns))\n",
    "dataTrain.describe()"
   ]
  },
  {
   "cell_type": "code",
   "execution_count": 7,
   "metadata": {
    "ExecuteTime": {
     "end_time": "2018-10-31T18:49:22.493814Z",
     "start_time": "2018-10-31T18:49:22.425769Z"
    }
   },
   "outputs": [
    {
     "name": "stdout",
     "output_type": "stream",
     "text": [
      "['Name', 'Sex', 'Ticket', 'Cabin', 'Embarked']\n"
     ]
    },
    {
     "data": {
      "text/html": [
       "<div>\n",
       "<style scoped>\n",
       "    .dataframe tbody tr th:only-of-type {\n",
       "        vertical-align: middle;\n",
       "    }\n",
       "\n",
       "    .dataframe tbody tr th {\n",
       "        vertical-align: top;\n",
       "    }\n",
       "\n",
       "    .dataframe thead th {\n",
       "        text-align: right;\n",
       "    }\n",
       "</style>\n",
       "<table border=\"1\" class=\"dataframe\">\n",
       "  <thead>\n",
       "    <tr style=\"text-align: right;\">\n",
       "      <th></th>\n",
       "      <th>Name</th>\n",
       "      <th>Sex</th>\n",
       "      <th>Ticket</th>\n",
       "      <th>Cabin</th>\n",
       "      <th>Embarked</th>\n",
       "    </tr>\n",
       "  </thead>\n",
       "  <tbody>\n",
       "    <tr>\n",
       "      <th>count</th>\n",
       "      <td>891</td>\n",
       "      <td>891</td>\n",
       "      <td>891</td>\n",
       "      <td>204</td>\n",
       "      <td>889</td>\n",
       "    </tr>\n",
       "    <tr>\n",
       "      <th>unique</th>\n",
       "      <td>891</td>\n",
       "      <td>2</td>\n",
       "      <td>681</td>\n",
       "      <td>147</td>\n",
       "      <td>3</td>\n",
       "    </tr>\n",
       "    <tr>\n",
       "      <th>top</th>\n",
       "      <td>O'Brien, Mrs. Thomas (Johanna \"Hannah\" Godfrey)</td>\n",
       "      <td>male</td>\n",
       "      <td>1601</td>\n",
       "      <td>C23 C25 C27</td>\n",
       "      <td>S</td>\n",
       "    </tr>\n",
       "    <tr>\n",
       "      <th>freq</th>\n",
       "      <td>1</td>\n",
       "      <td>577</td>\n",
       "      <td>7</td>\n",
       "      <td>4</td>\n",
       "      <td>644</td>\n",
       "    </tr>\n",
       "  </tbody>\n",
       "</table>\n",
       "</div>"
      ],
      "text/plain": [
       "                                                   Name   Sex Ticket  \\\n",
       "count                                               891   891    891   \n",
       "unique                                              891     2    681   \n",
       "top     O'Brien, Mrs. Thomas (Johanna \"Hannah\" Godfrey)  male   1601   \n",
       "freq                                                  1   577      7   \n",
       "\n",
       "              Cabin Embarked  \n",
       "count           204      889  \n",
       "unique          147        3  \n",
       "top     C23 C25 C27        S  \n",
       "freq              4      644  "
      ]
     },
     "execution_count": 7,
     "metadata": {},
     "output_type": "execute_result"
    }
   ],
   "source": [
    "#look to strings\n",
    "strColumns = list(dataTrain.describe(include=['O']).columns)\n",
    "print (strColumns)\n",
    "dataTrain.describe(include=['O'])"
   ]
  },
  {
   "cell_type": "code",
   "execution_count": 8,
   "metadata": {
    "ExecuteTime": {
     "end_time": "2018-10-31T18:49:23.202366Z",
     "start_time": "2018-10-31T18:49:22.496817Z"
    }
   },
   "outputs": [
    {
     "data": {
      "text/plain": [
       "<matplotlib.axes._subplots.AxesSubplot at 0x94bf564160>"
      ]
     },
     "execution_count": 8,
     "metadata": {},
     "output_type": "execute_result"
    },
    {
     "data": {
      "image/png": "[encoded data removed]",
      "text/plain": [
       "<matplotlib.figure.Figure at 0x94bf2a8f98>"
      ]
     },
     "metadata": {},
     "output_type": "display_data"
    }
   ],
   "source": [
    "#overview correlation in general (losing NaN rows)\n",
    "dataTrain.corr()\n",
    "sns.heatmap(dataTrain.corr(), annot=True)\n",
    "\n",
    "#handle care with NaN\n",
    "#sns.heatmap(dataTrain.groupby(['Pclass', 'Sex']).transform(lambda x: x.fillna(x.mean())).corr(), annot=True)"
   ]
  },
  {
   "cell_type": "code",
   "execution_count": 9,
   "metadata": {
    "ExecuteTime": {
     "end_time": "2018-10-31T18:49:23.208370Z",
     "start_time": "2018-10-31T18:49:23.204368Z"
    }
   },
   "outputs": [],
   "source": [
    "#pairplot may be usefull\n",
    "#sns.pairplot(dataTrain.drop(['PassengerId', 'Name', 'Cabin', 'Ticket'], axis=1).dropna())#[numColumns])\n",
    "#dataTrain.drop(['PassengerId', 'Name', 'Cabin', 'Ticket'], axis=1)"
   ]
  },
  {
   "cell_type": "markdown",
   "metadata": {
    "ExecuteTime": {
     "end_time": "2018-10-30T11:32:40.514342Z",
     "start_time": "2018-10-30T11:32:40.499326Z"
    }
   },
   "source": [
    "## Overview general proportions for main features (probably)\n"
   ]
  },
  {
   "cell_type": "code",
   "execution_count": 10,
   "metadata": {
    "ExecuteTime": {
     "end_time": "2018-10-31T18:49:23.243393Z",
     "start_time": "2018-10-31T18:49:23.211375Z"
    }
   },
   "outputs": [
    {
     "data": {
      "text/html": [
       "<div>\n",
       "<style scoped>\n",
       "    .dataframe tbody tr th:only-of-type {\n",
       "        vertical-align: middle;\n",
       "    }\n",
       "\n",
       "    .dataframe tbody tr th {\n",
       "        vertical-align: top;\n",
       "    }\n",
       "\n",
       "    .dataframe thead tr th {\n",
       "        text-align: left;\n",
       "    }\n",
       "\n",
       "    .dataframe thead tr:last-of-type th {\n",
       "        text-align: right;\n",
       "    }\n",
       "</style>\n",
       "<table border=\"1\" class=\"dataframe\">\n",
       "  <thead>\n",
       "    <tr>\n",
       "      <th></th>\n",
       "      <th colspan=\"2\" halign=\"left\">Survived</th>\n",
       "    </tr>\n",
       "    <tr>\n",
       "      <th></th>\n",
       "      <th>mean</th>\n",
       "      <th>count</th>\n",
       "    </tr>\n",
       "    <tr>\n",
       "      <th>Pclass</th>\n",
       "      <th></th>\n",
       "      <th></th>\n",
       "    </tr>\n",
       "  </thead>\n",
       "  <tbody>\n",
       "    <tr>\n",
       "      <th>1</th>\n",
       "      <td>0.629630</td>\n",
       "      <td>216</td>\n",
       "    </tr>\n",
       "    <tr>\n",
       "      <th>2</th>\n",
       "      <td>0.472826</td>\n",
       "      <td>184</td>\n",
       "    </tr>\n",
       "    <tr>\n",
       "      <th>3</th>\n",
       "      <td>0.242363</td>\n",
       "      <td>491</td>\n",
       "    </tr>\n",
       "  </tbody>\n",
       "</table>\n",
       "</div>"
      ],
      "text/plain": [
       "        Survived      \n",
       "            mean count\n",
       "Pclass                \n",
       "1       0.629630   216\n",
       "2       0.472826   184\n",
       "3       0.242363   491"
      ]
     },
     "execution_count": 10,
     "metadata": {},
     "output_type": "execute_result"
    }
   ],
   "source": [
    "dataTrain[['Pclass', 'Survived']].groupby(['Pclass']).agg(['mean', 'count'])#.sort_values(by='Survived', ascending=False)"
   ]
  },
  {
   "cell_type": "markdown",
   "metadata": {
    "ExecuteTime": {
     "end_time": "2018-10-30T10:01:46.926025Z",
     "start_time": "2018-10-30T10:01:46.917019Z"
    },
    "heading_collapsed": true
   },
   "source": [
    "### Age vs Survived"
   ]
  },
  {
   "cell_type": "code",
   "execution_count": 11,
   "metadata": {
    "ExecuteTime": {
     "end_time": "2018-10-31T18:49:23.653665Z",
     "start_time": "2018-10-31T18:49:23.247395Z"
    },
    "hidden": true
   },
   "outputs": [
    {
     "data": {
      "text/plain": [
       "<seaborn.axisgrid.FacetGrid at 0x94bf567ef0>"
      ]
     },
     "execution_count": 11,
     "metadata": {},
     "output_type": "execute_result"
    },
    {
     "data": {
      "image/png": "[encoded data removed]",
      "text/plain": [
       "<matplotlib.figure.Figure at 0x94bf126c18>"
      ]
     },
     "metadata": {},
     "output_type": "display_data"
    }
   ],
   "source": [
    "g = sns.FacetGrid(dataTrain, col='Survived')\n",
    "g.map(plt.hist, 'Age', bins=20)"
   ]
  },
  {
   "cell_type": "code",
   "execution_count": 12,
   "metadata": {
    "ExecuteTime": {
     "end_time": "2018-10-31T18:49:23.922846Z",
     "start_time": "2018-10-31T18:49:23.655667Z"
    },
    "hidden": true
   },
   "outputs": [
    {
     "data": {
      "text/plain": [
       "<matplotlib.axes._subplots.AxesSubplot at 0x94c057bc88>"
      ]
     },
     "execution_count": 12,
     "metadata": {},
     "output_type": "execute_result"
    },
    {
     "data": {
      "image/png": "[encoded data removed]",
      "text/plain": [
       "<matplotlib.figure.Figure at 0x94bf121898>"
      ]
     },
     "metadata": {},
     "output_type": "display_data"
    }
   ],
   "source": [
    "dataTrain['Age'].hist()"
   ]
  },
  {
   "cell_type": "code",
   "execution_count": 13,
   "metadata": {
    "ExecuteTime": {
     "end_time": "2018-10-31T18:49:25.202697Z",
     "start_time": "2018-10-31T18:49:23.924846Z"
    },
    "hidden": true
   },
   "outputs": [
    {
     "data": {
      "image/png": "[encoded data removed]",
      "text/plain": [
       "<matplotlib.figure.Figure at 0x94c06029e8>"
      ]
     },
     "metadata": {},
     "output_type": "display_data"
    }
   ],
   "source": [
    "grid = sns.FacetGrid(dataTrain, col='Survived', row='Pclass', size=2.2, aspect=1.6)\n",
    "grid.map(plt.hist, 'Age', alpha=.5, bins=20)\n",
    "grid.add_legend();"
   ]
  },
  {
   "cell_type": "markdown",
   "metadata": {
    "heading_collapsed": true
   },
   "source": [
    "### Pclass vs Survived"
   ]
  },
  {
   "cell_type": "code",
   "execution_count": 14,
   "metadata": {
    "ExecuteTime": {
     "end_time": "2018-10-31T18:49:25.359801Z",
     "start_time": "2018-10-31T18:49:25.204699Z"
    },
    "hidden": true
   },
   "outputs": [
    {
     "data": {
      "text/plain": [
       "<matplotlib.axes._subplots.AxesSubplot at 0x94c093a7f0>"
      ]
     },
     "execution_count": 14,
     "metadata": {},
     "output_type": "execute_result"
    },
    {
     "data": {
      "image/png": "[encoded data removed]",
      "text/plain": [
       "<matplotlib.figure.Figure at 0x94c05f1358>"
      ]
     },
     "metadata": {},
     "output_type": "display_data"
    }
   ],
   "source": [
    "dataTrain['Pclass'].value_counts().plot.bar()"
   ]
  },
  {
   "cell_type": "code",
   "execution_count": 15,
   "metadata": {
    "ExecuteTime": {
     "end_time": "2018-10-31T18:49:25.374814Z",
     "start_time": "2018-10-31T18:49:25.362804Z"
    },
    "hidden": true
   },
   "outputs": [
    {
     "data": {
      "text/plain": [
       "Pclass  Sex   \n",
       "1       female    0.968085\n",
       "        male      0.368852\n",
       "2       female    0.921053\n",
       "        male      0.157407\n",
       "3       female    0.500000\n",
       "        male      0.135447\n",
       "Name: Survived, dtype: float64"
      ]
     },
     "execution_count": 15,
     "metadata": {},
     "output_type": "execute_result"
    }
   ],
   "source": [
    "dataTrain.groupby(['Pclass', 'Sex'])['Survived'].mean()"
   ]
  },
  {
   "cell_type": "code",
   "execution_count": 16,
   "metadata": {
    "ExecuteTime": {
     "end_time": "2018-10-31T18:49:26.147327Z",
     "start_time": "2018-10-31T18:49:25.376814Z"
    },
    "hidden": true
   },
   "outputs": [
    {
     "name": "stderr",
     "output_type": "stream",
     "text": [
      "C:\\ProgramData\\Anaconda3\\lib\\site-packages\\seaborn\\axisgrid.py:703: UserWarning: Using the countplot function without specifying `order` is likely to produce an incorrect plot.\n",
      "  warnings.warn(warning)\n"
     ]
    },
    {
     "data": {
      "text/plain": [
       "<seaborn.axisgrid.FacetGrid at 0x94c09557f0>"
      ]
     },
     "execution_count": 16,
     "metadata": {},
     "output_type": "execute_result"
    },
    {
     "data": {
      "image/png": "[encoded data removed]",
      "text/plain": [
       "<matplotlib.figure.Figure at 0x94c094aa20>"
      ]
     },
     "metadata": {},
     "output_type": "display_data"
    }
   ],
   "source": [
    "g = sns.FacetGrid(dataTrain, row=\"Pclass\", col=\"Sex\")\n",
    "g.map(sns.countplot, \"Survived\")"
   ]
  },
  {
   "cell_type": "markdown",
   "metadata": {
    "heading_collapsed": true
   },
   "source": [
    "### Embarked vs Survived"
   ]
  },
  {
   "cell_type": "code",
   "execution_count": 17,
   "metadata": {
    "ExecuteTime": {
     "end_time": "2018-10-31T18:49:26.674678Z",
     "start_time": "2018-10-31T18:49:26.150332Z"
    },
    "hidden": true
   },
   "outputs": [
    {
     "name": "stderr",
     "output_type": "stream",
     "text": [
      "C:\\ProgramData\\Anaconda3\\lib\\site-packages\\seaborn\\axisgrid.py:703: UserWarning: Using the countplot function without specifying `order` is likely to produce an incorrect plot.\n",
      "  warnings.warn(warning)\n"
     ]
    },
    {
     "data": {
      "text/plain": [
       "<seaborn.axisgrid.FacetGrid at 0x94c09ad748>"
      ]
     },
     "execution_count": 17,
     "metadata": {},
     "output_type": "execute_result"
    },
    {
     "data": {
      "image/png": "[encoded data removed]",
      "text/plain": [
       "<matplotlib.figure.Figure at 0x94c0d1a4e0>"
      ]
     },
     "metadata": {},
     "output_type": "display_data"
    }
   ],
   "source": [
    "#grid = sns.FacetGrid(dataTrain, row='Embarked', size=2.2, aspect=1.6)\n",
    "#grid.map(sns.pointplot, 'Pclass', 'Survived', 'Sex', palette='deep')\n",
    "#grid.add_legend()\n",
    "grid = sns.FacetGrid(dataTrain, row=\"Embarked\")#, col=\"Sex\")\n",
    "grid.map(sns.countplot, \"Survived\")\n",
    "grid.add_legend()"
   ]
  },
  {
   "cell_type": "markdown",
   "metadata": {
    "ExecuteTime": {
     "end_time": "2018-10-30T14:00:43.904119Z",
     "start_time": "2018-10-30T14:00:43.894111Z"
    }
   },
   "source": [
    "## Overview every categorical features"
   ]
  },
  {
   "cell_type": "code",
   "execution_count": 18,
   "metadata": {
    "ExecuteTime": {
     "end_time": "2018-10-31T18:49:26.680686Z",
     "start_time": "2018-10-31T18:49:26.676679Z"
    }
   },
   "outputs": [
    {
     "name": "stdout",
     "output_type": "stream",
     "text": [
      "['Name', 'Sex', 'Ticket', 'Cabin', 'Embarked']\n"
     ]
    }
   ],
   "source": [
    "print (strColumns)"
   ]
  },
  {
   "cell_type": "markdown",
   "metadata": {
    "heading_collapsed": true
   },
   "source": [
    "### Name"
   ]
  },
  {
   "cell_type": "code",
   "execution_count": 19,
   "metadata": {
    "ExecuteTime": {
     "end_time": "2018-10-31T18:49:26.699694Z",
     "start_time": "2018-10-31T18:49:26.683683Z"
    },
    "hidden": true
   },
   "outputs": [
    {
     "data": {
      "text/plain": [
       "O'Brien, Mrs. Thomas (Johanna \"Hannah\" Godfrey)    1\n",
       "Klasen, Mr. Klas Albin                             1\n",
       "Cacic, Miss. Marija                                1\n",
       "Pickard, Mr. Berk (Berk Trembisky)                 1\n",
       "Kantor, Mr. Sinai                                  1\n",
       "Osman, Mrs. Mara                                   1\n",
       "Allen, Miss. Elisabeth Walton                      1\n",
       "Davison, Mrs. Thomas Henry (Mary E Finck)          1\n",
       "Greenberg, Mr. Samuel                              1\n",
       "Najib, Miss. Adele Kiamie \"Jane\"                   1\n",
       "Name: Name, dtype: int64"
      ]
     },
     "execution_count": 19,
     "metadata": {},
     "output_type": "execute_result"
    }
   ],
   "source": [
    "#name\n",
    "dataTrain['Name'].value_counts().head(10)\n",
    "\n",
    "#Conclusion - drop after extracting title"
   ]
  },
  {
   "cell_type": "markdown",
   "metadata": {
    "ExecuteTime": {
     "end_time": "2018-10-30T15:12:46.073376Z",
     "start_time": "2018-10-30T15:12:46.068372Z"
    },
    "heading_collapsed": true
   },
   "source": [
    "### Sex"
   ]
  },
  {
   "cell_type": "code",
   "execution_count": 20,
   "metadata": {
    "ExecuteTime": {
     "end_time": "2018-10-31T18:49:27.054932Z",
     "start_time": "2018-10-31T18:49:26.701697Z"
    },
    "hidden": true
   },
   "outputs": [
    {
     "name": "stderr",
     "output_type": "stream",
     "text": [
      "C:\\ProgramData\\Anaconda3\\lib\\site-packages\\seaborn\\axisgrid.py:703: UserWarning: Using the countplot function without specifying `order` is likely to produce an incorrect plot.\n",
      "  warnings.warn(warning)\n"
     ]
    },
    {
     "data": {
      "text/plain": [
       "<seaborn.axisgrid.FacetGrid at 0x94c0ebe4e0>"
      ]
     },
     "execution_count": 20,
     "metadata": {},
     "output_type": "execute_result"
    },
    {
     "data": {
      "image/png": "[encoded data removed]",
      "text/plain": [
       "<matplotlib.figure.Figure at 0x94c0ee1908>"
      ]
     },
     "metadata": {},
     "output_type": "display_data"
    }
   ],
   "source": [
    "grid = sns.FacetGrid(dataTrain, row=\"Sex\")#, col=\"Sex\")\n",
    "grid.map(sns.countplot, \"Survived\")\n",
    "\n",
    "# Conclusion - convert to int or convert to int + to 2 features"
   ]
  },
  {
   "cell_type": "markdown",
   "metadata": {
    "heading_collapsed": true
   },
   "source": [
    "### Ticket"
   ]
  },
  {
   "cell_type": "code",
   "execution_count": 21,
   "metadata": {
    "ExecuteTime": {
     "end_time": "2018-10-31T18:49:27.066940Z",
     "start_time": "2018-10-31T18:49:27.057933Z"
    },
    "hidden": true
   },
   "outputs": [
    {
     "data": {
      "text/plain": [
       "1601            7\n",
       "CA. 2343        7\n",
       "347082          7\n",
       "347088          6\n",
       "3101295         6\n",
       "CA 2144         6\n",
       "S.O.C. 14879    5\n",
       "382652          5\n",
       "PC 17757        4\n",
       "17421           4\n",
       "349909          4\n",
       "W./C. 6608      4\n",
       "113760          4\n",
       "4133            4\n",
       "LINE            4\n",
       "19950           4\n",
       "113781          4\n",
       "2666            4\n",
       "347077          4\n",
       "347742          3\n",
       "Name: Ticket, dtype: int64"
      ]
     },
     "execution_count": 21,
     "metadata": {},
     "output_type": "execute_result"
    }
   ],
   "source": [
    "dataTrain['Ticket'].value_counts().head(20)"
   ]
  },
  {
   "cell_type": "code",
   "execution_count": 22,
   "metadata": {
    "ExecuteTime": {
     "end_time": "2018-10-31T18:49:27.137986Z",
     "start_time": "2018-10-31T18:49:27.069942Z"
    },
    "hidden": true
   },
   "outputs": [
    {
     "data": {
      "text/plain": [
       "['A/5 21171',\n",
       " 'PC 17599',\n",
       " 'STON/O2. 3101282',\n",
       " '113803',\n",
       " '373450',\n",
       " '330877',\n",
       " '17463',\n",
       " '349909',\n",
       " '347742',\n",
       " '237736',\n",
       " 'PP 9549',\n",
       " '113783',\n",
       " 'A/5. 2151',\n",
       " '347082',\n",
       " '350406',\n",
       " '248706',\n",
       " '382652',\n",
       " '244373',\n",
       " '345763',\n",
       " '2649',\n",
       " '239865',\n",
       " '248698',\n",
       " '330923',\n",
       " '113788',\n",
       " '347077',\n",
       " '2631',\n",
       " '19950',\n",
       " '330959',\n",
       " '349216',\n",
       " 'PC 17601',\n",
       " 'PC 17569',\n",
       " '335677',\n",
       " 'C.A. 24579',\n",
       " 'PC 17604',\n",
       " '113789',\n",
       " '2677',\n",
       " 'A./5. 2152',\n",
       " '345764',\n",
       " '2651',\n",
       " '7546',\n",
       " '11668',\n",
       " '349253',\n",
       " 'SC/Paris 2123',\n",
       " '330958',\n",
       " 'S.C./A.4. 23567',\n",
       " '370371',\n",
       " '14311',\n",
       " '2662',\n",
       " '349237',\n",
       " '3101295',\n",
       " 'A/4. 39886',\n",
       " 'PC 17572',\n",
       " '2926',\n",
       " '113509',\n",
       " '19947',\n",
       " 'C.A. 31026',\n",
       " '2697',\n",
       " 'C.A. 34651',\n",
       " 'CA 2144',\n",
       " '2669',\n",
       " '113572',\n",
       " '36973',\n",
       " '347088',\n",
       " 'PC 17605',\n",
       " '2661',\n",
       " 'C.A. 29395',\n",
       " 'S.P. 3464',\n",
       " '3101281',\n",
       " '315151',\n",
       " 'C.A. 33111',\n",
       " 'S.O.C. 14879',\n",
       " '2680',\n",
       " '1601',\n",
       " '348123',\n",
       " '349208',\n",
       " '374746',\n",
       " '248738',\n",
       " '364516',\n",
       " '345767',\n",
       " '345779',\n",
       " '330932',\n",
       " '113059',\n",
       " 'SO/C 14885',\n",
       " '3101278',\n",
       " 'W./C. 6608',\n",
       " 'SOTON/OQ 392086',\n",
       " '343275',\n",
       " '343276',\n",
       " '347466',\n",
       " 'W.E.P. 5734',\n",
       " 'C.A. 2315',\n",
       " '364500',\n",
       " '374910',\n",
       " 'PC 17754',\n",
       " 'PC 17759',\n",
       " '231919',\n",
       " '244367',\n",
       " '349245',\n",
       " '349215',\n",
       " '35281',\n",
       " '7540',\n",
       " '3101276',\n",
       " '349207',\n",
       " '343120',\n",
       " '312991',\n",
       " '349249',\n",
       " '371110',\n",
       " '110465',\n",
       " '2665',\n",
       " '324669',\n",
       " '4136',\n",
       " '2627',\n",
       " 'STON/O 2. 3101294',\n",
       " '370369',\n",
       " 'PC 17558',\n",
       " 'A4. 54510',\n",
       " '27267',\n",
       " '370372',\n",
       " 'C 17369',\n",
       " '2668',\n",
       " '347061',\n",
       " '349241',\n",
       " 'SOTON/O.Q. 3101307',\n",
       " 'A/5. 3337',\n",
       " '228414',\n",
       " 'C.A. 29178',\n",
       " 'SC/PARIS 2133',\n",
       " '11752',\n",
       " '7534',\n",
       " 'PC 17593',\n",
       " '2678',\n",
       " '347081',\n",
       " 'STON/O2. 3101279',\n",
       " '365222',\n",
       " '231945',\n",
       " 'C.A. 33112',\n",
       " '350043',\n",
       " '230080',\n",
       " '244310',\n",
       " 'S.O.P. 1166',\n",
       " '113776',\n",
       " 'A.5. 11206',\n",
       " 'A/5. 851',\n",
       " 'Fa 265302',\n",
       " 'PC 17597',\n",
       " '35851',\n",
       " 'SOTON/OQ 392090',\n",
       " '315037',\n",
       " 'CA. 2343',\n",
       " '371362',\n",
       " 'C.A. 33595',\n",
       " '347068',\n",
       " '315093',\n",
       " '363291',\n",
       " '113505',\n",
       " 'PC 17318',\n",
       " '111240',\n",
       " 'STON/O 2. 3101280',\n",
       " '17764',\n",
       " '350404',\n",
       " '4133',\n",
       " 'PC 17595',\n",
       " '250653',\n",
       " 'LINE',\n",
       " 'SC/PARIS 2131',\n",
       " '230136',\n",
       " '315153',\n",
       " '113767',\n",
       " '370365',\n",
       " '111428',\n",
       " '364849',\n",
       " '349247',\n",
       " '234604',\n",
       " '28424',\n",
       " '350046',\n",
       " 'PC 17610',\n",
       " '368703',\n",
       " '4579',\n",
       " '370370',\n",
       " '248747',\n",
       " '345770',\n",
       " '3101264',\n",
       " '2628',\n",
       " 'A/5 3540',\n",
       " '347054',\n",
       " '2699',\n",
       " '367231',\n",
       " '112277',\n",
       " 'SOTON/O.Q. 3101311',\n",
       " 'F.C.C. 13528',\n",
       " 'A/5 21174',\n",
       " '250646',\n",
       " '367229',\n",
       " '35273',\n",
       " 'STON/O2. 3101283',\n",
       " '243847',\n",
       " '11813',\n",
       " 'W/C 14208',\n",
       " 'SOTON/OQ 392089',\n",
       " '220367',\n",
       " '21440',\n",
       " '349234',\n",
       " '19943',\n",
       " 'PP 4348',\n",
       " 'SW/PP 751',\n",
       " 'A/5 21173',\n",
       " '236171',\n",
       " '347067',\n",
       " '237442',\n",
       " 'C.A. 29566',\n",
       " 'W./C. 6609',\n",
       " '26707',\n",
       " 'C.A. 31921',\n",
       " '28665',\n",
       " 'SCO/W 1585',\n",
       " '367230',\n",
       " 'W./C. 14263',\n",
       " 'STON/O 2. 3101275',\n",
       " '2694',\n",
       " '19928',\n",
       " '347071',\n",
       " '250649',\n",
       " '11751',\n",
       " '244252',\n",
       " '362316',\n",
       " '113514',\n",
       " 'A/5. 3336',\n",
       " '370129',\n",
       " '2650',\n",
       " 'PC 17585',\n",
       " '110152',\n",
       " 'PC 17755',\n",
       " '230433',\n",
       " '384461',\n",
       " '110413',\n",
       " '112059',\n",
       " '382649',\n",
       " 'C.A. 17248',\n",
       " '347083',\n",
       " 'PC 17582',\n",
       " 'PC 17760',\n",
       " '113798',\n",
       " '250644',\n",
       " 'PC 17596',\n",
       " '370375',\n",
       " '13502',\n",
       " '347073',\n",
       " '239853',\n",
       " 'C.A. 2673',\n",
       " '336439',\n",
       " '347464',\n",
       " '345778',\n",
       " 'A/5. 10482',\n",
       " '113056',\n",
       " '349239',\n",
       " '345774',\n",
       " '349206',\n",
       " '237798',\n",
       " '370373',\n",
       " '19877',\n",
       " '11967',\n",
       " 'SC/Paris 2163',\n",
       " '349236',\n",
       " '349233',\n",
       " 'PC 17612',\n",
       " '2693',\n",
       " '113781',\n",
       " '19988',\n",
       " '9234',\n",
       " '367226',\n",
       " '226593',\n",
       " 'A/5 2466',\n",
       " '17421',\n",
       " 'PC 17758',\n",
       " 'P/PP 3381',\n",
       " 'PC 17485',\n",
       " '11767',\n",
       " 'PC 17608',\n",
       " '250651',\n",
       " '349243',\n",
       " 'F.C.C. 13529',\n",
       " '347470',\n",
       " '29011',\n",
       " '36928',\n",
       " '16966',\n",
       " 'A/5 21172',\n",
       " '349219',\n",
       " '234818',\n",
       " '345364',\n",
       " '28551',\n",
       " '111361',\n",
       " '113043',\n",
       " 'PC 17611',\n",
       " '349225',\n",
       " '7598',\n",
       " '113784',\n",
       " '248740',\n",
       " '244361',\n",
       " '229236',\n",
       " '248733',\n",
       " '31418',\n",
       " '386525',\n",
       " 'C.A. 37671',\n",
       " '315088',\n",
       " '7267',\n",
       " '113510',\n",
       " '2695',\n",
       " '2647',\n",
       " '345783',\n",
       " '237671',\n",
       " '330931',\n",
       " '330980',\n",
       " 'SC/PARIS 2167',\n",
       " '2691',\n",
       " 'SOTON/O.Q. 3101310',\n",
       " 'C 7076',\n",
       " '110813',\n",
       " '2626',\n",
       " '14313',\n",
       " 'PC 17477',\n",
       " '11765',\n",
       " '3101267',\n",
       " '323951',\n",
       " 'C 7077',\n",
       " '113503',\n",
       " '2648',\n",
       " '347069',\n",
       " 'PC 17757',\n",
       " '2653',\n",
       " 'STON/O 2. 3101293',\n",
       " '349227',\n",
       " '27849',\n",
       " '367655',\n",
       " 'SC 1748',\n",
       " '113760',\n",
       " '350034',\n",
       " '3101277',\n",
       " '350052',\n",
       " '350407',\n",
       " '28403',\n",
       " '244278',\n",
       " '240929',\n",
       " 'STON/O 2. 3101289',\n",
       " '341826',\n",
       " '4137',\n",
       " '315096',\n",
       " '28664',\n",
       " '347064',\n",
       " '29106',\n",
       " '312992',\n",
       " '349222',\n",
       " '394140',\n",
       " 'STON/O 2. 3101269',\n",
       " '343095',\n",
       " '28220',\n",
       " '250652',\n",
       " '28228',\n",
       " '345773',\n",
       " '349254',\n",
       " 'A/5. 13032',\n",
       " '315082',\n",
       " '347080',\n",
       " 'A/4. 34244',\n",
       " '2003',\n",
       " '250655',\n",
       " '364851',\n",
       " 'SOTON/O.Q. 392078',\n",
       " '110564',\n",
       " '376564',\n",
       " 'SC/AH 3085',\n",
       " 'STON/O 2. 3101274',\n",
       " '13507',\n",
       " 'C.A. 18723',\n",
       " '345769',\n",
       " '347076',\n",
       " '230434',\n",
       " '65306',\n",
       " '33638',\n",
       " '113794',\n",
       " '2666',\n",
       " '113786',\n",
       " '65303',\n",
       " '113051',\n",
       " '17453',\n",
       " 'A/5 2817',\n",
       " '349240',\n",
       " '13509',\n",
       " '17464',\n",
       " 'F.C.C. 13531',\n",
       " '371060',\n",
       " '19952',\n",
       " '364506',\n",
       " '111320',\n",
       " '234360',\n",
       " 'A/S 2816',\n",
       " 'SOTON/O.Q. 3101306',\n",
       " '113792',\n",
       " '36209',\n",
       " '323592',\n",
       " '315089',\n",
       " 'SC/AH Basle 541',\n",
       " '7553',\n",
       " '31027',\n",
       " '3460',\n",
       " '350060',\n",
       " '3101298',\n",
       " '239854',\n",
       " 'A/5 3594',\n",
       " '4134',\n",
       " '11771',\n",
       " 'A.5. 18509',\n",
       " '65304',\n",
       " 'SOTON/OQ 3101317',\n",
       " '113787',\n",
       " 'PC 17609',\n",
       " 'A/4 45380',\n",
       " '36947',\n",
       " 'C.A. 6212',\n",
       " '350035',\n",
       " '315086',\n",
       " '364846',\n",
       " '330909',\n",
       " '4135',\n",
       " '26360',\n",
       " '111427',\n",
       " 'C 4001',\n",
       " '382651',\n",
       " 'SOTON/OQ 3101316',\n",
       " 'PC 17473',\n",
       " 'PC 17603',\n",
       " '349209',\n",
       " '36967',\n",
       " 'C.A. 34260',\n",
       " '226875',\n",
       " '349242',\n",
       " '12749',\n",
       " '349252',\n",
       " '2624',\n",
       " '2700',\n",
       " '367232',\n",
       " 'W./C. 14258',\n",
       " 'PC 17483',\n",
       " '3101296',\n",
       " '29104',\n",
       " '2641',\n",
       " '2690',\n",
       " '315084',\n",
       " '113050',\n",
       " 'PC 17761',\n",
       " '364498',\n",
       " '13568',\n",
       " 'WE/P 5735',\n",
       " '2908',\n",
       " '693',\n",
       " 'SC/PARIS 2146',\n",
       " '244358',\n",
       " '330979',\n",
       " '2620',\n",
       " '347085',\n",
       " '113807',\n",
       " '11755',\n",
       " '345572',\n",
       " '372622',\n",
       " '349251',\n",
       " '218629',\n",
       " 'SOTON/OQ 392082',\n",
       " 'SOTON/O.Q. 392087',\n",
       " 'A/4 48871',\n",
       " '349205',\n",
       " '2686',\n",
       " '350417',\n",
       " 'S.W./PP 752',\n",
       " '11769',\n",
       " 'PC 17474',\n",
       " '14312',\n",
       " 'A/4. 20589',\n",
       " '358585',\n",
       " '243880',\n",
       " '2689',\n",
       " 'STON/O 2. 3101286',\n",
       " '237789',\n",
       " '13049',\n",
       " '3411',\n",
       " '237565',\n",
       " '13567',\n",
       " '14973',\n",
       " 'A./5. 3235',\n",
       " 'STON/O 2. 3101273',\n",
       " 'A/5 3902',\n",
       " '364848',\n",
       " 'SC/AH 29037',\n",
       " '248727',\n",
       " '2664',\n",
       " '349214',\n",
       " '113796',\n",
       " '364511',\n",
       " '111426',\n",
       " '349910',\n",
       " '349246',\n",
       " '113804',\n",
       " 'SOTON/O.Q. 3101305',\n",
       " '370377',\n",
       " '364512',\n",
       " '220845',\n",
       " '31028',\n",
       " '2659',\n",
       " '11753',\n",
       " '350029',\n",
       " '54636',\n",
       " '36963',\n",
       " '219533',\n",
       " '349224',\n",
       " '334912',\n",
       " '27042',\n",
       " '347743',\n",
       " '13214',\n",
       " '112052',\n",
       " '237668',\n",
       " 'STON/O 2. 3101292',\n",
       " '350050',\n",
       " '349231',\n",
       " '13213',\n",
       " 'S.O./P.P. 751',\n",
       " 'CA. 2314',\n",
       " '349221',\n",
       " '8475',\n",
       " '330919',\n",
       " '365226',\n",
       " '349223',\n",
       " '29751',\n",
       " '2623',\n",
       " '5727',\n",
       " '349210',\n",
       " 'STON/O 2. 3101285',\n",
       " '234686',\n",
       " '312993',\n",
       " 'A/5 3536',\n",
       " '19996',\n",
       " '29750',\n",
       " 'F.C. 12750',\n",
       " 'C.A. 24580',\n",
       " '244270',\n",
       " '239856',\n",
       " '349912',\n",
       " '342826',\n",
       " '4138',\n",
       " '330935',\n",
       " '6563',\n",
       " '349228',\n",
       " '350036',\n",
       " '24160',\n",
       " '17474',\n",
       " '349256',\n",
       " '2672',\n",
       " '113800',\n",
       " '248731',\n",
       " '363592',\n",
       " '35852',\n",
       " '348121',\n",
       " 'PC 17475',\n",
       " '36864',\n",
       " '350025',\n",
       " '223596',\n",
       " 'PC 17476',\n",
       " 'PC 17482',\n",
       " '113028',\n",
       " '7545',\n",
       " '250647',\n",
       " '348124',\n",
       " '34218',\n",
       " '36568',\n",
       " '347062',\n",
       " '350048',\n",
       " '12233',\n",
       " '250643',\n",
       " '113806',\n",
       " '315094',\n",
       " '36866',\n",
       " '236853',\n",
       " 'STON/O2. 3101271',\n",
       " '239855',\n",
       " '28425',\n",
       " '233639',\n",
       " '349201',\n",
       " '349218',\n",
       " '16988',\n",
       " '376566',\n",
       " 'STON/O 2. 3101288',\n",
       " '250648',\n",
       " '113773',\n",
       " '335097',\n",
       " '29103',\n",
       " '392096',\n",
       " '345780',\n",
       " '349204',\n",
       " '350042',\n",
       " '29108',\n",
       " '363294',\n",
       " 'SOTON/O2 3101272',\n",
       " '2663',\n",
       " '347074',\n",
       " '112379',\n",
       " '364850',\n",
       " '8471',\n",
       " '345781',\n",
       " '350047',\n",
       " 'S.O./P.P. 3',\n",
       " '2674',\n",
       " '29105',\n",
       " '347078',\n",
       " '383121',\n",
       " '36865',\n",
       " '2687',\n",
       " '113501',\n",
       " 'W./C. 6607',\n",
       " 'SOTON/O.Q. 3101312',\n",
       " '374887',\n",
       " '3101265',\n",
       " '12460',\n",
       " 'PC 17600',\n",
       " '349203',\n",
       " '28213',\n",
       " '17465',\n",
       " '349244',\n",
       " '2685',\n",
       " '2625',\n",
       " '347089',\n",
       " '347063',\n",
       " '112050',\n",
       " '347087',\n",
       " '248723',\n",
       " '3474',\n",
       " '28206',\n",
       " '364499',\n",
       " '112058',\n",
       " 'STON/O2. 3101290',\n",
       " 'S.C./PARIS 2079',\n",
       " 'C 7075',\n",
       " '315098',\n",
       " '19972',\n",
       " '368323',\n",
       " '367228',\n",
       " '2671',\n",
       " '347468',\n",
       " '2223',\n",
       " 'PC 17756',\n",
       " '315097',\n",
       " '392092',\n",
       " '11774',\n",
       " 'SOTON/O2 3101287',\n",
       " '2683',\n",
       " '315090',\n",
       " 'C.A. 5547',\n",
       " '349213',\n",
       " '347060',\n",
       " 'PC 17592',\n",
       " '392091',\n",
       " '113055',\n",
       " '2629',\n",
       " '350026',\n",
       " '28134',\n",
       " '17466',\n",
       " '233866',\n",
       " '236852',\n",
       " 'SC/PARIS 2149',\n",
       " 'PC 17590',\n",
       " '345777',\n",
       " '349248',\n",
       " '695',\n",
       " '345765',\n",
       " '2667',\n",
       " '349212',\n",
       " '349217',\n",
       " '349257',\n",
       " '7552',\n",
       " 'C.A./SOTON 34068',\n",
       " 'SOTON/OQ 392076',\n",
       " '211536',\n",
       " '112053',\n",
       " '111369',\n",
       " '370376']"
      ]
     },
     "execution_count": 22,
     "metadata": {},
     "output_type": "execute_result"
    }
   ],
   "source": [
    "list(dataTrain['Ticket'].unique())\n",
    "#Conclusion - drop feature"
   ]
  },
  {
   "cell_type": "markdown",
   "metadata": {
    "heading_collapsed": true
   },
   "source": [
    "### Embarked"
   ]
  },
  {
   "cell_type": "code",
   "execution_count": 23,
   "metadata": {
    "ExecuteTime": {
     "end_time": "2018-10-31T18:49:27.288088Z",
     "start_time": "2018-10-31T18:49:27.139989Z"
    },
    "hidden": true
   },
   "outputs": [
    {
     "data": {
      "text/plain": [
       "<matplotlib.axes._subplots.AxesSubplot at 0x94c0963e48>"
      ]
     },
     "execution_count": 23,
     "metadata": {},
     "output_type": "execute_result"
    },
    {
     "data": {
      "image/png": "[encoded data removed]",
      "text/plain": [
       "<matplotlib.figure.Figure at 0x94c0ab18d0>"
      ]
     },
     "metadata": {},
     "output_type": "display_data"
    }
   ],
   "source": [
    "dataTrain['Embarked'].value_counts().plot.bar()"
   ]
  },
  {
   "cell_type": "code",
   "execution_count": 24,
   "metadata": {
    "ExecuteTime": {
     "end_time": "2018-10-31T18:49:27.309101Z",
     "start_time": "2018-10-31T18:49:27.290089Z"
    },
    "code_folding": [],
    "hidden": true
   },
   "outputs": [
    {
     "data": {
      "text/html": [
       "<div>\n",
       "<style scoped>\n",
       "    .dataframe tbody tr th:only-of-type {\n",
       "        vertical-align: middle;\n",
       "    }\n",
       "\n",
       "    .dataframe tbody tr th {\n",
       "        vertical-align: top;\n",
       "    }\n",
       "\n",
       "    .dataframe thead th {\n",
       "        text-align: right;\n",
       "    }\n",
       "</style>\n",
       "<table border=\"1\" class=\"dataframe\">\n",
       "  <thead>\n",
       "    <tr style=\"text-align: right;\">\n",
       "      <th></th>\n",
       "      <th>Embarked2</th>\n",
       "      <th>Survived</th>\n",
       "    </tr>\n",
       "  </thead>\n",
       "  <tbody>\n",
       "    <tr>\n",
       "      <th>Embarked2</th>\n",
       "      <td>1.000000</td>\n",
       "      <td>0.106811</td>\n",
       "    </tr>\n",
       "    <tr>\n",
       "      <th>Survived</th>\n",
       "      <td>0.106811</td>\n",
       "      <td>1.000000</td>\n",
       "    </tr>\n",
       "  </tbody>\n",
       "</table>\n",
       "</div>"
      ],
      "text/plain": [
       "           Embarked2  Survived\n",
       "Embarked2   1.000000  0.106811\n",
       "Survived    0.106811  1.000000"
      ]
     },
     "execution_count": 24,
     "metadata": {},
     "output_type": "execute_result"
    }
   ],
   "source": [
    "#is there any correlation?\n",
    "dataTrain['Embarked2'] = dataTrain['Embarked'].fillna('S').map( {'S': 0, 'C': 1, 'Q': 2} ).astype(int)\n",
    "dataTrain[['Embarked2','Survived']].corr()"
   ]
  },
  {
   "cell_type": "code",
   "execution_count": 25,
   "metadata": {
    "ExecuteTime": {
     "end_time": "2018-10-31T18:49:27.323109Z",
     "start_time": "2018-10-31T18:49:27.313104Z"
    },
    "hidden": true
   },
   "outputs": [],
   "source": [
    "dataTrain.drop('Embarked2', axis=1, inplace=True)\n",
    "# Conclusion - drop feature"
   ]
  },
  {
   "cell_type": "markdown",
   "metadata": {
    "ExecuteTime": {
     "end_time": "2018-10-30T15:57:38.226128Z",
     "start_time": "2018-10-30T15:57:38.222124Z"
    },
    "heading_collapsed": true
   },
   "source": [
    "### Cabin"
   ]
  },
  {
   "cell_type": "code",
   "execution_count": 26,
   "metadata": {
    "ExecuteTime": {
     "end_time": "2018-10-31T18:49:27.341121Z",
     "start_time": "2018-10-31T18:49:27.326111Z"
    },
    "hidden": true
   },
   "outputs": [
    {
     "data": {
      "text/plain": [
       "C23 C25 C27    4\n",
       "B96 B98        4\n",
       "G6             4\n",
       "E101           3\n",
       "C22 C26        3\n",
       "D              3\n",
       "F2             3\n",
       "F33            3\n",
       "B20            2\n",
       "E121           2\n",
       "Name: Cabin, dtype: int64"
      ]
     },
     "execution_count": 26,
     "metadata": {},
     "output_type": "execute_result"
    }
   ],
   "source": [
    "dataTrain['Cabin'].value_counts().head(10)"
   ]
  },
  {
   "cell_type": "markdown",
   "metadata": {
    "hidden": true
   },
   "source": [
    "Conclusion:\n",
    "* drop feature after extracting 1st letter"
   ]
  },
  {
   "cell_type": "markdown",
   "metadata": {},
   "source": [
    "## Overview every number features"
   ]
  },
  {
   "cell_type": "code",
   "execution_count": 27,
   "metadata": {
    "ExecuteTime": {
     "end_time": "2018-10-31T18:49:27.353129Z",
     "start_time": "2018-10-31T18:49:27.343123Z"
    }
   },
   "outputs": [
    {
     "name": "stdout",
     "output_type": "stream",
     "text": [
      "['PassengerId', 'Survived', 'Pclass', 'Age', 'SibSp', 'Parch', 'Fare']\n"
     ]
    }
   ],
   "source": [
    "print (numColumns)"
   ]
  },
  {
   "cell_type": "markdown",
   "metadata": {
    "heading_collapsed": true
   },
   "source": [
    "### Pclass"
   ]
  },
  {
   "cell_type": "code",
   "execution_count": 28,
   "metadata": {
    "ExecuteTime": {
     "end_time": "2018-10-31T18:49:27.509234Z",
     "start_time": "2018-10-31T18:49:27.355134Z"
    },
    "hidden": true
   },
   "outputs": [
    {
     "data": {
      "text/plain": [
       "<matplotlib.axes._subplots.AxesSubplot at 0x94c0d1aa58>"
      ]
     },
     "execution_count": 28,
     "metadata": {},
     "output_type": "execute_result"
    },
    {
     "data": {
      "image/png": "[encoded data removed]",
      "text/plain": [
       "<matplotlib.figure.Figure at 0x94bf189da0>"
      ]
     },
     "metadata": {},
     "output_type": "display_data"
    }
   ],
   "source": [
    "dataTrain['Pclass'].value_counts().plot.bar()"
   ]
  },
  {
   "cell_type": "code",
   "execution_count": 29,
   "metadata": {
    "ExecuteTime": {
     "end_time": "2018-10-31T18:49:27.519241Z",
     "start_time": "2018-10-31T18:49:27.511235Z"
    },
    "hidden": true
   },
   "outputs": [
    {
     "data": {
      "text/plain": [
       "Pclass\n",
       "1    0.629630\n",
       "2    0.472826\n",
       "3    0.242363\n",
       "Name: Survived, dtype: float64"
      ]
     },
     "execution_count": 29,
     "metadata": {},
     "output_type": "execute_result"
    }
   ],
   "source": [
    "dataTrain.groupby(['Pclass'])['Survived'].mean()\n",
    "#Conclusion: leave as exists, to int"
   ]
  },
  {
   "cell_type": "markdown",
   "metadata": {
    "heading_collapsed": true
   },
   "source": [
    "### Age"
   ]
  },
  {
   "cell_type": "code",
   "execution_count": 30,
   "metadata": {
    "ExecuteTime": {
     "end_time": "2018-10-31T18:49:27.739386Z",
     "start_time": "2018-10-31T18:49:27.521245Z"
    },
    "hidden": true
   },
   "outputs": [
    {
     "data": {
      "text/plain": [
       "<matplotlib.axes._subplots.AxesSubplot at 0x94c07d32b0>"
      ]
     },
     "execution_count": 30,
     "metadata": {},
     "output_type": "execute_result"
    },
    {
     "data": {
      "image/png": "[encoded data removed]",
      "text/plain": [
       "<matplotlib.figure.Figure at 0x94c092e7f0>"
      ]
     },
     "metadata": {},
     "output_type": "display_data"
    }
   ],
   "source": [
    "dataTrain['Age'].plot.hist(bins=20)"
   ]
  },
  {
   "cell_type": "code",
   "execution_count": 31,
   "metadata": {
    "ExecuteTime": {
     "end_time": "2018-10-31T18:49:27.753397Z",
     "start_time": "2018-10-31T18:49:27.741389Z"
    },
    "hidden": true
   },
   "outputs": [
    {
     "data": {
      "text/html": [
       "<div>\n",
       "<style scoped>\n",
       "    .dataframe tbody tr th:only-of-type {\n",
       "        vertical-align: middle;\n",
       "    }\n",
       "\n",
       "    .dataframe tbody tr th {\n",
       "        vertical-align: top;\n",
       "    }\n",
       "\n",
       "    .dataframe thead th {\n",
       "        text-align: right;\n",
       "    }\n",
       "</style>\n",
       "<table border=\"1\" class=\"dataframe\">\n",
       "  <thead>\n",
       "    <tr style=\"text-align: right;\">\n",
       "      <th></th>\n",
       "      <th>Age</th>\n",
       "    </tr>\n",
       "    <tr>\n",
       "      <th>Survived</th>\n",
       "      <th></th>\n",
       "    </tr>\n",
       "  </thead>\n",
       "  <tbody>\n",
       "    <tr>\n",
       "      <th>0</th>\n",
       "      <td>30.626179</td>\n",
       "    </tr>\n",
       "    <tr>\n",
       "      <th>1</th>\n",
       "      <td>28.343690</td>\n",
       "    </tr>\n",
       "  </tbody>\n",
       "</table>\n",
       "</div>"
      ],
      "text/plain": [
       "                Age\n",
       "Survived           \n",
       "0         30.626179\n",
       "1         28.343690"
      ]
     },
     "execution_count": 31,
     "metadata": {},
     "output_type": "execute_result"
    }
   ],
   "source": [
    "dataTrain[['Age', 'Survived']].groupby('Survived').mean()"
   ]
  },
  {
   "cell_type": "code",
   "execution_count": 32,
   "metadata": {
    "ExecuteTime": {
     "end_time": "2018-10-31T18:49:27.777412Z",
     "start_time": "2018-10-31T18:49:27.755397Z"
    },
    "hidden": true
   },
   "outputs": [
    {
     "data": {
      "text/html": [
       "<div>\n",
       "<style scoped>\n",
       "    .dataframe tbody tr th:only-of-type {\n",
       "        vertical-align: middle;\n",
       "    }\n",
       "\n",
       "    .dataframe tbody tr th {\n",
       "        vertical-align: top;\n",
       "    }\n",
       "\n",
       "    .dataframe thead th {\n",
       "        text-align: right;\n",
       "    }\n",
       "</style>\n",
       "<table border=\"1\" class=\"dataframe\">\n",
       "  <thead>\n",
       "    <tr style=\"text-align: right;\">\n",
       "      <th></th>\n",
       "      <th>Age</th>\n",
       "      <th>Survived</th>\n",
       "    </tr>\n",
       "  </thead>\n",
       "  <tbody>\n",
       "    <tr>\n",
       "      <th>Age</th>\n",
       "      <td>1.000000</td>\n",
       "      <td>-0.077221</td>\n",
       "    </tr>\n",
       "    <tr>\n",
       "      <th>Survived</th>\n",
       "      <td>-0.077221</td>\n",
       "      <td>1.000000</td>\n",
       "    </tr>\n",
       "  </tbody>\n",
       "</table>\n",
       "</div>"
      ],
      "text/plain": [
       "               Age  Survived\n",
       "Age       1.000000 -0.077221\n",
       "Survived -0.077221  1.000000"
      ]
     },
     "execution_count": 32,
     "metadata": {},
     "output_type": "execute_result"
    }
   ],
   "source": [
    "dataTrain[['Age', 'Survived']].corr()"
   ]
  },
  {
   "cell_type": "code",
   "execution_count": 33,
   "metadata": {
    "ExecuteTime": {
     "end_time": "2018-10-31T18:49:27.787420Z",
     "start_time": "2018-10-31T18:49:27.780414Z"
    },
    "hidden": true
   },
   "outputs": [],
   "source": [
    "#conclusion - try to convert to bands"
   ]
  },
  {
   "cell_type": "markdown",
   "metadata": {},
   "source": [
    "### Fare"
   ]
  },
  {
   "cell_type": "code",
   "execution_count": 34,
   "metadata": {
    "ExecuteTime": {
     "end_time": "2018-10-31T18:49:28.020575Z",
     "start_time": "2018-10-31T18:49:27.789422Z"
    }
   },
   "outputs": [
    {
     "data": {
      "text/plain": [
       "<matplotlib.axes._subplots.AxesSubplot at 0x94c0602b70>"
      ]
     },
     "execution_count": 34,
     "metadata": {},
     "output_type": "execute_result"
    },
    {
     "data": {
      "image/png": "[encoded data removed]",
      "text/plain": [
       "<matplotlib.figure.Figure at 0x94c08d0a90>"
      ]
     },
     "metadata": {},
     "output_type": "display_data"
    }
   ],
   "source": [
    "dataTrain['Fare'].plot.hist(bins=20)"
   ]
  },
  {
   "cell_type": "code",
   "execution_count": 35,
   "metadata": {
    "ExecuteTime": {
     "end_time": "2018-10-31T18:49:28.034584Z",
     "start_time": "2018-10-31T18:49:28.022577Z"
    }
   },
   "outputs": [
    {
     "data": {
      "text/plain": [
       "count    891.000000\n",
       "mean      32.204208\n",
       "std       49.693429\n",
       "min        0.000000\n",
       "25%        7.910400\n",
       "50%       14.454200\n",
       "75%       31.000000\n",
       "max      512.329200\n",
       "Name: Fare, dtype: float64"
      ]
     },
     "execution_count": 35,
     "metadata": {},
     "output_type": "execute_result"
    }
   ],
   "source": [
    "dataTrain['Fare'].describe()\n",
    "#conclusion - normalize and (?) make bands"
   ]
  },
  {
   "cell_type": "markdown",
   "metadata": {},
   "source": [
    "### sibsp & parch\n",
    "* sibsp: The dataset defines family relations in this way...\n",
    "- Sibling = brother, sister, stepbrother, stepsister\n",
    "- Spouse = husband, wife (mistresses and fiancés were ignored)\n",
    "\n",
    "\n",
    "* parch: The dataset defines family relations in this way...\n",
    "* Parent = mother, father\n",
    "* Child = daughter, son, stepdaughter, stepson\n",
    "* Some children travelled only with a nanny, therefore parch=0 for them."
   ]
  },
  {
   "cell_type": "code",
   "execution_count": 36,
   "metadata": {
    "ExecuteTime": {
     "end_time": "2018-10-31T18:49:28.220709Z",
     "start_time": "2018-10-31T18:49:28.036585Z"
    }
   },
   "outputs": [
    {
     "data": {
      "text/plain": [
       "<matplotlib.axes._subplots.AxesSubplot at 0x94c0f78fd0>"
      ]
     },
     "execution_count": 36,
     "metadata": {},
     "output_type": "execute_result"
    },
    {
     "data": {
      "image/png": "[encoded data removed]",
      "text/plain": [
       "<matplotlib.figure.Figure at 0x94c076ce48>"
      ]
     },
     "metadata": {},
     "output_type": "display_data"
    }
   ],
   "source": [
    "#print (dataTrain['SibSp'].value_counts().plot.bar()\n",
    "dataTrain['SibSp'].value_counts().plot.bar()"
   ]
  },
  {
   "cell_type": "code",
   "execution_count": 37,
   "metadata": {
    "ExecuteTime": {
     "end_time": "2018-10-31T18:49:28.408834Z",
     "start_time": "2018-10-31T18:49:28.222709Z"
    }
   },
   "outputs": [
    {
     "data": {
      "text/plain": [
       "<matplotlib.axes._subplots.AxesSubplot at 0x94c076fd68>"
      ]
     },
     "execution_count": 37,
     "metadata": {},
     "output_type": "execute_result"
    },
    {
     "data": {
      "image/png": "[encoded data removed]",
      "text/plain": [
       "<matplotlib.figure.Figure at 0x94c0709550>"
      ]
     },
     "metadata": {},
     "output_type": "display_data"
    }
   ],
   "source": [
    "dataTrain['Parch'].value_counts().plot.bar()"
   ]
  },
  {
   "cell_type": "code",
   "execution_count": 38,
   "metadata": {
    "ExecuteTime": {
     "end_time": "2018-10-31T18:49:30.463209Z",
     "start_time": "2018-10-31T18:49:28.410834Z"
    }
   },
   "outputs": [
    {
     "name": "stderr",
     "output_type": "stream",
     "text": [
      "C:\\ProgramData\\Anaconda3\\lib\\site-packages\\seaborn\\axisgrid.py:703: UserWarning: Using the countplot function without specifying `order` is likely to produce an incorrect plot.\n",
      "  warnings.warn(warning)\n"
     ]
    },
    {
     "data": {
      "image/png": "[encoded data removed]",
      "text/plain": [
       "<matplotlib.figure.Figure at 0x94c0687278>"
      ]
     },
     "metadata": {},
     "output_type": "display_data"
    }
   ],
   "source": [
    "#dataTrain.groupby(['SibSp','Sex'])['Survived']\n",
    "grid = sns.FacetGrid(dataTrain, col='Sex', row='SibSp')\n",
    "grid.map(sns.countplot, 'Survived', alpha=.8)\n",
    "grid.add_legend();"
   ]
  },
  {
   "cell_type": "code",
   "execution_count": 39,
   "metadata": {
    "ExecuteTime": {
     "end_time": "2018-10-31T18:49:32.135324Z",
     "start_time": "2018-10-31T18:49:30.465211Z"
    }
   },
   "outputs": [
    {
     "name": "stderr",
     "output_type": "stream",
     "text": [
      "C:\\ProgramData\\Anaconda3\\lib\\site-packages\\seaborn\\axisgrid.py:703: UserWarning: Using the countplot function without specifying `order` is likely to produce an incorrect plot.\n",
      "  warnings.warn(warning)\n"
     ]
    },
    {
     "data": {
      "text/plain": [
       "<seaborn.axisgrid.FacetGrid at 0x94c0f55a20>"
      ]
     },
     "execution_count": 39,
     "metadata": {},
     "output_type": "execute_result"
    },
    {
     "data": {
      "image/png": "[encoded data removed]",
      "text/plain": [
       "<matplotlib.figure.Figure at 0x94c20cff60>"
      ]
     },
     "metadata": {},
     "output_type": "display_data"
    }
   ],
   "source": [
    "g = sns.FacetGrid(dataTrain, row=\"Parch\", col=\"Sex\")\n",
    "g.map(sns.countplot, \"Survived\")"
   ]
  },
  {
   "cell_type": "markdown",
   "metadata": {},
   "source": [
    "Conclusion: may be generated\n",
    "* isAlone\n",
    "* hasChildren/Parents\n",
    "* hasHasb/Wife/"
   ]
  },
  {
   "cell_type": "markdown",
   "metadata": {},
   "source": [
    "## Missing data check"
   ]
  },
  {
   "cell_type": "code",
   "execution_count": 40,
   "metadata": {
    "ExecuteTime": {
     "end_time": "2018-10-31T18:49:32.149333Z",
     "start_time": "2018-10-31T18:49:32.137324Z"
    }
   },
   "outputs": [
    {
     "name": "stdout",
     "output_type": "stream",
     "text": [
      "Train:\n",
      " PassengerId      0\n",
      "Survived         0\n",
      "Pclass           0\n",
      "Name             0\n",
      "Sex              0\n",
      "Age            177\n",
      "SibSp            0\n",
      "Parch            0\n",
      "Ticket           0\n",
      "Fare             0\n",
      "Cabin          687\n",
      "Embarked         2\n",
      "dtype: int64 \n",
      "\n",
      "Test:\n",
      " PassengerId      0\n",
      "Pclass           0\n",
      "Name             0\n",
      "Sex              0\n",
      "Age             86\n",
      "SibSp            0\n",
      "Parch            0\n",
      "Ticket           0\n",
      "Fare             1\n",
      "Cabin          327\n",
      "Embarked         0\n",
      "dtype: int64\n"
     ]
    },
    {
     "data": {
      "text/plain": [
       "0"
      ]
     },
     "execution_count": 40,
     "metadata": {},
     "output_type": "execute_result"
    }
   ],
   "source": [
    "sf.check_missing_data(dataTrain, dataTest)"
   ]
  },
  {
   "cell_type": "markdown",
   "metadata": {
    "ExecuteTime": {
     "end_time": "2018-10-30T09:26:24.578977Z",
     "start_time": "2018-10-30T09:26:24.573973Z"
    }
   },
   "source": [
    "## Conclusions:\n",
    "\n",
    "* drop features:\n",
    " * passengerId\n",
    " * cabin (after extract the deck)\n",
    " * ticket\n",
    " * embarked\n",
    "* missing data to recover:\n",
    " * age\n",
    "* convert categorial to:\n",
    " * sex - to int and to several columns\n",
    " * pclass - to int\n",
    "* new features from:\n",
    " * cabin\n",
    " * name (extract title)\n",
    " * age bands\n",
    " * fare -  normalize and (?) make bands\n",
    " * sibsp& parch - may be generated isAlone hasChildren/Parents hasHasb/Wife/"
   ]
  },
  {
   "cell_type": "markdown",
   "metadata": {},
   "source": [
    "## Other Ideas\n",
    "* may be for little children for high class (1+2) predict constantly 1?"
   ]
  }
 ],
 "metadata": {
  "kernelspec": {
   "display_name": "Python 3",
   "language": "python",
   "name": "python3"
  },
  "language_info": {
   "codemirror_mode": {
    "name": "ipython",
    "version": 3
   },
   "file_extension": ".py",
   "mimetype": "text/x-python",
   "name": "python",
   "nbconvert_exporter": "python",
   "pygments_lexer": "ipython3",
   "version": "3.6.4"
  }
 },
 "nbformat": 4,
 "nbformat_minor": 2
}
