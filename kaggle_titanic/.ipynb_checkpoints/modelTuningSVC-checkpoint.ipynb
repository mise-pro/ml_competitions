{
 "cells": [
  {
   "cell_type": "code",
   "execution_count": 1,
   "metadata": {
    "ExecuteTime": {
     "end_time": "2018-10-28T18:38:45.785689Z",
     "start_time": "2018-10-28T18:38:40.252887Z"
    }
   },
   "outputs": [],
   "source": [
    "from sklearn.svm import SVC\n",
    "%load_ext autoreload\n",
    "%autoreload 2\n",
    "import pandas as pd\n",
    "from sklearn.externals import joblib\n",
    "from sklearn.model_selection import StratifiedKFold\n",
    "\n",
    "import sys\n",
    "sys.path.insert(0, 'G:/work/GitHub/ml_baseline_things/functions/')\n",
    "import GridSearchCVcustom as GSC\n",
    "\n"
   ]
  },
  {
   "cell_type": "code",
   "execution_count": 2,
   "metadata": {
    "ExecuteTime": {
     "end_time": "2018-10-28T18:38:45.970698Z",
     "start_time": "2018-10-28T18:38:45.787576Z"
    }
   },
   "outputs": [],
   "source": [
    "#load data\n",
    "dataTrain, dataTarget, _ , dataTrainScaled, _, selectedFeatures = joblib.load('dumps_clean_data/dataDump.pkl')\n",
    "dataTrain = dataTrain[selectedFeatures]\n",
    "dataTrainScaled = dataTrainScaled[selectedFeatures]"
   ]
  },
  {
   "cell_type": "code",
   "execution_count": 3,
   "metadata": {
    "ExecuteTime": {
     "end_time": "2018-10-28T18:38:46.160825Z",
     "start_time": "2018-10-28T18:38:45.972699Z"
    }
   },
   "outputs": [
    {
     "data": {
      "text/plain": [
       "{'clf': SVC(C=1.0, cache_size=200, class_weight=None, coef0=0.0,\n",
       "   decision_function_shape='ovr', degree=3, gamma='auto', kernel='rbf',\n",
       "   max_iter=-1, probability=False, random_state=None, shrinking=True,\n",
       "   tol=0.001, verbose=False)}"
      ]
     },
     "execution_count": 3,
     "metadata": {},
     "output_type": "execute_result"
    }
   ],
   "source": [
    "#check available params\n",
    "pipeline = GSC.get_pipeline_1step(SVC())\n",
    "pipeline.named_steps "
   ]
  },
  {
   "cell_type": "code",
   "execution_count": 34,
   "metadata": {
    "ExecuteTime": {
     "end_time": "2018-10-28T19:31:27.792127Z",
     "start_time": "2018-10-28T19:31:27.608000Z"
    }
   },
   "outputs": [],
   "source": [
    "RS = 100\n",
    "n_splits = 5\n",
    "nSamples = len(dataTrain)\n",
    "cvShuffle = False\n",
    "paramGrid = {'clf': [SVC()],\n",
    "              'clf__random_state': [RS],\n",
    "              #'clf__class_weight': ['balanced'],\n",
    "              'clf__C': [1., 0.01, 0.1, 10., 50.],\n",
    "              'clf__max_iter': [-1]              \n",
    "             }"
   ]
  },
  {
   "cell_type": "markdown",
   "metadata": {},
   "source": [
    "# non-Scaled + StratifiedKFold"
   ]
  },
  {
   "cell_type": "code",
   "execution_count": 35,
   "metadata": {
    "ExecuteTime": {
     "end_time": "2018-10-28T19:33:10.374269Z",
     "start_time": "2018-10-28T19:31:27.794124Z"
    }
   },
   "outputs": [
    {
     "name": "stdout",
     "output_type": "stream",
     "text": [
      "Total iterations exist for provided gridSearch params: 5\n",
      "These steps available to be performed:\n",
      "v Iter 1: clf__C: 1.0  clf__max_iter: -1  clf__random_state: 100  \n",
      "v Iter 2: clf__C: 0.01  clf__max_iter: -1  clf__random_state: 100  \n",
      "v Iter 3: clf__C: 0.1  clf__max_iter: -1  clf__random_state: 100  \n",
      "v Iter 4: clf__C: 10.0  clf__max_iter: -1  clf__random_state: 100  \n",
      "v Iter 5: clf__C: 50.0  clf__max_iter: -1  clf__random_state: 100  \n",
      "\n",
      "\n",
      "--==Calculations...==--\n",
      "New best result = 0.81823 (std = 0.02146) during 20.0 [secs] (iter = 1) for search with params \n",
      "dict_items([('clf', SVC(C=1.0, cache_size=200, class_weight=None, coef0=0.0,\n",
      "  decision_function_shape='ovr', degree=3, gamma='auto', kernel='rbf',\n",
      "  max_iter=-1, probability=False, random_state=None, shrinking=True,\n",
      "  tol=0.001, verbose=False)), ('clf__C', 1.0), ('clf__max_iter', -1), ('clf__random_state', 100)])\n",
      "\n",
      "Iterations to perform: 3\n",
      "Average time for iteration [mins]: 0.33\n",
      "Job will be done in (approximately) [mins] : 1.0\n",
      "\n",
      "Iterations to perform: 2\n",
      "Average time for iteration [mins]: 0.33\n",
      "Job will be done in (approximately) [mins] : 0.7\n",
      "\n",
      "Iterations to perform: 1\n",
      "Average time for iteration [mins]: 0.34\n",
      "Job will be done in (approximately) [mins] : 0.3\n",
      "\n",
      "Iterations to perform: 0\n",
      "Average time for iteration [mins]: 0.34\n",
      "Job will be done in (approximately) [mins] : 0.0\n",
      "\n",
      "Iterations to perform: -1\n",
      "Average time for iteration [mins]: 0.34\n",
      "Job will be done in (approximately) [mins] : -0.3\n",
      "\n",
      "Congrats! All DONE. Total time is [mins]: 1.71\n",
      "BestIter was 1, bestScore = 0.8182267667735188, bestScoreParams = {'clf': SVC(C=1.0, cache_size=200, class_weight=None, coef0=0.0,\n",
      "  decision_function_shape='ovr', degree=3, gamma='auto', kernel='rbf',\n",
      "  max_iter=-1, probability=False, random_state=100, shrinking=True,\n",
      "  tol=0.001, verbose=False)}\n",
      "bestScore = 0.8182267667735188\n",
      "BestScoreParams = {'clf': SVC(C=1.0, cache_size=200, class_weight=None, coef0=0.0,\n",
      "  decision_function_shape='ovr', degree=3, gamma='auto', kernel='rbf',\n",
      "  max_iter=-1, probability=False, random_state=100, shrinking=True,\n",
      "  tol=0.001, verbose=False)}\n"
     ]
    }
   ],
   "source": [
    "cv = StratifiedKFold(n_splits=n_splits, random_state=RS, shuffle=cvShuffle)\n",
    "\n",
    "bestScore, bestScoreParams, bestIter = GSC.GridSearchCVcustom(pipeline, paramGrid, \n",
    "                                                              dataTrain[:nSamples], dataTarget[:nSamples],\n",
    "                                                              cv=cv, n_jobs = -1, pre_dispatch=2,\n",
    "                                                              showSteps=True, itersToPerform ='All')\n",
    "print ('bestScore = {}\\nBestScoreParams = {}'.format(bestScore, bestScoreParams))"
   ]
  },
  {
   "cell_type": "markdown",
   "metadata": {},
   "source": [
    "# Scaled + StratifiedKFold"
   ]
  },
  {
   "cell_type": "code",
   "execution_count": 36,
   "metadata": {
    "ExecuteTime": {
     "end_time": "2018-10-28T19:34:51.362590Z",
     "start_time": "2018-10-28T19:33:10.376272Z"
    }
   },
   "outputs": [
    {
     "name": "stdout",
     "output_type": "stream",
     "text": [
      "Total iterations exist for provided gridSearch params: 5\n",
      "These steps available to be performed:\n",
      "v Iter 1: clf__C: 1.0  clf__max_iter: -1  clf__random_state: 100  \n",
      "v Iter 2: clf__C: 0.01  clf__max_iter: -1  clf__random_state: 100  \n",
      "v Iter 3: clf__C: 0.1  clf__max_iter: -1  clf__random_state: 100  \n",
      "v Iter 4: clf__C: 10.0  clf__max_iter: -1  clf__random_state: 100  \n",
      "v Iter 5: clf__C: 50.0  clf__max_iter: -1  clf__random_state: 100  \n",
      "\n",
      "\n",
      "--==Calculations...==--\n",
      "New best result = 0.81482 (std = 0.01057) during 21.0 [secs] (iter = 1) for search with params \n",
      "dict_items([('clf', SVC(C=1.0, cache_size=200, class_weight=None, coef0=0.0,\n",
      "  decision_function_shape='ovr', degree=3, gamma='auto', kernel='rbf',\n",
      "  max_iter=-1, probability=False, random_state=None, shrinking=True,\n",
      "  tol=0.001, verbose=False)), ('clf__C', 1.0), ('clf__max_iter', -1), ('clf__random_state', 100)])\n",
      "\n",
      "Iterations to perform: 3\n",
      "Average time for iteration [mins]: 0.34\n",
      "Job will be done in (approximately) [mins] : 1.0\n",
      "\n",
      "Iterations to perform: 2\n",
      "Average time for iteration [mins]: 0.34\n",
      "Job will be done in (approximately) [mins] : 0.7\n",
      "\n",
      "Iterations to perform: 1\n",
      "Average time for iteration [mins]: 0.34\n",
      "Job will be done in (approximately) [mins] : 0.3\n",
      "\n",
      "Iterations to perform: 0\n",
      "Average time for iteration [mins]: 0.34\n",
      "Job will be done in (approximately) [mins] : 0.0\n",
      "\n",
      "Iterations to perform: -1\n",
      "Average time for iteration [mins]: 0.34\n",
      "Job will be done in (approximately) [mins] : -0.3\n",
      "\n",
      "Congrats! All DONE. Total time is [mins]: 1.68\n",
      "BestIter was 1, bestScore = 0.8148179632007665, bestScoreParams = {'clf': SVC(C=1.0, cache_size=200, class_weight=None, coef0=0.0,\n",
      "  decision_function_shape='ovr', degree=3, gamma='auto', kernel='rbf',\n",
      "  max_iter=-1, probability=False, random_state=100, shrinking=True,\n",
      "  tol=0.001, verbose=False)}\n",
      "bestScore = 0.8148179632007665\n",
      "BestScoreParams = {'clf': SVC(C=1.0, cache_size=200, class_weight=None, coef0=0.0,\n",
      "  decision_function_shape='ovr', degree=3, gamma='auto', kernel='rbf',\n",
      "  max_iter=-1, probability=False, random_state=100, shrinking=True,\n",
      "  tol=0.001, verbose=False)}\n"
     ]
    }
   ],
   "source": [
    "cv = StratifiedKFold(n_splits=n_splits, random_state=RS, shuffle=cvShuffle)\n",
    "\n",
    "bestScore, bestScoreParams, bestIter = GSC.GridSearchCVcustom(pipeline, paramGrid, \n",
    "                                                              dataTrainScaled[:nSamples], dataTarget[:nSamples],\n",
    "                                                              cv=cv, n_jobs = -1, pre_dispatch=2,\n",
    "                                                              showSteps=True, itersToPerform ='All')\n",
    "print ('bestScore = {}\\nBestScoreParams = {}'.format(bestScore, bestScoreParams))"
   ]
  }
 ],
 "metadata": {
  "kernelspec": {
   "display_name": "Python 3",
   "language": "python",
   "name": "python3"
  },
  "language_info": {
   "codemirror_mode": {
    "name": "ipython",
    "version": 3
   },
   "file_extension": ".py",
   "mimetype": "text/x-python",
   "name": "python",
   "nbconvert_exporter": "python",
   "pygments_lexer": "ipython3",
   "version": "3.6.4"
  }
 },
 "nbformat": 4,
 "nbformat_minor": 2
}
