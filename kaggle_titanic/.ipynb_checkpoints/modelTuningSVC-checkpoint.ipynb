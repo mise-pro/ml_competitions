{
 "cells": [
  {
   "cell_type": "code",
   "execution_count": null,
   "metadata": {
    "ExecuteTime": {
     "start_time": "2018-10-29T15:54:27.625Z"
    }
   },
   "outputs": [],
   "source": [
    "from sklearn.svm import SVC\n",
    "%load_ext autoreload\n",
    "%autoreload 2\n",
    "import pandas as pd\n",
    "from sklearn.externals import joblib\n",
    "from sklearn.model_selection import StratifiedKFold\n",
    "\n",
    "import sys\n",
    "sys.path.insert(0, 'G:/work/GitHub/ml_baseline_things/functions/')\n",
    "import GridSearchCVcustom as GSC\n",
    "\n"
   ]
  },
  {
   "cell_type": "code",
   "execution_count": null,
   "metadata": {
    "ExecuteTime": {
     "start_time": "2018-10-29T15:54:27.628Z"
    }
   },
   "outputs": [],
   "source": [
    "#load data\n",
    "dataTrain, dataTarget, _ , dataTrainScaled, _, selectedFeatures = joblib.load('dumps_clean_data/dataDump.pkl')\n",
    "dataTrain = dataTrain[selectedFeatures]\n",
    "dataTrainScaled = dataTrainScaled[selectedFeatures]"
   ]
  },
  {
   "cell_type": "code",
   "execution_count": null,
   "metadata": {
    "ExecuteTime": {
     "start_time": "2018-10-29T15:54:27.632Z"
    }
   },
   "outputs": [],
   "source": [
    "#check available params\n",
    "pipeline = GSC.get_pipeline_1step(SVC())\n",
    "pipeline.named_steps "
   ]
  },
  {
   "cell_type": "code",
   "execution_count": null,
   "metadata": {
    "ExecuteTime": {
     "start_time": "2018-10-29T15:54:27.635Z"
    }
   },
   "outputs": [],
   "source": [
    "RS = 100\n",
    "n_splits = 10\n",
    "nSamples = len(dataTrain)\n",
    "cvShuffle = False\n",
    "paramGrid = {'clf': [SVC()],\n",
    "              'clf__random_state': [RS],\n",
    "              #'clf__class_weight': ['balanced'],\n",
    "              'clf__C': [0.01, 0.1, 0.5, 1., 1.5, 2.5, 5, 10., 50.],\n",
    "              'clf__max_iter': [-1]              \n",
    "             }"
   ]
  },
  {
   "cell_type": "markdown",
   "metadata": {},
   "source": [
    "# non-Scaled + StratifiedKFold"
   ]
  },
  {
   "cell_type": "code",
   "execution_count": null,
   "metadata": {
    "ExecuteTime": {
     "start_time": "2018-10-29T15:54:27.639Z"
    }
   },
   "outputs": [],
   "source": [
    "cv = StratifiedKFold(n_splits=n_splits, random_state=RS, shuffle=cvShuffle)\n",
    "\n",
    "bestScore, bestScoreParams, bestIter = GSC.GridSearchCVcustom(pipeline, paramGrid, \n",
    "                                                              dataTrain[:nSamples], dataTarget[:nSamples],\n",
    "                                                              cv=cv, n_jobs = -1, pre_dispatch=2,\n",
    "                                                              showSteps=True, itersToPerform ='All')\n",
    "print ('bestScore = {}\\nBestScoreParams = {}'.format(bestScore, bestScoreParams))"
   ]
  },
  {
   "cell_type": "markdown",
   "metadata": {},
   "source": [
    "# Scaled + StratifiedKFold"
   ]
  },
  {
   "cell_type": "code",
   "execution_count": null,
   "metadata": {
    "ExecuteTime": {
     "start_time": "2018-10-29T15:54:27.644Z"
    }
   },
   "outputs": [],
   "source": [
    "cv = StratifiedKFold(n_splits=n_splits, random_state=RS, shuffle=cvShuffle)\n",
    "\n",
    "bestScore, bestScoreParams, bestIter = GSC.GridSearchCVcustom(pipeline, paramGrid, \n",
    "                                                              dataTrainScaled[:nSamples], dataTarget[:nSamples],\n",
    "                                                              cv=cv, n_jobs = -1, pre_dispatch=2,\n",
    "                                                              showSteps=True, itersToPerform ='All')\n",
    "print ('bestScore = {}\\nBestScoreParams = {}'.format(bestScore, bestScoreParams))"
   ]
  }
 ],
 "metadata": {
  "kernelspec": {
   "display_name": "Python 3",
   "language": "python",
   "name": "python3"
  },
  "language_info": {
   "codemirror_mode": {
    "name": "ipython",
    "version": 3
   },
   "file_extension": ".py",
   "mimetype": "text/x-python",
   "name": "python",
   "nbconvert_exporter": "python",
   "pygments_lexer": "ipython3",
   "version": "3.6.4"
  }
 },
 "nbformat": 4,
 "nbformat_minor": 2
}
