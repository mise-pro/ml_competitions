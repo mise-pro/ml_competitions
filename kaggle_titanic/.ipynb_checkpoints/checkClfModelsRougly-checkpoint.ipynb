{
 "cells": [
  {
   "cell_type": "code",
   "execution_count": 1,
   "metadata": {
    "ExecuteTime": {
     "end_time": "2018-10-29T12:34:24.525478Z",
     "start_time": "2018-10-29T12:34:18.864081Z"
    }
   },
   "outputs": [],
   "source": [
    "%load_ext autoreload\n",
    "%autoreload 2\n",
    "import pandas as pd\n",
    "from sklearn.externals import joblib\n",
    "from sklearn.model_selection import StratifiedKFold\n",
    "from IPython.display import display\n",
    "\n",
    "import sys\n",
    "sys.path.insert(0, 'G:/work/GitHub/ml_baseline_things/functions/')\n",
    "\n",
    "import CheckClassificationModels as ccm"
   ]
  },
  {
   "cell_type": "code",
   "execution_count": 2,
   "metadata": {
    "ExecuteTime": {
     "end_time": "2018-10-29T12:34:24.720851Z",
     "start_time": "2018-10-29T12:34:24.527287Z"
    }
   },
   "outputs": [],
   "source": [
    "dataTrain, dataTarget, _ , dataTrainScaled, _, selectedFeatures = joblib.load('dumps_clean_data/dataDump.pkl')\n",
    "dataTrain = dataTrain[selectedFeatures]\n",
    "dataTrainScaled = dataTrainScaled[selectedFeatures]"
   ]
  },
  {
   "cell_type": "markdown",
   "metadata": {},
   "source": [
    "## задача этого ноута - построить кроссвалидацию + все начальные модели"
   ]
  },
  {
   "cell_type": "markdown",
   "metadata": {},
   "source": [
    "## Crossvalidation"
   ]
  },
  {
   "cell_type": "code",
   "execution_count": 3,
   "metadata": {
    "ExecuteTime": {
     "end_time": "2018-10-29T12:34:24.920271Z",
     "start_time": "2018-10-29T12:34:24.722803Z"
    }
   },
   "outputs": [
    {
     "name": "stdout",
     "output_type": "stream",
     "text": [
      "check if balanced or not: 0.3838383838383838\n"
     ]
    }
   ],
   "source": [
    "#check if balanced or not\n",
    "print ('check if balanced or not: {}'.format(float(sum(dataTarget))/len(dataTrain)))\n",
    "\n",
    "#http://scikit-learn.org/stable/modules/cross_validation.html#cross-validation-iterators\n",
    "# checklist CV strategy\n",
    "# данные приходят из i.i.d распределения?\n",
    "# данные имеют временную зависимоть?\n",
    "# данные имеют зависимость от группы? например, строки можно объединить в группы, где целевая переменная генерится по своему закону по каждой группе?\n",
    "# может выделить искуственную группу от признака, от которого есть большая корреляция?\n",
    "# есть ли смежные данные?\n",
    "\n",
    "# checklist metrics - metrics should be choosen optimally"
   ]
  },
  {
   "cell_type": "code",
   "execution_count": 17,
   "metadata": {
    "ExecuteTime": {
     "end_time": "2018-10-29T17:11:58.253943Z",
     "start_time": "2018-10-29T17:11:58.056553Z"
    }
   },
   "outputs": [],
   "source": [
    "RS = 1\n",
    "nSamples = len(dataTrain)\n",
    "\n",
    "cvs = [StratifiedKFold(n_splits=i, random_state=RS, shuffle=True) for i in [2,4,6,10]]\n",
    "\n",
    "dataTrainMods = [\n",
    "    ['scaled', dataTrainScaled[:nSamples]],\n",
    "    ['non-scaled', dataTrain[:nSamples]]\n",
    "    ]"
   ]
  },
  {
   "cell_type": "code",
   "execution_count": null,
   "metadata": {
    "ExecuteTime": {
     "start_time": "2018-10-29T17:12:00.914Z"
    },
    "scrolled": true
   },
   "outputs": [
    {
     "name": "stdout",
     "output_type": "stream",
     "text": [
      "Total iterations will be perform = 8\n"
     ]
    }
   ],
   "source": [
    "results = ccm.global_check_clf_models (dataTrainMods, dataTarget[:nSamples], cvs, RS, n_jobs = -1)#, debugMode=1)\n",
    "for result in results:\n",
    "    print('Iteration with dataMods={}, cv={}'.format(result[0],result[1]))\n",
    "    display(result[2])\n",
    "    print ('\\n')"
   ]
  },
  {
   "cell_type": "code",
   "execution_count": 6,
   "metadata": {
    "ExecuteTime": {
     "end_time": "2018-10-29T13:02:45.644867Z",
     "start_time": "2018-10-29T13:02:45.459131Z"
    }
   },
   "outputs": [],
   "source": [
    "# имеет смысл потюнить SVM"
   ]
  }
 ],
 "metadata": {
  "kernelspec": {
   "display_name": "Python 3",
   "language": "python",
   "name": "python3"
  },
  "language_info": {
   "codemirror_mode": {
    "name": "ipython",
    "version": 3
   },
   "file_extension": ".py",
   "mimetype": "text/x-python",
   "name": "python",
   "nbconvert_exporter": "python",
   "pygments_lexer": "ipython3",
   "version": "3.6.4"
  }
 },
 "nbformat": 4,
 "nbformat_minor": 2
}
