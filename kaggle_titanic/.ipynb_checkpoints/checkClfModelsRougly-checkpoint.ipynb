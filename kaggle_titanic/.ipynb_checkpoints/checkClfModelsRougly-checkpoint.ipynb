{
 "cells": [
  {
   "cell_type": "code",
   "execution_count": 1,
   "metadata": {
    "ExecuteTime": {
     "end_time": "2018-11-15T12:07:21.769132Z",
     "start_time": "2018-11-15T12:07:17.375170Z"
    }
   },
   "outputs": [],
   "source": [
    "%load_ext autoreload\n",
    "%autoreload 2\n",
    "import pandas as pd\n",
    "from sklearn.externals import joblib\n",
    "from sklearn.model_selection import StratifiedKFold\n",
    "#from sklearn.model_selection import ParameterGrid\n",
    "#from IPython.display import display\n",
    "#from datetime import datetime\n",
    "#import random\n",
    "\n",
    "import sys\n",
    "sys.path.insert(0, 'G:/work/GitHub/ml_baseline_things/functions/')\n",
    "\n",
    "import CheckClassificationModels as ccm"
   ]
  },
  {
   "cell_type": "code",
   "execution_count": 2,
   "metadata": {
    "ExecuteTime": {
     "end_time": "2018-11-15T12:07:21.968260Z",
     "start_time": "2018-11-15T12:07:21.771130Z"
    }
   },
   "outputs": [
    {
     "data": {
      "text/plain": [
       "[['Pclass',\n",
       "  'SexD_0',\n",
       "  'SexD_1',\n",
       "  'TitleD_1',\n",
       "  'TitleD_2',\n",
       "  'TitleD_3',\n",
       "  'IsAlone',\n",
       "  'HasWifeHasb',\n",
       "  'Age*Class',\n",
       "  'FareBands',\n",
       "  'DeckF',\n",
       "  'DeckD_U'],\n",
       " ['Pclass',\n",
       "  'SexD_0',\n",
       "  'SexD_1',\n",
       "  'TitleD_1',\n",
       "  'TitleD_2',\n",
       "  'TitleD_3',\n",
       "  'HasWifeHasb',\n",
       "  'Age*Class',\n",
       "  'FareBands',\n",
       "  'DeckF',\n",
       "  'DeckD_B',\n",
       "  'DeckD_U'],\n",
       " ['Pclass',\n",
       "  'Sex',\n",
       "  'Age',\n",
       "  'SibSp',\n",
       "  'Parch',\n",
       "  'Fare',\n",
       "  'SexD_0',\n",
       "  'SexD_1',\n",
       "  'Title',\n",
       "  'TitleD_1',\n",
       "  'TitleD_2',\n",
       "  'TitleD_3',\n",
       "  'TitleD_4',\n",
       "  'TitleD_5',\n",
       "  'AgeBands',\n",
       "  'FamilySize',\n",
       "  'IsAlone',\n",
       "  'HasWifeHasb',\n",
       "  'HasBloodRelatives',\n",
       "  'Age*Class',\n",
       "  'FareBands',\n",
       "  'DeckF',\n",
       "  'DeckD_A',\n",
       "  'DeckD_B',\n",
       "  'DeckD_C',\n",
       "  'DeckD_D',\n",
       "  'DeckD_E',\n",
       "  'DeckD_F',\n",
       "  'DeckD_G',\n",
       "  'DeckD_U']]"
      ]
     },
     "execution_count": 2,
     "metadata": {},
     "output_type": "execute_result"
    }
   ],
   "source": [
    "dataTrain, dataTarget, _ , dataTrainScaled, _ = joblib.load('data_modified/dataModified.pkl')\n",
    "#selectedFeatures1, selectedFeatures2, selectedFeaturesLR = joblib.load('data_modified/selectedFeatures.pkl')\n",
    "\n",
    "selectedFeaturesArray = [selectedFeatures for selectedFeatures in joblib.load('data_modified/selectedFeatures--2018-11-15--15-06.pkl')]\n",
    "selectedFeaturesArray"
   ]
  },
  {
   "cell_type": "markdown",
   "metadata": {},
   "source": [
    "## задача этого ноута - построить кроссвалидацию + все начальные модели"
   ]
  },
  {
   "cell_type": "markdown",
   "metadata": {},
   "source": [
    "## Crossvalidation"
   ]
  },
  {
   "cell_type": "code",
   "execution_count": null,
   "metadata": {
    "ExecuteTime": {
     "start_time": "2018-11-15T12:07:17.370Z"
    }
   },
   "outputs": [
    {
     "name": "stdout",
     "output_type": "stream",
     "text": [
      "check if balanced or not: 0.3838383838383838\n"
     ]
    }
   ],
   "source": [
    "#check if balanced or not\n",
    "print ('check if balanced or not: {}'.format(float(sum(dataTarget))/len(dataTrain)))\n",
    "\n",
    "#http://scikit-learn.org/stable/modules/cross_validation.html#cross-validation-iterators\n",
    "# checklist CV strategy\n",
    "# данные приходят из i.i.d распределения?\n",
    "# данные имеют временную зависимоть?\n",
    "# данные имеют зависимость от группы? например, строки можно объединить в группы, где целевая переменная генерится по своему закону по каждой группе?\n",
    "# может выделить искуственную группу от признака, от которого есть большая корреляция?\n",
    "# есть ли смежные данные?\n",
    "\n",
    "# TODO metrics should be choosen optimally"
   ]
  },
  {
   "cell_type": "code",
   "execution_count": null,
   "metadata": {
    "ExecuteTime": {
     "start_time": "2018-11-15T12:07:17.374Z"
    },
    "code_folding": []
   },
   "outputs": [
    {
     "name": "stdout",
     "output_type": "stream",
     "text": [
      "Total iterations will be perform (for each featureSet) = 8\n"
     ]
    }
   ],
   "source": [
    "RS = 1\n",
    "nSamples = len(dataTrain)\n",
    "nSplits = [2,4,6,10]\n",
    "\n",
    "for selectedFeatures in selectedFeaturesArray:\n",
    "\n",
    "    dataTrain_ = dataTrain[selectedFeatures]\n",
    "    dataTrainScaled_ = dataTrainScaled[selectedFeatures]\n",
    "\n",
    "    cvs = [StratifiedKFold(n_splits=i, random_state=RS, shuffle=True) for i in nSplits]\n",
    "\n",
    "    dataTrainMods = [\n",
    "        ['scaled', dataTrainScaled_[:nSamples]],\n",
    "        ['non-scaled', dataTrain_[:nSamples]]\n",
    "        ]\n",
    "\n",
    "    results = ccm.global_check_clf_models (dataTrainMods, dataTarget[:nSamples], cvs, RS, n_jobs = -1)#, debugMode=1)\n",
    "    ccm.postprocess_and_save_results(results, selectedFeatures, cvs, dataTrainMods, path='featureSelectionResults/')"
   ]
  }
 ],
 "metadata": {
  "kernelspec": {
   "display_name": "Python 3",
   "language": "python",
   "name": "python3"
  },
  "language_info": {
   "codemirror_mode": {
    "name": "ipython",
    "version": 3
   },
   "file_extension": ".py",
   "mimetype": "text/x-python",
   "name": "python",
   "nbconvert_exporter": "python",
   "pygments_lexer": "ipython3",
   "version": "3.6.4"
  }
 },
 "nbformat": 4,
 "nbformat_minor": 2
}
