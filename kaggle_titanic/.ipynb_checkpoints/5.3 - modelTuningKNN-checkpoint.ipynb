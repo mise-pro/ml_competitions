{
 "cells": [
  {
   "cell_type": "code",
   "execution_count": 1,
   "metadata": {
    "ExecuteTime": {
     "end_time": "2018-12-07T10:11:49.579727Z",
     "start_time": "2018-12-07T10:11:45.034643Z"
    }
   },
   "outputs": [],
   "source": [
    "%load_ext autoreload\n",
    "%autoreload 2\n",
    "import pandas as pd\n",
    "from sklearn.externals import joblib\n",
    "\n",
    "from sklearn.model_selection import GridSearchCV\n",
    "from sklearn.neighbors import KNeighborsClassifier\n",
    "\n",
    "from sklearn.model_selection import StratifiedKFold\n",
    "\n",
    "import sys\n",
    "sys.path.insert(0, 'G:/work/GitHub/ml_baseline_things/functions/')\n",
    "import GridSearchCVcustom as GSC\n",
    "import featureEngineringFunctions as fef\n",
    "from sklearn.preprocessing import StandardScaler\n",
    "\n",
    "dirPath = '2-featuresPack/'"
   ]
  },
  {
   "cell_type": "code",
   "execution_count": 2,
   "metadata": {
    "ExecuteTime": {
     "end_time": "2018-12-07T10:11:49.799828Z",
     "start_time": "2018-12-07T10:11:49.581679Z"
    }
   },
   "outputs": [],
   "source": [
    "#featuresFromOtherSolutions = ['Survived','Pclass','Sex','Family_Size','Family_Survival','Fare_Bin','Age_Bin']\n",
    "\n",
    "featureList = [\n",
    "#'PassengerId',\n",
    "#'Survived',\n",
    "#'AGE_cont',\n",
    "'AgeBin_LE',\n",
    "#'Age-Class_cont',\n",
    "#'Deck_LE',\n",
    "#'Deck_OHE',\n",
    "'FamilySize_LE',\n",
    "#'Fare_cont',\n",
    "'FareBin_LE',\n",
    "#'HasBloodRelatives_LE',\n",
    "#'HasWifeHasb_LE',\n",
    "#'IsAlone_LE',\n",
    "#'Parch_LE',\n",
    "'Pclass_LE',\n",
    "'Sex_LE',\n",
    "#'Sex_OHE',\n",
    "#'SibSp_LE',\n",
    "#'Title_LE',\n",
    "#'Title_OHE',\n",
    "'FamilySurvival_bin'\n",
    "]\n",
    "#features = ['Survived','Pclass','Sex','Family_Size','Family_Survival','Fare_Bin','Age_Bin']\n",
    "\n",
    "trainVStest = 891\n",
    "dataAll = fef.create_dataset_from_features (featureList, dirPath)\n",
    "dataTrain = fef.create_dataset_from_features (featureList, dirPath)[:trainVStest]\n",
    "dataTrainTarget =fef.create_dataset_from_features (['Survived'], dirPath)[:trainVStest]\n",
    "\n",
    "dataTrainScaled = StandardScaler().fit(dataAll).transform(dataTrain)"
   ]
  },
  {
   "cell_type": "code",
   "execution_count": 3,
   "metadata": {
    "ExecuteTime": {
     "end_time": "2018-12-07T10:11:49.989951Z",
     "start_time": "2018-12-07T10:11:49.801826Z"
    }
   },
   "outputs": [
    {
     "data": {
      "text/plain": [
       "{'clf': KNeighborsClassifier(algorithm='auto', leaf_size=30, metric='minkowski',\n",
       "            metric_params=None, n_jobs=None, n_neighbors=5, p=2,\n",
       "            weights='uniform')}"
      ]
     },
     "execution_count": 3,
     "metadata": {},
     "output_type": "execute_result"
    }
   ],
   "source": [
    "#check available params\n",
    "pipeline = GSC.get_pipeline_1step(KNeighborsClassifier())\n",
    "pipeline.named_steps "
   ]
  },
  {
   "cell_type": "code",
   "execution_count": 4,
   "metadata": {
    "ExecuteTime": {
     "end_time": "2018-12-07T10:11:50.171086Z",
     "start_time": "2018-12-07T10:11:49.991954Z"
    }
   },
   "outputs": [],
   "source": [
    "RS = 100\n",
    "n_splits = 5\n",
    "nSamples = len(dataTrain)\n",
    "cvShuffle = True\n",
    "paramGrid = {'clf': [KNeighborsClassifier()],\n",
    "             'clf__n_neighbors':[6,8,10,12,14,16,18,20],\n",
    "             'clf__leaf_size':list(range(1,50,5)),\n",
    "             }\n",
    "cv = StratifiedKFold(n_splits=n_splits, random_state=RS, shuffle=cvShuffle)"
   ]
  },
  {
   "cell_type": "markdown",
   "metadata": {},
   "source": [
    "# non-Scaled + StratifiedKFold"
   ]
  },
  {
   "cell_type": "code",
   "execution_count": 5,
   "metadata": {
    "ExecuteTime": {
     "end_time": "2018-12-07T10:12:16.725112Z",
     "start_time": "2018-12-07T10:11:50.173075Z"
    }
   },
   "outputs": [
    {
     "name": "stdout",
     "output_type": "stream",
     "text": [
      "Total iterations exist for provided gridSearch params: 80\n",
      "These steps available to be performed:\n",
      "v Iter 1: clf__leaf_size: 1  clf__n_neighbors: 6  \n",
      "v Iter 2: clf__leaf_size: 1  clf__n_neighbors: 8  \n",
      "v Iter 3: clf__leaf_size: 1  clf__n_neighbors: 10  \n",
      "v Iter 4: clf__leaf_size: 1  clf__n_neighbors: 12  \n",
      "v Iter 5: clf__leaf_size: 1  clf__n_neighbors: 14  \n",
      "v Iter 6: clf__leaf_size: 1  clf__n_neighbors: 16  \n",
      "v Iter 7: clf__leaf_size: 1  clf__n_neighbors: 18  \n",
      "v Iter 8: clf__leaf_size: 1  clf__n_neighbors: 20  \n",
      "v Iter 9: clf__leaf_size: 6  clf__n_neighbors: 6  \n",
      "v Iter 10: clf__leaf_size: 6  clf__n_neighbors: 8  \n",
      "v Iter 11: clf__leaf_size: 6  clf__n_neighbors: 10  \n",
      "v Iter 12: clf__leaf_size: 6  clf__n_neighbors: 12  \n",
      "v Iter 13: clf__leaf_size: 6  clf__n_neighbors: 14  \n",
      "v Iter 14: clf__leaf_size: 6  clf__n_neighbors: 16  \n",
      "v Iter 15: clf__leaf_size: 6  clf__n_neighbors: 18  \n",
      "v Iter 16: clf__leaf_size: 6  clf__n_neighbors: 20  \n",
      "v Iter 17: clf__leaf_size: 11  clf__n_neighbors: 6  \n",
      "v Iter 18: clf__leaf_size: 11  clf__n_neighbors: 8  \n",
      "v Iter 19: clf__leaf_size: 11  clf__n_neighbors: 10  \n",
      "v Iter 20: clf__leaf_size: 11  clf__n_neighbors: 12  \n",
      "v Iter 21: clf__leaf_size: 11  clf__n_neighbors: 14  \n",
      "v Iter 22: clf__leaf_size: 11  clf__n_neighbors: 16  \n",
      "v Iter 23: clf__leaf_size: 11  clf__n_neighbors: 18  \n",
      "v Iter 24: clf__leaf_size: 11  clf__n_neighbors: 20  \n",
      "v Iter 25: clf__leaf_size: 16  clf__n_neighbors: 6  \n",
      "v Iter 26: clf__leaf_size: 16  clf__n_neighbors: 8  \n",
      "v Iter 27: clf__leaf_size: 16  clf__n_neighbors: 10  \n",
      "v Iter 28: clf__leaf_size: 16  clf__n_neighbors: 12  \n",
      "v Iter 29: clf__leaf_size: 16  clf__n_neighbors: 14  \n",
      "v Iter 30: clf__leaf_size: 16  clf__n_neighbors: 16  \n",
      "v Iter 31: clf__leaf_size: 16  clf__n_neighbors: 18  \n",
      "v Iter 32: clf__leaf_size: 16  clf__n_neighbors: 20  \n",
      "v Iter 33: clf__leaf_size: 21  clf__n_neighbors: 6  \n",
      "v Iter 34: clf__leaf_size: 21  clf__n_neighbors: 8  \n",
      "v Iter 35: clf__leaf_size: 21  clf__n_neighbors: 10  \n",
      "v Iter 36: clf__leaf_size: 21  clf__n_neighbors: 12  \n",
      "v Iter 37: clf__leaf_size: 21  clf__n_neighbors: 14  \n",
      "v Iter 38: clf__leaf_size: 21  clf__n_neighbors: 16  \n",
      "v Iter 39: clf__leaf_size: 21  clf__n_neighbors: 18  \n",
      "v Iter 40: clf__leaf_size: 21  clf__n_neighbors: 20  \n",
      "v Iter 41: clf__leaf_size: 26  clf__n_neighbors: 6  \n",
      "v Iter 42: clf__leaf_size: 26  clf__n_neighbors: 8  \n",
      "v Iter 43: clf__leaf_size: 26  clf__n_neighbors: 10  \n",
      "v Iter 44: clf__leaf_size: 26  clf__n_neighbors: 12  \n",
      "v Iter 45: clf__leaf_size: 26  clf__n_neighbors: 14  \n",
      "v Iter 46: clf__leaf_size: 26  clf__n_neighbors: 16  \n",
      "v Iter 47: clf__leaf_size: 26  clf__n_neighbors: 18  \n",
      "v Iter 48: clf__leaf_size: 26  clf__n_neighbors: 20  \n",
      "v Iter 49: clf__leaf_size: 31  clf__n_neighbors: 6  \n",
      "v Iter 50: clf__leaf_size: 31  clf__n_neighbors: 8  \n",
      "v Iter 51: clf__leaf_size: 31  clf__n_neighbors: 10  \n",
      "v Iter 52: clf__leaf_size: 31  clf__n_neighbors: 12  \n",
      "v Iter 53: clf__leaf_size: 31  clf__n_neighbors: 14  \n",
      "v Iter 54: clf__leaf_size: 31  clf__n_neighbors: 16  \n",
      "v Iter 55: clf__leaf_size: 31  clf__n_neighbors: 18  \n",
      "v Iter 56: clf__leaf_size: 31  clf__n_neighbors: 20  \n",
      "v Iter 57: clf__leaf_size: 36  clf__n_neighbors: 6  \n",
      "v Iter 58: clf__leaf_size: 36  clf__n_neighbors: 8  \n",
      "v Iter 59: clf__leaf_size: 36  clf__n_neighbors: 10  \n",
      "v Iter 60: clf__leaf_size: 36  clf__n_neighbors: 12  \n",
      "v Iter 61: clf__leaf_size: 36  clf__n_neighbors: 14  \n",
      "v Iter 62: clf__leaf_size: 36  clf__n_neighbors: 16  \n",
      "v Iter 63: clf__leaf_size: 36  clf__n_neighbors: 18  \n",
      "v Iter 64: clf__leaf_size: 36  clf__n_neighbors: 20  \n",
      "v Iter 65: clf__leaf_size: 41  clf__n_neighbors: 6  \n",
      "v Iter 66: clf__leaf_size: 41  clf__n_neighbors: 8  \n",
      "v Iter 67: clf__leaf_size: 41  clf__n_neighbors: 10  \n",
      "v Iter 68: clf__leaf_size: 41  clf__n_neighbors: 12  \n",
      "v Iter 69: clf__leaf_size: 41  clf__n_neighbors: 14  \n",
      "v Iter 70: clf__leaf_size: 41  clf__n_neighbors: 16  \n",
      "v Iter 71: clf__leaf_size: 41  clf__n_neighbors: 18  \n",
      "v Iter 72: clf__leaf_size: 41  clf__n_neighbors: 20  \n",
      "v Iter 73: clf__leaf_size: 46  clf__n_neighbors: 6  \n",
      "v Iter 74: clf__leaf_size: 46  clf__n_neighbors: 8  \n",
      "v Iter 75: clf__leaf_size: 46  clf__n_neighbors: 10  \n",
      "v Iter 76: clf__leaf_size: 46  clf__n_neighbors: 12  \n",
      "v Iter 77: clf__leaf_size: 46  clf__n_neighbors: 14  \n",
      "v Iter 78: clf__leaf_size: 46  clf__n_neighbors: 16  \n",
      "v Iter 79: clf__leaf_size: 46  clf__n_neighbors: 18  \n",
      "v Iter 80: clf__leaf_size: 46  clf__n_neighbors: 20  \n",
      "\n",
      "\n",
      "--==Calculations...==--\n",
      "New best result = 0.83792 (std = 0.03318) during 15.0 [secs] (iter = 1) for search with params \n",
      "dict_items([('clf', KNeighborsClassifier(algorithm='auto', leaf_size=30, metric='minkowski',\n",
      "           metric_params=None, n_jobs=None, n_neighbors=5, p=2,\n",
      "           weights='uniform')), ('clf__leaf_size', 1), ('clf__n_neighbors', 6)])\n",
      "\n",
      "New best result = 0.8443 (std = 0.03642) during 7.0 [secs] (iter = 2) for search with params \n",
      "dict_items([('clf', KNeighborsClassifier(algorithm='auto', leaf_size=30, metric='minkowski',\n",
      "           metric_params=None, n_jobs=None, n_neighbors=5, p=2,\n",
      "           weights='uniform')), ('clf__leaf_size', 1), ('clf__n_neighbors', 8)])\n",
      "\n",
      "Iterations to perform: 76\n",
      "Average time for iteration [mins]: 0.09\n",
      "Job will be done in (approximately) [mins] : 7.0\n",
      "\n",
      "New best result = 0.84812 (std = 0.04609) during 0.0 [secs] (iter = 7) for search with params \n",
      "dict_items([('clf', KNeighborsClassifier(algorithm='auto', leaf_size=30, metric='minkowski',\n",
      "           metric_params=None, n_jobs=None, n_neighbors=5, p=2,\n",
      "           weights='uniform')), ('clf__leaf_size', 1), ('clf__n_neighbors', 18)])\n",
      "\n",
      "Iterations to perform: 71\n",
      "Average time for iteration [mins]: 0.04\n",
      "Job will be done in (approximately) [mins] : 3.0\n",
      "\n",
      "Iterations to perform: 66\n",
      "Average time for iteration [mins]: 0.03\n",
      "Job will be done in (approximately) [mins] : 1.8\n",
      "\n",
      "New best result = 0.85034 (std = 0.04488) during 0.0 [secs] (iter = 16) for search with params \n",
      "dict_items([('clf', KNeighborsClassifier(algorithm='auto', leaf_size=30, metric='minkowski',\n",
      "           metric_params=None, n_jobs=None, n_neighbors=5, p=2,\n",
      "           weights='uniform')), ('clf__leaf_size', 6), ('clf__n_neighbors', 20)])\n",
      "\n",
      "Iterations to perform: 61\n",
      "Average time for iteration [mins]: 0.02\n",
      "Job will be done in (approximately) [mins] : 1.2\n",
      "\n",
      "Iterations to perform: 56\n",
      "Average time for iteration [mins]: 0.02\n",
      "Job will be done in (approximately) [mins] : 0.9\n",
      "\n",
      "Iterations to perform: 51\n",
      "Average time for iteration [mins]: 0.01\n",
      "Job will be done in (approximately) [mins] : 0.7\n",
      "\n",
      "Iterations to perform: 46\n",
      "Average time for iteration [mins]: 0.01\n",
      "Job will be done in (approximately) [mins] : 0.5\n",
      "\n",
      "Iterations to perform: 41\n",
      "Average time for iteration [mins]: 0.01\n",
      "Job will be done in (approximately) [mins] : 0.4\n",
      "\n",
      "New best result = 0.85041 (std = 0.02604) during 0.0 [secs] (iter = 41) for search with params \n",
      "dict_items([('clf', KNeighborsClassifier(algorithm='auto', leaf_size=30, metric='minkowski',\n",
      "           metric_params=None, n_jobs=None, n_neighbors=5, p=2,\n",
      "           weights='uniform')), ('clf__leaf_size', 26), ('clf__n_neighbors', 6)])\n",
      "\n",
      "Iterations to perform: 36\n",
      "Average time for iteration [mins]: 0.01\n",
      "Job will be done in (approximately) [mins] : 0.3\n",
      "\n",
      "New best result = 0.85128 (std = 0.0447) during 0.0 [secs] (iter = 45) for search with params \n",
      "dict_items([('clf', KNeighborsClassifier(algorithm='auto', leaf_size=30, metric='minkowski',\n",
      "           metric_params=None, n_jobs=None, n_neighbors=5, p=2,\n",
      "           weights='uniform')), ('clf__leaf_size', 26), ('clf__n_neighbors', 14)])\n",
      "\n",
      "Iterations to perform: 31\n",
      "Average time for iteration [mins]: 0.01\n",
      "Job will be done in (approximately) [mins] : 0.3\n",
      "\n",
      "Iterations to perform: 26\n",
      "Average time for iteration [mins]: 0.01\n",
      "Job will be done in (approximately) [mins] : 0.2\n",
      "\n",
      "Iterations to perform: 21\n",
      "Average time for iteration [mins]: 0.01\n",
      "Job will be done in (approximately) [mins] : 0.1\n",
      "\n",
      "Iterations to perform: 16\n",
      "Average time for iteration [mins]: 0.01\n",
      "Job will be done in (approximately) [mins] : 0.1\n",
      "\n",
      "Iterations to perform: 11\n",
      "Average time for iteration [mins]: 0.01\n",
      "Job will be done in (approximately) [mins] : 0.1\n",
      "\n",
      "Iterations to perform: 6\n",
      "Average time for iteration [mins]: 0.01\n",
      "Job will be done in (approximately) [mins] : 0.0\n",
      "\n",
      "Iterations to perform: 1\n",
      "Average time for iteration [mins]: 0.01\n",
      "Job will be done in (approximately) [mins] : 0.0\n",
      "\n",
      "Congrats! All DONE. Total time is [mins]: 0.44\n",
      "BestIter was 45, bestScore = 0.8512802673014667, bestScoreParams = {'clf': KNeighborsClassifier(algorithm='auto', leaf_size=26, metric='minkowski',\n",
      "           metric_params=None, n_jobs=None, n_neighbors=14, p=2,\n",
      "           weights='uniform')}\n",
      "bestScore = 0.8512802673014667\n",
      "BestScoreParams = {'clf': KNeighborsClassifier(algorithm='auto', leaf_size=26, metric='minkowski',\n",
      "           metric_params=None, n_jobs=None, n_neighbors=14, p=2,\n",
      "           weights='uniform')}\n"
     ]
    }
   ],
   "source": [
    "bestScore1, bestScoreParams1, bestIter1 = GSC.GridSearchCVcustom(pipeline, paramGrid, \n",
    "                                                              dataTrain, dataTrainTarget,\n",
    "                                                              cv=cv, n_jobs = -1, scoring = \"roc_auc\", pre_dispatch=2,\n",
    "                                                              showSteps=True, itersToPerform ='All')\n",
    "print ('bestScore = {}\\nBestScoreParams = {}'.format(bestScore1, bestScoreParams1))"
   ]
  },
  {
   "cell_type": "markdown",
   "metadata": {},
   "source": [
    "# Scaled + StratifiedKFold"
   ]
  },
  {
   "cell_type": "code",
   "execution_count": 17,
   "metadata": {
    "ExecuteTime": {
     "end_time": "2018-12-07T10:21:18.854873Z",
     "start_time": "2018-12-07T10:20:52.919706Z"
    }
   },
   "outputs": [
    {
     "name": "stdout",
     "output_type": "stream",
     "text": [
      "Total iterations exist for provided gridSearch params: 80\n",
      "These steps available to be performed:\n",
      "v Iter 1: clf__leaf_size: 1  clf__n_neighbors: 6  \n",
      "v Iter 2: clf__leaf_size: 1  clf__n_neighbors: 8  \n",
      "v Iter 3: clf__leaf_size: 1  clf__n_neighbors: 10  \n",
      "v Iter 4: clf__leaf_size: 1  clf__n_neighbors: 12  \n",
      "v Iter 5: clf__leaf_size: 1  clf__n_neighbors: 14  \n",
      "v Iter 6: clf__leaf_size: 1  clf__n_neighbors: 16  \n",
      "v Iter 7: clf__leaf_size: 1  clf__n_neighbors: 18  \n",
      "v Iter 8: clf__leaf_size: 1  clf__n_neighbors: 20  \n",
      "v Iter 9: clf__leaf_size: 6  clf__n_neighbors: 6  \n",
      "v Iter 10: clf__leaf_size: 6  clf__n_neighbors: 8  \n",
      "v Iter 11: clf__leaf_size: 6  clf__n_neighbors: 10  \n",
      "v Iter 12: clf__leaf_size: 6  clf__n_neighbors: 12  \n",
      "v Iter 13: clf__leaf_size: 6  clf__n_neighbors: 14  \n",
      "v Iter 14: clf__leaf_size: 6  clf__n_neighbors: 16  \n",
      "v Iter 15: clf__leaf_size: 6  clf__n_neighbors: 18  \n",
      "v Iter 16: clf__leaf_size: 6  clf__n_neighbors: 20  \n",
      "v Iter 17: clf__leaf_size: 11  clf__n_neighbors: 6  \n",
      "v Iter 18: clf__leaf_size: 11  clf__n_neighbors: 8  \n",
      "v Iter 19: clf__leaf_size: 11  clf__n_neighbors: 10  \n",
      "v Iter 20: clf__leaf_size: 11  clf__n_neighbors: 12  \n",
      "v Iter 21: clf__leaf_size: 11  clf__n_neighbors: 14  \n",
      "v Iter 22: clf__leaf_size: 11  clf__n_neighbors: 16  \n",
      "v Iter 23: clf__leaf_size: 11  clf__n_neighbors: 18  \n",
      "v Iter 24: clf__leaf_size: 11  clf__n_neighbors: 20  \n",
      "v Iter 25: clf__leaf_size: 16  clf__n_neighbors: 6  \n",
      "v Iter 26: clf__leaf_size: 16  clf__n_neighbors: 8  \n",
      "v Iter 27: clf__leaf_size: 16  clf__n_neighbors: 10  \n",
      "v Iter 28: clf__leaf_size: 16  clf__n_neighbors: 12  \n",
      "v Iter 29: clf__leaf_size: 16  clf__n_neighbors: 14  \n",
      "v Iter 30: clf__leaf_size: 16  clf__n_neighbors: 16  \n",
      "v Iter 31: clf__leaf_size: 16  clf__n_neighbors: 18  \n",
      "v Iter 32: clf__leaf_size: 16  clf__n_neighbors: 20  \n",
      "v Iter 33: clf__leaf_size: 21  clf__n_neighbors: 6  \n",
      "v Iter 34: clf__leaf_size: 21  clf__n_neighbors: 8  \n",
      "v Iter 35: clf__leaf_size: 21  clf__n_neighbors: 10  \n",
      "v Iter 36: clf__leaf_size: 21  clf__n_neighbors: 12  \n",
      "v Iter 37: clf__leaf_size: 21  clf__n_neighbors: 14  \n",
      "v Iter 38: clf__leaf_size: 21  clf__n_neighbors: 16  \n",
      "v Iter 39: clf__leaf_size: 21  clf__n_neighbors: 18  \n",
      "v Iter 40: clf__leaf_size: 21  clf__n_neighbors: 20  \n",
      "v Iter 41: clf__leaf_size: 26  clf__n_neighbors: 6  \n",
      "v Iter 42: clf__leaf_size: 26  clf__n_neighbors: 8  \n",
      "v Iter 43: clf__leaf_size: 26  clf__n_neighbors: 10  \n",
      "v Iter 44: clf__leaf_size: 26  clf__n_neighbors: 12  \n",
      "v Iter 45: clf__leaf_size: 26  clf__n_neighbors: 14  \n",
      "v Iter 46: clf__leaf_size: 26  clf__n_neighbors: 16  \n",
      "v Iter 47: clf__leaf_size: 26  clf__n_neighbors: 18  \n",
      "v Iter 48: clf__leaf_size: 26  clf__n_neighbors: 20  \n",
      "v Iter 49: clf__leaf_size: 31  clf__n_neighbors: 6  \n",
      "v Iter 50: clf__leaf_size: 31  clf__n_neighbors: 8  \n",
      "v Iter 51: clf__leaf_size: 31  clf__n_neighbors: 10  \n",
      "v Iter 52: clf__leaf_size: 31  clf__n_neighbors: 12  \n",
      "v Iter 53: clf__leaf_size: 31  clf__n_neighbors: 14  \n",
      "v Iter 54: clf__leaf_size: 31  clf__n_neighbors: 16  \n",
      "v Iter 55: clf__leaf_size: 31  clf__n_neighbors: 18  \n",
      "v Iter 56: clf__leaf_size: 31  clf__n_neighbors: 20  \n",
      "v Iter 57: clf__leaf_size: 36  clf__n_neighbors: 6  \n",
      "v Iter 58: clf__leaf_size: 36  clf__n_neighbors: 8  \n",
      "v Iter 59: clf__leaf_size: 36  clf__n_neighbors: 10  \n",
      "v Iter 60: clf__leaf_size: 36  clf__n_neighbors: 12  \n",
      "v Iter 61: clf__leaf_size: 36  clf__n_neighbors: 14  \n",
      "v Iter 62: clf__leaf_size: 36  clf__n_neighbors: 16  \n",
      "v Iter 63: clf__leaf_size: 36  clf__n_neighbors: 18  \n",
      "v Iter 64: clf__leaf_size: 36  clf__n_neighbors: 20  \n",
      "v Iter 65: clf__leaf_size: 41  clf__n_neighbors: 6  \n",
      "v Iter 66: clf__leaf_size: 41  clf__n_neighbors: 8  \n",
      "v Iter 67: clf__leaf_size: 41  clf__n_neighbors: 10  \n",
      "v Iter 68: clf__leaf_size: 41  clf__n_neighbors: 12  \n",
      "v Iter 69: clf__leaf_size: 41  clf__n_neighbors: 14  \n",
      "v Iter 70: clf__leaf_size: 41  clf__n_neighbors: 16  \n",
      "v Iter 71: clf__leaf_size: 41  clf__n_neighbors: 18  \n",
      "v Iter 72: clf__leaf_size: 41  clf__n_neighbors: 20  \n",
      "v Iter 73: clf__leaf_size: 46  clf__n_neighbors: 6  \n",
      "v Iter 74: clf__leaf_size: 46  clf__n_neighbors: 8  \n",
      "v Iter 75: clf__leaf_size: 46  clf__n_neighbors: 10  \n",
      "v Iter 76: clf__leaf_size: 46  clf__n_neighbors: 12  \n",
      "v Iter 77: clf__leaf_size: 46  clf__n_neighbors: 14  \n",
      "v Iter 78: clf__leaf_size: 46  clf__n_neighbors: 16  \n",
      "v Iter 79: clf__leaf_size: 46  clf__n_neighbors: 18  \n",
      "v Iter 80: clf__leaf_size: 46  clf__n_neighbors: 20  \n",
      "\n",
      "\n",
      "--==Calculations...==--\n",
      "New best result = 0.86391 (std = 0.02058) during 15.0 [secs] (iter = 1) for search with params \n",
      "dict_items([('clf', KNeighborsClassifier(algorithm='auto', leaf_size=30, metric='minkowski',\n",
      "           metric_params=None, n_jobs=None, n_neighbors=5, p=2,\n",
      "           weights='uniform')), ('clf__leaf_size', 1), ('clf__n_neighbors', 6)])\n",
      "\n",
      "New best result = 0.87673 (std = 0.01742) during 7.0 [secs] (iter = 2) for search with params \n",
      "dict_items([('clf', KNeighborsClassifier(algorithm='auto', leaf_size=30, metric='minkowski',\n",
      "           metric_params=None, n_jobs=None, n_neighbors=5, p=2,\n",
      "           weights='uniform')), ('clf__leaf_size', 1), ('clf__n_neighbors', 8)])\n",
      "\n",
      "New best result = 0.87823 (std = 0.01506) during 0.0 [secs] (iter = 3) for search with params \n",
      "dict_items([('clf', KNeighborsClassifier(algorithm='auto', leaf_size=30, metric='minkowski',\n",
      "           metric_params=None, n_jobs=None, n_neighbors=5, p=2,\n",
      "           weights='uniform')), ('clf__leaf_size', 1), ('clf__n_neighbors', 10)])\n",
      "\n",
      "Iterations to perform: 76\n",
      "Average time for iteration [mins]: 0.09\n",
      "Job will be done in (approximately) [mins] : 7.0\n",
      "\n",
      "New best result = 0.88221 (std = 0.0187) during 0.0 [secs] (iter = 6) for search with params \n",
      "dict_items([('clf', KNeighborsClassifier(algorithm='auto', leaf_size=30, metric='minkowski',\n",
      "           metric_params=None, n_jobs=None, n_neighbors=5, p=2,\n",
      "           weights='uniform')), ('clf__leaf_size', 1), ('clf__n_neighbors', 16)])\n",
      "\n",
      "Iterations to perform: 71\n",
      "Average time for iteration [mins]: 0.04\n",
      "Job will be done in (approximately) [mins] : 3.0\n",
      "\n",
      "Iterations to perform: 66\n",
      "Average time for iteration [mins]: 0.03\n",
      "Job will be done in (approximately) [mins] : 1.8\n",
      "\n",
      "Iterations to perform: 61\n",
      "Average time for iteration [mins]: 0.02\n",
      "Job will be done in (approximately) [mins] : 1.2\n",
      "\n",
      "Iterations to perform: 56\n",
      "Average time for iteration [mins]: 0.02\n",
      "Job will be done in (approximately) [mins] : 0.9\n",
      "\n",
      "Iterations to perform: 51\n",
      "Average time for iteration [mins]: 0.01\n",
      "Job will be done in (approximately) [mins] : 0.7\n",
      "\n",
      "Iterations to perform: 46\n",
      "Average time for iteration [mins]: 0.01\n",
      "Job will be done in (approximately) [mins] : 0.5\n",
      "\n",
      "Iterations to perform: 41\n",
      "Average time for iteration [mins]: 0.01\n",
      "Job will be done in (approximately) [mins] : 0.4\n",
      "\n",
      "Iterations to perform: 36\n",
      "Average time for iteration [mins]: 0.01\n",
      "Job will be done in (approximately) [mins] : 0.3\n",
      "\n",
      "Iterations to perform: 31\n",
      "Average time for iteration [mins]: 0.01\n",
      "Job will be done in (approximately) [mins] : 0.2\n",
      "\n",
      "Iterations to perform: 26\n",
      "Average time for iteration [mins]: 0.01\n",
      "Job will be done in (approximately) [mins] : 0.2\n",
      "\n",
      "Iterations to perform: 21\n",
      "Average time for iteration [mins]: 0.01\n",
      "Job will be done in (approximately) [mins] : 0.1\n",
      "\n",
      "Iterations to perform: 16\n",
      "Average time for iteration [mins]: 0.01\n",
      "Job will be done in (approximately) [mins] : 0.1\n",
      "\n",
      "Iterations to perform: 11\n",
      "Average time for iteration [mins]: 0.01\n",
      "Job will be done in (approximately) [mins] : 0.1\n",
      "\n",
      "Iterations to perform: 6\n",
      "Average time for iteration [mins]: 0.01\n",
      "Job will be done in (approximately) [mins] : 0.0\n",
      "\n",
      "Iterations to perform: 1\n",
      "Average time for iteration [mins]: 0.01\n",
      "Job will be done in (approximately) [mins] : 0.0\n",
      "\n",
      "Congrats! All DONE. Total time is [mins]: 0.43\n",
      "BestIter was 6, bestScore = 0.8822120931267673, bestScoreParams = {'clf': KNeighborsClassifier(algorithm='auto', leaf_size=1, metric='minkowski',\n",
      "           metric_params=None, n_jobs=None, n_neighbors=16, p=2,\n",
      "           weights='uniform')}\n",
      "bestScore = 0.8822120931267673\n",
      "BestScoreParams = {'clf': KNeighborsClassifier(algorithm='auto', leaf_size=1, metric='minkowski',\n",
      "           metric_params=None, n_jobs=None, n_neighbors=16, p=2,\n",
      "           weights='uniform')}\n"
     ]
    }
   ],
   "source": [
    "#cv = StratifiedKFold(n_splits=n_splits, random_state=RS, shuffle=cvShuffle)\n",
    "#cv = StratifiedKFold(n_splits=n_splits, shuffle=cvShuffle)\n",
    "\n",
    "bestScore2, bestScoreParams2, bestIter2 = GSC.GridSearchCVcustom(pipeline, paramGrid, \n",
    "                                                              dataTrainScaled, dataTrainTarget,\n",
    "                                                              cv=cv, n_jobs = -1, scoring = \"roc_auc\", pre_dispatch=2,\n",
    "                                                              showSteps=True, itersToPerform ='All')\n",
    "print ('bestScore = {}\\nBestScoreParams = {}'.format(bestScore2, bestScoreParams2))"
   ]
  },
  {
   "cell_type": "markdown",
   "metadata": {
    "ExecuteTime": {
     "end_time": "2018-12-01T21:58:56.569763Z",
     "start_time": "2018-12-01T21:58:56.387643Z"
    }
   },
   "source": [
    "## Pure GS"
   ]
  },
  {
   "cell_type": "code",
   "execution_count": 18,
   "metadata": {
    "ExecuteTime": {
     "end_time": "2018-12-07T10:21:20.979907Z",
     "start_time": "2018-12-07T10:21:18.859872Z"
    },
    "scrolled": true
   },
   "outputs": [
    {
     "name": "stdout",
     "output_type": "stream",
     "text": [
      "Fitting 5 folds for each of 80 candidates, totalling 400 fits\n"
     ]
    },
    {
     "name": "stderr",
     "output_type": "stream",
     "text": [
      "[Parallel(n_jobs=-1)]: Using backend LokyBackend with 8 concurrent workers.\n",
      "[Parallel(n_jobs=-1)]: Done  70 tasks      | elapsed:    0.5s\n"
     ]
    },
    {
     "name": "stdout",
     "output_type": "stream",
     "text": [
      "0.8822495948826655\n",
      "KNeighborsClassifier(algorithm='auto', leaf_size=1, metric='minkowski',\n",
      "           metric_params=None, n_jobs=None, n_neighbors=16, p=2,\n",
      "           weights='uniform')\n"
     ]
    },
    {
     "name": "stderr",
     "output_type": "stream",
     "text": [
      "[Parallel(n_jobs=-1)]: Done 400 out of 400 | elapsed:    1.8s finished\n"
     ]
    }
   ],
   "source": [
    "\n",
    "clf = KNeighborsClassifier()\n",
    "params = {'n_neighbors':[6,8,10,12,14,16,18,20],\n",
    "         'leaf_size':list(range(1,50,5))}\n",
    "\n",
    "# Using ROC_AUC as metric has a better result than using accuracy. \n",
    "gs = GridSearchCV(clf, param_grid= params, cv = cv, n_jobs = -1 ,scoring = \"roc_auc\",verbose=2)\n",
    "gs.fit(dataTrainScaled, dataTrainTarget)\n",
    "print(gs.best_score_)\n",
    "print(gs.best_estimator_)"
   ]
  },
  {
   "cell_type": "code",
   "execution_count": 19,
   "metadata": {
    "ExecuteTime": {
     "end_time": "2018-12-07T10:21:21.174037Z",
     "start_time": "2018-12-07T10:21:20.981909Z"
    }
   },
   "outputs": [
    {
     "data": {
      "text/plain": [
       "KNeighborsClassifier(algorithm='auto', leaf_size=1, metric='minkowski',\n",
       "           metric_params=None, n_jobs=None, n_neighbors=16, p=2,\n",
       "           weights='uniform')"
      ]
     },
     "execution_count": 19,
     "metadata": {},
     "output_type": "execute_result"
    }
   ],
   "source": [
    "gs.best_estimator_"
   ]
  },
  {
   "cell_type": "markdown",
   "metadata": {
    "ExecuteTime": {
     "end_time": "2018-11-30T22:01:06.713399Z",
     "start_time": "2018-11-30T22:01:06.539270Z"
    }
   },
   "source": [
    "## save to disk"
   ]
  },
  {
   "cell_type": "code",
   "execution_count": 20,
   "metadata": {
    "ExecuteTime": {
     "end_time": "2018-12-07T10:21:21.412196Z",
     "start_time": "2018-12-07T10:21:21.176039Z"
    }
   },
   "outputs": [
    {
     "data": {
      "text/plain": [
       "KNeighborsClassifier(algorithm='auto', leaf_size=1, metric='minkowski',\n",
       "           metric_params=None, n_jobs=None, n_neighbors=16, p=2,\n",
       "           weights='uniform')"
      ]
     },
     "execution_count": 20,
     "metadata": {},
     "output_type": "execute_result"
    }
   ],
   "source": [
    "#model = bestScoreParams2['clf']\n",
    "model = gs.best_estimator_\n",
    "model.fit(dataTrainScaled, dataTrainTarget)"
   ]
  },
  {
   "cell_type": "code",
   "execution_count": 21,
   "metadata": {
    "ExecuteTime": {
     "end_time": "2018-12-07T10:21:51.680962Z",
     "start_time": "2018-12-07T10:21:51.437801Z"
    }
   },
   "outputs": [],
   "source": [
    "#@comment_this_line_if_ready\n",
    "from datetime import datetime\n",
    "_ = joblib.dump([model, featureList], \n",
    "            open('modelsTrained/modelKNN--{}.pkl'.format(datetime.now().strftime(\"%Y-%m-%d--%H-%M\")), 'wb'), 9)"
   ]
  }
 ],
 "metadata": {
  "kernelspec": {
   "display_name": "Python 3",
   "language": "python",
   "name": "python3"
  },
  "language_info": {
   "codemirror_mode": {
    "name": "ipython",
    "version": 3
   },
   "file_extension": ".py",
   "mimetype": "text/x-python",
   "name": "python",
   "nbconvert_exporter": "python",
   "pygments_lexer": "ipython3",
   "version": "3.6.4"
  }
 },
 "nbformat": 4,
 "nbformat_minor": 2
}
