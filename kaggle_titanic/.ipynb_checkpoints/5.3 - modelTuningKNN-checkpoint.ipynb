{
 "cells": [
  {
   "cell_type": "code",
   "execution_count": 1,
   "metadata": {
    "ExecuteTime": {
     "end_time": "2018-12-06T12:36:25.330960Z",
     "start_time": "2018-12-06T12:36:20.861947Z"
    }
   },
   "outputs": [],
   "source": [
    "%load_ext autoreload\n",
    "%autoreload 2\n",
    "import pandas as pd\n",
    "from sklearn.externals import joblib\n",
    "\n",
    "from sklearn.model_selection import GridSearchCV\n",
    "from sklearn.neighbors import KNeighborsClassifier\n",
    "\n",
    "from sklearn.model_selection import StratifiedKFold\n",
    "\n",
    "import sys\n",
    "sys.path.insert(0, 'G:/work/GitHub/ml_baseline_things/functions/')\n",
    "import GridSearchCVcustom as GSC\n",
    "import featureEngineringFunctions as fef\n",
    "from sklearn.preprocessing import StandardScaler\n"
   ]
  },
  {
   "cell_type": "code",
   "execution_count": 4,
   "metadata": {
    "ExecuteTime": {
     "end_time": "2018-12-06T12:38:28.939158Z",
     "start_time": "2018-12-06T12:38:28.682201Z"
    }
   },
   "outputs": [],
   "source": [
    "featureList = [\n",
    "#'PassengerId',\n",
    "#'Survived',\n",
    "'AGE_cont',\n",
    "'AgeBin_LE',\n",
    "'Age-Class_cont',\n",
    "'Deck_LE',\n",
    "'Deck_OHE',\n",
    "'FamilySize_LE',\n",
    "'Fare_cont',\n",
    "'FareBin_LE',\n",
    "'HasBloodRelatives_LE',\n",
    "'HasWifeHasb_LE',\n",
    "'IsAlone_LE',\n",
    "'Parch_LE',\n",
    "'Pclass_LE',\n",
    "'Sex_LE',\n",
    "'Sex_OHE',\n",
    "'SibSp_LE',\n",
    "'Title_LE',\n",
    "'Title_OHE',\n",
    "'FamilySurvival_bin'\n",
    "]\n",
    "trainVStest = 891\n",
    "dataTrain = fef.create_dataset_from_features (featureList, '2.1-featuresPack/')[:trainVStest]\n",
    "dataTrainTarget =fef.create_dataset_from_features (['Survived'], '2.1-featuresPack/')[trainVStest:]\n",
    "\n",
    "dataTrainScaled = StandardScaler().fit_transform(dataTrain)"
   ]
  },
  {
   "cell_type": "code",
   "execution_count": null,
   "metadata": {
    "ExecuteTime": {
     "end_time": "2018-12-06T12:36:25.802927Z",
     "start_time": "2018-12-06T12:36:20.869Z"
    }
   },
   "outputs": [],
   "source": [
    "#check available params\n",
    "pipeline = GSC.get_pipeline_1step(KNeighborsClassifier())\n",
    "pipeline.named_steps "
   ]
  },
  {
   "cell_type": "code",
   "execution_count": null,
   "metadata": {
    "ExecuteTime": {
     "end_time": "2018-12-06T12:36:25.803928Z",
     "start_time": "2018-12-06T12:36:20.873Z"
    }
   },
   "outputs": [],
   "source": [
    "RS = 100\n",
    "n_splits = 5\n",
    "nSamples = len(dataTrain)\n",
    "cvShuffle = True\n",
    "paramGrid = {'clf': [KNeighborsClassifier()],\n",
    "              #'clf__random_state': [RS],\n",
    "              'clf__n_neighbors':[6,8,10,12,14,16,18,20],\n",
    "              'clf__leaf_size':list(range(1,50,5)),\n",
    "             }"
   ]
  },
  {
   "cell_type": "markdown",
   "metadata": {},
   "source": [
    "# non-Scaled + StratifiedKFold"
   ]
  },
  {
   "cell_type": "code",
   "execution_count": null,
   "metadata": {
    "ExecuteTime": {
     "end_time": "2018-12-06T12:36:25.804928Z",
     "start_time": "2018-12-06T12:36:20.878Z"
    }
   },
   "outputs": [],
   "source": [
    "cv = StratifiedKFold(n_splits=n_splits, random_state=RS, shuffle=cvShuffle)\n",
    "\n",
    "bestScore1, bestScoreParams1, bestIter1 = GSC.GridSearchCVcustom(pipeline, paramGrid, \n",
    "                                                              dataTrain[:nSamples], dataTrainTarget[:nSamples],\n",
    "                                                              cv=cv, n_jobs = -1, scoring = \"roc_auc\", pre_dispatch=2,\n",
    "                                                              showSteps=True, itersToPerform ='All')\n",
    "print ('bestScore = {}\\nBestScoreParams = {}'.format(bestScore1, bestScoreParams1))"
   ]
  },
  {
   "cell_type": "markdown",
   "metadata": {},
   "source": [
    "# Scaled + StratifiedKFold"
   ]
  },
  {
   "cell_type": "code",
   "execution_count": null,
   "metadata": {
    "ExecuteTime": {
     "end_time": "2018-12-06T12:36:25.806930Z",
     "start_time": "2018-12-06T12:36:20.885Z"
    }
   },
   "outputs": [],
   "source": [
    "cv = StratifiedKFold(n_splits=n_splits, random_state=RS, shuffle=cvShuffle)\n",
    "\n",
    "bestScore2, bestScoreParams2, bestIter2 = GSC.GridSearchCVcustom(pipeline, paramGrid, \n",
    "                                                              dataTrainScaled[:nSamples], dataTrainTarget[:nSamples],\n",
    "                                                              cv=cv, n_jobs = -1, scoring = \"roc_auc\", pre_dispatch=2,\n",
    "                                                              showSteps=True, itersToPerform ='All')\n",
    "print ('bestScore = {}\\nBestScoreParams = {}'.format(bestScore2, bestScoreParams2))"
   ]
  },
  {
   "cell_type": "markdown",
   "metadata": {
    "ExecuteTime": {
     "end_time": "2018-12-01T21:58:56.569763Z",
     "start_time": "2018-12-01T21:58:56.387643Z"
    }
   },
   "source": [
    "## Pure GS"
   ]
  },
  {
   "cell_type": "code",
   "execution_count": null,
   "metadata": {
    "ExecuteTime": {
     "end_time": "2018-12-06T12:36:25.807930Z",
     "start_time": "2018-12-06T12:36:20.889Z"
    }
   },
   "outputs": [],
   "source": [
    "\n",
    "clf = KNeighborsClassifier()\n",
    "params = {'n_neighbors':[6,8,10,12,14,16,18,20],\n",
    "         'leaf_size':list(range(1,50,5))}\n",
    "\n",
    "# Using ROC_AUC as metric has a better result than using accuracy. \n",
    "gs = GridSearchCV(clf, param_grid= params, cv = cv, n_jobs = -1 ,scoring = \"roc_auc\",verbose=2)\n",
    "gs.fit(dataTrainScaled, dataTrainTarget)\n",
    "print(gs.best_score_)\n",
    "print(gs.best_estimator_)"
   ]
  },
  {
   "cell_type": "markdown",
   "metadata": {
    "ExecuteTime": {
     "end_time": "2018-11-30T22:01:06.713399Z",
     "start_time": "2018-11-30T22:01:06.539270Z"
    }
   },
   "source": [
    "## save to disk"
   ]
  },
  {
   "cell_type": "code",
   "execution_count": null,
   "metadata": {
    "ExecuteTime": {
     "end_time": "2018-12-06T12:36:25.808931Z",
     "start_time": "2018-12-06T12:36:20.896Z"
    }
   },
   "outputs": [],
   "source": [
    "model = bestScoreParams2['clf']\n",
    "model.fit(dataTrainScaled[:nSamples], dataTrainTarget[:nSamples])"
   ]
  },
  {
   "cell_type": "code",
   "execution_count": null,
   "metadata": {
    "ExecuteTime": {
     "end_time": "2018-12-06T12:36:25.809931Z",
     "start_time": "2018-12-06T12:36:20.899Z"
    }
   },
   "outputs": [],
   "source": [
    "@comment_this_line_if_ready\n",
    "from datetime import datetime\n",
    "_ = joblib.dump([model, list(dataTrain.columns)], \n",
    "            open('modelsTrained/modelKNN--{}.pkl'.format(datetime.now().strftime(\"%Y-%m-%d--%H-%M\")), 'wb'), 9)"
   ]
  }
 ],
 "metadata": {
  "kernelspec": {
   "display_name": "Python 3",
   "language": "python",
   "name": "python3"
  },
  "language_info": {
   "codemirror_mode": {
    "name": "ipython",
    "version": 3
   },
   "file_extension": ".py",
   "mimetype": "text/x-python",
   "name": "python",
   "nbconvert_exporter": "python",
   "pygments_lexer": "ipython3",
   "version": "3.6.4"
  }
 },
 "nbformat": 4,
 "nbformat_minor": 2
}
