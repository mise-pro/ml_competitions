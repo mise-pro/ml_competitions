{
 "cells": [
  {
   "cell_type": "markdown",
   "metadata": {},
   "source": [
    "## Первичный взгляд на данные:\n"
   ]
  },
  {
   "cell_type": "markdown",
   "metadata": {},
   "source": [
    "* определить состав типов фич\n",
    "* Which features may contain errors or typos\n",
    "* Which features contain blank, null or empty values?\n",
    "* What is the distribution of feature values across the samples?\n",
    "* определиться, какие фичи можно дополнительно получить из сложных фич\n",
    "* рассмотреть вариант генерации на основе численных значений диапазонов, назвав их цифрой (например, возраст в диапазон возрастов)"
   ]
  },
  {
   "cell_type": "code",
   "execution_count": null,
   "metadata": {},
   "outputs": [],
   "source": [
    "df.info()\n",
    "train_df.describe()\n",
    "train_df.describe(include=['O'])"
   ]
  },
  {
   "cell_type": "markdown",
   "metadata": {},
   "source": [
    "* посмотреть на связь каждой переменной с целевой (может быть решить удалить её из модели)"
   ]
  },
  {
   "cell_type": "markdown",
   "metadata": {},
   "source": [
    "## Analyze by visualizing data\n",
    "* построрить наглядные графики. Круто, да?\n",
    "\n",
    "На выходе - иметь идеи по модификации признаков\n",
    "\n",
    "## Модифицировать данные (параллельно на 2-х выборках)\n",
    "* выполнить идеи по изменению признаков\n",
    "\n",
    "* удалить лишние\n",
    "* сгенерить новые (features extracting)\n",
    "* заполнить пропущенные\n",
    "* все категориальные в числовые\n",
    "* в итоге надо, чтобы получились только цифры на входе модели\n"
   ]
  },
  {
   "cell_type": "markdown",
   "metadata": {},
   "source": [
    "Использование обобщенной выборки (train + test)\n",
    "* медианы и средние для восстановления пропущенных значений можно оценивать по обоим выборкам;\n",
    "* при кодировании признаков можно пробовать, чтобы кодировались только те, которые есть в обоих выборках. Остальные - \"другие\"."
   ]
  },
  {
   "cell_type": "code",
   "execution_count": null,
   "metadata": {},
   "outputs": [],
   "source": []
  }
 ],
 "metadata": {
  "kernelspec": {
   "display_name": "Python 3",
   "language": "python",
   "name": "python3"
  },
  "language_info": {
   "codemirror_mode": {
    "name": "ipython",
    "version": 3
   },
   "file_extension": ".py",
   "mimetype": "text/x-python",
   "name": "python",
   "nbconvert_exporter": "python",
   "pygments_lexer": "ipython3",
   "version": "3.6.4"
  }
 },
 "nbformat": 4,
 "nbformat_minor": 2
}
