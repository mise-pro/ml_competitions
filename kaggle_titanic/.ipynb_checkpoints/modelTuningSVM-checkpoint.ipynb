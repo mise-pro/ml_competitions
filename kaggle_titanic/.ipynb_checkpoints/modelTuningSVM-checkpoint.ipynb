{
 "cells": [
  {
   "cell_type": "code",
   "execution_count": null,
   "metadata": {},
   "outputs": [],
   "source": [
    "from sklearn.svm import SVC\n",
    "SVCclf = SVC()\n",
    "SVCclf.fit(scaler.transform(dataTrain), dataTrainTarget)\n",
    "\n",
    "predictions = SVCclf.predict(scaler.transform(dataTest.drop(\"PassengerId\", axis=1)))\n",
    "#dataTest = pd.read_csv('test.csv')\n",
    "submission = pd.DataFrame({\n",
    "        \"PassengerId\": dataTest[\"PassengerId\"],\n",
    "        \"Survived\": predictions\n",
    "    })\n",
    "submission.to_csv('submission.csv', index=False)"
   ]
  }
 ],
 "metadata": {
  "kernelspec": {
   "display_name": "Python 3",
   "language": "python",
   "name": "python3"
  },
  "language_info": {
   "codemirror_mode": {
    "name": "ipython",
    "version": 3
   },
   "file_extension": ".py",
   "mimetype": "text/x-python",
   "name": "python",
   "nbconvert_exporter": "python",
   "pygments_lexer": "ipython3",
   "version": "3.6.4"
  }
 },
 "nbformat": 4,
 "nbformat_minor": 2
}
