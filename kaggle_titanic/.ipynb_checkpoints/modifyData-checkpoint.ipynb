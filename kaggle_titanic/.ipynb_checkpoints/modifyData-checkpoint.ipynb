{
 "cells": [
  {
   "cell_type": "markdown",
   "metadata": {},
   "source": [
    "## Modify Data accrording previous conclusions"
   ]
  },
  {
   "cell_type": "code",
   "execution_count": 1,
   "metadata": {
    "ExecuteTime": {
     "end_time": "2018-10-31T23:23:34.247479Z",
     "start_time": "2018-10-31T23:23:27.522680Z"
    }
   },
   "outputs": [],
   "source": [
    "%load_ext autoreload\n",
    "%autoreload 2\n",
    "\n",
    "import pandas as pd\n",
    "import numpy as np\n",
    "\n",
    "import seaborn as sns\n",
    "import matplotlib.pyplot as plt\n",
    "%matplotlib inline\n",
    "\n",
    "from sklearn.externals import joblib\n",
    "from sklearn.preprocessing import StandardScaler\n",
    "\n",
    "import sys\n",
    "sys.path.insert(0, 'G:/work/GitHub/ml_baseline_things/functions/')\n",
    "import supportFunctions as sf"
   ]
  },
  {
   "cell_type": "markdown",
   "metadata": {},
   "source": [
    "## Conclusions from previous notebook:\n",
    "\n",
    "* drop features:\n",
    " * passengerId\n",
    " * cabin (after extract the deck)\n",
    " * ticket\n",
    " * embarked\n",
    "* missing data to recover:\n",
    " * <s>age</s>\n",
    "* convert categorial to:\n",
    " * <s>sex - to int and to several columns</s>\n",
    "* new features from:\n",
    " * <s>cabin (extract decks)</s>\n",
    " * <s>name (extract title)</s>\n",
    " * <s>age bands</s>\n",
    " * <s>fare </s>normalize and (?)<s> make bands</s>\n",
    " * <s>sibsp & parch - may be generated isAlone hasChildren/Parents hasHasb/Wife/</s>\n",
    " \n",
    " Finally convert to smaller memory size"
   ]
  },
  {
   "cell_type": "code",
   "execution_count": 2,
   "metadata": {
    "ExecuteTime": {
     "end_time": "2018-10-31T23:23:34.772896Z",
     "start_time": "2018-10-31T23:23:34.249478Z"
    }
   },
   "outputs": [
    {
     "name": "stdout",
     "output_type": "stream",
     "text": [
      "Train (891, 12); Test (418, 11); Total (1309, 12).\n"
     ]
    }
   ],
   "source": [
    "dataTrain, dataTest, dataAll = sf.load_raw_data()"
   ]
  },
  {
   "cell_type": "markdown",
   "metadata": {},
   "source": [
    "### Missing data recovery, SEX"
   ]
  },
  {
   "cell_type": "code",
   "execution_count": 3,
   "metadata": {
    "ExecuteTime": {
     "end_time": "2018-10-31T23:23:34.969957Z",
     "start_time": "2018-10-31T23:23:34.774828Z"
    }
   },
   "outputs": [],
   "source": [
    "for dataset in [dataTrain, dataTest]:\n",
    "    dataset['Sex'] = dataset['Sex'].map({'female': 1, 'male': 0}).astype(int)\n",
    "    \n",
    "sexDummies = pd.get_dummies(dataTrain['Sex'], prefix='SexD', dummy_na=False)\n",
    "dataTrain = pd.concat([dataTrain, sexDummies], axis=1)\n",
    "\n",
    "sexDummies = pd.get_dummies(dataTest['Sex'], prefix='SexD', dummy_na=False)\n",
    "dataTest = pd.concat([dataTest, sexDummies], axis=1)"
   ]
  },
  {
   "cell_type": "markdown",
   "metadata": {
    "ExecuteTime": {
     "end_time": "2018-10-31T08:48:09.872281Z",
     "start_time": "2018-10-31T08:48:09.847262Z"
    },
    "heading_collapsed": true
   },
   "source": [
    "### Missing data recovery, AGE\n",
    "Strategy = median Age for Pclass=1 and Gender=0, Pclass=1 and Gender=1, and so on..."
   ]
  },
  {
   "cell_type": "code",
   "execution_count": 4,
   "metadata": {
    "ExecuteTime": {
     "end_time": "2018-10-31T23:23:35.158082Z",
     "start_time": "2018-10-31T23:23:34.971959Z"
    },
    "hidden": true
   },
   "outputs": [
    {
     "name": "stdout",
     "output_type": "stream",
     "text": [
      "Train:\n",
      " Age    177\n",
      "dtype: int64 \n",
      "\n",
      "Test:\n",
      " Age    86\n",
      "dtype: int64\n"
     ]
    },
    {
     "data": {
      "text/plain": [
       "0"
      ]
     },
     "execution_count": 4,
     "metadata": {},
     "output_type": "execute_result"
    }
   ],
   "source": [
    "sf.check_missing_data(dataTrain, dataTest, ['Age'])\n",
    "#dataTrain.loc[dataTrain['Age'].isnull() == True]"
   ]
  },
  {
   "cell_type": "code",
   "execution_count": 5,
   "metadata": {
    "ExecuteTime": {
     "end_time": "2018-10-31T23:23:35.449276Z",
     "start_time": "2018-10-31T23:23:35.160084Z"
    },
    "hidden": true
   },
   "outputs": [
    {
     "name": "stdout",
     "output_type": "stream",
     "text": [
      "Train:\n",
      " Age    0\n",
      "dtype: int64 \n",
      "\n",
      "Test:\n",
      " Age    0\n",
      "dtype: int64\n"
     ]
    },
    {
     "data": {
      "text/plain": [
       "0"
      ]
     },
     "execution_count": 5,
     "metadata": {},
     "output_type": "execute_result"
    }
   ],
   "source": [
    "guess_ages = np.zeros((2,3))\n",
    "\n",
    "for dataset in [dataTrain, dataTest]:\n",
    "    for i in range(0, 2):\n",
    "        for j in range(0, 3):\n",
    "            guess_df = dataset[(dataset['Sex'] == i) & (dataset['Pclass'] == j+1)]['Age'].dropna()\n",
    "            age_guess = guess_df.median()\n",
    "\n",
    "            # Convert random age float to nearest .5 age\n",
    "            guess_ages[i,j] = int(age_guess/0.5 + 0.5) * 0.5\n",
    "            \n",
    "    for i in range(0, 2):\n",
    "        for j in range(0, 3):\n",
    "            dataset.loc[(dataset.Age.isnull()) & (dataset.Sex == i) & (dataset.Pclass == j+1), 'Age'] = guess_ages[i,j]\n",
    "\n",
    "#dataTrain.head()\n",
    "sf.check_missing_data(dataTrain, dataTest, ['Age'])"
   ]
  },
  {
   "cell_type": "markdown",
   "metadata": {
    "heading_collapsed": true
   },
   "source": [
    "### Extract title from name"
   ]
  },
  {
   "cell_type": "code",
   "execution_count": 6,
   "metadata": {
    "ExecuteTime": {
     "end_time": "2018-10-31T23:23:35.630397Z",
     "start_time": "2018-10-31T23:23:35.451279Z"
    },
    "hidden": true
   },
   "outputs": [],
   "source": [
    "for dataset in [dataTrain, dataTest]:\n",
    "    dataset['Title'] = dataset.Name.str.extract(' ([A-Za-z]+)\\.', expand=False)"
   ]
  },
  {
   "cell_type": "code",
   "execution_count": 7,
   "metadata": {
    "ExecuteTime": {
     "end_time": "2018-10-31T23:23:35.811517Z",
     "start_time": "2018-10-31T23:23:35.633400Z"
    },
    "hidden": true
   },
   "outputs": [
    {
     "data": {
      "text/plain": [
       "Mr          517\n",
       "Miss        182\n",
       "Mrs         125\n",
       "Master       40\n",
       "Dr            7\n",
       "Rev           6\n",
       "Mlle          2\n",
       "Col           2\n",
       "Major         2\n",
       "Ms            1\n",
       "Sir           1\n",
       "Don           1\n",
       "Countess      1\n",
       "Lady          1\n",
       "Jonkheer      1\n",
       "Mme           1\n",
       "Capt          1\n",
       "Name: Title, dtype: int64"
      ]
     },
     "execution_count": 7,
     "metadata": {},
     "output_type": "execute_result"
    }
   ],
   "source": [
    "dataTrain.Title.value_counts()"
   ]
  },
  {
   "cell_type": "code",
   "execution_count": 8,
   "metadata": {
    "ExecuteTime": {
     "end_time": "2018-10-31T23:23:36.009650Z",
     "start_time": "2018-10-31T23:23:35.813521Z"
    },
    "hidden": true
   },
   "outputs": [
    {
     "data": {
      "text/html": [
       "<div>\n",
       "<style scoped>\n",
       "    .dataframe tbody tr th:only-of-type {\n",
       "        vertical-align: middle;\n",
       "    }\n",
       "\n",
       "    .dataframe tbody tr th {\n",
       "        vertical-align: top;\n",
       "    }\n",
       "\n",
       "    .dataframe thead th {\n",
       "        text-align: right;\n",
       "    }\n",
       "</style>\n",
       "<table border=\"1\" class=\"dataframe\">\n",
       "  <thead>\n",
       "    <tr style=\"text-align: right;\">\n",
       "      <th></th>\n",
       "      <th>Title</th>\n",
       "      <th>Survived</th>\n",
       "    </tr>\n",
       "  </thead>\n",
       "  <tbody>\n",
       "    <tr>\n",
       "      <th>0</th>\n",
       "      <td>Master</td>\n",
       "      <td>0.575000</td>\n",
       "    </tr>\n",
       "    <tr>\n",
       "      <th>1</th>\n",
       "      <td>Miss</td>\n",
       "      <td>0.704301</td>\n",
       "    </tr>\n",
       "    <tr>\n",
       "      <th>2</th>\n",
       "      <td>Mr</td>\n",
       "      <td>0.156673</td>\n",
       "    </tr>\n",
       "    <tr>\n",
       "      <th>3</th>\n",
       "      <td>Mrs</td>\n",
       "      <td>0.793651</td>\n",
       "    </tr>\n",
       "    <tr>\n",
       "      <th>4</th>\n",
       "      <td>Rare</td>\n",
       "      <td>0.318182</td>\n",
       "    </tr>\n",
       "  </tbody>\n",
       "</table>\n",
       "</div>"
      ],
      "text/plain": [
       "    Title  Survived\n",
       "0  Master  0.575000\n",
       "1    Miss  0.704301\n",
       "2      Mr  0.156673\n",
       "3     Mrs  0.793651\n",
       "4    Rare  0.318182"
      ]
     },
     "execution_count": 8,
     "metadata": {},
     "output_type": "execute_result"
    }
   ],
   "source": [
    "for dataset in [dataTrain, dataTest]:\n",
    "    dataset['Title'] = dataset['Title'].replace(['Countess','Capt', 'Col',\\\n",
    " \t'Don', 'Dr', 'Major', 'Rev', 'Sir', 'Jonkheer', 'Dona'], 'Rare')\n",
    "\n",
    "    dataset['Title'] = dataset['Title'].replace(['Mlle','Ms', 'Lady'], 'Miss')\n",
    "    dataset['Title'] = dataset['Title'].replace('Mme', 'Mrs')\n",
    "    \n",
    "dataTrain[['Title', 'Survived']].groupby(['Title'], as_index=False).mean()"
   ]
  },
  {
   "cell_type": "code",
   "execution_count": 9,
   "metadata": {
    "ExecuteTime": {
     "end_time": "2018-10-31T23:23:36.198776Z",
     "start_time": "2018-10-31T23:23:36.011652Z"
    },
    "hidden": true
   },
   "outputs": [
    {
     "name": "stdout",
     "output_type": "stream",
     "text": [
      "Train unique values:\n",
      " [1 3 2 4 5] \n",
      "\n",
      "Test unique values:\n",
      " [1 3 2 4 5]\n"
     ]
    },
    {
     "data": {
      "text/plain": [
       "0"
      ]
     },
     "execution_count": 9,
     "metadata": {},
     "output_type": "execute_result"
    }
   ],
   "source": [
    "title_mapping = {\"Mr\": 1, \"Miss\": 2, \"Mrs\": 3, \"Master\": 4, \"Rare\": 5}\n",
    "\n",
    "for dataset in [dataTrain, dataTest]:\n",
    "    dataset['Title'] = dataset['Title'].map(title_mapping)\n",
    "    #dataset['Title'] = dataset['Title'].fillna(0)\n",
    "\n",
    "sf.check_unique_data(dataTrain, dataTest, 'Title')\n",
    "#sf.check_missing_data(dataTrain, dataTest, ['Title'])"
   ]
  },
  {
   "cell_type": "code",
   "execution_count": 10,
   "metadata": {
    "ExecuteTime": {
     "end_time": "2018-10-31T23:23:36.382898Z",
     "start_time": "2018-10-31T23:23:36.200777Z"
    },
    "hidden": true
   },
   "outputs": [],
   "source": [
    "#make dummies\n",
    "titleDummies = pd.get_dummies(dataTrain[\"Title\"], prefix=\"TitleD\", dummy_na=False)\n",
    "dataTrain = pd.concat([dataTrain, titleDummies], axis=1)\n",
    "\n",
    "titleDummies = pd.get_dummies(dataTest[\"Title\"], prefix=\"TitleD\", dummy_na=False)\n",
    "dataTest = pd.concat([dataTest, titleDummies], axis=1)"
   ]
  },
  {
   "cell_type": "markdown",
   "metadata": {},
   "source": [
    "### Extract AgeBands from Age"
   ]
  },
  {
   "cell_type": "code",
   "execution_count": 11,
   "metadata": {
    "ExecuteTime": {
     "end_time": "2018-10-31T23:23:36.575029Z",
     "start_time": "2018-10-31T23:23:36.384901Z"
    }
   },
   "outputs": [
    {
     "data": {
      "text/html": [
       "<div>\n",
       "<style scoped>\n",
       "    .dataframe tbody tr th:only-of-type {\n",
       "        vertical-align: middle;\n",
       "    }\n",
       "\n",
       "    .dataframe tbody tr th {\n",
       "        vertical-align: top;\n",
       "    }\n",
       "\n",
       "    .dataframe thead th {\n",
       "        text-align: right;\n",
       "    }\n",
       "</style>\n",
       "<table border=\"1\" class=\"dataframe\">\n",
       "  <thead>\n",
       "    <tr style=\"text-align: right;\">\n",
       "      <th></th>\n",
       "      <th>AgeBand</th>\n",
       "      <th>Survived</th>\n",
       "    </tr>\n",
       "  </thead>\n",
       "  <tbody>\n",
       "    <tr>\n",
       "      <th>0</th>\n",
       "      <td>(0.34, 16.336]</td>\n",
       "      <td>0.550000</td>\n",
       "    </tr>\n",
       "    <tr>\n",
       "      <th>1</th>\n",
       "      <td>(16.336, 32.252]</td>\n",
       "      <td>0.336714</td>\n",
       "    </tr>\n",
       "    <tr>\n",
       "      <th>2</th>\n",
       "      <td>(32.252, 48.168]</td>\n",
       "      <td>0.412844</td>\n",
       "    </tr>\n",
       "    <tr>\n",
       "      <th>3</th>\n",
       "      <td>(48.168, 64.084]</td>\n",
       "      <td>0.434783</td>\n",
       "    </tr>\n",
       "    <tr>\n",
       "      <th>4</th>\n",
       "      <td>(64.084, 80.0]</td>\n",
       "      <td>0.090909</td>\n",
       "    </tr>\n",
       "  </tbody>\n",
       "</table>\n",
       "</div>"
      ],
      "text/plain": [
       "            AgeBand  Survived\n",
       "0    (0.34, 16.336]  0.550000\n",
       "1  (16.336, 32.252]  0.336714\n",
       "2  (32.252, 48.168]  0.412844\n",
       "3  (48.168, 64.084]  0.434783\n",
       "4    (64.084, 80.0]  0.090909"
      ]
     },
     "execution_count": 11,
     "metadata": {},
     "output_type": "execute_result"
    }
   ],
   "source": [
    "dataTrain['AgeBand'] = pd.cut(dataTrain['Age'], 5)\n",
    "dataTrain[['AgeBand', 'Survived']].groupby(['AgeBand'], as_index=False).mean().sort_values(by='AgeBand', ascending=True)"
   ]
  },
  {
   "cell_type": "code",
   "execution_count": 12,
   "metadata": {
    "ExecuteTime": {
     "end_time": "2018-10-31T23:23:37.183431Z",
     "start_time": "2018-10-31T23:23:36.577027Z"
    }
   },
   "outputs": [
    {
     "name": "stderr",
     "output_type": "stream",
     "text": [
      "C:\\ProgramData\\Anaconda3\\lib\\site-packages\\pandas\\core\\indexing.py:194: SettingWithCopyWarning: \n",
      "A value is trying to be set on a copy of a slice from a DataFrame\n",
      "\n",
      "See the caveats in the documentation: http://pandas.pydata.org/pandas-docs/stable/indexing.html#indexing-view-versus-copy\n",
      "  self._setitem_with_indexer(indexer, value)\n"
     ]
    },
    {
     "name": "stdout",
     "output_type": "stream",
     "text": [
      "Train unique values:\n",
      " [1 2 3 0 4] \n",
      "\n",
      "Test unique values:\n",
      " [2 3 1 0 4]\n"
     ]
    },
    {
     "data": {
      "text/plain": [
       "0"
      ]
     },
     "execution_count": 12,
     "metadata": {},
     "output_type": "execute_result"
    }
   ],
   "source": [
    "for dataset in [dataTrain, dataTest]:\n",
    "    dataset['AgeBands'] = 0\n",
    "    dataset['AgeBands'].loc[(dataset['Age'] > 16) & (dataset['Age'] <= 32)] = 1\n",
    "    dataset['AgeBands'].loc[(dataset['Age'] > 32) & (dataset['Age'] <= 48)] = 2\n",
    "    dataset['AgeBands'].loc[(dataset['Age'] > 48) & (dataset['Age'] <= 64)] = 3\n",
    "    dataset['AgeBands'].loc[(dataset['Age'] > 64)] = 4\n",
    "\n",
    "dataTrain = dataTrain.drop('AgeBand', axis=1)\n",
    "\n",
    "sf.check_unique_data(dataTrain, dataTest, 'AgeBands')"
   ]
  },
  {
   "cell_type": "markdown",
   "metadata": {
    "ExecuteTime": {
     "end_time": "2018-10-31T11:12:35.263398Z",
     "start_time": "2018-10-31T11:12:35.039250Z"
    },
    "heading_collapsed": true
   },
   "source": [
    "### sibsp & parch new features generation"
   ]
  },
  {
   "cell_type": "code",
   "execution_count": 13,
   "metadata": {
    "ExecuteTime": {
     "end_time": "2018-10-31T23:23:37.472624Z",
     "start_time": "2018-10-31T23:23:37.185434Z"
    },
    "hidden": true
   },
   "outputs": [
    {
     "data": {
      "text/html": [
       "<div>\n",
       "<style scoped>\n",
       "    .dataframe tbody tr th:only-of-type {\n",
       "        vertical-align: middle;\n",
       "    }\n",
       "\n",
       "    .dataframe tbody tr th {\n",
       "        vertical-align: top;\n",
       "    }\n",
       "\n",
       "    .dataframe thead th {\n",
       "        text-align: right;\n",
       "    }\n",
       "</style>\n",
       "<table border=\"1\" class=\"dataframe\">\n",
       "  <thead>\n",
       "    <tr style=\"text-align: right;\">\n",
       "      <th></th>\n",
       "      <th>FamilySize</th>\n",
       "      <th>Survived</th>\n",
       "    </tr>\n",
       "  </thead>\n",
       "  <tbody>\n",
       "    <tr>\n",
       "      <th>3</th>\n",
       "      <td>4</td>\n",
       "      <td>0.724138</td>\n",
       "    </tr>\n",
       "    <tr>\n",
       "      <th>2</th>\n",
       "      <td>3</td>\n",
       "      <td>0.578431</td>\n",
       "    </tr>\n",
       "    <tr>\n",
       "      <th>1</th>\n",
       "      <td>2</td>\n",
       "      <td>0.552795</td>\n",
       "    </tr>\n",
       "    <tr>\n",
       "      <th>6</th>\n",
       "      <td>7</td>\n",
       "      <td>0.333333</td>\n",
       "    </tr>\n",
       "    <tr>\n",
       "      <th>0</th>\n",
       "      <td>1</td>\n",
       "      <td>0.303538</td>\n",
       "    </tr>\n",
       "    <tr>\n",
       "      <th>4</th>\n",
       "      <td>5</td>\n",
       "      <td>0.200000</td>\n",
       "    </tr>\n",
       "    <tr>\n",
       "      <th>5</th>\n",
       "      <td>6</td>\n",
       "      <td>0.136364</td>\n",
       "    </tr>\n",
       "    <tr>\n",
       "      <th>7</th>\n",
       "      <td>8</td>\n",
       "      <td>0.000000</td>\n",
       "    </tr>\n",
       "    <tr>\n",
       "      <th>8</th>\n",
       "      <td>11</td>\n",
       "      <td>0.000000</td>\n",
       "    </tr>\n",
       "  </tbody>\n",
       "</table>\n",
       "</div>"
      ],
      "text/plain": [
       "   FamilySize  Survived\n",
       "3           4  0.724138\n",
       "2           3  0.578431\n",
       "1           2  0.552795\n",
       "6           7  0.333333\n",
       "0           1  0.303538\n",
       "4           5  0.200000\n",
       "5           6  0.136364\n",
       "7           8  0.000000\n",
       "8          11  0.000000"
      ]
     },
     "execution_count": 13,
     "metadata": {},
     "output_type": "execute_result"
    }
   ],
   "source": [
    "for dataset in [dataTrain, dataTest]:\n",
    "    dataset['FamilySize'] = dataset['SibSp'] + dataset['Parch'] + 1\n",
    "\n",
    "dataTrain[['FamilySize', 'Survived']].groupby(['FamilySize'], as_index=False).mean().sort_values(by='Survived', ascending=False)"
   ]
  },
  {
   "cell_type": "code",
   "execution_count": 14,
   "metadata": {
    "ExecuteTime": {
     "end_time": "2018-10-31T23:23:37.692771Z",
     "start_time": "2018-10-31T23:23:37.474625Z"
    },
    "hidden": true
   },
   "outputs": [
    {
     "data": {
      "text/html": [
       "<div>\n",
       "<style scoped>\n",
       "    .dataframe tbody tr th:only-of-type {\n",
       "        vertical-align: middle;\n",
       "    }\n",
       "\n",
       "    .dataframe tbody tr th {\n",
       "        vertical-align: top;\n",
       "    }\n",
       "\n",
       "    .dataframe thead th {\n",
       "        text-align: right;\n",
       "    }\n",
       "</style>\n",
       "<table border=\"1\" class=\"dataframe\">\n",
       "  <thead>\n",
       "    <tr style=\"text-align: right;\">\n",
       "      <th></th>\n",
       "      <th>IsAlone</th>\n",
       "      <th>Survived</th>\n",
       "    </tr>\n",
       "  </thead>\n",
       "  <tbody>\n",
       "    <tr>\n",
       "      <th>0</th>\n",
       "      <td>0</td>\n",
       "      <td>0.505650</td>\n",
       "    </tr>\n",
       "    <tr>\n",
       "      <th>1</th>\n",
       "      <td>1</td>\n",
       "      <td>0.303538</td>\n",
       "    </tr>\n",
       "  </tbody>\n",
       "</table>\n",
       "</div>"
      ],
      "text/plain": [
       "   IsAlone  Survived\n",
       "0        0  0.505650\n",
       "1        1  0.303538"
      ]
     },
     "execution_count": 14,
     "metadata": {},
     "output_type": "execute_result"
    }
   ],
   "source": [
    "for dataset in [dataTrain, dataTest]:\n",
    "    dataset['IsAlone'] = 0\n",
    "    dataset.loc[dataset['FamilySize'] == 1, 'IsAlone'] = 1\n",
    "    dataset['HasWifeHasb'] = 0\n",
    "    dataset.loc[dataset['SibSp'] > 0 , 'HasWifeHasb'] = 1\n",
    "    dataset['HasBloodRelatives'] = 0\n",
    "    dataset.loc[dataset['Parch'] > 0 , 'HasWifeHasb'] = 1\n",
    "    \n",
    "\n",
    "dataTrain[['IsAlone', 'Survived']].groupby(['IsAlone'], as_index=False).mean()"
   ]
  },
  {
   "cell_type": "markdown",
   "metadata": {
    "ExecuteTime": {
     "end_time": "2018-10-31T11:34:37.287128Z",
     "start_time": "2018-10-31T11:34:37.032959Z"
    },
    "heading_collapsed": true
   },
   "source": [
    "### Syntetical union of features"
   ]
  },
  {
   "cell_type": "code",
   "execution_count": 15,
   "metadata": {
    "ExecuteTime": {
     "end_time": "2018-10-31T23:23:37.881897Z",
     "start_time": "2018-10-31T23:23:37.694772Z"
    },
    "hidden": true
   },
   "outputs": [
    {
     "data": {
      "text/html": [
       "<div>\n",
       "<style scoped>\n",
       "    .dataframe tbody tr th:only-of-type {\n",
       "        vertical-align: middle;\n",
       "    }\n",
       "\n",
       "    .dataframe tbody tr th {\n",
       "        vertical-align: top;\n",
       "    }\n",
       "\n",
       "    .dataframe thead th {\n",
       "        text-align: right;\n",
       "    }\n",
       "</style>\n",
       "<table border=\"1\" class=\"dataframe\">\n",
       "  <thead>\n",
       "    <tr style=\"text-align: right;\">\n",
       "      <th></th>\n",
       "      <th>Age*Class</th>\n",
       "      <th>Age</th>\n",
       "      <th>Pclass</th>\n",
       "    </tr>\n",
       "  </thead>\n",
       "  <tbody>\n",
       "    <tr>\n",
       "      <th>0</th>\n",
       "      <td>66.0</td>\n",
       "      <td>22.0</td>\n",
       "      <td>3</td>\n",
       "    </tr>\n",
       "    <tr>\n",
       "      <th>1</th>\n",
       "      <td>38.0</td>\n",
       "      <td>38.0</td>\n",
       "      <td>1</td>\n",
       "    </tr>\n",
       "    <tr>\n",
       "      <th>2</th>\n",
       "      <td>78.0</td>\n",
       "      <td>26.0</td>\n",
       "      <td>3</td>\n",
       "    </tr>\n",
       "    <tr>\n",
       "      <th>3</th>\n",
       "      <td>35.0</td>\n",
       "      <td>35.0</td>\n",
       "      <td>1</td>\n",
       "    </tr>\n",
       "    <tr>\n",
       "      <th>4</th>\n",
       "      <td>105.0</td>\n",
       "      <td>35.0</td>\n",
       "      <td>3</td>\n",
       "    </tr>\n",
       "    <tr>\n",
       "      <th>5</th>\n",
       "      <td>75.0</td>\n",
       "      <td>25.0</td>\n",
       "      <td>3</td>\n",
       "    </tr>\n",
       "    <tr>\n",
       "      <th>6</th>\n",
       "      <td>54.0</td>\n",
       "      <td>54.0</td>\n",
       "      <td>1</td>\n",
       "    </tr>\n",
       "    <tr>\n",
       "      <th>7</th>\n",
       "      <td>6.0</td>\n",
       "      <td>2.0</td>\n",
       "      <td>3</td>\n",
       "    </tr>\n",
       "    <tr>\n",
       "      <th>8</th>\n",
       "      <td>81.0</td>\n",
       "      <td>27.0</td>\n",
       "      <td>3</td>\n",
       "    </tr>\n",
       "    <tr>\n",
       "      <th>9</th>\n",
       "      <td>28.0</td>\n",
       "      <td>14.0</td>\n",
       "      <td>2</td>\n",
       "    </tr>\n",
       "  </tbody>\n",
       "</table>\n",
       "</div>"
      ],
      "text/plain": [
       "   Age*Class   Age  Pclass\n",
       "0       66.0  22.0       3\n",
       "1       38.0  38.0       1\n",
       "2       78.0  26.0       3\n",
       "3       35.0  35.0       1\n",
       "4      105.0  35.0       3\n",
       "5       75.0  25.0       3\n",
       "6       54.0  54.0       1\n",
       "7        6.0   2.0       3\n",
       "8       81.0  27.0       3\n",
       "9       28.0  14.0       2"
      ]
     },
     "execution_count": 15,
     "metadata": {},
     "output_type": "execute_result"
    }
   ],
   "source": [
    "for dataset in [dataTrain, dataTest]:\n",
    "    dataset['Age*Class'] = dataset.Age * dataset.Pclass\n",
    "\n",
    "dataTrain.loc[:, ['Age*Class', 'Age', 'Pclass']].head(10)"
   ]
  },
  {
   "cell_type": "markdown",
   "metadata": {
    "heading_collapsed": true
   },
   "source": [
    "### Fare bands"
   ]
  },
  {
   "cell_type": "code",
   "execution_count": 16,
   "metadata": {
    "ExecuteTime": {
     "end_time": "2018-10-31T23:23:38.066024Z",
     "start_time": "2018-10-31T23:23:37.883900Z"
    },
    "hidden": true
   },
   "outputs": [
    {
     "name": "stdout",
     "output_type": "stream",
     "text": [
      "Train:\n",
      " Fare    0\n",
      "dtype: int64 \n",
      "\n",
      "Test:\n",
      " Fare    1\n",
      "dtype: int64\n"
     ]
    },
    {
     "data": {
      "text/plain": [
       "0"
      ]
     },
     "execution_count": 16,
     "metadata": {},
     "output_type": "execute_result"
    }
   ],
   "source": [
    "sf.check_missing_data(dataTrain, dataTest, ['Fare'])"
   ]
  },
  {
   "cell_type": "code",
   "execution_count": 17,
   "metadata": {
    "ExecuteTime": {
     "end_time": "2018-10-31T23:23:38.263253Z",
     "start_time": "2018-10-31T23:23:38.068021Z"
    },
    "hidden": true
   },
   "outputs": [],
   "source": [
    "#for test only\n",
    "def get_median_fare_by_item (pClass, i):\n",
    "    return dataTest.query('Pclass == {}'.format(pClass))['Fare'].mean()\n",
    "    \n",
    "for i in range(len (dataTest)):\n",
    "    if pd.isnull(dataTest.loc[i,'Fare']):\n",
    "        dataTest.loc[i,'Fare'] = get_median_fare_by_item (dataTest.loc[i,'Pclass'], i)"
   ]
  },
  {
   "cell_type": "code",
   "execution_count": 18,
   "metadata": {
    "ExecuteTime": {
     "end_time": "2018-10-31T23:23:38.438272Z",
     "start_time": "2018-10-31T23:23:38.265153Z"
    },
    "hidden": true
   },
   "outputs": [],
   "source": [
    "#dataTest.query('Pclass == 3')['Fare'].mean()\n",
    "#dataTest.loc[dataTest['Fare'].isnull() == True]\n",
    "#dataTest.loc[152,'Fare']#=None\n",
    "#dataTest.loc[dataTest['Fare'].isnull() == True]"
   ]
  },
  {
   "cell_type": "code",
   "execution_count": 19,
   "metadata": {
    "ExecuteTime": {
     "end_time": "2018-10-31T23:23:38.634398Z",
     "start_time": "2018-10-31T23:23:38.440269Z"
    },
    "hidden": true
   },
   "outputs": [
    {
     "data": {
      "text/html": [
       "<div>\n",
       "<style scoped>\n",
       "    .dataframe tbody tr th:only-of-type {\n",
       "        vertical-align: middle;\n",
       "    }\n",
       "\n",
       "    .dataframe tbody tr th {\n",
       "        vertical-align: top;\n",
       "    }\n",
       "\n",
       "    .dataframe thead th {\n",
       "        text-align: right;\n",
       "    }\n",
       "</style>\n",
       "<table border=\"1\" class=\"dataframe\">\n",
       "  <thead>\n",
       "    <tr style=\"text-align: right;\">\n",
       "      <th></th>\n",
       "      <th>FareBand</th>\n",
       "      <th>Survived</th>\n",
       "    </tr>\n",
       "  </thead>\n",
       "  <tbody>\n",
       "    <tr>\n",
       "      <th>0</th>\n",
       "      <td>(-0.001, 7.854]</td>\n",
       "      <td>0.217877</td>\n",
       "    </tr>\n",
       "    <tr>\n",
       "      <th>1</th>\n",
       "      <td>(7.854, 10.5]</td>\n",
       "      <td>0.201087</td>\n",
       "    </tr>\n",
       "    <tr>\n",
       "      <th>2</th>\n",
       "      <td>(10.5, 21.679]</td>\n",
       "      <td>0.424419</td>\n",
       "    </tr>\n",
       "    <tr>\n",
       "      <th>3</th>\n",
       "      <td>(21.679, 39.688]</td>\n",
       "      <td>0.444444</td>\n",
       "    </tr>\n",
       "    <tr>\n",
       "      <th>4</th>\n",
       "      <td>(39.688, 512.329]</td>\n",
       "      <td>0.642045</td>\n",
       "    </tr>\n",
       "  </tbody>\n",
       "</table>\n",
       "</div>"
      ],
      "text/plain": [
       "            FareBand  Survived\n",
       "0    (-0.001, 7.854]  0.217877\n",
       "1      (7.854, 10.5]  0.201087\n",
       "2     (10.5, 21.679]  0.424419\n",
       "3   (21.679, 39.688]  0.444444\n",
       "4  (39.688, 512.329]  0.642045"
      ]
     },
     "execution_count": 19,
     "metadata": {},
     "output_type": "execute_result"
    }
   ],
   "source": [
    "dataTrain['FareBand'] = pd.qcut(dataTrain['Fare'], 5)\n",
    "dataTrain[['FareBand', 'Survived']].groupby(['FareBand'], as_index=False).mean().sort_values(by='FareBand', ascending=True)"
   ]
  },
  {
   "cell_type": "code",
   "execution_count": 20,
   "metadata": {
    "ExecuteTime": {
     "end_time": "2018-10-31T23:23:39.329862Z",
     "start_time": "2018-10-31T23:23:38.636399Z"
    },
    "hidden": true
   },
   "outputs": [
    {
     "name": "stderr",
     "output_type": "stream",
     "text": [
      "C:\\ProgramData\\Anaconda3\\lib\\site-packages\\pandas\\core\\indexing.py:194: SettingWithCopyWarning: \n",
      "A value is trying to be set on a copy of a slice from a DataFrame\n",
      "\n",
      "See the caveats in the documentation: http://pandas.pydata.org/pandas-docs/stable/indexing.html#indexing-view-versus-copy\n",
      "  self._setitem_with_indexer(indexer, value)\n"
     ]
    }
   ],
   "source": [
    "for dataset in [dataTrain, dataTest]:\n",
    "    dataset['FareBands'] = 0\n",
    "    dataset['FareBands'].loc[dataset['Fare'] <= 7.85] = 0\n",
    "    dataset['FareBands'].loc[(dataset['Fare'] > 7.85) & (dataset['Fare'] <= 10.5)] = 1\n",
    "    dataset['FareBands'].loc[(dataset['Fare'] > 10.5) & (dataset['Fare'] <= 21.67)] = 2\n",
    "    dataset['FareBands'].loc[(dataset['Fare'] > 21.67) & (dataset['Fare'] <= 39.7)] = 3\n",
    "    dataset['FareBands'].loc[dataset['Fare'] > 39.7] = 4\n",
    "    \n",
    "dataTrain = dataTrain.drop(['FareBand'], axis=1)"
   ]
  },
  {
   "cell_type": "markdown",
   "metadata": {
    "ExecuteTime": {
     "end_time": "2018-10-31T20:39:30.333759Z",
     "start_time": "2018-10-31T20:39:30.148634Z"
    },
    "heading_collapsed": true
   },
   "source": [
    "### Cabin"
   ]
  },
  {
   "cell_type": "code",
   "execution_count": 21,
   "metadata": {
    "ExecuteTime": {
     "end_time": "2018-10-31T23:23:39.512988Z",
     "start_time": "2018-10-31T23:23:39.331864Z"
    },
    "hidden": true
   },
   "outputs": [],
   "source": [
    "decks = {\"U\": 0, \"A\": 1, \"B\": 2, \"C\": 3, \"D\": 4, \"E\": 5, \"F\": 6, \"G\": 7, \"T\": 0}\n",
    "\n",
    "for dataset in [dataTrain, dataTest]:\n",
    "    dataset['DeckF'] = 0\n",
    "    dataset['DeckF'] = dataset['Cabin'].fillna('U').apply(lambda c: decks.get(c[0], -1))"
   ]
  },
  {
   "cell_type": "code",
   "execution_count": 22,
   "metadata": {
    "ExecuteTime": {
     "end_time": "2018-10-31T23:23:39.695105Z",
     "start_time": "2018-10-31T23:23:39.514986Z"
    },
    "hidden": true
   },
   "outputs": [
    {
     "name": "stdout",
     "output_type": "stream",
     "text": [
      "0    327\n",
      "3     35\n",
      "2     18\n",
      "4     13\n",
      "5      9\n",
      "6      8\n",
      "1      7\n",
      "7      1\n",
      "Name: DeckF, dtype: int64\n",
      "0    688\n",
      "3     59\n",
      "2     47\n",
      "4     33\n",
      "5     32\n",
      "1     15\n",
      "6     13\n",
      "7      4\n",
      "Name: DeckF, dtype: int64\n"
     ]
    }
   ],
   "source": [
    "print (dataTest.DeckF.value_counts())\n",
    "print (dataTrain.DeckF.value_counts())"
   ]
  },
  {
   "cell_type": "code",
   "execution_count": 23,
   "metadata": {
    "ExecuteTime": {
     "end_time": "2018-10-31T23:23:39.884234Z",
     "start_time": "2018-10-31T23:23:39.697106Z"
    },
    "hidden": true
   },
   "outputs": [],
   "source": [
    "#this code doesn work! why?\n",
    "for dataset in [dataTrain, dataTest]:\n",
    "    deckDummies = pd.get_dummies(dataset['Cabin'].fillna('U').apply(lambda c: c[0])\n",
    "                              .replace('T', 'U'), prefix='DeckD', dummy_na=False)\n",
    "    dataset = pd.concat([dataset, deckDummies], axis=1)\n"
   ]
  },
  {
   "cell_type": "code",
   "execution_count": 24,
   "metadata": {
    "ExecuteTime": {
     "end_time": "2018-10-31T23:23:40.075362Z",
     "start_time": "2018-10-31T23:23:39.886232Z"
    },
    "hidden": true
   },
   "outputs": [],
   "source": [
    "deckDummies = pd.get_dummies(dataTrain['Cabin'].fillna('U').apply(lambda c: c[0])\n",
    "                              .replace('T', 'U'), prefix='DeckD', dummy_na=False)\n",
    "dataTrain = pd.concat([dataTrain, deckDummies], axis=1)\n",
    "\n",
    "deckDummies = pd.get_dummies(dataTest['Cabin'].fillna('U').apply(lambda c: c[0])\n",
    "                              .replace('T', 'U'), prefix='DeckD', dummy_na=False)\n",
    "dataTest = pd.concat([dataTest, deckDummies], axis=1)"
   ]
  },
  {
   "cell_type": "markdown",
   "metadata": {
    "ExecuteTime": {
     "end_time": "2018-10-31T22:14:49.888592Z",
     "start_time": "2018-10-31T22:14:49.629421Z"
    }
   },
   "source": [
    "### Drop features"
   ]
  },
  {
   "cell_type": "code",
   "execution_count": 25,
   "metadata": {
    "ExecuteTime": {
     "end_time": "2018-10-31T23:23:40.264484Z",
     "start_time": "2018-10-31T23:23:40.077360Z"
    }
   },
   "outputs": [
    {
     "data": {
      "text/plain": [
       "((891, 30), (891,), (418, 30))"
      ]
     },
     "execution_count": 25,
     "metadata": {},
     "output_type": "execute_result"
    }
   ],
   "source": [
    "#* drop features:\n",
    "# * passengerId\n",
    "# * cabin (after extract the deck)\n",
    "#* ticket\n",
    "# * embarked\n",
    "#to be dropped\n",
    "toBeDropped = ['PassengerId', 'Cabin', 'Ticket', 'Embarked', 'Name']\n",
    "\n",
    "dataTrainTarget = dataTrain[\"Survived\"]\n",
    "\n",
    "dataTrain = dataTrain.drop(toBeDropped, axis=1)\n",
    "dataTrain = dataTrain.drop('Survived', axis=1)\n",
    "\n",
    "dataTest = dataTest.drop(toBeDropped, axis=1)\n",
    "\n",
    "dataTrain.shape, dataTrainTarget.shape, dataTest.shape"
   ]
  },
  {
   "cell_type": "markdown",
   "metadata": {
    "heading_collapsed": true
   },
   "source": [
    "### Final checkers"
   ]
  },
  {
   "cell_type": "code",
   "execution_count": 26,
   "metadata": {
    "ExecuteTime": {
     "end_time": "2018-10-31T23:23:40.454610Z",
     "start_time": "2018-10-31T23:23:40.266487Z"
    },
    "hidden": true
   },
   "outputs": [
    {
     "name": "stdout",
     "output_type": "stream",
     "text": [
      "Train:\n",
      " Age             263\n",
      "Cabin          1014\n",
      "Embarked          2\n",
      "Fare              1\n",
      "Name              0\n",
      "Parch             0\n",
      "PassengerId       0\n",
      "Pclass            0\n",
      "Sex               0\n",
      "SibSp             0\n",
      "Survived        418\n",
      "Ticket            0\n",
      "dtype: int64 \n",
      "\n",
      "Test:\n",
      " Pclass               0\n",
      "Sex                  0\n",
      "Age                  0\n",
      "SibSp                0\n",
      "Parch                0\n",
      "Fare                 0\n",
      "SexD_0               0\n",
      "SexD_1               0\n",
      "Title                0\n",
      "TitleD_1             0\n",
      "TitleD_2             0\n",
      "TitleD_3             0\n",
      "TitleD_4             0\n",
      "TitleD_5             0\n",
      "AgeBands             0\n",
      "FamilySize           0\n",
      "IsAlone              0\n",
      "HasWifeHasb          0\n",
      "HasBloodRelatives    0\n",
      "Age*Class            0\n",
      "FareBands            0\n",
      "DeckF                0\n",
      "DeckD_A              0\n",
      "DeckD_B              0\n",
      "DeckD_C              0\n",
      "DeckD_D              0\n",
      "DeckD_E              0\n",
      "DeckD_F              0\n",
      "DeckD_G              0\n",
      "DeckD_U              0\n",
      "dtype: int64\n"
     ]
    },
    {
     "data": {
      "text/plain": [
       "0"
      ]
     },
     "execution_count": 26,
     "metadata": {},
     "output_type": "execute_result"
    }
   ],
   "source": [
    "sf.check_missing_data(dataAll, dataTest)\n",
    "#TODO неплохо было бы проверять на уникальные значения в тесте и трейне - чтобы бились"
   ]
  },
  {
   "cell_type": "code",
   "execution_count": 27,
   "metadata": {
    "ExecuteTime": {
     "end_time": "2018-10-31T23:23:40.628727Z",
     "start_time": "2018-10-31T23:23:40.456612Z"
    },
    "hidden": true
   },
   "outputs": [],
   "source": [
    "#check data types\n"
   ]
  },
  {
   "cell_type": "markdown",
   "metadata": {
    "heading_collapsed": true
   },
   "source": [
    "### Scalling"
   ]
  },
  {
   "cell_type": "code",
   "execution_count": 28,
   "metadata": {
    "ExecuteTime": {
     "end_time": "2018-10-31T23:23:40.814850Z",
     "start_time": "2018-10-31T23:23:40.630729Z"
    },
    "hidden": true
   },
   "outputs": [],
   "source": [
    "scaler = StandardScaler()\n",
    "dataAll = pd.concat([dataTrain, dataTest])\n",
    "scaler.fit(dataAll)\n",
    "\n",
    "dataTrainScaled = pd.DataFrame(scaler.transform(dataTrain))\n",
    "dataTestScaled = pd.DataFrame(scaler.transform(dataTest))"
   ]
  },
  {
   "cell_type": "markdown",
   "metadata": {
    "heading_collapsed": true
   },
   "source": [
    "### Types optimizations"
   ]
  },
  {
   "cell_type": "code",
   "execution_count": 29,
   "metadata": {
    "ExecuteTime": {
     "end_time": "2018-10-31T23:23:41.008980Z",
     "start_time": "2018-10-31T23:23:40.816852Z"
    },
    "hidden": true
   },
   "outputs": [
    {
     "name": "stdout",
     "output_type": "stream",
     "text": [
      "<class 'pandas.core.frame.DataFrame'>\n",
      "RangeIndex: 891 entries, 0 to 890\n",
      "Data columns (total 30 columns):\n",
      "Pclass               891 non-null int64\n",
      "Sex                  891 non-null int32\n",
      "Age                  891 non-null float64\n",
      "SibSp                891 non-null int64\n",
      "Parch                891 non-null int64\n",
      "Fare                 891 non-null float64\n",
      "SexD_0               891 non-null uint8\n",
      "SexD_1               891 non-null uint8\n",
      "Title                891 non-null int64\n",
      "TitleD_1             891 non-null uint8\n",
      "TitleD_2             891 non-null uint8\n",
      "TitleD_3             891 non-null uint8\n",
      "TitleD_4             891 non-null uint8\n",
      "TitleD_5             891 non-null uint8\n",
      "AgeBands             891 non-null int64\n",
      "FamilySize           891 non-null int64\n",
      "IsAlone              891 non-null int64\n",
      "HasWifeHasb          891 non-null int64\n",
      "HasBloodRelatives    891 non-null int64\n",
      "Age*Class            891 non-null float64\n",
      "FareBands            891 non-null int64\n",
      "DeckF                891 non-null int64\n",
      "DeckD_A              891 non-null uint8\n",
      "DeckD_B              891 non-null uint8\n",
      "DeckD_C              891 non-null uint8\n",
      "DeckD_D              891 non-null uint8\n",
      "DeckD_E              891 non-null uint8\n",
      "DeckD_F              891 non-null uint8\n",
      "DeckD_G              891 non-null uint8\n",
      "DeckD_U              891 non-null uint8\n",
      "dtypes: float64(3), int32(1), int64(11), uint8(15)\n",
      "memory usage: 114.1 KB\n",
      "<class 'pandas.core.frame.DataFrame'>\n",
      "RangeIndex: 418 entries, 0 to 417\n",
      "Data columns (total 30 columns):\n",
      "Pclass               418 non-null int64\n",
      "Sex                  418 non-null int32\n",
      "Age                  418 non-null float64\n",
      "SibSp                418 non-null int64\n",
      "Parch                418 non-null int64\n",
      "Fare                 418 non-null float64\n",
      "SexD_0               418 non-null uint8\n",
      "SexD_1               418 non-null uint8\n",
      "Title                418 non-null int64\n",
      "TitleD_1             418 non-null uint8\n",
      "TitleD_2             418 non-null uint8\n",
      "TitleD_3             418 non-null uint8\n",
      "TitleD_4             418 non-null uint8\n",
      "TitleD_5             418 non-null uint8\n",
      "AgeBands             418 non-null int64\n",
      "FamilySize           418 non-null int64\n",
      "IsAlone              418 non-null int64\n",
      "HasWifeHasb          418 non-null int64\n",
      "HasBloodRelatives    418 non-null int64\n",
      "Age*Class            418 non-null float64\n",
      "FareBands            418 non-null int64\n",
      "DeckF                418 non-null int64\n",
      "DeckD_A              418 non-null uint8\n",
      "DeckD_B              418 non-null uint8\n",
      "DeckD_C              418 non-null uint8\n",
      "DeckD_D              418 non-null uint8\n",
      "DeckD_E              418 non-null uint8\n",
      "DeckD_F              418 non-null uint8\n",
      "DeckD_G              418 non-null uint8\n",
      "DeckD_U              418 non-null uint8\n",
      "dtypes: float64(3), int32(1), int64(11), uint8(15)\n",
      "memory usage: 53.6 KB\n"
     ]
    }
   ],
   "source": [
    "#before\n",
    "dataTrain.info()\n",
    "dataTest.info()\n",
    "#dataTrain.memory_usage()\n",
    "#dataTest.memory_usage()"
   ]
  },
  {
   "cell_type": "code",
   "execution_count": 30,
   "metadata": {
    "ExecuteTime": {
     "end_time": "2018-10-31T23:23:41.215116Z",
     "start_time": "2018-10-31T23:23:41.010983Z"
    },
    "hidden": true
   },
   "outputs": [
    {
     "name": "stderr",
     "output_type": "stream",
     "text": [
      "C:\\ProgramData\\Anaconda3\\lib\\site-packages\\ipykernel_launcher.py:7: DeprecationWarning: Numeric-style type codes are deprecated and will result in an error in the future.\n",
      "  import sys\n"
     ]
    }
   ],
   "source": [
    "for dataset in [dataTrain, dataTest]:\n",
    "    for column in list(dataset.columns):\n",
    "        if dataset[column].dtype == 'int64':\n",
    "            dataset[column] = dataset[column].astype(int)\n",
    "            continue\n",
    "        if dataset[column].dtype == 'float64':\n",
    "            dataset[column] = dataset[column].astype(np.dtype('Float16'))\n",
    "            continue\n",
    "        if dataset[column].dtype == 'int32':\n",
    "            dataset[column] = dataset[column].astype(np.dtype('uint8'))\n",
    "            continue"
   ]
  },
  {
   "cell_type": "code",
   "execution_count": 31,
   "metadata": {
    "ExecuteTime": {
     "end_time": "2018-10-31T23:23:41.408249Z",
     "start_time": "2018-10-31T23:23:41.217119Z"
    },
    "hidden": true
   },
   "outputs": [
    {
     "name": "stdout",
     "output_type": "stream",
     "text": [
      "<class 'pandas.core.frame.DataFrame'>\n",
      "RangeIndex: 891 entries, 0 to 890\n",
      "Data columns (total 30 columns):\n",
      "Pclass               891 non-null int32\n",
      "Sex                  891 non-null uint8\n",
      "Age                  891 non-null float16\n",
      "SibSp                891 non-null int32\n",
      "Parch                891 non-null int32\n",
      "Fare                 891 non-null float16\n",
      "SexD_0               891 non-null uint8\n",
      "SexD_1               891 non-null uint8\n",
      "Title                891 non-null int32\n",
      "TitleD_1             891 non-null uint8\n",
      "TitleD_2             891 non-null uint8\n",
      "TitleD_3             891 non-null uint8\n",
      "TitleD_4             891 non-null uint8\n",
      "TitleD_5             891 non-null uint8\n",
      "AgeBands             891 non-null int32\n",
      "FamilySize           891 non-null int32\n",
      "IsAlone              891 non-null int32\n",
      "HasWifeHasb          891 non-null int32\n",
      "HasBloodRelatives    891 non-null int32\n",
      "Age*Class            891 non-null float16\n",
      "FareBands            891 non-null int32\n",
      "DeckF                891 non-null int32\n",
      "DeckD_A              891 non-null uint8\n",
      "DeckD_B              891 non-null uint8\n",
      "DeckD_C              891 non-null uint8\n",
      "DeckD_D              891 non-null uint8\n",
      "DeckD_E              891 non-null uint8\n",
      "DeckD_F              891 non-null uint8\n",
      "DeckD_G              891 non-null uint8\n",
      "DeckD_U              891 non-null uint8\n",
      "dtypes: float16(3), int32(11), uint8(16)\n",
      "memory usage: 57.5 KB\n",
      "<class 'pandas.core.frame.DataFrame'>\n",
      "RangeIndex: 418 entries, 0 to 417\n",
      "Data columns (total 30 columns):\n",
      "Pclass               418 non-null int32\n",
      "Sex                  418 non-null uint8\n",
      "Age                  418 non-null float16\n",
      "SibSp                418 non-null int32\n",
      "Parch                418 non-null int32\n",
      "Fare                 418 non-null float16\n",
      "SexD_0               418 non-null uint8\n",
      "SexD_1               418 non-null uint8\n",
      "Title                418 non-null int32\n",
      "TitleD_1             418 non-null uint8\n",
      "TitleD_2             418 non-null uint8\n",
      "TitleD_3             418 non-null uint8\n",
      "TitleD_4             418 non-null uint8\n",
      "TitleD_5             418 non-null uint8\n",
      "AgeBands             418 non-null int32\n",
      "FamilySize           418 non-null int32\n",
      "IsAlone              418 non-null int32\n",
      "HasWifeHasb          418 non-null int32\n",
      "HasBloodRelatives    418 non-null int32\n",
      "Age*Class            418 non-null float16\n",
      "FareBands            418 non-null int32\n",
      "DeckF                418 non-null int32\n",
      "DeckD_A              418 non-null uint8\n",
      "DeckD_B              418 non-null uint8\n",
      "DeckD_C              418 non-null uint8\n",
      "DeckD_D              418 non-null uint8\n",
      "DeckD_E              418 non-null uint8\n",
      "DeckD_F              418 non-null uint8\n",
      "DeckD_G              418 non-null uint8\n",
      "DeckD_U              418 non-null uint8\n",
      "dtypes: float16(3), int32(11), uint8(16)\n",
      "memory usage: 27.0 KB\n"
     ]
    }
   ],
   "source": [
    "dataTrain.info()\n",
    "dataTest.info()"
   ]
  },
  {
   "cell_type": "markdown",
   "metadata": {},
   "source": [
    "### Save data to dump"
   ]
  },
  {
   "cell_type": "code",
   "execution_count": 32,
   "metadata": {
    "ExecuteTime": {
     "end_time": "2018-10-31T23:23:41.798542Z",
     "start_time": "2018-10-31T23:23:41.410249Z"
    }
   },
   "outputs": [],
   "source": [
    "#TODO дату в файле\n",
    "_ = joblib.dump([dataTrain, dataTrainTarget, dataTest, dataTrainScaled, dataTestScaled], \n",
    "            open('data_modified/dataDump.pkl', 'wb'), 9)"
   ]
  },
  {
   "cell_type": "markdown",
   "metadata": {
    "ExecuteTime": {
     "end_time": "2018-10-31T22:46:19.604129Z",
     "start_time": "2018-10-31T22:46:06.225Z"
    }
   },
   "source": [
    "## what can be done more"
   ]
  },
  {
   "cell_type": "code",
   "execution_count": 33,
   "metadata": {
    "ExecuteTime": {
     "end_time": "2018-10-31T23:23:41.975663Z",
     "start_time": "2018-10-31T23:23:41.800543Z"
    }
   },
   "outputs": [
    {
     "ename": "SyntaxError",
     "evalue": "invalid syntax (<ipython-input-33-914690ee8bc2>, line 2)",
     "output_type": "error",
     "traceback": [
      "\u001b[1;36m  File \u001b[1;32m\"<ipython-input-33-914690ee8bc2>\"\u001b[1;36m, line \u001b[1;32m2\u001b[0m\n\u001b[1;33m    - можно восстановить палубу исходя из класса и ценника билета\u001b[0m\n\u001b[1;37m                       ^\u001b[0m\n\u001b[1;31mSyntaxError\u001b[0m\u001b[1;31m:\u001b[0m invalid syntax\n"
     ]
    }
   ],
   "source": [
    "\n",
    "- можно восстановить палубу исходя из класса и ценника билета\n",
    "1 класс - A-E, самые дорогие в B\n",
    "2 и 3 класс - D-G, в D - лучшие\n",
    "\n",
    "- при разбиении возраста разбивал по cut, а не по qcut\n",
    "- Syntetical union of features"
   ]
  }
 ],
 "metadata": {
  "kernelspec": {
   "display_name": "Python 3",
   "language": "python",
   "name": "python3"
  },
  "language_info": {
   "codemirror_mode": {
    "name": "ipython",
    "version": 3
   },
   "file_extension": ".py",
   "mimetype": "text/x-python",
   "name": "python",
   "nbconvert_exporter": "python",
   "pygments_lexer": "ipython3",
   "version": "3.6.4"
  }
 },
 "nbformat": 4,
 "nbformat_minor": 2
}
