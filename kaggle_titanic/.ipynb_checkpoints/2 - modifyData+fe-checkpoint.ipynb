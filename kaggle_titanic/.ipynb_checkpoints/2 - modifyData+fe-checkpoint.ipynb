{
 "cells": [
  {
   "cell_type": "markdown",
   "metadata": {},
   "source": [
    "## Modify Data accrording previous conclusions"
   ]
  },
  {
   "cell_type": "code",
   "execution_count": 1,
   "metadata": {
    "ExecuteTime": {
     "end_time": "2018-12-07T10:29:23.983605Z",
     "start_time": "2018-12-07T10:29:15.410839Z"
    }
   },
   "outputs": [],
   "source": [
    "%load_ext autoreload\n",
    "%autoreload 2\n",
    "\n",
    "import pandas as pd\n",
    "import numpy as np\n",
    "\n",
    "import seaborn as sns\n",
    "import matplotlib.pyplot as plt\n",
    "%matplotlib inline\n",
    "\n",
    "from sklearn.externals import joblib\n",
    "from sklearn.preprocessing import StandardScaler, MinMaxScaler\n",
    "\n",
    "import sys\n",
    "sys.path.insert(0, 'G:/work/GitHub/ml_baseline_things/functions/')\n",
    "import supportFunctions as sf\n",
    "import featureEngineringFunctions as fef\n",
    "\n",
    "dirPath = '2-featuresPack/'\n"
   ]
  },
  {
   "cell_type": "markdown",
   "metadata": {},
   "source": [
    "## Conclusions from previous notebook:\n",
    "\n",
    "* drop features:\n",
    " * passengerId\n",
    " * cabin (after extract the deck)\n",
    " * ticket\n",
    " * embarked\n",
    "* missing data to recover:\n",
    " * <s>age</s>\n",
    "* convert categorial to:\n",
    " * <s>sex - to int and to several columns</s>\n",
    "* new features from:\n",
    " * <s>cabin (extract decks)</s>\n",
    " * <s>name (extract title)</s>\n",
    " * <s>age bands</s>\n",
    " * <s>fare </s>normalize and (?)<s> make bands</s>\n",
    " * <s>sibsp & parch - may be generated isAlone hasChildren/Parents hasHasb/Wife/</s>\n",
    " \n",
    " Finally convert to smaller memory size"
   ]
  },
  {
   "cell_type": "code",
   "execution_count": 2,
   "metadata": {
    "ExecuteTime": {
     "end_time": "2018-12-07T10:29:24.217759Z",
     "start_time": "2018-12-07T10:29:23.985603Z"
    }
   },
   "outputs": [
    {
     "name": "stdout",
     "output_type": "stream",
     "text": [
      "Train (891, 12); Test (418, 11); Total (1309, 12).\n"
     ]
    }
   ],
   "source": [
    "#dataRawTrain, dataRawTest, _ = sf.load_raw_data()\n",
    "dataTrain, dataTest, _ = sf.load_raw_data()\n",
    "dataAll = dataTrain.append(dataTest, ignore_index=True)\n",
    "#dataAll.tail()"
   ]
  },
  {
   "cell_type": "code",
   "execution_count": 3,
   "metadata": {
    "ExecuteTime": {
     "end_time": "2018-12-07T10:29:24.433977Z",
     "start_time": "2018-12-07T10:29:24.220760Z"
    }
   },
   "outputs": [],
   "source": [
    "trainVStest = len(dataTrain)"
   ]
  },
  {
   "cell_type": "code",
   "execution_count": 4,
   "metadata": {
    "ExecuteTime": {
     "end_time": "2018-12-07T10:29:24.647045Z",
     "start_time": "2018-12-07T10:29:24.435903Z"
    }
   },
   "outputs": [
    {
     "data": {
      "text/plain": [
       "Age             263\n",
       "Cabin          1014\n",
       "Embarked          2\n",
       "Fare              1\n",
       "Name              0\n",
       "Parch             0\n",
       "PassengerId       0\n",
       "Pclass            0\n",
       "Sex               0\n",
       "SibSp             0\n",
       "Survived        418\n",
       "Ticket            0\n",
       "dtype: int64"
      ]
     },
     "execution_count": 4,
     "metadata": {},
     "output_type": "execute_result"
    }
   ],
   "source": [
    "dataAll.isnull().sum()"
   ]
  },
  {
   "cell_type": "markdown",
   "metadata": {},
   "source": [
    "## Id + Survived"
   ]
  },
  {
   "cell_type": "code",
   "execution_count": 5,
   "metadata": {
    "ExecuteTime": {
     "end_time": "2018-12-07T10:29:24.871194Z",
     "start_time": "2018-12-07T10:29:24.649047Z"
    }
   },
   "outputs": [
    {
     "name": "stdout",
     "output_type": "stream",
     "text": [
      "PassengerId saved.\n",
      "Survived saved.\n"
     ]
    },
    {
     "data": {
      "text/plain": [
       "0"
      ]
     },
     "execution_count": 5,
     "metadata": {},
     "output_type": "execute_result"
    }
   ],
   "source": [
    "# save base attrs\n",
    "fef.save_to_file(dataAll['PassengerId'], 'PassengerId', dirPath)\n",
    "fef.save_to_file(dataAll['Survived'], 'Survived', dirPath)"
   ]
  },
  {
   "cell_type": "markdown",
   "metadata": {},
   "source": [
    "### Class"
   ]
  },
  {
   "cell_type": "code",
   "execution_count": 6,
   "metadata": {
    "ExecuteTime": {
     "end_time": "2018-12-07T10:29:25.086338Z",
     "start_time": "2018-12-07T10:29:24.873196Z"
    }
   },
   "outputs": [
    {
     "name": "stdout",
     "output_type": "stream",
     "text": [
      "Pclass_LE saved.\n"
     ]
    },
    {
     "data": {
      "text/plain": [
       "0"
      ]
     },
     "execution_count": 6,
     "metadata": {},
     "output_type": "execute_result"
    }
   ],
   "source": [
    "fef.save_to_file (dataAll['Pclass'], 'Pclass_LE', dirPath)"
   ]
  },
  {
   "cell_type": "markdown",
   "metadata": {},
   "source": [
    "### SEX"
   ]
  },
  {
   "cell_type": "code",
   "execution_count": 7,
   "metadata": {
    "ExecuteTime": {
     "end_time": "2018-12-07T10:29:25.352517Z",
     "start_time": "2018-12-07T10:29:25.089341Z"
    }
   },
   "outputs": [
    {
     "name": "stdout",
     "output_type": "stream",
     "text": [
      "Sex_OHE saved.\n",
      "Sex_LE saved.\n"
     ]
    },
    {
     "data": {
      "text/html": [
       "<div>\n",
       "<style scoped>\n",
       "    .dataframe tbody tr th:only-of-type {\n",
       "        vertical-align: middle;\n",
       "    }\n",
       "\n",
       "    .dataframe tbody tr th {\n",
       "        vertical-align: top;\n",
       "    }\n",
       "\n",
       "    .dataframe thead th {\n",
       "        text-align: right;\n",
       "    }\n",
       "</style>\n",
       "<table border=\"1\" class=\"dataframe\">\n",
       "  <thead>\n",
       "    <tr style=\"text-align: right;\">\n",
       "      <th></th>\n",
       "      <th>Age</th>\n",
       "      <th>Cabin</th>\n",
       "      <th>Embarked</th>\n",
       "      <th>Fare</th>\n",
       "      <th>Name</th>\n",
       "      <th>Parch</th>\n",
       "      <th>PassengerId</th>\n",
       "      <th>Pclass</th>\n",
       "      <th>Sex</th>\n",
       "      <th>SibSp</th>\n",
       "      <th>Survived</th>\n",
       "      <th>Ticket</th>\n",
       "    </tr>\n",
       "  </thead>\n",
       "  <tbody>\n",
       "    <tr>\n",
       "      <th>0</th>\n",
       "      <td>22.0</td>\n",
       "      <td>NaN</td>\n",
       "      <td>S</td>\n",
       "      <td>7.2500</td>\n",
       "      <td>Braund, Mr. Owen Harris</td>\n",
       "      <td>0</td>\n",
       "      <td>1</td>\n",
       "      <td>3</td>\n",
       "      <td>0</td>\n",
       "      <td>1</td>\n",
       "      <td>0.0</td>\n",
       "      <td>A/5 21171</td>\n",
       "    </tr>\n",
       "    <tr>\n",
       "      <th>1</th>\n",
       "      <td>38.0</td>\n",
       "      <td>C85</td>\n",
       "      <td>C</td>\n",
       "      <td>71.2833</td>\n",
       "      <td>Cumings, Mrs. John Bradley (Florence Briggs Th...</td>\n",
       "      <td>0</td>\n",
       "      <td>2</td>\n",
       "      <td>1</td>\n",
       "      <td>1</td>\n",
       "      <td>1</td>\n",
       "      <td>1.0</td>\n",
       "      <td>PC 17599</td>\n",
       "    </tr>\n",
       "    <tr>\n",
       "      <th>2</th>\n",
       "      <td>26.0</td>\n",
       "      <td>NaN</td>\n",
       "      <td>S</td>\n",
       "      <td>7.9250</td>\n",
       "      <td>Heikkinen, Miss. Laina</td>\n",
       "      <td>0</td>\n",
       "      <td>3</td>\n",
       "      <td>3</td>\n",
       "      <td>1</td>\n",
       "      <td>0</td>\n",
       "      <td>1.0</td>\n",
       "      <td>STON/O2. 3101282</td>\n",
       "    </tr>\n",
       "    <tr>\n",
       "      <th>3</th>\n",
       "      <td>35.0</td>\n",
       "      <td>C123</td>\n",
       "      <td>S</td>\n",
       "      <td>53.1000</td>\n",
       "      <td>Futrelle, Mrs. Jacques Heath (Lily May Peel)</td>\n",
       "      <td>0</td>\n",
       "      <td>4</td>\n",
       "      <td>1</td>\n",
       "      <td>1</td>\n",
       "      <td>1</td>\n",
       "      <td>1.0</td>\n",
       "      <td>113803</td>\n",
       "    </tr>\n",
       "    <tr>\n",
       "      <th>4</th>\n",
       "      <td>35.0</td>\n",
       "      <td>NaN</td>\n",
       "      <td>S</td>\n",
       "      <td>8.0500</td>\n",
       "      <td>Allen, Mr. William Henry</td>\n",
       "      <td>0</td>\n",
       "      <td>5</td>\n",
       "      <td>3</td>\n",
       "      <td>0</td>\n",
       "      <td>0</td>\n",
       "      <td>0.0</td>\n",
       "      <td>373450</td>\n",
       "    </tr>\n",
       "  </tbody>\n",
       "</table>\n",
       "</div>"
      ],
      "text/plain": [
       "    Age Cabin Embarked     Fare  \\\n",
       "0  22.0   NaN        S   7.2500   \n",
       "1  38.0   C85        C  71.2833   \n",
       "2  26.0   NaN        S   7.9250   \n",
       "3  35.0  C123        S  53.1000   \n",
       "4  35.0   NaN        S   8.0500   \n",
       "\n",
       "                                                Name  Parch  PassengerId  \\\n",
       "0                            Braund, Mr. Owen Harris      0            1   \n",
       "1  Cumings, Mrs. John Bradley (Florence Briggs Th...      0            2   \n",
       "2                             Heikkinen, Miss. Laina      0            3   \n",
       "3       Futrelle, Mrs. Jacques Heath (Lily May Peel)      0            4   \n",
       "4                           Allen, Mr. William Henry      0            5   \n",
       "\n",
       "   Pclass  Sex  SibSp  Survived            Ticket  \n",
       "0       3    0      1       0.0         A/5 21171  \n",
       "1       1    1      1       1.0          PC 17599  \n",
       "2       3    1      0       1.0  STON/O2. 3101282  \n",
       "3       1    1      1       1.0            113803  \n",
       "4       3    0      0       0.0            373450  "
      ]
     },
     "execution_count": 7,
     "metadata": {},
     "output_type": "execute_result"
    }
   ],
   "source": [
    "#no missing values\n",
    "\n",
    "# encode SEX feature\n",
    "\n",
    "#save as OHE\n",
    "featureSex, col_ = fef.fe_cat_ohe(dataAll, 'Sex')\n",
    "fef.save_to_file (featureSex, 'Sex_OHE', dirPath)\n",
    "\n",
    "#save as LE\n",
    "dataAll['Sex'] = dataAll['Sex'].map({'female': 1, 'male': 0}).astype(int)\n",
    "featureSex, col_ = fef.fe_cat_le(dataAll, 'Sex')\n",
    "\n",
    "fef.save_to_file (featureSex, 'Sex_LE', dirPath)\n",
    "\n",
    "dataAll.head()"
   ]
  },
  {
   "cell_type": "markdown",
   "metadata": {},
   "source": [
    "### Extract title from name"
   ]
  },
  {
   "cell_type": "code",
   "execution_count": 8,
   "metadata": {
    "ExecuteTime": {
     "end_time": "2018-12-07T10:29:25.594681Z",
     "start_time": "2018-12-07T10:29:25.354517Z"
    }
   },
   "outputs": [
    {
     "data": {
      "text/plain": [
       "Mr          757\n",
       "Miss        260\n",
       "Mrs         197\n",
       "Master       61\n",
       "Rev           8\n",
       "Dr            8\n",
       "Col           4\n",
       "Major         2\n",
       "Mlle          2\n",
       "Ms            2\n",
       "Sir           1\n",
       "Don           1\n",
       "Lady          1\n",
       "Jonkheer      1\n",
       "Dona          1\n",
       "Capt          1\n",
       "Countess      1\n",
       "Mme           1\n",
       "Name: Title, dtype: int64"
      ]
     },
     "execution_count": 8,
     "metadata": {},
     "output_type": "execute_result"
    }
   ],
   "source": [
    "# extract title from name\n",
    "dataAll['Title'] = dataAll['Name'].str.extract('([A-Za-z]+)\\.', expand=True)\n",
    "    \n",
    "dataAll.Title.value_counts()"
   ]
  },
  {
   "cell_type": "code",
   "execution_count": 9,
   "metadata": {
    "ExecuteTime": {
     "end_time": "2018-12-07T10:29:25.881875Z",
     "start_time": "2018-12-07T10:29:25.599685Z"
    }
   },
   "outputs": [
    {
     "data": {
      "text/plain": [
       "Mr        767\n",
       "Miss      265\n",
       "Mrs       200\n",
       "Master     61\n",
       "Dr          8\n",
       "Rev         8\n",
       "Name: Title, dtype: int64"
      ]
     },
     "execution_count": 9,
     "metadata": {},
     "output_type": "execute_result"
    }
   ],
   "source": [
    "mapping = {'Mlle': 'Miss', 'Major': 'Mr', 'Col': 'Mr', 'Sir': 'Mr', 'Don': 'Mr', 'Mme': 'Miss',\n",
    "          'Jonkheer': 'Mr', 'Lady': 'Mrs', 'Capt': 'Mr', 'Countess': 'Mrs', 'Ms': 'Miss', 'Dona': 'Mrs'}\n",
    "\n",
    "dataAll.replace({'Title': mapping}, inplace=True)\n",
    "dataAll.Title.value_counts()    "
   ]
  },
  {
   "cell_type": "code",
   "execution_count": 10,
   "metadata": {
    "ExecuteTime": {
     "end_time": "2018-12-07T10:29:26.131038Z",
     "start_time": "2018-12-07T10:29:25.885874Z"
    }
   },
   "outputs": [
    {
     "data": {
      "text/html": [
       "<div>\n",
       "<style scoped>\n",
       "    .dataframe tbody tr th:only-of-type {\n",
       "        vertical-align: middle;\n",
       "    }\n",
       "\n",
       "    .dataframe tbody tr th {\n",
       "        vertical-align: top;\n",
       "    }\n",
       "\n",
       "    .dataframe thead th {\n",
       "        text-align: right;\n",
       "    }\n",
       "</style>\n",
       "<table border=\"1\" class=\"dataframe\">\n",
       "  <thead>\n",
       "    <tr style=\"text-align: right;\">\n",
       "      <th></th>\n",
       "      <th>Title</th>\n",
       "      <th>Survived</th>\n",
       "    </tr>\n",
       "  </thead>\n",
       "  <tbody>\n",
       "    <tr>\n",
       "      <th>0</th>\n",
       "      <td>Dr</td>\n",
       "      <td>0.428571</td>\n",
       "    </tr>\n",
       "    <tr>\n",
       "      <th>1</th>\n",
       "      <td>Master</td>\n",
       "      <td>0.575000</td>\n",
       "    </tr>\n",
       "    <tr>\n",
       "      <th>2</th>\n",
       "      <td>Miss</td>\n",
       "      <td>0.704301</td>\n",
       "    </tr>\n",
       "    <tr>\n",
       "      <th>3</th>\n",
       "      <td>Mr</td>\n",
       "      <td>0.160000</td>\n",
       "    </tr>\n",
       "    <tr>\n",
       "      <th>4</th>\n",
       "      <td>Mrs</td>\n",
       "      <td>0.795276</td>\n",
       "    </tr>\n",
       "    <tr>\n",
       "      <th>5</th>\n",
       "      <td>Rev</td>\n",
       "      <td>0.000000</td>\n",
       "    </tr>\n",
       "  </tbody>\n",
       "</table>\n",
       "</div>"
      ],
      "text/plain": [
       "    Title  Survived\n",
       "0      Dr  0.428571\n",
       "1  Master  0.575000\n",
       "2    Miss  0.704301\n",
       "3      Mr  0.160000\n",
       "4     Mrs  0.795276\n",
       "5     Rev  0.000000"
      ]
     },
     "execution_count": 10,
     "metadata": {},
     "output_type": "execute_result"
    }
   ],
   "source": [
    "dataAll[:trainVStest][['Title', 'Survived']].groupby(['Title'], as_index=False).mean()"
   ]
  },
  {
   "cell_type": "code",
   "execution_count": 11,
   "metadata": {
    "ExecuteTime": {
     "end_time": "2018-12-07T10:29:26.392211Z",
     "start_time": "2018-12-07T10:29:26.137044Z"
    }
   },
   "outputs": [
    {
     "name": "stdout",
     "output_type": "stream",
     "text": [
      "Title_OHE saved.\n",
      "Title_LE saved.\n"
     ]
    },
    {
     "data": {
      "text/plain": [
       "0"
      ]
     },
     "execution_count": 11,
     "metadata": {},
     "output_type": "execute_result"
    }
   ],
   "source": [
    "#save as OHE\n",
    "featureTitle, col_ = fef.fe_cat_ohe(dataAll, 'Title')\n",
    "fef.save_to_file (featureTitle, 'Title_OHE', dirPath)\n",
    "\n",
    "#save as LE\n",
    "featureTitle, col_ = fef.fe_cat_le(dataAll, 'Title')\n",
    "fef.save_to_file (dataAll['Title'], 'Title_LE', dirPath)"
   ]
  },
  {
   "cell_type": "markdown",
   "metadata": {
    "ExecuteTime": {
     "end_time": "2018-10-31T08:48:09.872281Z",
     "start_time": "2018-10-31T08:48:09.847262Z"
    }
   },
   "source": [
    "### Missing data recovery, AGE\n",
    "Strategy = median Age for Pclass=1 and Gender=0, Pclass=1 and Gender=1, and so on..."
   ]
  },
  {
   "cell_type": "code",
   "execution_count": 12,
   "metadata": {
    "ExecuteTime": {
     "end_time": "2018-12-07T10:29:26.607354Z",
     "start_time": "2018-12-07T10:29:26.394213Z"
    }
   },
   "outputs": [
    {
     "name": "stdout",
     "output_type": "stream",
     "text": [
      "Train:\n",
      " Age    177\n",
      "dtype: int64 \n",
      "\n",
      "Test:\n",
      " Age    86\n",
      "dtype: int64\n"
     ]
    },
    {
     "data": {
      "text/plain": [
       "0"
      ]
     },
     "execution_count": 12,
     "metadata": {},
     "output_type": "execute_result"
    }
   ],
   "source": [
    "sf.check_missing_data(dataAll[:trainVStest], dataAll[trainVStest:], ['Age'])"
   ]
  },
  {
   "cell_type": "code",
   "execution_count": 13,
   "metadata": {
    "ExecuteTime": {
     "end_time": "2018-12-07T10:29:26.872532Z",
     "start_time": "2018-12-07T10:29:26.610357Z"
    }
   },
   "outputs": [],
   "source": [
    "# fill the missing value for Age column with median of its title\n",
    "titles = list(dataAll.Title.unique())\n",
    "for title in titles:\n",
    "    age = dataAll.groupby('Title')['Age'].median().loc[title]\n",
    "    dataAll.loc[(dataAll.Age.isnull()) & (dataAll.Title == title),'Age'] = age"
   ]
  },
  {
   "cell_type": "code",
   "execution_count": 14,
   "metadata": {
    "ExecuteTime": {
     "end_time": "2018-12-07T10:29:27.101685Z",
     "start_time": "2018-12-07T10:29:26.875534Z"
    },
    "code_folding": []
   },
   "outputs": [
    {
     "name": "stdout",
     "output_type": "stream",
     "text": [
      "Train:\n",
      " Age    0\n",
      "dtype: int64 \n",
      "\n",
      "Test:\n",
      " Age    0\n",
      "dtype: int64\n"
     ]
    },
    {
     "data": {
      "text/plain": [
       "0"
      ]
     },
     "execution_count": 14,
     "metadata": {},
     "output_type": "execute_result"
    }
   ],
   "source": [
    "sf.check_missing_data(dataAll[:trainVStest], dataAll[trainVStest:], ['Age'])"
   ]
  },
  {
   "cell_type": "code",
   "execution_count": 15,
   "metadata": {
    "ExecuteTime": {
     "end_time": "2018-12-07T10:29:27.344849Z",
     "start_time": "2018-12-07T10:29:27.105688Z"
    },
    "code_folding": []
   },
   "outputs": [
    {
     "name": "stdout",
     "output_type": "stream",
     "text": [
      "Age_cont saved.\n"
     ]
    },
    {
     "data": {
      "text/plain": [
       "0"
      ]
     },
     "execution_count": 15,
     "metadata": {},
     "output_type": "execute_result"
    }
   ],
   "source": [
    "fef.save_to_file (dataAll['Age'], 'Age_cont', dirPath)"
   ]
  },
  {
   "cell_type": "markdown",
   "metadata": {},
   "source": [
    "### Extract AgeBands from Age"
   ]
  },
  {
   "cell_type": "code",
   "execution_count": 16,
   "metadata": {
    "ExecuteTime": {
     "end_time": "2018-12-07T10:29:27.586010Z",
     "start_time": "2018-12-07T10:29:27.346849Z"
    }
   },
   "outputs": [
    {
     "data": {
      "text/html": [
       "<div>\n",
       "<style scoped>\n",
       "    .dataframe tbody tr th:only-of-type {\n",
       "        vertical-align: middle;\n",
       "    }\n",
       "\n",
       "    .dataframe tbody tr th {\n",
       "        vertical-align: top;\n",
       "    }\n",
       "\n",
       "    .dataframe thead th {\n",
       "        text-align: right;\n",
       "    }\n",
       "</style>\n",
       "<table border=\"1\" class=\"dataframe\">\n",
       "  <thead>\n",
       "    <tr style=\"text-align: right;\">\n",
       "      <th></th>\n",
       "      <th>AgeBin</th>\n",
       "      <th>Survived</th>\n",
       "    </tr>\n",
       "  </thead>\n",
       "  <tbody>\n",
       "    <tr>\n",
       "      <th>0</th>\n",
       "      <td>(0.169, 22.0]</td>\n",
       "      <td>0.450185</td>\n",
       "    </tr>\n",
       "    <tr>\n",
       "      <th>1</th>\n",
       "      <td>(22.0, 30.0]</td>\n",
       "      <td>0.276094</td>\n",
       "    </tr>\n",
       "    <tr>\n",
       "      <th>2</th>\n",
       "      <td>(30.0, 36.0]</td>\n",
       "      <td>0.519685</td>\n",
       "    </tr>\n",
       "    <tr>\n",
       "      <th>3</th>\n",
       "      <td>(36.0, 80.0]</td>\n",
       "      <td>0.367347</td>\n",
       "    </tr>\n",
       "  </tbody>\n",
       "</table>\n",
       "</div>"
      ],
      "text/plain": [
       "          AgeBin  Survived\n",
       "0  (0.169, 22.0]  0.450185\n",
       "1   (22.0, 30.0]  0.276094\n",
       "2   (30.0, 36.0]  0.519685\n",
       "3   (36.0, 80.0]  0.367347"
      ]
     },
     "execution_count": 16,
     "metadata": {},
     "output_type": "execute_result"
    }
   ],
   "source": [
    "dataAll['AgeBin'] = pd.qcut(dataAll['Age'], 4)\n",
    "dataAll[:trainVStest][['AgeBin', 'Survived']].groupby(['AgeBin'], as_index=False).mean().sort_values(by='AgeBin', ascending=True)"
   ]
  },
  {
   "cell_type": "code",
   "execution_count": 17,
   "metadata": {
    "ExecuteTime": {
     "end_time": "2018-12-07T10:29:27.808158Z",
     "start_time": "2018-12-07T10:29:27.590012Z"
    }
   },
   "outputs": [
    {
     "name": "stdout",
     "output_type": "stream",
     "text": [
      "AgeBin_LE saved.\n"
     ]
    }
   ],
   "source": [
    "featureAgeBin, col_ = fef.fe_cat_le(dataAll, 'AgeBin')\n",
    "fef.save_to_file (featureAgeBin, 'AgeBin_LE', dirPath)\n",
    "dataAll.drop('AgeBin', axis=1, inplace=True)"
   ]
  },
  {
   "cell_type": "code",
   "execution_count": 18,
   "metadata": {
    "ExecuteTime": {
     "end_time": "2018-12-07T10:29:28.017298Z",
     "start_time": "2018-12-07T10:29:27.811159Z"
    }
   },
   "outputs": [],
   "source": [
    "#dataAll.head(5)\n"
   ]
  },
  {
   "cell_type": "markdown",
   "metadata": {
    "ExecuteTime": {
     "end_time": "2018-10-31T11:12:35.263398Z",
     "start_time": "2018-10-31T11:12:35.039250Z"
    },
    "heading_collapsed": true
   },
   "source": [
    "### sibsp & parch new features generation"
   ]
  },
  {
   "cell_type": "code",
   "execution_count": 19,
   "metadata": {
    "ExecuteTime": {
     "end_time": "2018-12-07T10:29:28.343514Z",
     "start_time": "2018-12-07T10:29:28.019298Z"
    },
    "hidden": true
   },
   "outputs": [
    {
     "name": "stdout",
     "output_type": "stream",
     "text": [
      "FamilySize_LE saved.\n",
      "SibSp_LE saved.\n",
      "Parch_LE saved.\n"
     ]
    },
    {
     "data": {
      "text/html": [
       "<div>\n",
       "<style scoped>\n",
       "    .dataframe tbody tr th:only-of-type {\n",
       "        vertical-align: middle;\n",
       "    }\n",
       "\n",
       "    .dataframe tbody tr th {\n",
       "        vertical-align: top;\n",
       "    }\n",
       "\n",
       "    .dataframe thead th {\n",
       "        text-align: right;\n",
       "    }\n",
       "</style>\n",
       "<table border=\"1\" class=\"dataframe\">\n",
       "  <thead>\n",
       "    <tr style=\"text-align: right;\">\n",
       "      <th></th>\n",
       "      <th>FamilySize_LE</th>\n",
       "      <th>Survived</th>\n",
       "    </tr>\n",
       "  </thead>\n",
       "  <tbody>\n",
       "    <tr>\n",
       "      <th>3</th>\n",
       "      <td>4</td>\n",
       "      <td>0.724138</td>\n",
       "    </tr>\n",
       "    <tr>\n",
       "      <th>2</th>\n",
       "      <td>3</td>\n",
       "      <td>0.578431</td>\n",
       "    </tr>\n",
       "    <tr>\n",
       "      <th>1</th>\n",
       "      <td>2</td>\n",
       "      <td>0.552795</td>\n",
       "    </tr>\n",
       "    <tr>\n",
       "      <th>6</th>\n",
       "      <td>7</td>\n",
       "      <td>0.333333</td>\n",
       "    </tr>\n",
       "    <tr>\n",
       "      <th>0</th>\n",
       "      <td>1</td>\n",
       "      <td>0.303538</td>\n",
       "    </tr>\n",
       "    <tr>\n",
       "      <th>4</th>\n",
       "      <td>5</td>\n",
       "      <td>0.200000</td>\n",
       "    </tr>\n",
       "    <tr>\n",
       "      <th>5</th>\n",
       "      <td>6</td>\n",
       "      <td>0.136364</td>\n",
       "    </tr>\n",
       "    <tr>\n",
       "      <th>7</th>\n",
       "      <td>8</td>\n",
       "      <td>0.000000</td>\n",
       "    </tr>\n",
       "    <tr>\n",
       "      <th>8</th>\n",
       "      <td>11</td>\n",
       "      <td>0.000000</td>\n",
       "    </tr>\n",
       "  </tbody>\n",
       "</table>\n",
       "</div>"
      ],
      "text/plain": [
       "   FamilySize_LE  Survived\n",
       "3              4  0.724138\n",
       "2              3  0.578431\n",
       "1              2  0.552795\n",
       "6              7  0.333333\n",
       "0              1  0.303538\n",
       "4              5  0.200000\n",
       "5              6  0.136364\n",
       "7              8  0.000000\n",
       "8             11  0.000000"
      ]
     },
     "execution_count": 19,
     "metadata": {},
     "output_type": "execute_result"
    }
   ],
   "source": [
    "dataAll['FamilySize_LE'] = dataAll['SibSp'] + dataAll['Parch'] + 1\n",
    "fef.save_to_file (dataAll['FamilySize_LE'], 'FamilySize_LE', dirPath)\n",
    "\n",
    "fef.save_to_file (dataAll['SibSp'], 'SibSp_LE', dirPath)\n",
    "fef.save_to_file (dataAll['Parch'], 'Parch_LE', dirPath)\n",
    "\n",
    "dataAll[:trainVStest][['FamilySize_LE', 'Survived']].groupby(['FamilySize_LE'], as_index=False).mean().sort_values(by='Survived', ascending=False)"
   ]
  },
  {
   "cell_type": "code",
   "execution_count": 20,
   "metadata": {
    "ExecuteTime": {
     "end_time": "2018-12-07T10:29:28.647722Z",
     "start_time": "2018-12-07T10:29:28.345517Z"
    },
    "hidden": true
   },
   "outputs": [
    {
     "name": "stdout",
     "output_type": "stream",
     "text": [
      "IsAlone_LE saved.\n",
      "HasWifeHasb_LE saved.\n",
      "HasBloodRelatives_LE saved.\n"
     ]
    },
    {
     "data": {
      "text/html": [
       "<div>\n",
       "<style scoped>\n",
       "    .dataframe tbody tr th:only-of-type {\n",
       "        vertical-align: middle;\n",
       "    }\n",
       "\n",
       "    .dataframe tbody tr th {\n",
       "        vertical-align: top;\n",
       "    }\n",
       "\n",
       "    .dataframe thead th {\n",
       "        text-align: right;\n",
       "    }\n",
       "</style>\n",
       "<table border=\"1\" class=\"dataframe\">\n",
       "  <thead>\n",
       "    <tr style=\"text-align: right;\">\n",
       "      <th></th>\n",
       "      <th>IsAlone_LE</th>\n",
       "      <th>Survived</th>\n",
       "    </tr>\n",
       "  </thead>\n",
       "  <tbody>\n",
       "    <tr>\n",
       "      <th>0</th>\n",
       "      <td>0</td>\n",
       "      <td>0.505650</td>\n",
       "    </tr>\n",
       "    <tr>\n",
       "      <th>1</th>\n",
       "      <td>1</td>\n",
       "      <td>0.303538</td>\n",
       "    </tr>\n",
       "  </tbody>\n",
       "</table>\n",
       "</div>"
      ],
      "text/plain": [
       "   IsAlone_LE  Survived\n",
       "0           0  0.505650\n",
       "1           1  0.303538"
      ]
     },
     "execution_count": 20,
     "metadata": {},
     "output_type": "execute_result"
    }
   ],
   "source": [
    "dataAll['IsAlone_LE'] = 0\n",
    "dataAll.loc[dataAll['FamilySize_LE'] == 1, 'IsAlone_LE'] = 1\n",
    "dataAll['HasWifeHasb_LE'] = 0\n",
    "dataAll.loc[dataAll['SibSp'] > 0 , 'HasWifeHasb_LE'] = 1\n",
    "dataAll['HasBloodRelatives_LE'] = 0\n",
    "dataAll.loc[dataAll['Parch'] > 0 , 'HasWifeHasb_LE'] = 1\n",
    "\n",
    "fef.save_to_file (dataAll['IsAlone_LE'], 'IsAlone_LE', dirPath)\n",
    "fef.save_to_file (dataAll['HasWifeHasb_LE'], 'HasWifeHasb_LE', dirPath)\n",
    "fef.save_to_file (dataAll['HasBloodRelatives_LE'], 'HasBloodRelatives_LE', dirPath)\n",
    "\n",
    "dataAll[:trainVStest][['IsAlone_LE', 'Survived']].groupby(['IsAlone_LE'], as_index=False).mean()"
   ]
  },
  {
   "cell_type": "code",
   "execution_count": 21,
   "metadata": {
    "ExecuteTime": {
     "end_time": "2018-12-07T10:29:28.869868Z",
     "start_time": "2018-12-07T10:29:28.652731Z"
    },
    "hidden": true
   },
   "outputs": [],
   "source": [
    "#dataTrain"
   ]
  },
  {
   "cell_type": "markdown",
   "metadata": {
    "ExecuteTime": {
     "end_time": "2018-10-31T11:34:37.287128Z",
     "start_time": "2018-10-31T11:34:37.032959Z"
    },
    "heading_collapsed": true
   },
   "source": [
    "### Syntetical union of features"
   ]
  },
  {
   "cell_type": "code",
   "execution_count": 22,
   "metadata": {
    "ExecuteTime": {
     "end_time": "2018-12-07T10:29:29.099021Z",
     "start_time": "2018-12-07T10:29:28.871868Z"
    },
    "hidden": true
   },
   "outputs": [
    {
     "name": "stdout",
     "output_type": "stream",
     "text": [
      "Age-Class_cont saved.\n"
     ]
    },
    {
     "data": {
      "text/html": [
       "<div>\n",
       "<style scoped>\n",
       "    .dataframe tbody tr th:only-of-type {\n",
       "        vertical-align: middle;\n",
       "    }\n",
       "\n",
       "    .dataframe tbody tr th {\n",
       "        vertical-align: top;\n",
       "    }\n",
       "\n",
       "    .dataframe thead th {\n",
       "        text-align: right;\n",
       "    }\n",
       "</style>\n",
       "<table border=\"1\" class=\"dataframe\">\n",
       "  <thead>\n",
       "    <tr style=\"text-align: right;\">\n",
       "      <th></th>\n",
       "      <th>Age*Class</th>\n",
       "      <th>Age</th>\n",
       "      <th>Pclass</th>\n",
       "    </tr>\n",
       "  </thead>\n",
       "  <tbody>\n",
       "    <tr>\n",
       "      <th>0</th>\n",
       "      <td>66</td>\n",
       "      <td>22.0</td>\n",
       "      <td>3</td>\n",
       "    </tr>\n",
       "    <tr>\n",
       "      <th>1</th>\n",
       "      <td>38</td>\n",
       "      <td>38.0</td>\n",
       "      <td>1</td>\n",
       "    </tr>\n",
       "    <tr>\n",
       "      <th>2</th>\n",
       "      <td>78</td>\n",
       "      <td>26.0</td>\n",
       "      <td>3</td>\n",
       "    </tr>\n",
       "    <tr>\n",
       "      <th>3</th>\n",
       "      <td>35</td>\n",
       "      <td>35.0</td>\n",
       "      <td>1</td>\n",
       "    </tr>\n",
       "    <tr>\n",
       "      <th>4</th>\n",
       "      <td>105</td>\n",
       "      <td>35.0</td>\n",
       "      <td>3</td>\n",
       "    </tr>\n",
       "    <tr>\n",
       "      <th>5</th>\n",
       "      <td>90</td>\n",
       "      <td>30.0</td>\n",
       "      <td>3</td>\n",
       "    </tr>\n",
       "    <tr>\n",
       "      <th>6</th>\n",
       "      <td>54</td>\n",
       "      <td>54.0</td>\n",
       "      <td>1</td>\n",
       "    </tr>\n",
       "    <tr>\n",
       "      <th>7</th>\n",
       "      <td>6</td>\n",
       "      <td>2.0</td>\n",
       "      <td>3</td>\n",
       "    </tr>\n",
       "    <tr>\n",
       "      <th>8</th>\n",
       "      <td>81</td>\n",
       "      <td>27.0</td>\n",
       "      <td>3</td>\n",
       "    </tr>\n",
       "    <tr>\n",
       "      <th>9</th>\n",
       "      <td>28</td>\n",
       "      <td>14.0</td>\n",
       "      <td>2</td>\n",
       "    </tr>\n",
       "  </tbody>\n",
       "</table>\n",
       "</div>"
      ],
      "text/plain": [
       "   Age*Class   Age  Pclass\n",
       "0         66  22.0       3\n",
       "1         38  38.0       1\n",
       "2         78  26.0       3\n",
       "3         35  35.0       1\n",
       "4        105  35.0       3\n",
       "5         90  30.0       3\n",
       "6         54  54.0       1\n",
       "7          6   2.0       3\n",
       "8         81  27.0       3\n",
       "9         28  14.0       2"
      ]
     },
     "execution_count": 22,
     "metadata": {},
     "output_type": "execute_result"
    }
   ],
   "source": [
    "dataAll['Age*Class'] = (dataAll.Age * dataAll.Pclass).astype(int)\n",
    "\n",
    "fef.save_to_file (dataAll['Age*Class'], 'Age-Class_cont', dirPath)\n",
    "    \n",
    "dataAll.loc[:, ['Age*Class', 'Age', 'Pclass']].head(10)"
   ]
  },
  {
   "cell_type": "markdown",
   "metadata": {},
   "source": [
    "### Fare levels"
   ]
  },
  {
   "cell_type": "code",
   "execution_count": 23,
   "metadata": {
    "ExecuteTime": {
     "end_time": "2018-12-07T10:29:29.309161Z",
     "start_time": "2018-12-07T10:29:29.101022Z"
    }
   },
   "outputs": [
    {
     "data": {
      "text/plain": [
       "Age                        0\n",
       "Cabin                   1014\n",
       "Embarked                   2\n",
       "Fare                       1\n",
       "Name                       0\n",
       "Parch                      0\n",
       "PassengerId                0\n",
       "Pclass                     0\n",
       "Sex                        0\n",
       "SibSp                      0\n",
       "Survived                 418\n",
       "Ticket                     0\n",
       "Title                      0\n",
       "FamilySize_LE              0\n",
       "IsAlone_LE                 0\n",
       "HasWifeHasb_LE             0\n",
       "HasBloodRelatives_LE       0\n",
       "Age*Class                  0\n",
       "dtype: int64"
      ]
     },
     "execution_count": 23,
     "metadata": {},
     "output_type": "execute_result"
    }
   ],
   "source": [
    "dataAll.isnull().sum()"
   ]
  },
  {
   "cell_type": "code",
   "execution_count": 24,
   "metadata": {
    "ExecuteTime": {
     "end_time": "2018-12-07T10:29:29.552376Z",
     "start_time": "2018-12-07T10:29:29.312162Z"
    }
   },
   "outputs": [],
   "source": [
    "#for test only\n",
    "def get_median_fare_by_item (pClass, i):\n",
    "    return dataAll.query('Pclass == {}'.format(pClass))['Fare'].mean()\n",
    "    \n",
    "for i in range(len (dataAll)):\n",
    "    if pd.isnull(dataAll.loc[i,'Fare']):\n",
    "        dataAll.loc[i,'Fare'] = get_median_fare_by_item (dataAll.loc[i,'Pclass'], i)"
   ]
  },
  {
   "cell_type": "code",
   "execution_count": 25,
   "metadata": {
    "ExecuteTime": {
     "end_time": "2018-12-07T10:29:29.777473Z",
     "start_time": "2018-12-07T10:29:29.554324Z"
    }
   },
   "outputs": [
    {
     "data": {
      "text/html": [
       "<div>\n",
       "<style scoped>\n",
       "    .dataframe tbody tr th:only-of-type {\n",
       "        vertical-align: middle;\n",
       "    }\n",
       "\n",
       "    .dataframe tbody tr th {\n",
       "        vertical-align: top;\n",
       "    }\n",
       "\n",
       "    .dataframe thead th {\n",
       "        text-align: right;\n",
       "    }\n",
       "</style>\n",
       "<table border=\"1\" class=\"dataframe\">\n",
       "  <thead>\n",
       "    <tr style=\"text-align: right;\">\n",
       "      <th></th>\n",
       "      <th>FareBin</th>\n",
       "      <th>Survived</th>\n",
       "    </tr>\n",
       "  </thead>\n",
       "  <tbody>\n",
       "    <tr>\n",
       "      <th>0</th>\n",
       "      <td>(-0.001, 7.854]</td>\n",
       "      <td>0.217877</td>\n",
       "    </tr>\n",
       "    <tr>\n",
       "      <th>1</th>\n",
       "      <td>(7.854, 10.5]</td>\n",
       "      <td>0.201087</td>\n",
       "    </tr>\n",
       "    <tr>\n",
       "      <th>2</th>\n",
       "      <td>(10.5, 21.558]</td>\n",
       "      <td>0.426901</td>\n",
       "    </tr>\n",
       "    <tr>\n",
       "      <th>3</th>\n",
       "      <td>(21.558, 41.579]</td>\n",
       "      <td>0.443243</td>\n",
       "    </tr>\n",
       "    <tr>\n",
       "      <th>4</th>\n",
       "      <td>(41.579, 512.329]</td>\n",
       "      <td>0.645349</td>\n",
       "    </tr>\n",
       "  </tbody>\n",
       "</table>\n",
       "</div>"
      ],
      "text/plain": [
       "             FareBin  Survived\n",
       "0    (-0.001, 7.854]  0.217877\n",
       "1      (7.854, 10.5]  0.201087\n",
       "2     (10.5, 21.558]  0.426901\n",
       "3   (21.558, 41.579]  0.443243\n",
       "4  (41.579, 512.329]  0.645349"
      ]
     },
     "execution_count": 25,
     "metadata": {},
     "output_type": "execute_result"
    }
   ],
   "source": [
    "dataAll['FareBin'] = pd.qcut(dataAll['Fare'], 5)\n",
    "dataAll[['FareBin', 'Survived']].groupby(['FareBin'], as_index=False).mean().sort_values(by='FareBin', ascending=True)"
   ]
  },
  {
   "cell_type": "code",
   "execution_count": 26,
   "metadata": {
    "ExecuteTime": {
     "end_time": "2018-12-07T10:29:30.008628Z",
     "start_time": "2018-12-07T10:29:29.779477Z"
    }
   },
   "outputs": [
    {
     "name": "stdout",
     "output_type": "stream",
     "text": [
      "Fare_cont saved.\n",
      "FareBin_LE saved.\n"
     ]
    }
   ],
   "source": [
    "#for dataset in [dataTrain, dataTest]:\n",
    "#    dataset['Fare_lev'] = 0\n",
    "#    dataset['Fare_lev'].loc[dataset['Fare'] <= 7.85] = 0\n",
    "#    dataset['Fare_lev'].loc[(dataset['Fare'] > 7.85) & (dataset['Fare'] <= 10.5)] = 1\n",
    "#    dataset['Fare_lev'].loc[(dataset['Fare'] > 10.5) & (dataset['Fare'] <= 21.67)] = 2\n",
    "#    dataset['Fare_lev'].loc[(dataset['Fare'] > 21.67) & (dataset['Fare'] <= 39.7)] = 3\n",
    "#    dataset['Fare_lev'].loc[dataset['Fare'] > 39.7] = 4\n",
    "\n",
    "#fef.save_to_file (dataTrain['Fare_lev'], dataTest['Fare_lev'], dirPath, 'Fare_lev') \n",
    "\n",
    "#dataTrain = dataTrain.drop(['FareBin'], axis=1)\n",
    "\n",
    "#fef.save_to_file (dataTrain['Fare'], dataTest['Fare'], dirPath, 'Fare_cnt')\n",
    "\n",
    "#for dataset in [dataTrain, dataTest]:\n",
    "#    dataset.drop(['Fare'], axis=1)\n",
    "\n",
    "fef.save_to_file (dataAll['Fare'], 'Fare_cont', dirPath)\n",
    "\n",
    "featureAgeBin, col_ = fef.fe_cat_le(dataAll, 'FareBin')\n",
    "fef.save_to_file (featureAgeBin, 'FareBin_LE', dirPath)\n",
    "dataAll.drop('FareBin', axis=1, inplace=True)\n",
    "\n",
    "\n"
   ]
  },
  {
   "cell_type": "markdown",
   "metadata": {
    "ExecuteTime": {
     "end_time": "2018-10-31T20:39:30.333759Z",
     "start_time": "2018-10-31T20:39:30.148634Z"
    },
    "heading_collapsed": true
   },
   "source": [
    "### Cabin to decks"
   ]
  },
  {
   "cell_type": "code",
   "execution_count": 27,
   "metadata": {
    "ExecuteTime": {
     "end_time": "2018-12-07T10:29:30.228776Z",
     "start_time": "2018-12-07T10:29:30.010631Z"
    },
    "hidden": true,
    "scrolled": false
   },
   "outputs": [
    {
     "name": "stdout",
     "output_type": "stream",
     "text": [
      "U    1014\n",
      "C      94\n",
      "B      65\n",
      "D      46\n",
      "E      41\n",
      "A      22\n",
      "F      21\n",
      "G       5\n",
      "T       1\n",
      "Name: Deck, dtype: int64\n"
     ]
    }
   ],
   "source": [
    "#decks = {\"U\": 0, \"A\": 1, \"B\": 2, \"C\": 3, \"D\": 4, \"E\": 5, \"F\": 6, \"G\": 7, \"T\": 0}\n",
    "\n",
    "dataAll['Deck'] = 0\n",
    "dataAll['Deck'] = dataAll['Cabin'].fillna('U').apply(lambda c: c[0])\n",
    "print (dataAll.Deck.value_counts())"
   ]
  },
  {
   "cell_type": "code",
   "execution_count": 28,
   "metadata": {
    "ExecuteTime": {
     "end_time": "2018-12-07T10:29:30.440919Z",
     "start_time": "2018-12-07T10:29:30.230776Z"
    },
    "hidden": true
   },
   "outputs": [
    {
     "name": "stdout",
     "output_type": "stream",
     "text": [
      "U    1015\n",
      "C      94\n",
      "B      65\n",
      "D      46\n",
      "E      41\n",
      "A      22\n",
      "F      21\n",
      "G       5\n",
      "Name: Deck, dtype: int64\n"
     ]
    }
   ],
   "source": [
    "dataAll['Deck'] = dataAll['Deck'].replace('T', 'U')\n",
    "\n",
    "print (dataAll.Deck.value_counts())"
   ]
  },
  {
   "cell_type": "code",
   "execution_count": 29,
   "metadata": {
    "ExecuteTime": {
     "end_time": "2018-12-07T10:29:30.669071Z",
     "start_time": "2018-12-07T10:29:30.444919Z"
    },
    "hidden": true
   },
   "outputs": [
    {
     "name": "stdout",
     "output_type": "stream",
     "text": [
      "Deck_OHE saved.\n",
      "Deck_LE saved.\n"
     ]
    },
    {
     "data": {
      "text/plain": [
       "0"
      ]
     },
     "execution_count": 29,
     "metadata": {},
     "output_type": "execute_result"
    }
   ],
   "source": [
    "#save as OHE\n",
    "featureDeck, col_ = fef.fe_cat_ohe(dataAll, 'Deck')\n",
    "fef.save_to_file (featureDeck, 'Deck_OHE', dirPath)\n",
    "\n",
    "#save as LE\n",
    "featureDeck, col_ = fef.fe_cat_le(dataAll, 'Deck')\n",
    "fef.save_to_file (featureDeck, 'Deck_LE', dirPath)"
   ]
  },
  {
   "cell_type": "markdown",
   "metadata": {},
   "source": [
    "## Stolen features"
   ]
  },
  {
   "cell_type": "markdown",
   "metadata": {
    "heading_collapsed": true
   },
   "source": [
    "### FamilySurvival"
   ]
  },
  {
   "cell_type": "code",
   "execution_count": 30,
   "metadata": {
    "ExecuteTime": {
     "end_time": "2018-12-07T10:29:34.297493Z",
     "start_time": "2018-12-07T10:29:30.671073Z"
    },
    "hidden": true
   },
   "outputs": [
    {
     "name": "stdout",
     "output_type": "stream",
     "text": [
      "Number of passengers with family survival information: 420\n"
     ]
    },
    {
     "data": {
      "text/plain": [
       "0.5    889\n",
       "1.0    218\n",
       "0.0    202\n",
       "Name: FamilySurvival, dtype: int64"
      ]
     },
     "execution_count": 30,
     "metadata": {},
     "output_type": "execute_result"
    }
   ],
   "source": [
    "# This feature is from S.Xu, https://www.kaggle.com/shunjiangxu/blood-is-thicker-than-water-friendship-forever\n",
    "dataAll['LastName'] = dataAll['Name'].apply(lambda x: str.split(x, \",\")[0])\n",
    "#total['Fare'].fillna(total['Fare'].mean(), inplace=True)\n",
    "\n",
    "default_survival_rate = 0.5\n",
    "dataAll['FamilySurvival'] = default_survival_rate\n",
    "\n",
    "for grp, grp_df in dataAll[['Survived','Name', 'LastName', 'Fare', 'Ticket', 'PassengerId',\n",
    "                           'SibSp', 'Parch', 'Age', 'Cabin']].groupby(['LastName', 'Fare']):\n",
    "    \n",
    "    if (len(grp_df) != 1):\n",
    "        # A Family group is found.\n",
    "        for ind, row in grp_df.iterrows():\n",
    "            smax = grp_df.drop(ind)['Survived'].max()\n",
    "            smin = grp_df.drop(ind)['Survived'].min()\n",
    "            passID = row['PassengerId']\n",
    "            if (smax == 1.0):\n",
    "                dataAll.loc[dataAll['PassengerId'] == passID, 'FamilySurvival'] = 1\n",
    "            elif (smin==0.0):\n",
    "                dataAll.loc[dataAll['PassengerId'] == passID, 'FamilySurvival'] = 0\n",
    "\n",
    "print(\"Number of passengers with family survival information:\", \n",
    "      dataAll.loc[dataAll['FamilySurvival']!=0.5].shape[0])\n",
    "dataAll['FamilySurvival'].value_counts()\n"
   ]
  },
  {
   "cell_type": "code",
   "execution_count": 31,
   "metadata": {
    "ExecuteTime": {
     "end_time": "2018-12-07T10:29:36.974282Z",
     "start_time": "2018-12-07T10:29:34.299495Z"
    },
    "hidden": true
   },
   "outputs": [
    {
     "name": "stdout",
     "output_type": "stream",
     "text": [
      "Number of passenger with family/group survival information: 546\n",
      "FamilySurvival_bin saved.\n"
     ]
    },
    {
     "data": {
      "text/plain": [
       "0.5    763\n",
       "1.0    303\n",
       "0.0    243\n",
       "Name: FamilySurvival, dtype: int64"
      ]
     },
     "execution_count": 31,
     "metadata": {},
     "output_type": "execute_result"
    }
   ],
   "source": [
    "for _, grp_df in dataAll.groupby('Ticket'):\n",
    "    if (len(grp_df) != 1):\n",
    "        for ind, row in grp_df.iterrows():\n",
    "            if (row['FamilySurvival'] == 0) | (row['FamilySurvival']== 0.5):\n",
    "                smax = grp_df.drop(ind)['Survived'].max()\n",
    "                smin = grp_df.drop(ind)['Survived'].min()\n",
    "                passID = row['PassengerId']\n",
    "                if (smax == 1.0):\n",
    "                    dataAll.loc[dataAll['PassengerId'] == passID, 'FamilySurvival'] = 1\n",
    "                elif (smin==0.0):\n",
    "                    dataAll.loc[dataAll['PassengerId'] == passID, 'FamilySurvival'] = 0\n",
    "                        \n",
    "print(\"Number of passenger with family/group survival information: \" \n",
    "      +str(dataAll[dataAll['FamilySurvival']!=0.5].shape[0]))\n",
    "fef.save_to_file (dataAll['FamilySurvival'], 'FamilySurvival_bin', dirPath)\n",
    "dataAll['FamilySurvival'].value_counts()"
   ]
  },
  {
   "cell_type": "code",
   "execution_count": 32,
   "metadata": {
    "ExecuteTime": {
     "end_time": "2018-12-07T10:29:37.170416Z",
     "start_time": "2018-12-07T10:29:36.976283Z"
    },
    "hidden": true
   },
   "outputs": [],
   "source": [
    "#dataAll.head()"
   ]
  },
  {
   "cell_type": "markdown",
   "metadata": {
    "ExecuteTime": {
     "end_time": "2018-10-31T22:14:49.888592Z",
     "start_time": "2018-10-31T22:14:49.629421Z"
    }
   },
   "source": [
    "### Drop features"
   ]
  },
  {
   "cell_type": "code",
   "execution_count": 33,
   "metadata": {
    "ExecuteTime": {
     "end_time": "2018-12-07T10:29:37.359539Z",
     "start_time": "2018-12-07T10:29:37.172414Z"
    }
   },
   "outputs": [],
   "source": [
    "#no sense in drop - all features are in files"
   ]
  },
  {
   "cell_type": "markdown",
   "metadata": {},
   "source": [
    "### Final checkers missing values"
   ]
  },
  {
   "cell_type": "code",
   "execution_count": 34,
   "metadata": {
    "ExecuteTime": {
     "end_time": "2018-12-07T10:29:37.564678Z",
     "start_time": "2018-12-07T10:29:37.361542Z"
    }
   },
   "outputs": [
    {
     "data": {
      "text/plain": [
       "Age                        0\n",
       "Cabin                   1014\n",
       "Embarked                   2\n",
       "Fare                       0\n",
       "Name                       0\n",
       "Parch                      0\n",
       "PassengerId                0\n",
       "Pclass                     0\n",
       "Sex                        0\n",
       "SibSp                      0\n",
       "Survived                 418\n",
       "Ticket                     0\n",
       "Title                      0\n",
       "FamilySize_LE              0\n",
       "IsAlone_LE                 0\n",
       "HasWifeHasb_LE             0\n",
       "HasBloodRelatives_LE       0\n",
       "Age*Class                  0\n",
       "Deck                       0\n",
       "LastName                   0\n",
       "FamilySurvival             0\n",
       "dtype: int64"
      ]
     },
     "execution_count": 34,
     "metadata": {},
     "output_type": "execute_result"
    }
   ],
   "source": [
    "dataAll.isnull().sum()\n",
    "#TODO неплохо было бы проверять на уникальные значения в тесте и трейне - чтобы бились"
   ]
  },
  {
   "cell_type": "markdown",
   "metadata": {
    "ExecuteTime": {
     "end_time": "2018-10-31T22:46:19.604129Z",
     "start_time": "2018-10-31T22:46:06.225Z"
    }
   },
   "source": [
    "## what can be done more"
   ]
  },
  {
   "cell_type": "code",
   "execution_count": 35,
   "metadata": {
    "ExecuteTime": {
     "end_time": "2018-12-07T10:29:37.785824Z",
     "start_time": "2018-12-07T10:29:37.566680Z"
    }
   },
   "outputs": [
    {
     "ename": "SyntaxError",
     "evalue": "invalid syntax (<ipython-input-35-034a47c91068>, line 1)",
     "output_type": "error",
     "traceback": [
      "\u001b[1;36m  File \u001b[1;32m\"<ipython-input-35-034a47c91068>\"\u001b[1;36m, line \u001b[1;32m1\u001b[0m\n\u001b[1;33m    - можно восстановить палубу исходя из класса и ценника билета\u001b[0m\n\u001b[1;37m                       ^\u001b[0m\n\u001b[1;31mSyntaxError\u001b[0m\u001b[1;31m:\u001b[0m invalid syntax\n"
     ]
    }
   ],
   "source": [
    "- можно восстановить палубу исходя из класса и ценника билета\n",
    "1 класс - A-E, самые дорогие в B\n",
    "2 и 3 класс - D-G, в D - лучшие"
   ]
  },
  {
   "cell_type": "code",
   "execution_count": null,
   "metadata": {
    "ExecuteTime": {
     "end_time": "2018-12-07T10:29:37.786825Z",
     "start_time": "2018-12-07T10:29:15.547Z"
    }
   },
   "outputs": [],
   "source": [
    "#features_from_other = ['Survived','Pclass','Sex','Family_Size','Family_Survival','Fare_Bin','Age_Bin']\n",
    "featureListForTest = [\n",
    "#'PassengerId',\n",
    "#'Survived',\n",
    "'AGE_cont',\n",
    "'AgeBin_LE',\n",
    "'Age-Class_cont',\n",
    "'Deck_LE',\n",
    "'Deck_OHE',\n",
    "'FamilySize_LE',\n",
    "'Fare_cont',\n",
    "'FareBin_LE',\n",
    "'HasBloodRelatives_LE',\n",
    "'HasWifeHasb_LE',\n",
    "'IsAlone_LE',\n",
    "'Parch_LE',\n",
    "'Pclass_LE',\n",
    "'Sex_LE',\n",
    "'Sex_OHE',\n",
    "'SibSp_LE',\n",
    "'Title_LE',\n",
    "'Title_OHE',\n",
    "'FamilySurvival_bin'\n",
    "]\n",
    "dataAlltmp = fef.create_dataset_from_features (featureListForTest, dirPath)\n",
    "dataAlltmp#.head()"
   ]
  }
 ],
 "metadata": {
  "kernelspec": {
   "display_name": "Python 3",
   "language": "python",
   "name": "python3"
  },
  "language_info": {
   "codemirror_mode": {
    "name": "ipython",
    "version": 3
   },
   "file_extension": ".py",
   "mimetype": "text/x-python",
   "name": "python",
   "nbconvert_exporter": "python",
   "pygments_lexer": "ipython3",
   "version": "3.6.4"
  }
 },
 "nbformat": 4,
 "nbformat_minor": 2
}
