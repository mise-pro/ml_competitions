{
 "cells": [
  {
   "cell_type": "code",
   "execution_count": 1,
   "metadata": {
    "ExecuteTime": {
     "end_time": "2018-10-29T15:54:33.047395Z",
     "start_time": "2018-10-29T15:54:27.625730Z"
    }
   },
   "outputs": [],
   "source": [
    "from sklearn.svm import SVC\n",
    "%load_ext autoreload\n",
    "%autoreload 2\n",
    "import pandas as pd\n",
    "from sklearn.externals import joblib\n",
    "from sklearn.model_selection import StratifiedKFold\n",
    "\n",
    "import sys\n",
    "sys.path.insert(0, 'G:/work/GitHub/ml_baseline_things/functions/')\n",
    "import GridSearchCVcustom as GSC\n",
    "\n"
   ]
  },
  {
   "cell_type": "code",
   "execution_count": 2,
   "metadata": {
    "ExecuteTime": {
     "end_time": "2018-10-29T15:54:33.227345Z",
     "start_time": "2018-10-29T15:54:33.049349Z"
    }
   },
   "outputs": [],
   "source": [
    "#load data\n",
    "dataTrain, dataTarget, _ , dataTrainScaled, _, selectedFeatures = joblib.load('dumps_clean_data/dataDump.pkl')\n",
    "dataTrain = dataTrain[selectedFeatures]\n",
    "dataTrainScaled = dataTrainScaled[selectedFeatures]"
   ]
  },
  {
   "cell_type": "code",
   "execution_count": 3,
   "metadata": {
    "ExecuteTime": {
     "end_time": "2018-10-29T15:54:33.419545Z",
     "start_time": "2018-10-29T15:54:33.229299Z"
    }
   },
   "outputs": [
    {
     "data": {
      "text/plain": [
       "{'clf': SVC(C=1.0, cache_size=200, class_weight=None, coef0=0.0,\n",
       "   decision_function_shape='ovr', degree=3, gamma='auto', kernel='rbf',\n",
       "   max_iter=-1, probability=False, random_state=None, shrinking=True,\n",
       "   tol=0.001, verbose=False)}"
      ]
     },
     "execution_count": 3,
     "metadata": {},
     "output_type": "execute_result"
    }
   ],
   "source": [
    "#check available params\n",
    "pipeline = GSC.get_pipeline_1step(SVC())\n",
    "pipeline.named_steps "
   ]
  },
  {
   "cell_type": "code",
   "execution_count": 4,
   "metadata": {
    "ExecuteTime": {
     "end_time": "2018-10-29T15:54:33.610518Z",
     "start_time": "2018-10-29T15:54:33.421501Z"
    }
   },
   "outputs": [],
   "source": [
    "RS = 100\n",
    "n_splits = 10\n",
    "nSamples = len(dataTrain)\n",
    "cvShuffle = False\n",
    "paramGrid = {'clf': [SVC()],\n",
    "              'clf__random_state': [RS],\n",
    "              #'clf__class_weight': ['balanced'],\n",
    "              'clf__C': [0.01, 0.1, 0.5, 1., 1.5, 2.5, 5, 10., 50.],\n",
    "              'clf__max_iter': [-1]              \n",
    "             }"
   ]
  },
  {
   "cell_type": "markdown",
   "metadata": {},
   "source": [
    "# non-Scaled + StratifiedKFold"
   ]
  },
  {
   "cell_type": "code",
   "execution_count": 5,
   "metadata": {
    "ExecuteTime": {
     "end_time": "2018-10-29T15:58:58.725145Z",
     "start_time": "2018-10-29T15:54:33.612472Z"
    }
   },
   "outputs": [
    {
     "name": "stdout",
     "output_type": "stream",
     "text": [
      "Total iterations exist for provided gridSearch params: 9\n",
      "These steps available to be performed:\n",
      "v Iter 1: clf__C: 0.01  clf__max_iter: -1  clf__random_state: 100  \n",
      "v Iter 2: clf__C: 0.1  clf__max_iter: -1  clf__random_state: 100  \n",
      "v Iter 3: clf__C: 0.5  clf__max_iter: -1  clf__random_state: 100  \n",
      "v Iter 4: clf__C: 1.0  clf__max_iter: -1  clf__random_state: 100  \n",
      "v Iter 5: clf__C: 1.5  clf__max_iter: -1  clf__random_state: 100  \n",
      "v Iter 6: clf__C: 2.5  clf__max_iter: -1  clf__random_state: 100  \n",
      "v Iter 7: clf__C: 5  clf__max_iter: -1  clf__random_state: 100  \n",
      "v Iter 8: clf__C: 10.0  clf__max_iter: -1  clf__random_state: 100  \n",
      "v Iter 9: clf__C: 50.0  clf__max_iter: -1  clf__random_state: 100  \n",
      "\n",
      "\n",
      "--==Calculations...==--\n",
      "New best result = 0.61617 (std = 0.00284) during 30.0 [secs] (iter = 1) for search with params \n",
      "dict_items([('clf', SVC(C=1.0, cache_size=200, class_weight=None, coef0=0.0,\n",
      "  decision_function_shape='ovr', degree=3, gamma='auto', kernel='rbf',\n",
      "  max_iter=-1, probability=False, random_state=None, shrinking=True,\n",
      "  tol=0.001, verbose=False)), ('clf__C', 0.01), ('clf__max_iter', -1), ('clf__random_state', 100)])\n",
      "\n",
      "Iterations to perform: 7\n",
      "Average time for iteration [mins]: 0.49\n",
      "Job will be done in (approximately) [mins] : 3.4\n",
      "\n",
      "New best result = 0.79243 (std = 0.04992) during 30.0 [secs] (iter = 2) for search with params \n",
      "dict_items([('clf', SVC(C=1.0, cache_size=200, class_weight=None, coef0=0.0,\n",
      "  decision_function_shape='ovr', degree=3, gamma='auto', kernel='rbf',\n",
      "  max_iter=-1, probability=False, random_state=None, shrinking=True,\n",
      "  tol=0.001, verbose=False)), ('clf__C', 0.1), ('clf__max_iter', -1), ('clf__random_state', 100)])\n",
      "\n",
      "Iterations to perform: 6\n",
      "Average time for iteration [mins]: 0.49\n",
      "Job will be done in (approximately) [mins] : 3.0\n",
      "\n",
      "New best result = 0.81598 (std = 0.04065) during 30.0 [secs] (iter = 3) for search with params \n",
      "dict_items([('clf', SVC(C=1.0, cache_size=200, class_weight=None, coef0=0.0,\n",
      "  decision_function_shape='ovr', degree=3, gamma='auto', kernel='rbf',\n",
      "  max_iter=-1, probability=False, random_state=None, shrinking=True,\n",
      "  tol=0.001, verbose=False)), ('clf__C', 0.5), ('clf__max_iter', -1), ('clf__random_state', 100)])\n",
      "\n",
      "Iterations to perform: 5\n",
      "Average time for iteration [mins]: 0.49\n",
      "Job will be done in (approximately) [mins] : 2.5\n",
      "\n",
      "New best result = 0.82047 (std = 0.0338) during 30.0 [secs] (iter = 4) for search with params \n",
      "dict_items([('clf', SVC(C=1.0, cache_size=200, class_weight=None, coef0=0.0,\n",
      "  decision_function_shape='ovr', degree=3, gamma='auto', kernel='rbf',\n",
      "  max_iter=-1, probability=False, random_state=None, shrinking=True,\n",
      "  tol=0.001, verbose=False)), ('clf__C', 1.0), ('clf__max_iter', -1), ('clf__random_state', 100)])\n",
      "\n",
      "Iterations to perform: 4\n",
      "Average time for iteration [mins]: 0.5\n",
      "Job will be done in (approximately) [mins] : 2.0\n",
      "\n",
      "New best result = 0.82269 (std = 0.03707) during 29.0 [secs] (iter = 5) for search with params \n",
      "dict_items([('clf', SVC(C=1.0, cache_size=200, class_weight=None, coef0=0.0,\n",
      "  decision_function_shape='ovr', degree=3, gamma='auto', kernel='rbf',\n",
      "  max_iter=-1, probability=False, random_state=None, shrinking=True,\n",
      "  tol=0.001, verbose=False)), ('clf__C', 1.5), ('clf__max_iter', -1), ('clf__random_state', 100)])\n",
      "\n",
      "Iterations to perform: 3\n",
      "Average time for iteration [mins]: 0.49\n",
      "Job will be done in (approximately) [mins] : 1.5\n",
      "\n",
      "Iterations to perform: 2\n",
      "Average time for iteration [mins]: 0.49\n",
      "Job will be done in (approximately) [mins] : 1.0\n",
      "\n",
      "Iterations to perform: 1\n",
      "Average time for iteration [mins]: 0.49\n",
      "Job will be done in (approximately) [mins] : 0.5\n",
      "\n",
      "Iterations to perform: 0\n",
      "Average time for iteration [mins]: 0.49\n",
      "Job will be done in (approximately) [mins] : 0.0\n",
      "\n",
      "Iterations to perform: -1\n",
      "Average time for iteration [mins]: 0.49\n",
      "Job will be done in (approximately) [mins] : -0.5\n",
      "\n",
      "Congrats! All DONE. Total time is [mins]: 4.42\n",
      "BestIter was 5, bestScore = 0.8226920894336625, bestScoreParams = {'clf': SVC(C=1.5, cache_size=200, class_weight=None, coef0=0.0,\n",
      "  decision_function_shape='ovr', degree=3, gamma='auto', kernel='rbf',\n",
      "  max_iter=-1, probability=False, random_state=100, shrinking=True,\n",
      "  tol=0.001, verbose=False)}\n",
      "bestScore = 0.8226920894336625\n",
      "BestScoreParams = {'clf': SVC(C=1.5, cache_size=200, class_weight=None, coef0=0.0,\n",
      "  decision_function_shape='ovr', degree=3, gamma='auto', kernel='rbf',\n",
      "  max_iter=-1, probability=False, random_state=100, shrinking=True,\n",
      "  tol=0.001, verbose=False)}\n"
     ]
    }
   ],
   "source": [
    "cv = StratifiedKFold(n_splits=n_splits, random_state=RS, shuffle=cvShuffle)\n",
    "\n",
    "bestScore, bestScoreParams, bestIter = GSC.GridSearchCVcustom(pipeline, paramGrid, \n",
    "                                                              dataTrain[:nSamples], dataTarget[:nSamples],\n",
    "                                                              cv=cv, n_jobs = -1, pre_dispatch=2,\n",
    "                                                              showSteps=True, itersToPerform ='All')\n",
    "print ('bestScore = {}\\nBestScoreParams = {}'.format(bestScore, bestScoreParams))"
   ]
  },
  {
   "cell_type": "markdown",
   "metadata": {},
   "source": [
    "# Scaled + StratifiedKFold"
   ]
  },
  {
   "cell_type": "code",
   "execution_count": 6,
   "metadata": {
    "ExecuteTime": {
     "end_time": "2018-10-29T16:03:21.786908Z",
     "start_time": "2018-10-29T15:58:58.728077Z"
    }
   },
   "outputs": [
    {
     "name": "stdout",
     "output_type": "stream",
     "text": [
      "Total iterations exist for provided gridSearch params: 9\n",
      "These steps available to be performed:\n",
      "v Iter 1: clf__C: 0.01  clf__max_iter: -1  clf__random_state: 100  \n",
      "v Iter 2: clf__C: 0.1  clf__max_iter: -1  clf__random_state: 100  \n",
      "v Iter 3: clf__C: 0.5  clf__max_iter: -1  clf__random_state: 100  \n",
      "v Iter 4: clf__C: 1.0  clf__max_iter: -1  clf__random_state: 100  \n",
      "v Iter 5: clf__C: 1.5  clf__max_iter: -1  clf__random_state: 100  \n",
      "v Iter 6: clf__C: 2.5  clf__max_iter: -1  clf__random_state: 100  \n",
      "v Iter 7: clf__C: 5  clf__max_iter: -1  clf__random_state: 100  \n",
      "v Iter 8: clf__C: 10.0  clf__max_iter: -1  clf__random_state: 100  \n",
      "v Iter 9: clf__C: 50.0  clf__max_iter: -1  clf__random_state: 100  \n",
      "\n",
      "\n",
      "--==Calculations...==--\n",
      "New best result = 0.62845 (std = 0.01306) during 29.0 [secs] (iter = 1) for search with params \n",
      "dict_items([('clf', SVC(C=1.0, cache_size=200, class_weight=None, coef0=0.0,\n",
      "  decision_function_shape='ovr', degree=3, gamma='auto', kernel='rbf',\n",
      "  max_iter=-1, probability=False, random_state=None, shrinking=True,\n",
      "  tol=0.001, verbose=False)), ('clf__C', 0.01), ('clf__max_iter', -1), ('clf__random_state', 100)])\n",
      "\n",
      "Iterations to perform: 8\n",
      "Average time for iteration [mins]: 0.49\n",
      "Job will be done in (approximately) [mins] : 3.4\n",
      "\n",
      "New best result = 0.80694 (std = 0.02753) during 31.0 [secs] (iter = 2) for search with params \n",
      "dict_items([('clf', SVC(C=1.0, cache_size=200, class_weight=None, coef0=0.0,\n",
      "  decision_function_shape='ovr', degree=3, gamma='auto', kernel='rbf',\n",
      "  max_iter=-1, probability=False, random_state=None, shrinking=True,\n",
      "  tol=0.001, verbose=False)), ('clf__C', 0.1), ('clf__max_iter', -1), ('clf__random_state', 100)])\n",
      "\n",
      "Iterations to perform: 7\n",
      "Average time for iteration [mins]: 0.5\n",
      "Job will be done in (approximately) [mins] : 3.0\n",
      "\n",
      "New best result = 0.8159 (std = 0.02829) during 29.0 [secs] (iter = 3) for search with params \n",
      "dict_items([('clf', SVC(C=1.0, cache_size=200, class_weight=None, coef0=0.0,\n",
      "  decision_function_shape='ovr', degree=3, gamma='auto', kernel='rbf',\n",
      "  max_iter=-1, probability=False, random_state=None, shrinking=True,\n",
      "  tol=0.001, verbose=False)), ('clf__C', 0.5), ('clf__max_iter', -1), ('clf__random_state', 100)])\n",
      "\n",
      "Iterations to perform: 6\n",
      "Average time for iteration [mins]: 0.49\n",
      "Job will be done in (approximately) [mins] : 2.5\n",
      "\n",
      "New best result = 0.81594 (std = 0.03183) during 29.0 [secs] (iter = 4) for search with params \n",
      "dict_items([('clf', SVC(C=1.0, cache_size=200, class_weight=None, coef0=0.0,\n",
      "  decision_function_shape='ovr', degree=3, gamma='auto', kernel='rbf',\n",
      "  max_iter=-1, probability=False, random_state=None, shrinking=True,\n",
      "  tol=0.001, verbose=False)), ('clf__C', 1.0), ('clf__max_iter', -1), ('clf__random_state', 100)])\n",
      "\n",
      "Iterations to perform: 5\n",
      "Average time for iteration [mins]: 0.49\n",
      "Job will be done in (approximately) [mins] : 2.0\n",
      "\n",
      "New best result = 0.8182 (std = 0.03118) during 29.0 [secs] (iter = 5) for search with params \n",
      "dict_items([('clf', SVC(C=1.0, cache_size=200, class_weight=None, coef0=0.0,\n",
      "  decision_function_shape='ovr', degree=3, gamma='auto', kernel='rbf',\n",
      "  max_iter=-1, probability=False, random_state=None, shrinking=True,\n",
      "  tol=0.001, verbose=False)), ('clf__C', 1.5), ('clf__max_iter', -1), ('clf__random_state', 100)])\n",
      "\n",
      "Iterations to perform: 4\n",
      "Average time for iteration [mins]: 0.49\n",
      "Job will be done in (approximately) [mins] : 1.5\n",
      "\n",
      "Iterations to perform: 3\n",
      "Average time for iteration [mins]: 0.49\n",
      "Job will be done in (approximately) [mins] : 1.0\n",
      "\n",
      "Iterations to perform: 2\n",
      "Average time for iteration [mins]: 0.49\n",
      "Job will be done in (approximately) [mins] : 0.5\n",
      "\n",
      "Iterations to perform: 1\n",
      "Average time for iteration [mins]: 0.49\n",
      "Job will be done in (approximately) [mins] : 0.0\n",
      "\n",
      "Iterations to perform: 0\n",
      "Average time for iteration [mins]: 0.49\n",
      "Job will be done in (approximately) [mins] : -0.5\n",
      "\n",
      "Congrats! All DONE. Total time is [mins]: 4.38\n",
      "BestIter was 5, bestScore = 0.8181977074111906, bestScoreParams = {'clf': SVC(C=1.5, cache_size=200, class_weight=None, coef0=0.0,\n",
      "  decision_function_shape='ovr', degree=3, gamma='auto', kernel='rbf',\n",
      "  max_iter=-1, probability=False, random_state=100, shrinking=True,\n",
      "  tol=0.001, verbose=False)}\n",
      "bestScore = 0.8181977074111906\n",
      "BestScoreParams = {'clf': SVC(C=1.5, cache_size=200, class_weight=None, coef0=0.0,\n",
      "  decision_function_shape='ovr', degree=3, gamma='auto', kernel='rbf',\n",
      "  max_iter=-1, probability=False, random_state=100, shrinking=True,\n",
      "  tol=0.001, verbose=False)}\n"
     ]
    }
   ],
   "source": [
    "cv = StratifiedKFold(n_splits=n_splits, random_state=RS, shuffle=cvShuffle)\n",
    "\n",
    "bestScore, bestScoreParams, bestIter = GSC.GridSearchCVcustom(pipeline, paramGrid, \n",
    "                                                              dataTrainScaled[:nSamples], dataTarget[:nSamples],\n",
    "                                                              cv=cv, n_jobs = -1, pre_dispatch=2,\n",
    "                                                              showSteps=True, itersToPerform ='All')\n",
    "print ('bestScore = {}\\nBestScoreParams = {}'.format(bestScore, bestScoreParams))"
   ]
  }
 ],
 "metadata": {
  "kernelspec": {
   "display_name": "Python 3",
   "language": "python",
   "name": "python3"
  },
  "language_info": {
   "codemirror_mode": {
    "name": "ipython",
    "version": 3
   },
   "file_extension": ".py",
   "mimetype": "text/x-python",
   "name": "python",
   "nbconvert_exporter": "python",
   "pygments_lexer": "ipython3",
   "version": "3.6.4"
  }
 },
 "nbformat": 4,
 "nbformat_minor": 2
}
