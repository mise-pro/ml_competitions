{
 "cells": [
  {
   "cell_type": "markdown",
   "metadata": {},
   "source": [
    "## Memory optimizations"
   ]
  },
  {
   "cell_type": "code",
   "execution_count": 1,
   "metadata": {
    "ExecuteTime": {
     "end_time": "2018-11-28T16:51:13.756568Z",
     "start_time": "2018-11-28T16:51:08.058698Z"
    }
   },
   "outputs": [],
   "source": [
    "%load_ext autoreload\n",
    "%autoreload 2\n",
    "\n",
    "import pandas as pd\n",
    "import numpy as np\n",
    "\n",
    "import matplotlib.pyplot as plt\n",
    "%matplotlib inline\n",
    "\n",
    "from sklearn.externals import joblib\n",
    "from sklearn.preprocessing import StandardScaler, MinMaxScaler\n",
    "\n",
    "import sys\n",
    "sys.path.insert(0, 'G:/work/GitHub/ml_baseline_things/functions/')\n",
    "import supportFunctions as sf\n",
    "\n",
    "\n",
    "from sklearn import preprocessing"
   ]
  },
  {
   "cell_type": "code",
   "execution_count": 37,
   "metadata": {
    "ExecuteTime": {
     "end_time": "2018-11-28T17:04:29.345774Z",
     "start_time": "2018-11-28T17:04:29.126627Z"
    }
   },
   "outputs": [
    {
     "name": "stdout",
     "output_type": "stream",
     "text": [
      "Train (891, 12); Test (418, 11); Total (1309, 12).\n",
      "Train (891, 12); Test (418, 11); Total (1309, 12).\n"
     ]
    }
   ],
   "source": [
    "@ надо грузить из других файлов\n",
    "dataRawTrain, dataRawTest, _ = sf.load_raw_data()\n",
    "dataTrain, dataTest, _ = sf.load_raw_data()\n",
    "#dataTrain.head()"
   ]
  },
  {
   "cell_type": "markdown",
   "metadata": {},
   "source": [
    "### Types optimizations"
   ]
  },
  {
   "cell_type": "code",
   "execution_count": null,
   "metadata": {
    "ExecuteTime": {
     "end_time": "2018-11-28T16:50:38.895441Z",
     "start_time": "2018-11-28T16:50:38.707Z"
    }
   },
   "outputs": [],
   "source": [
    "#before\n",
    "dataTrain.info()\n",
    "dataTest.info()\n",
    "#dataTrain.memory_usage()\n",
    "#dataTest.memory_usage()"
   ]
  },
  {
   "cell_type": "code",
   "execution_count": null,
   "metadata": {
    "ExecuteTime": {
     "end_time": "2018-11-28T16:50:38.897445Z",
     "start_time": "2018-11-28T16:50:38.710Z"
    }
   },
   "outputs": [],
   "source": [
    "for dataset in [dataTrain, dataTest, dataTrainScaled, dataTestScaled]:\n",
    "    for column in list(dataset.columns):\n",
    "        if dataset[column].dtype == 'int64':\n",
    "            dataset[column] = dataset[column].astype(int)\n",
    "            continue\n",
    "        if dataset[column].dtype == 'float64':\n",
    "            dataset[column] = dataset[column].astype(np.dtype('Float16'))\n",
    "            continue\n",
    "        if dataset[column].dtype == 'int32':\n",
    "            dataset[column] = dataset[column].astype(np.dtype('uint8'))\n",
    "            continue"
   ]
  },
  {
   "cell_type": "code",
   "execution_count": null,
   "metadata": {
    "ExecuteTime": {
     "end_time": "2018-11-28T16:50:38.899444Z",
     "start_time": "2018-11-28T16:50:38.714Z"
    }
   },
   "outputs": [],
   "source": [
    "dataTrain.info()\n",
    "dataTest.info()"
   ]
  },
  {
   "cell_type": "markdown",
   "metadata": {},
   "source": [
    "### Save data to dump"
   ]
  },
  {
   "cell_type": "code",
   "execution_count": null,
   "metadata": {
    "ExecuteTime": {
     "end_time": "2018-11-28T16:50:38.901448Z",
     "start_time": "2018-11-28T16:50:38.717Z"
    }
   },
   "outputs": [],
   "source": [
    "#TODO дату в файле\n",
    "@comment_if_you_are_ready\n",
    "_ = joblib.dump([dataTrain, dataTrainTarget, dataTest, dataTrainScaled, dataTestScaled], \n",
    "            open('data_modified/dataModified.pkl', 'wb'), 9)"
   ]
  }
 ],
 "metadata": {
  "kernelspec": {
   "display_name": "Python 3",
   "language": "python",
   "name": "python3"
  },
  "language_info": {
   "codemirror_mode": {
    "name": "ipython",
    "version": 3
   },
   "file_extension": ".py",
   "mimetype": "text/x-python",
   "name": "python",
   "nbconvert_exporter": "python",
   "pygments_lexer": "ipython3",
   "version": "3.6.4"
  }
 },
 "nbformat": 4,
 "nbformat_minor": 2
}
