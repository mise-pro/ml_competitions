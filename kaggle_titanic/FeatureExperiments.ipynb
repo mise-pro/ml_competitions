{
 "cells": [
  {
   "cell_type": "code",
   "execution_count": 1,
   "metadata": {
    "ExecuteTime": {
     "end_time": "2018-11-15T11:13:02.859357Z",
     "start_time": "2018-11-15T11:12:55.691268Z"
    }
   },
   "outputs": [],
   "source": [
    "%load_ext autoreload\n",
    "%autoreload 2\n",
    "\n",
    "import pandas as pd\n",
    "import numpy as np\n",
    "\n",
    "import matplotlib.pyplot as plt\n",
    "%matplotlib inline\n",
    "\n",
    "from sklearn.externals import joblib\n",
    "\n",
    "import sys\n",
    "sys.path.insert(0, 'G:/work/GitHub/ml_baseline_things/functions/')\n",
    "import supportFunctions as sf\n",
    "\n",
    "from sklearn.feature_selection import SelectKBest, f_classif, chi2"
   ]
  },
  {
   "cell_type": "code",
   "execution_count": 2,
   "metadata": {
    "ExecuteTime": {
     "end_time": "2018-11-15T11:13:03.039476Z",
     "start_time": "2018-11-15T11:13:02.861357Z"
    }
   },
   "outputs": [],
   "source": [
    "def to_source_columns_order (featureSet, featureRightOrder):\n",
    "    return [feature for feature in featureRightOrder if feature in featureSet]"
   ]
  },
  {
   "cell_type": "code",
   "execution_count": 3,
   "metadata": {
    "ExecuteTime": {
     "end_time": "2018-11-15T11:13:03.253618Z",
     "start_time": "2018-11-15T11:13:03.041478Z"
    }
   },
   "outputs": [
    {
     "name": "stdout",
     "output_type": "stream",
     "text": [
      "Train (891, 30); Test (418, 30); Total (1309, 30).\n"
     ]
    }
   ],
   "source": [
    "dataTrain, dataTrainTarget, dataTest, dataTrainScaled, dataTestScaled = sf.load_modified_data('data_modified/dataModified.pkl')"
   ]
  },
  {
   "cell_type": "code",
   "execution_count": 4,
   "metadata": {
    "ExecuteTime": {
     "end_time": "2018-11-15T11:13:03.795979Z",
     "start_time": "2018-11-15T11:13:03.256625Z"
    }
   },
   "outputs": [
    {
     "data": {
      "text/html": [
       "<div>\n",
       "<style scoped>\n",
       "    .dataframe tbody tr th:only-of-type {\n",
       "        vertical-align: middle;\n",
       "    }\n",
       "\n",
       "    .dataframe tbody tr th {\n",
       "        vertical-align: top;\n",
       "    }\n",
       "\n",
       "    .dataframe thead th {\n",
       "        text-align: right;\n",
       "    }\n",
       "</style>\n",
       "<table border=\"1\" class=\"dataframe\">\n",
       "  <thead>\n",
       "    <tr style=\"text-align: right;\">\n",
       "      <th></th>\n",
       "      <th>Pclass</th>\n",
       "      <th>Sex</th>\n",
       "      <th>Age</th>\n",
       "      <th>SibSp</th>\n",
       "      <th>Parch</th>\n",
       "      <th>Fare</th>\n",
       "      <th>SexD_0</th>\n",
       "      <th>SexD_1</th>\n",
       "      <th>Title</th>\n",
       "      <th>TitleD_1</th>\n",
       "      <th>...</th>\n",
       "      <th>FareBands</th>\n",
       "      <th>DeckF</th>\n",
       "      <th>DeckD_A</th>\n",
       "      <th>DeckD_B</th>\n",
       "      <th>DeckD_C</th>\n",
       "      <th>DeckD_D</th>\n",
       "      <th>DeckD_E</th>\n",
       "      <th>DeckD_F</th>\n",
       "      <th>DeckD_G</th>\n",
       "      <th>DeckD_U</th>\n",
       "    </tr>\n",
       "  </thead>\n",
       "  <tbody>\n",
       "    <tr>\n",
       "      <th>0</th>\n",
       "      <td>3</td>\n",
       "      <td>0</td>\n",
       "      <td>22.0</td>\n",
       "      <td>1</td>\n",
       "      <td>0</td>\n",
       "      <td>7.250000</td>\n",
       "      <td>1</td>\n",
       "      <td>0</td>\n",
       "      <td>1</td>\n",
       "      <td>1</td>\n",
       "      <td>...</td>\n",
       "      <td>0</td>\n",
       "      <td>0</td>\n",
       "      <td>0</td>\n",
       "      <td>0</td>\n",
       "      <td>0</td>\n",
       "      <td>0</td>\n",
       "      <td>0</td>\n",
       "      <td>0</td>\n",
       "      <td>0</td>\n",
       "      <td>1</td>\n",
       "    </tr>\n",
       "    <tr>\n",
       "      <th>1</th>\n",
       "      <td>1</td>\n",
       "      <td>1</td>\n",
       "      <td>38.0</td>\n",
       "      <td>1</td>\n",
       "      <td>0</td>\n",
       "      <td>71.312500</td>\n",
       "      <td>0</td>\n",
       "      <td>1</td>\n",
       "      <td>3</td>\n",
       "      <td>0</td>\n",
       "      <td>...</td>\n",
       "      <td>4</td>\n",
       "      <td>3</td>\n",
       "      <td>0</td>\n",
       "      <td>0</td>\n",
       "      <td>1</td>\n",
       "      <td>0</td>\n",
       "      <td>0</td>\n",
       "      <td>0</td>\n",
       "      <td>0</td>\n",
       "      <td>0</td>\n",
       "    </tr>\n",
       "    <tr>\n",
       "      <th>2</th>\n",
       "      <td>3</td>\n",
       "      <td>1</td>\n",
       "      <td>26.0</td>\n",
       "      <td>0</td>\n",
       "      <td>0</td>\n",
       "      <td>7.925781</td>\n",
       "      <td>0</td>\n",
       "      <td>1</td>\n",
       "      <td>2</td>\n",
       "      <td>0</td>\n",
       "      <td>...</td>\n",
       "      <td>1</td>\n",
       "      <td>0</td>\n",
       "      <td>0</td>\n",
       "      <td>0</td>\n",
       "      <td>0</td>\n",
       "      <td>0</td>\n",
       "      <td>0</td>\n",
       "      <td>0</td>\n",
       "      <td>0</td>\n",
       "      <td>1</td>\n",
       "    </tr>\n",
       "    <tr>\n",
       "      <th>3</th>\n",
       "      <td>1</td>\n",
       "      <td>1</td>\n",
       "      <td>35.0</td>\n",
       "      <td>1</td>\n",
       "      <td>0</td>\n",
       "      <td>53.093750</td>\n",
       "      <td>0</td>\n",
       "      <td>1</td>\n",
       "      <td>3</td>\n",
       "      <td>0</td>\n",
       "      <td>...</td>\n",
       "      <td>4</td>\n",
       "      <td>3</td>\n",
       "      <td>0</td>\n",
       "      <td>0</td>\n",
       "      <td>1</td>\n",
       "      <td>0</td>\n",
       "      <td>0</td>\n",
       "      <td>0</td>\n",
       "      <td>0</td>\n",
       "      <td>0</td>\n",
       "    </tr>\n",
       "    <tr>\n",
       "      <th>4</th>\n",
       "      <td>3</td>\n",
       "      <td>0</td>\n",
       "      <td>35.0</td>\n",
       "      <td>0</td>\n",
       "      <td>0</td>\n",
       "      <td>8.046875</td>\n",
       "      <td>1</td>\n",
       "      <td>0</td>\n",
       "      <td>1</td>\n",
       "      <td>1</td>\n",
       "      <td>...</td>\n",
       "      <td>1</td>\n",
       "      <td>0</td>\n",
       "      <td>0</td>\n",
       "      <td>0</td>\n",
       "      <td>0</td>\n",
       "      <td>0</td>\n",
       "      <td>0</td>\n",
       "      <td>0</td>\n",
       "      <td>0</td>\n",
       "      <td>1</td>\n",
       "    </tr>\n",
       "  </tbody>\n",
       "</table>\n",
       "<p>5 rows × 30 columns</p>\n",
       "</div>"
      ],
      "text/plain": [
       "   Pclass  Sex   Age  SibSp  Parch       Fare  SexD_0  SexD_1  Title  \\\n",
       "0       3    0  22.0      1      0   7.250000       1       0      1   \n",
       "1       1    1  38.0      1      0  71.312500       0       1      3   \n",
       "2       3    1  26.0      0      0   7.925781       0       1      2   \n",
       "3       1    1  35.0      1      0  53.093750       0       1      3   \n",
       "4       3    0  35.0      0      0   8.046875       1       0      1   \n",
       "\n",
       "   TitleD_1   ...     FareBands  DeckF  DeckD_A  DeckD_B  DeckD_C  DeckD_D  \\\n",
       "0         1   ...             0      0        0        0        0        0   \n",
       "1         0   ...             4      3        0        0        1        0   \n",
       "2         0   ...             1      0        0        0        0        0   \n",
       "3         0   ...             4      3        0        0        1        0   \n",
       "4         1   ...             1      0        0        0        0        0   \n",
       "\n",
       "   DeckD_E  DeckD_F  DeckD_G  DeckD_U  \n",
       "0        0        0        0        1  \n",
       "1        0        0        0        0  \n",
       "2        0        0        0        1  \n",
       "3        0        0        0        0  \n",
       "4        0        0        0        1  \n",
       "\n",
       "[5 rows x 30 columns]"
      ]
     },
     "execution_count": 4,
     "metadata": {},
     "output_type": "execute_result"
    }
   ],
   "source": [
    "dataTrain.head()"
   ]
  },
  {
   "cell_type": "code",
   "execution_count": 5,
   "metadata": {
    "ExecuteTime": {
     "end_time": "2018-11-15T11:13:03.981102Z",
     "start_time": "2018-11-15T11:13:03.797981Z"
    }
   },
   "outputs": [
    {
     "data": {
      "text/html": [
       "<div>\n",
       "<style scoped>\n",
       "    .dataframe tbody tr th:only-of-type {\n",
       "        vertical-align: middle;\n",
       "    }\n",
       "\n",
       "    .dataframe tbody tr th {\n",
       "        vertical-align: top;\n",
       "    }\n",
       "\n",
       "    .dataframe thead th {\n",
       "        text-align: right;\n",
       "    }\n",
       "</style>\n",
       "<table border=\"1\" class=\"dataframe\">\n",
       "  <thead>\n",
       "    <tr style=\"text-align: right;\">\n",
       "      <th></th>\n",
       "      <th>0</th>\n",
       "    </tr>\n",
       "  </thead>\n",
       "  <tbody>\n",
       "    <tr>\n",
       "      <th>0</th>\n",
       "      <td>Pclass</td>\n",
       "    </tr>\n",
       "    <tr>\n",
       "      <th>1</th>\n",
       "      <td>Sex</td>\n",
       "    </tr>\n",
       "    <tr>\n",
       "      <th>2</th>\n",
       "      <td>Age</td>\n",
       "    </tr>\n",
       "    <tr>\n",
       "      <th>3</th>\n",
       "      <td>SibSp</td>\n",
       "    </tr>\n",
       "    <tr>\n",
       "      <th>4</th>\n",
       "      <td>Parch</td>\n",
       "    </tr>\n",
       "    <tr>\n",
       "      <th>5</th>\n",
       "      <td>Fare</td>\n",
       "    </tr>\n",
       "    <tr>\n",
       "      <th>6</th>\n",
       "      <td>SexD_0</td>\n",
       "    </tr>\n",
       "    <tr>\n",
       "      <th>7</th>\n",
       "      <td>SexD_1</td>\n",
       "    </tr>\n",
       "    <tr>\n",
       "      <th>8</th>\n",
       "      <td>Title</td>\n",
       "    </tr>\n",
       "    <tr>\n",
       "      <th>9</th>\n",
       "      <td>TitleD_1</td>\n",
       "    </tr>\n",
       "    <tr>\n",
       "      <th>10</th>\n",
       "      <td>TitleD_2</td>\n",
       "    </tr>\n",
       "    <tr>\n",
       "      <th>11</th>\n",
       "      <td>TitleD_3</td>\n",
       "    </tr>\n",
       "    <tr>\n",
       "      <th>12</th>\n",
       "      <td>TitleD_4</td>\n",
       "    </tr>\n",
       "    <tr>\n",
       "      <th>13</th>\n",
       "      <td>TitleD_5</td>\n",
       "    </tr>\n",
       "    <tr>\n",
       "      <th>14</th>\n",
       "      <td>AgeBands</td>\n",
       "    </tr>\n",
       "    <tr>\n",
       "      <th>15</th>\n",
       "      <td>FamilySize</td>\n",
       "    </tr>\n",
       "    <tr>\n",
       "      <th>16</th>\n",
       "      <td>IsAlone</td>\n",
       "    </tr>\n",
       "    <tr>\n",
       "      <th>17</th>\n",
       "      <td>HasWifeHasb</td>\n",
       "    </tr>\n",
       "    <tr>\n",
       "      <th>18</th>\n",
       "      <td>HasBloodRelatives</td>\n",
       "    </tr>\n",
       "    <tr>\n",
       "      <th>19</th>\n",
       "      <td>Age*Class</td>\n",
       "    </tr>\n",
       "    <tr>\n",
       "      <th>20</th>\n",
       "      <td>FareBands</td>\n",
       "    </tr>\n",
       "    <tr>\n",
       "      <th>21</th>\n",
       "      <td>DeckF</td>\n",
       "    </tr>\n",
       "    <tr>\n",
       "      <th>22</th>\n",
       "      <td>DeckD_A</td>\n",
       "    </tr>\n",
       "    <tr>\n",
       "      <th>23</th>\n",
       "      <td>DeckD_B</td>\n",
       "    </tr>\n",
       "    <tr>\n",
       "      <th>24</th>\n",
       "      <td>DeckD_C</td>\n",
       "    </tr>\n",
       "    <tr>\n",
       "      <th>25</th>\n",
       "      <td>DeckD_D</td>\n",
       "    </tr>\n",
       "    <tr>\n",
       "      <th>26</th>\n",
       "      <td>DeckD_E</td>\n",
       "    </tr>\n",
       "    <tr>\n",
       "      <th>27</th>\n",
       "      <td>DeckD_F</td>\n",
       "    </tr>\n",
       "    <tr>\n",
       "      <th>28</th>\n",
       "      <td>DeckD_G</td>\n",
       "    </tr>\n",
       "    <tr>\n",
       "      <th>29</th>\n",
       "      <td>DeckD_U</td>\n",
       "    </tr>\n",
       "  </tbody>\n",
       "</table>\n",
       "</div>"
      ],
      "text/plain": [
       "                    0\n",
       "0              Pclass\n",
       "1                 Sex\n",
       "2                 Age\n",
       "3               SibSp\n",
       "4               Parch\n",
       "5                Fare\n",
       "6              SexD_0\n",
       "7              SexD_1\n",
       "8               Title\n",
       "9            TitleD_1\n",
       "10           TitleD_2\n",
       "11           TitleD_3\n",
       "12           TitleD_4\n",
       "13           TitleD_5\n",
       "14           AgeBands\n",
       "15         FamilySize\n",
       "16            IsAlone\n",
       "17        HasWifeHasb\n",
       "18  HasBloodRelatives\n",
       "19          Age*Class\n",
       "20          FareBands\n",
       "21              DeckF\n",
       "22            DeckD_A\n",
       "23            DeckD_B\n",
       "24            DeckD_C\n",
       "25            DeckD_D\n",
       "26            DeckD_E\n",
       "27            DeckD_F\n",
       "28            DeckD_G\n",
       "29            DeckD_U"
      ]
     },
     "execution_count": 5,
     "metadata": {},
     "output_type": "execute_result"
    }
   ],
   "source": [
    "pd.DataFrame(dataTrain.columns)"
   ]
  },
  {
   "cell_type": "markdown",
   "metadata": {},
   "source": [
    "## SelectKBest"
   ]
  },
  {
   "cell_type": "code",
   "execution_count": 6,
   "metadata": {
    "ExecuteTime": {
     "end_time": "2018-11-15T11:13:04.502451Z",
     "start_time": "2018-11-15T11:13:03.983105Z"
    }
   },
   "outputs": [
    {
     "name": "stderr",
     "output_type": "stream",
     "text": [
      "C:\\ProgramData\\Anaconda3\\lib\\site-packages\\sklearn\\feature_selection\\univariate_selection.py:113: UserWarning: Features [18] are constant.\n",
      "  UserWarning)\n",
      "C:\\ProgramData\\Anaconda3\\lib\\site-packages\\sklearn\\feature_selection\\univariate_selection.py:114: RuntimeWarning: invalid value encountered in true_divide\n",
      "  f = msb / msw\n"
     ]
    },
    {
     "data": {
      "image/png": "[encoded data removed]",
      "text/plain": [
       "<matplotlib.figure.Figure at 0x7c5d9517b8>"
      ]
     },
     "metadata": {},
     "output_type": "display_data"
    }
   ],
   "source": [
    "fCount = 15\n",
    "\n",
    "#f_classif\n",
    "selector = SelectKBest(f_classif, k=fCount)\n",
    "selector.fit(dataTrain, dataTrainTarget)\n",
    "#scores = np.log10(selector.scores_)\n",
    "scores = selector.scores_\n",
    "\n",
    "plt.bar(range(len(dataTrain.columns)), scores)\n",
    "plt.xticks(range(len(dataTrain.columns)), dataTrain.columns, rotation='vertical')\n",
    "plt.show()"
   ]
  },
  {
   "cell_type": "code",
   "execution_count": 7,
   "metadata": {
    "ExecuteTime": {
     "end_time": "2018-11-15T11:13:04.681571Z",
     "start_time": "2018-11-15T11:13:04.504452Z"
    }
   },
   "outputs": [
    {
     "data": {
      "text/plain": [
       "['Pclass',\n",
       " 'Sex',\n",
       " 'Fare',\n",
       " 'SexD_0',\n",
       " 'SexD_1',\n",
       " 'Title',\n",
       " 'TitleD_1',\n",
       " 'TitleD_2',\n",
       " 'TitleD_3',\n",
       " 'IsAlone',\n",
       " 'HasWifeHasb',\n",
       " 'Age*Class',\n",
       " 'FareBands',\n",
       " 'DeckF',\n",
       " 'DeckD_U']"
      ]
     },
     "execution_count": 7,
     "metadata": {},
     "output_type": "execute_result"
    }
   ],
   "source": [
    "fScores = pd.DataFrame(selector.scores_, columns=['fScores'])\n",
    "topFScores = (\n",
    "    fScores.join(pd.DataFrame(dataTrain.columns, columns=['fName']))\n",
    "    .sort_values(by='fScores', ascending=False)\n",
    "    .head(fCount)\n",
    "    #.sort_index()\n",
    "    .fName)\n",
    "selectedFeatures1 = to_source_columns_order(list(topFScores), dataTrain.columns)\n",
    "#list(topFScores)\n",
    "#dataTrain[selectedFeatures].head()\n",
    "selectedFeatures1"
   ]
  },
  {
   "cell_type": "code",
   "execution_count": 8,
   "metadata": {
    "ExecuteTime": {
     "end_time": "2018-11-15T11:13:05.199917Z",
     "start_time": "2018-11-15T11:13:04.683576Z"
    }
   },
   "outputs": [
    {
     "data": {
      "image/png": "[encoded data removed]",
      "text/plain": [
       "<matplotlib.figure.Figure at 0x7c5d8d7c88>"
      ]
     },
     "metadata": {},
     "output_type": "display_data"
    }
   ],
   "source": [
    "#chi2\n",
    "selector = SelectKBest(chi2, k=fCount)\n",
    "selector.fit(dataTrain, dataTrainTarget)\n",
    "#scores = np.log10(selector.scores_)\n",
    "scores = selector.scores_\n",
    "\n",
    "plt.bar(range(len(dataTrain.columns)), scores)\n",
    "plt.xticks(range(len(dataTrain.columns)), dataTrain.columns, rotation='vertical')\n",
    "plt.show()"
   ]
  },
  {
   "cell_type": "code",
   "execution_count": 9,
   "metadata": {
    "ExecuteTime": {
     "end_time": "2018-11-15T11:13:05.386041Z",
     "start_time": "2018-11-15T11:13:05.202917Z"
    }
   },
   "outputs": [
    {
     "data": {
      "text/plain": [
       "['Pclass',\n",
       " 'Sex',\n",
       " 'Fare',\n",
       " 'SexD_0',\n",
       " 'SexD_1',\n",
       " 'Title',\n",
       " 'TitleD_1',\n",
       " 'TitleD_2',\n",
       " 'TitleD_3',\n",
       " 'HasWifeHasb',\n",
       " 'Age*Class',\n",
       " 'FareBands',\n",
       " 'DeckF',\n",
       " 'DeckD_B',\n",
       " 'DeckD_U']"
      ]
     },
     "execution_count": 9,
     "metadata": {},
     "output_type": "execute_result"
    }
   ],
   "source": [
    "fScores = pd.DataFrame(selector.scores_, columns=['fScores'])\n",
    "topFScores = (\n",
    "    fScores.join(pd.DataFrame(dataTrain.columns, columns=['fName']))\n",
    "    .sort_values(by='fScores', ascending=False)\n",
    "    .head(fCount)\n",
    "    #.sort_index()\n",
    "    .fName)\n",
    "selectedFeatures2 = to_source_columns_order(list(topFScores), dataTrain.columns)\n",
    "selectedFeatures2"
   ]
  },
  {
   "cell_type": "code",
   "execution_count": 10,
   "metadata": {
    "ExecuteTime": {
     "end_time": "2018-11-15T11:13:05.561158Z",
     "start_time": "2018-11-15T11:13:05.388043Z"
    }
   },
   "outputs": [
    {
     "name": "stdout",
     "output_type": "stream",
     "text": [
      "Both feature selections iters have these features:\n",
      "\n",
      "['Pclass', 'Sex', 'Fare', 'SexD_0', 'SexD_1', 'Title', 'TitleD_1', 'TitleD_2', 'TitleD_3', 'HasWifeHasb', 'Age*Class', 'FareBands', 'DeckF', 'DeckD_U'] \n",
      "\n",
      "Only in one feature selection: \n",
      "\n",
      "['IsAlone', 'DeckD_B'] \n",
      "\n"
     ]
    }
   ],
   "source": [
    "selectedFeatures1and2 = to_source_columns_order(set(selectedFeatures1) & set(selectedFeatures2), dataTrain.columns)\n",
    "selectedFeatures1xor2 = to_source_columns_order(set(selectedFeatures1) ^ set(selectedFeatures2), dataTrain.columns)\n",
    "\n",
    "print ('Both feature selections iters have these features:\\n')\n",
    "print (selectedFeatures1and2,'\\n')\n",
    "print ('Only in one feature selection: \\n')\n",
    "print (selectedFeatures1xor2,'\\n')"
   ]
  },
  {
   "cell_type": "markdown",
   "metadata": {},
   "source": [
    "## Using logistic regression"
   ]
  },
  {
   "cell_type": "code",
   "execution_count": 11,
   "metadata": {
    "ExecuteTime": {
     "end_time": "2018-11-15T11:13:05.935430Z",
     "start_time": "2018-11-15T11:13:05.563160Z"
    }
   },
   "outputs": [
    {
     "data": {
      "text/plain": [
       "['Pclass',\n",
       " 'Sex',\n",
       " 'SibSp',\n",
       " 'SexD_0',\n",
       " 'SexD_1',\n",
       " 'Title',\n",
       " 'TitleD_1',\n",
       " 'TitleD_3',\n",
       " 'TitleD_4',\n",
       " 'TitleD_5',\n",
       " 'HasWifeHasb',\n",
       " 'DeckD_C',\n",
       " 'DeckD_D',\n",
       " 'DeckD_E',\n",
       " 'DeckD_G']"
      ]
     },
     "execution_count": 11,
     "metadata": {},
     "output_type": "execute_result"
    }
   ],
   "source": [
    "# Logistic Regression\n",
    "from sklearn.linear_model import LogisticRegression\n",
    "\n",
    "lrModel = LogisticRegression()\n",
    "lrModel.fit(dataTrain, dataTrainTarget)\n",
    "\n",
    "fScores = lrModel.coef_[0]\n",
    "\n",
    "topFScores = pd.DataFrame(dataTrain.columns, columns=['fName'])\n",
    "topFScores[\"Correlation\"] = pd.Series(fScores)\n",
    "topFScores[\"CorrelationAbs\"] = abs(topFScores[\"Correlation\"])\n",
    "\n",
    "topFScores = ( \n",
    "    topFScores\n",
    "    .sort_values(by='CorrelationAbs', ascending=False)\n",
    "    .head(fCount)\n",
    "    #.sort_index()\n",
    "    .fName)\n",
    "selectedFeaturesLR = to_source_columns_order(list(topFScores), dataTrain.columns)\n",
    "selectedFeaturesLR\n"
   ]
  },
  {
   "cell_type": "code",
   "execution_count": 12,
   "metadata": {
    "ExecuteTime": {
     "end_time": "2018-11-15T11:13:06.130558Z",
     "start_time": "2018-11-15T11:13:05.937431Z"
    }
   },
   "outputs": [
    {
     "name": "stdout",
     "output_type": "stream",
     "text": [
      "Both feature selections iters have these features:\n",
      "\n",
      "['Pclass', 'Sex', 'SexD_0', 'SexD_1', 'Title', 'TitleD_1', 'TitleD_3', 'HasWifeHasb'] \n",
      "\n",
      "Only in one feature selection: \n",
      "\n",
      "['Pclass', 'Sex', 'SibSp', 'SexD_0', 'SexD_1', 'Title', 'TitleD_1', 'TitleD_3', 'TitleD_4', 'TitleD_5', 'IsAlone', 'HasWifeHasb', 'DeckD_B', 'DeckD_C', 'DeckD_D', 'DeckD_E', 'DeckD_G']\n"
     ]
    }
   ],
   "source": [
    "selectedFeatures12andLR = to_source_columns_order(set(selectedFeatures1and2) & set(selectedFeaturesLR), dataTrain.columns)\n",
    "selectedFeatures12xorLR = to_source_columns_order(set(selectedFeatures1xor2) ^ set(selectedFeaturesLR), dataTrain.columns)\n",
    "print ('Both feature selections iters have these features:\\n')\n",
    "print (selectedFeatures12andLR, '\\n')\n",
    "print ('Only in one feature selection: \\n')\n",
    "print (selectedFeatures12xorLR)"
   ]
  },
  {
   "cell_type": "markdown",
   "metadata": {},
   "source": [
    "## Final Selecting features"
   ]
  },
  {
   "cell_type": "code",
   "execution_count": 13,
   "metadata": {
    "ExecuteTime": {
     "end_time": "2018-11-15T11:13:06.457779Z",
     "start_time": "2018-11-15T11:13:06.133560Z"
    }
   },
   "outputs": [
    {
     "data": {
      "text/plain": [
       "['Pclass',\n",
       " 'Sex',\n",
       " 'Fare',\n",
       " 'SexD_0',\n",
       " 'SexD_1',\n",
       " 'Title',\n",
       " 'TitleD_1',\n",
       " 'TitleD_2',\n",
       " 'TitleD_3',\n",
       " 'IsAlone',\n",
       " 'HasWifeHasb',\n",
       " 'Age*Class',\n",
       " 'FareBands',\n",
       " 'DeckF',\n",
       " 'DeckD_U']"
      ]
     },
     "execution_count": 13,
     "metadata": {},
     "output_type": "execute_result"
    }
   ],
   "source": [
    "#TODO как визуализировать выбранные признаки?\n",
    "selectedFeatures1"
   ]
  },
  {
   "cell_type": "code",
   "execution_count": 14,
   "metadata": {
    "ExecuteTime": {
     "end_time": "2018-11-15T11:13:06.838588Z",
     "start_time": "2018-11-15T11:13:06.460778Z"
    }
   },
   "outputs": [
    {
     "data": {
      "text/plain": [
       "['Pclass',\n",
       " 'Sex',\n",
       " 'Fare',\n",
       " 'SexD_0',\n",
       " 'SexD_1',\n",
       " 'Title',\n",
       " 'TitleD_1',\n",
       " 'TitleD_2',\n",
       " 'TitleD_3',\n",
       " 'HasWifeHasb',\n",
       " 'Age*Class',\n",
       " 'FareBands',\n",
       " 'DeckF',\n",
       " 'DeckD_B',\n",
       " 'DeckD_U']"
      ]
     },
     "execution_count": 14,
     "metadata": {},
     "output_type": "execute_result"
    }
   ],
   "source": [
    "selectedFeatures2"
   ]
  },
  {
   "cell_type": "code",
   "execution_count": 15,
   "metadata": {
    "ExecuteTime": {
     "end_time": "2018-11-15T11:13:07.199828Z",
     "start_time": "2018-11-15T11:13:06.845092Z"
    }
   },
   "outputs": [
    {
     "data": {
      "text/plain": [
       "['Pclass',\n",
       " 'Sex',\n",
       " 'SibSp',\n",
       " 'SexD_0',\n",
       " 'SexD_1',\n",
       " 'Title',\n",
       " 'TitleD_1',\n",
       " 'TitleD_3',\n",
       " 'TitleD_4',\n",
       " 'TitleD_5',\n",
       " 'HasWifeHasb',\n",
       " 'DeckD_C',\n",
       " 'DeckD_D',\n",
       " 'DeckD_E',\n",
       " 'DeckD_G']"
      ]
     },
     "execution_count": 15,
     "metadata": {},
     "output_type": "execute_result"
    }
   ],
   "source": [
    "selectedFeaturesLR"
   ]
  },
  {
   "cell_type": "markdown",
   "metadata": {},
   "source": [
    "## delete duplicates"
   ]
  },
  {
   "cell_type": "code",
   "execution_count": 24,
   "metadata": {
    "ExecuteTime": {
     "end_time": "2018-11-15T12:06:09.965733Z",
     "start_time": "2018-11-15T12:06:09.794553Z"
    }
   },
   "outputs": [],
   "source": [
    "comment this line if sure\n",
    "selectedFeatures1 = ['Pclass',\n",
    " #'Sex',\n",
    " #'Fare',\n",
    " 'SexD_0',\n",
    " 'SexD_1',\n",
    " #'Title',\n",
    " 'TitleD_1',\n",
    " 'TitleD_2',\n",
    " 'TitleD_3',\n",
    " 'IsAlone',\n",
    " 'HasWifeHasb',\n",
    " 'Age*Class',\n",
    " 'FareBands',\n",
    " 'DeckF',\n",
    " 'DeckD_U']\n",
    "\n",
    "selectedFeatures2 = ['Pclass',\n",
    " #'Sex',\n",
    " #'Fare',\n",
    " 'SexD_0',\n",
    " 'SexD_1',\n",
    " #'Title',\n",
    " 'TitleD_1',\n",
    " 'TitleD_2',\n",
    " 'TitleD_3',\n",
    " 'HasWifeHasb',\n",
    " 'Age*Class',\n",
    " 'FareBands',\n",
    " 'DeckF',\n",
    " 'DeckD_B',\n",
    " 'DeckD_U']\n",
    "\n",
    "selectedFeaturesLR = list(dataTrain.columns)"
   ]
  },
  {
   "cell_type": "markdown",
   "metadata": {},
   "source": [
    "## Save to disk"
   ]
  },
  {
   "cell_type": "code",
   "execution_count": 25,
   "metadata": {
    "ExecuteTime": {
     "end_time": "2018-11-15T12:06:13.164773Z",
     "start_time": "2018-11-15T12:06:13.001666Z"
    }
   },
   "outputs": [],
   "source": [
    "comment this line if sure\n",
    "from datetime import datetime\n",
    "_ = joblib.dump([selectedFeatures1, selectedFeatures2, selectedFeaturesLR], \n",
    "            open('data_modified/selectedFeatures--{}.pkl'.format(datetime.now().strftime(\"%Y-%m-%d--%H-%M\")), 'wb'), 9)"
   ]
  }
 ],
 "metadata": {
  "kernelspec": {
   "display_name": "Python 3",
   "language": "python",
   "name": "python3"
  },
  "language_info": {
   "codemirror_mode": {
    "name": "ipython",
    "version": 3
   },
   "file_extension": ".py",
   "mimetype": "text/x-python",
   "name": "python",
   "nbconvert_exporter": "python",
   "pygments_lexer": "ipython3",
   "version": "3.6.4"
  }
 },
 "nbformat": 4,
 "nbformat_minor": 2
}
