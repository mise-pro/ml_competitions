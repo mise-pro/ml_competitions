{
 "cells": [
  {
   "cell_type": "code",
   "execution_count": 10,
   "metadata": {
    "ExecuteTime": {
     "end_time": "2018-10-17T14:28:12.148787Z",
     "start_time": "2018-10-17T14:28:12.117767Z"
    }
   },
   "outputs": [],
   "source": [
    "import numpy as np\n",
    "import pandas as pd\n",
    "from sklearn.metrics import mean_squared_error, roc_auc_score\n",
    "\n",
    "#import argparse\n",
    "import os\n",
    "import pandas as pd\n",
    "import pickle\n",
    "import time\n",
    "import math\n",
    "import seaborn as sns\n",
    "\n",
    "from sklearn.linear_model import Ridge, LogisticRegression\n",
    "from sklearn.preprocessing import StandardScaler\n",
    "\n",
    "import lightgbm as lgb\n",
    "\n",
    "from sklearn import model_selection\n",
    "\n",
    "from utils import transform_datetime_features\n",
    "from sdsj_feat import load_data\n",
    "%matplotlib inline"
   ]
  },
  {
   "cell_type": "code",
   "execution_count": 2,
   "metadata": {
    "ExecuteTime": {
     "end_time": "2018-10-17T14:16:08.769625Z",
     "start_time": "2018-10-17T14:16:08.439958Z"
    }
   },
   "outputs": [
    {
     "name": "stdout",
     "output_type": "stream",
     "text": [
      "Dataset read, shape (13958, 10)\n",
      "Transform datetime done, shape (13958, 10)\n",
      "Transform categorical done, shape (13958, 10)\n",
      "Used 8 columns\n"
     ]
    },
    {
     "data": {
      "text/html": [
       "<div>\n",
       "<style scoped>\n",
       "    .dataframe tbody tr th:only-of-type {\n",
       "        vertical-align: middle;\n",
       "    }\n",
       "\n",
       "    .dataframe tbody tr th {\n",
       "        vertical-align: top;\n",
       "    }\n",
       "\n",
       "    .dataframe thead th {\n",
       "        text-align: right;\n",
       "    }\n",
       "</style>\n",
       "<table border=\"1\" class=\"dataframe\">\n",
       "  <thead>\n",
       "    <tr style=\"text-align: right;\">\n",
       "      <th></th>\n",
       "      <th>string_0</th>\n",
       "      <th>string_1</th>\n",
       "      <th>number_0</th>\n",
       "      <th>number_1</th>\n",
       "      <th>number_2</th>\n",
       "      <th>number_3</th>\n",
       "      <th>number_4</th>\n",
       "      <th>number_5</th>\n",
       "      <th>target</th>\n",
       "      <th>is_test</th>\n",
       "      <th>line_id</th>\n",
       "    </tr>\n",
       "  </thead>\n",
       "  <tbody>\n",
       "    <tr>\n",
       "      <th>0</th>\n",
       "      <td>Самара</td>\n",
       "      <td>Monday</td>\n",
       "      <td>173639.0</td>\n",
       "      <td>120.961599</td>\n",
       "      <td>NaN</td>\n",
       "      <td>9363.0</td>\n",
       "      <td>NaN</td>\n",
       "      <td>15</td>\n",
       "      <td>1.003</td>\n",
       "      <td>0</td>\n",
       "      <td>0</td>\n",
       "    </tr>\n",
       "    <tr>\n",
       "      <th>1</th>\n",
       "      <td>Самара</td>\n",
       "      <td>Thursday</td>\n",
       "      <td>239584.0</td>\n",
       "      <td>173.295883</td>\n",
       "      <td>NaN</td>\n",
       "      <td>13617.0</td>\n",
       "      <td>NaN</td>\n",
       "      <td>6</td>\n",
       "      <td>4.101</td>\n",
       "      <td>0</td>\n",
       "      <td>1</td>\n",
       "    </tr>\n",
       "    <tr>\n",
       "      <th>2</th>\n",
       "      <td>Москва</td>\n",
       "      <td>Monday</td>\n",
       "      <td>127507.0</td>\n",
       "      <td>111.757457</td>\n",
       "      <td>130038.0</td>\n",
       "      <td>7550.0</td>\n",
       "      <td>11514.0</td>\n",
       "      <td>7</td>\n",
       "      <td>0.373</td>\n",
       "      <td>0</td>\n",
       "      <td>3</td>\n",
       "    </tr>\n",
       "    <tr>\n",
       "      <th>3</th>\n",
       "      <td>Москва</td>\n",
       "      <td>Saturday</td>\n",
       "      <td>25494.0</td>\n",
       "      <td>15.318535</td>\n",
       "      <td>24960.0</td>\n",
       "      <td>2350.0</td>\n",
       "      <td>5068.0</td>\n",
       "      <td>1</td>\n",
       "      <td>3.750</td>\n",
       "      <td>0</td>\n",
       "      <td>4</td>\n",
       "    </tr>\n",
       "    <tr>\n",
       "      <th>4</th>\n",
       "      <td>Москва</td>\n",
       "      <td>Tuesday</td>\n",
       "      <td>10562.0</td>\n",
       "      <td>7.108631</td>\n",
       "      <td>9562.0</td>\n",
       "      <td>1107.0</td>\n",
       "      <td>2037.0</td>\n",
       "      <td>10</td>\n",
       "      <td>0.807</td>\n",
       "      <td>0</td>\n",
       "      <td>6</td>\n",
       "    </tr>\n",
       "  </tbody>\n",
       "</table>\n",
       "</div>"
      ],
      "text/plain": [
       "  string_0  string_1  number_0    number_1  number_2  number_3  number_4  \\\n",
       "0   Самара    Monday  173639.0  120.961599       NaN    9363.0       NaN   \n",
       "1   Самара  Thursday  239584.0  173.295883       NaN   13617.0       NaN   \n",
       "2   Москва    Monday  127507.0  111.757457  130038.0    7550.0   11514.0   \n",
       "3   Москва  Saturday   25494.0   15.318535   24960.0    2350.0    5068.0   \n",
       "4   Москва   Tuesday   10562.0    7.108631    9562.0    1107.0    2037.0   \n",
       "\n",
       "   number_5  target  is_test  line_id  \n",
       "0        15   1.003        0        0  \n",
       "1         6   4.101        0        1  \n",
       "2         7   0.373        0        3  \n",
       "3         1   3.750        0        4  \n",
       "4        10   0.807        0        6  "
      ]
     },
     "execution_count": 2,
     "metadata": {},
     "output_type": "execute_result"
    }
   ],
   "source": [
    "#datasets = ['check_1_r', 'check_2_r', 'check_3_r', 'check_4_c', 'check_5_c', 'check_6_c', 'check_7_c', 'check_8_c']\n",
    "dataset = 'check_2_r'\n",
    "result_dir = './res'\n",
    "data_dir = './data'\n",
    "df = pd.read_csv('{}/{}/train.csv'.format(data_dir, dataset))\n",
    "df_X, df_y, model_config, _ = load_data('{}/{}/train.csv'.format(data_dir, dataset))\n",
    "df.head()"
   ]
  },
  {
   "cell_type": "markdown",
   "metadata": {},
   "source": [
    "# 1. отобрать только важные признаки"
   ]
  },
  {
   "cell_type": "code",
   "execution_count": 5,
   "metadata": {
    "ExecuteTime": {
     "end_time": "2018-10-17T14:19:01.056477Z",
     "start_time": "2018-10-17T14:19:00.508521Z"
    }
   },
   "outputs": [
    {
     "data": {
      "text/html": [
       "<div>\n",
       "<style scoped>\n",
       "    .dataframe tbody tr th:only-of-type {\n",
       "        vertical-align: middle;\n",
       "    }\n",
       "\n",
       "    .dataframe tbody tr th {\n",
       "        vertical-align: top;\n",
       "    }\n",
       "\n",
       "    .dataframe thead th {\n",
       "        text-align: right;\n",
       "    }\n",
       "</style>\n",
       "<table border=\"1\" class=\"dataframe\">\n",
       "  <thead>\n",
       "    <tr style=\"text-align: right;\">\n",
       "      <th></th>\n",
       "      <th>number_0</th>\n",
       "      <th>number_1</th>\n",
       "      <th>number_2</th>\n",
       "      <th>number_3</th>\n",
       "      <th>number_4</th>\n",
       "      <th>number_5</th>\n",
       "      <th>target</th>\n",
       "      <th>is_test</th>\n",
       "      <th>line_id</th>\n",
       "    </tr>\n",
       "  </thead>\n",
       "  <tbody>\n",
       "    <tr>\n",
       "      <th>number_0</th>\n",
       "      <td>1.000000</td>\n",
       "      <td>0.984128</td>\n",
       "      <td>0.976346</td>\n",
       "      <td>0.993297</td>\n",
       "      <td>0.960395</td>\n",
       "      <td>-0.101723</td>\n",
       "      <td>0.502504</td>\n",
       "      <td>NaN</td>\n",
       "      <td>-0.012369</td>\n",
       "    </tr>\n",
       "    <tr>\n",
       "      <th>number_1</th>\n",
       "      <td>0.984128</td>\n",
       "      <td>1.000000</td>\n",
       "      <td>0.974282</td>\n",
       "      <td>0.970569</td>\n",
       "      <td>0.949724</td>\n",
       "      <td>-0.140340</td>\n",
       "      <td>0.556520</td>\n",
       "      <td>NaN</td>\n",
       "      <td>-0.006781</td>\n",
       "    </tr>\n",
       "    <tr>\n",
       "      <th>number_2</th>\n",
       "      <td>0.976346</td>\n",
       "      <td>0.974282</td>\n",
       "      <td>1.000000</td>\n",
       "      <td>0.972236</td>\n",
       "      <td>0.983914</td>\n",
       "      <td>-0.113174</td>\n",
       "      <td>0.461161</td>\n",
       "      <td>NaN</td>\n",
       "      <td>-0.005503</td>\n",
       "    </tr>\n",
       "    <tr>\n",
       "      <th>number_3</th>\n",
       "      <td>0.993297</td>\n",
       "      <td>0.970569</td>\n",
       "      <td>0.972236</td>\n",
       "      <td>1.000000</td>\n",
       "      <td>0.958651</td>\n",
       "      <td>-0.106679</td>\n",
       "      <td>0.514988</td>\n",
       "      <td>NaN</td>\n",
       "      <td>-0.012507</td>\n",
       "    </tr>\n",
       "    <tr>\n",
       "      <th>number_4</th>\n",
       "      <td>0.960395</td>\n",
       "      <td>0.949724</td>\n",
       "      <td>0.983914</td>\n",
       "      <td>0.958651</td>\n",
       "      <td>1.000000</td>\n",
       "      <td>-0.115909</td>\n",
       "      <td>0.456735</td>\n",
       "      <td>NaN</td>\n",
       "      <td>-0.006738</td>\n",
       "    </tr>\n",
       "    <tr>\n",
       "      <th>number_5</th>\n",
       "      <td>-0.101723</td>\n",
       "      <td>-0.140340</td>\n",
       "      <td>-0.113174</td>\n",
       "      <td>-0.106679</td>\n",
       "      <td>-0.115909</td>\n",
       "      <td>1.000000</td>\n",
       "      <td>-0.196349</td>\n",
       "      <td>NaN</td>\n",
       "      <td>-0.006132</td>\n",
       "    </tr>\n",
       "    <tr>\n",
       "      <th>target</th>\n",
       "      <td>0.502504</td>\n",
       "      <td>0.556520</td>\n",
       "      <td>0.461161</td>\n",
       "      <td>0.514988</td>\n",
       "      <td>0.456735</td>\n",
       "      <td>-0.196349</td>\n",
       "      <td>1.000000</td>\n",
       "      <td>NaN</td>\n",
       "      <td>-0.002895</td>\n",
       "    </tr>\n",
       "    <tr>\n",
       "      <th>is_test</th>\n",
       "      <td>NaN</td>\n",
       "      <td>NaN</td>\n",
       "      <td>NaN</td>\n",
       "      <td>NaN</td>\n",
       "      <td>NaN</td>\n",
       "      <td>NaN</td>\n",
       "      <td>NaN</td>\n",
       "      <td>NaN</td>\n",
       "      <td>NaN</td>\n",
       "    </tr>\n",
       "    <tr>\n",
       "      <th>line_id</th>\n",
       "      <td>-0.012369</td>\n",
       "      <td>-0.006781</td>\n",
       "      <td>-0.005503</td>\n",
       "      <td>-0.012507</td>\n",
       "      <td>-0.006738</td>\n",
       "      <td>-0.006132</td>\n",
       "      <td>-0.002895</td>\n",
       "      <td>NaN</td>\n",
       "      <td>1.000000</td>\n",
       "    </tr>\n",
       "  </tbody>\n",
       "</table>\n",
       "</div>"
      ],
      "text/plain": [
       "          number_0  number_1  number_2  number_3  number_4  number_5  \\\n",
       "number_0  1.000000  0.984128  0.976346  0.993297  0.960395 -0.101723   \n",
       "number_1  0.984128  1.000000  0.974282  0.970569  0.949724 -0.140340   \n",
       "number_2  0.976346  0.974282  1.000000  0.972236  0.983914 -0.113174   \n",
       "number_3  0.993297  0.970569  0.972236  1.000000  0.958651 -0.106679   \n",
       "number_4  0.960395  0.949724  0.983914  0.958651  1.000000 -0.115909   \n",
       "number_5 -0.101723 -0.140340 -0.113174 -0.106679 -0.115909  1.000000   \n",
       "target    0.502504  0.556520  0.461161  0.514988  0.456735 -0.196349   \n",
       "is_test        NaN       NaN       NaN       NaN       NaN       NaN   \n",
       "line_id  -0.012369 -0.006781 -0.005503 -0.012507 -0.006738 -0.006132   \n",
       "\n",
       "            target  is_test   line_id  \n",
       "number_0  0.502504      NaN -0.012369  \n",
       "number_1  0.556520      NaN -0.006781  \n",
       "number_2  0.461161      NaN -0.005503  \n",
       "number_3  0.514988      NaN -0.012507  \n",
       "number_4  0.456735      NaN -0.006738  \n",
       "number_5 -0.196349      NaN -0.006132  \n",
       "target    1.000000      NaN -0.002895  \n",
       "is_test        NaN      NaN       NaN  \n",
       "line_id  -0.002895      NaN  1.000000  "
      ]
     },
     "execution_count": 5,
     "metadata": {},
     "output_type": "execute_result"
    },
    {
     "data": {
      "image/png": "[encoded data removed]",
      "text/plain": [
       "<matplotlib.figure.Figure at 0x8da1f1dfd0>"
      ]
     },
     "metadata": {},
     "output_type": "display_data"
    }
   ],
   "source": [
    "sns.heatmap(df.corr(), annot=True)\n",
    "df.corr()"
   ]
  },
  {
   "cell_type": "code",
   "execution_count": 106,
   "metadata": {
    "ExecuteTime": {
     "end_time": "2018-10-18T15:48:47.177796Z",
     "start_time": "2018-10-18T15:48:47.170791Z"
    }
   },
   "outputs": [],
   "source": [
    "def get_most_correlated_columns (df, level, target = 'target'):\n",
    "    \n",
    "    columns = (df.dropna()\n",
    "     .corr()\n",
    "     [target]\n",
    "     .map(lambda x: abs(x))\n",
    "     .sort_values(ascending=False)\n",
    "     .loc[lambda x: x > level]\n",
    "     .index\n",
    "              )\n",
    "    return df[columns], columns"
   ]
  },
  {
   "cell_type": "code",
   "execution_count": 107,
   "metadata": {
    "ExecuteTime": {
     "end_time": "2018-10-18T15:48:48.138618Z",
     "start_time": "2018-10-18T15:48:48.116598Z"
    }
   },
   "outputs": [
    {
     "data": {
      "text/plain": [
       "Index(['target', 'number_1', 'number_3', 'number_0', 'number_2', 'number_4'], dtype='object')"
      ]
     },
     "execution_count": 107,
     "metadata": {},
     "output_type": "execute_result"
    }
   ],
   "source": [
    "dfMostCorr, columnsMostCorr = get_most_correlated_columns (df, .4, 'target')\n",
    "columnsMostCorr"
   ]
  },
  {
   "cell_type": "markdown",
   "metadata": {
    "ExecuteTime": {
     "end_time": "2018-10-17T16:48:10.088640Z",
     "start_time": "2018-10-17T16:48:10.084636Z"
    }
   },
   "source": [
    "# 2. построить стратегию для предобработки пропущенных данных"
   ]
  },
  {
   "cell_type": "code",
   "execution_count": 162,
   "metadata": {
    "ExecuteTime": {
     "end_time": "2018-10-18T17:24:27.591073Z",
     "start_time": "2018-10-18T17:24:27.580066Z"
    }
   },
   "outputs": [
    {
     "data": {
      "text/plain": [
       "string_0       0\n",
       "string_1       0\n",
       "number_0     199\n",
       "number_1       0\n",
       "number_2    3930\n",
       "number_3     199\n",
       "number_4    3930\n",
       "number_5       0\n",
       "target         0\n",
       "is_test        0\n",
       "line_id        0\n",
       "dtype: int64"
      ]
     },
     "execution_count": 162,
     "metadata": {},
     "output_type": "execute_result"
    }
   ],
   "source": [
    "# идея: взять наиболее значимую колонку и по ней восстановить пропущенные\n",
    "df.isnull().sum()"
   ]
  },
  {
   "cell_type": "code",
   "execution_count": 154,
   "metadata": {
    "ExecuteTime": {
     "end_time": "2018-10-18T17:22:32.796258Z",
     "start_time": "2018-10-18T17:22:32.735218Z"
    }
   },
   "outputs": [
    {
     "data": {
      "text/html": [
       "<div>\n",
       "<style scoped>\n",
       "    .dataframe tbody tr th:only-of-type {\n",
       "        vertical-align: middle;\n",
       "    }\n",
       "\n",
       "    .dataframe tbody tr th {\n",
       "        vertical-align: top;\n",
       "    }\n",
       "\n",
       "    .dataframe thead th {\n",
       "        text-align: right;\n",
       "    }\n",
       "</style>\n",
       "<table border=\"1\" class=\"dataframe\">\n",
       "  <thead>\n",
       "    <tr style=\"text-align: right;\">\n",
       "      <th></th>\n",
       "      <th>number_0</th>\n",
       "      <th>number_1</th>\n",
       "      <th>number_2</th>\n",
       "      <th>number_3</th>\n",
       "      <th>number_4</th>\n",
       "      <th>number_5</th>\n",
       "      <th>target</th>\n",
       "      <th>is_test</th>\n",
       "      <th>line_id</th>\n",
       "    </tr>\n",
       "  </thead>\n",
       "  <tbody>\n",
       "    <tr>\n",
       "      <th>count</th>\n",
       "      <td>1.375900e+04</td>\n",
       "      <td>13958.000000</td>\n",
       "      <td>1.002800e+04</td>\n",
       "      <td>13759.000000</td>\n",
       "      <td>10028.000000</td>\n",
       "      <td>13958.000000</td>\n",
       "      <td>13958.000000</td>\n",
       "      <td>13958.0</td>\n",
       "      <td>13958.000000</td>\n",
       "    </tr>\n",
       "    <tr>\n",
       "      <th>mean</th>\n",
       "      <td>4.699422e+05</td>\n",
       "      <td>377.618126</td>\n",
       "      <td>4.028625e+05</td>\n",
       "      <td>23124.075151</td>\n",
       "      <td>32773.118169</td>\n",
       "      <td>6.234919</td>\n",
       "      <td>2.713485</td>\n",
       "      <td>0.0</td>\n",
       "      <td>9959.730764</td>\n",
       "    </tr>\n",
       "    <tr>\n",
       "      <th>std</th>\n",
       "      <td>7.144992e+05</td>\n",
       "      <td>532.443690</td>\n",
       "      <td>6.721022e+05</td>\n",
       "      <td>33451.212991</td>\n",
       "      <td>50953.531324</td>\n",
       "      <td>2.829829</td>\n",
       "      <td>2.344721</td>\n",
       "      <td>0.0</td>\n",
       "      <td>5740.080848</td>\n",
       "    </tr>\n",
       "    <tr>\n",
       "      <th>min</th>\n",
       "      <td>0.000000e+00</td>\n",
       "      <td>0.000000</td>\n",
       "      <td>0.000000e+00</td>\n",
       "      <td>0.000000</td>\n",
       "      <td>0.000000</td>\n",
       "      <td>1.000000</td>\n",
       "      <td>0.009000</td>\n",
       "      <td>0.0</td>\n",
       "      <td>0.000000</td>\n",
       "    </tr>\n",
       "    <tr>\n",
       "      <th>25%</th>\n",
       "      <td>2.849100e+04</td>\n",
       "      <td>18.943256</td>\n",
       "      <td>1.729400e+04</td>\n",
       "      <td>2531.000000</td>\n",
       "      <td>3903.000000</td>\n",
       "      <td>5.000000</td>\n",
       "      <td>1.009000</td>\n",
       "      <td>0.0</td>\n",
       "      <td>5007.250000</td>\n",
       "    </tr>\n",
       "    <tr>\n",
       "      <th>50%</th>\n",
       "      <td>2.738700e+05</td>\n",
       "      <td>236.020561</td>\n",
       "      <td>1.978200e+05</td>\n",
       "      <td>13792.000000</td>\n",
       "      <td>15492.000000</td>\n",
       "      <td>5.000000</td>\n",
       "      <td>2.002000</td>\n",
       "      <td>0.0</td>\n",
       "      <td>9950.500000</td>\n",
       "    </tr>\n",
       "    <tr>\n",
       "      <th>75%</th>\n",
       "      <td>5.647030e+05</td>\n",
       "      <td>474.502791</td>\n",
       "      <td>4.934702e+05</td>\n",
       "      <td>27273.000000</td>\n",
       "      <td>37483.000000</td>\n",
       "      <td>7.000000</td>\n",
       "      <td>3.432750</td>\n",
       "      <td>0.0</td>\n",
       "      <td>14894.750000</td>\n",
       "    </tr>\n",
       "    <tr>\n",
       "      <th>max</th>\n",
       "      <td>1.050700e+07</td>\n",
       "      <td>7870.182502</td>\n",
       "      <td>8.592943e+06</td>\n",
       "      <td>479683.000000</td>\n",
       "      <td>544460.000000</td>\n",
       "      <td>36.000000</td>\n",
       "      <td>20.927000</td>\n",
       "      <td>0.0</td>\n",
       "      <td>19933.000000</td>\n",
       "    </tr>\n",
       "  </tbody>\n",
       "</table>\n",
       "</div>"
      ],
      "text/plain": [
       "           number_0      number_1      number_2       number_3       number_4  \\\n",
       "count  1.375900e+04  13958.000000  1.002800e+04   13759.000000   10028.000000   \n",
       "mean   4.699422e+05    377.618126  4.028625e+05   23124.075151   32773.118169   \n",
       "std    7.144992e+05    532.443690  6.721022e+05   33451.212991   50953.531324   \n",
       "min    0.000000e+00      0.000000  0.000000e+00       0.000000       0.000000   \n",
       "25%    2.849100e+04     18.943256  1.729400e+04    2531.000000    3903.000000   \n",
       "50%    2.738700e+05    236.020561  1.978200e+05   13792.000000   15492.000000   \n",
       "75%    5.647030e+05    474.502791  4.934702e+05   27273.000000   37483.000000   \n",
       "max    1.050700e+07   7870.182502  8.592943e+06  479683.000000  544460.000000   \n",
       "\n",
       "           number_5        target  is_test       line_id  \n",
       "count  13958.000000  13958.000000  13958.0  13958.000000  \n",
       "mean       6.234919      2.713485      0.0   9959.730764  \n",
       "std        2.829829      2.344721      0.0   5740.080848  \n",
       "min        1.000000      0.009000      0.0      0.000000  \n",
       "25%        5.000000      1.009000      0.0   5007.250000  \n",
       "50%        5.000000      2.002000      0.0   9950.500000  \n",
       "75%        7.000000      3.432750      0.0  14894.750000  \n",
       "max       36.000000     20.927000      0.0  19933.000000  "
      ]
     },
     "execution_count": 154,
     "metadata": {},
     "output_type": "execute_result"
    }
   ],
   "source": [
    "df.describe()"
   ]
  },
  {
   "cell_type": "code",
   "execution_count": 214,
   "metadata": {
    "ExecuteTime": {
     "end_time": "2018-10-18T18:09:19.878298Z",
     "start_time": "2018-10-18T18:09:17.217440Z"
    }
   },
   "outputs": [
    {
     "data": {
      "text/plain": [
       "0           target\n",
       "0       1.003\n",
       "1       4.101\n",
       "2   ...\n",
       "1           target\n",
       "0       1.003\n",
       "1       4.101\n",
       "2   ...\n",
       "2                                               130038\n",
       "3                                                24960\n",
       "4                                                 9562\n",
       "Name: number_2, dtype: object"
      ]
     },
     "execution_count": 214,
     "metadata": {},
     "output_type": "execute_result"
    }
   ],
   "source": [
    "#df.target()\n",
    "def my_func(targetValue): \n",
    "    return targetValue\n",
    "\n",
    "df.number_2.apply(lambda x: my_func(df[[target]]) if pd.isna(x) else x).head()\n"
   ]
  },
  {
   "cell_type": "code",
   "execution_count": null,
   "metadata": {
    "ExecuteTime": {
     "end_time": "2018-10-18T17:49:18.354761Z",
     "start_time": "2018-10-18T17:49:18.337748Z"
    }
   },
   "outputs": [],
   "source": []
  },
  {
   "cell_type": "code",
   "execution_count": 208,
   "metadata": {
    "ExecuteTime": {
     "end_time": "2018-10-18T18:04:03.810132Z",
     "start_time": "2018-10-18T18:04:03.773109Z"
    }
   },
   "outputs": [
    {
     "data": {
      "text/html": [
       "<div>\n",
       "<style scoped>\n",
       "    .dataframe tbody tr th:only-of-type {\n",
       "        vertical-align: middle;\n",
       "    }\n",
       "\n",
       "    .dataframe tbody tr th {\n",
       "        vertical-align: top;\n",
       "    }\n",
       "\n",
       "    .dataframe thead th {\n",
       "        text-align: right;\n",
       "    }\n",
       "</style>\n",
       "<table border=\"1\" class=\"dataframe\">\n",
       "  <thead>\n",
       "    <tr style=\"text-align: right;\">\n",
       "      <th></th>\n",
       "      <th>number_0</th>\n",
       "      <th>number_1</th>\n",
       "      <th>number_2</th>\n",
       "      <th>number_3</th>\n",
       "      <th>number_4</th>\n",
       "      <th>number_5</th>\n",
       "      <th>target</th>\n",
       "      <th>is_test</th>\n",
       "      <th>line_id</th>\n",
       "    </tr>\n",
       "    <tr>\n",
       "      <th>target</th>\n",
       "      <th></th>\n",
       "      <th></th>\n",
       "      <th></th>\n",
       "      <th></th>\n",
       "      <th></th>\n",
       "      <th></th>\n",
       "      <th></th>\n",
       "      <th></th>\n",
       "      <th></th>\n",
       "    </tr>\n",
       "  </thead>\n",
       "  <tbody>\n",
       "    <tr>\n",
       "      <th>(0.008, 1.009]</th>\n",
       "      <td>133849.746777</td>\n",
       "      <td>110.541396</td>\n",
       "      <td>1.290353e+05</td>\n",
       "      <td>7294.945861</td>\n",
       "      <td>12405.021767</td>\n",
       "      <td>6.985105</td>\n",
       "      <td>0.847552</td>\n",
       "      <td>0.0</td>\n",
       "      <td>9886.299341</td>\n",
       "    </tr>\n",
       "    <tr>\n",
       "      <th>(1.009, 2.002]</th>\n",
       "      <td>309744.961594</td>\n",
       "      <td>245.208494</td>\n",
       "      <td>3.134106e+05</td>\n",
       "      <td>15477.503583</td>\n",
       "      <td>26122.257300</td>\n",
       "      <td>6.609057</td>\n",
       "      <td>1.481763</td>\n",
       "      <td>0.0</td>\n",
       "      <td>9988.525652</td>\n",
       "    </tr>\n",
       "    <tr>\n",
       "      <th>(2.002, 3.433]</th>\n",
       "      <td>470272.716456</td>\n",
       "      <td>373.942324</td>\n",
       "      <td>4.849041e+05</td>\n",
       "      <td>22989.884748</td>\n",
       "      <td>37833.597136</td>\n",
       "      <td>5.685780</td>\n",
       "      <td>2.747290</td>\n",
       "      <td>0.0</td>\n",
       "      <td>10158.368979</td>\n",
       "    </tr>\n",
       "    <tr>\n",
       "      <th>(3.433, 20.927]</th>\n",
       "      <td>995944.716500</td>\n",
       "      <td>780.816770</td>\n",
       "      <td>1.044335e+06</td>\n",
       "      <td>48164.012762</td>\n",
       "      <td>82392.927608</td>\n",
       "      <td>5.659312</td>\n",
       "      <td>5.777537</td>\n",
       "      <td>0.0</td>\n",
       "      <td>9805.872206</td>\n",
       "    </tr>\n",
       "  </tbody>\n",
       "</table>\n",
       "</div>"
      ],
      "text/plain": [
       "                      number_0    number_1      number_2      number_3  \\\n",
       "target                                                                   \n",
       "(0.008, 1.009]   133849.746777  110.541396  1.290353e+05   7294.945861   \n",
       "(1.009, 2.002]   309744.961594  245.208494  3.134106e+05  15477.503583   \n",
       "(2.002, 3.433]   470272.716456  373.942324  4.849041e+05  22989.884748   \n",
       "(3.433, 20.927]  995944.716500  780.816770  1.044335e+06  48164.012762   \n",
       "\n",
       "                     number_4  number_5    target  is_test       line_id  \n",
       "target                                                                    \n",
       "(0.008, 1.009]   12405.021767  6.985105  0.847552      0.0   9886.299341  \n",
       "(1.009, 2.002]   26122.257300  6.609057  1.481763      0.0   9988.525652  \n",
       "(2.002, 3.433]   37833.597136  5.685780  2.747290      0.0  10158.368979  \n",
       "(3.433, 20.927]  82392.927608  5.659312  5.777537      0.0   9805.872206  "
      ]
     },
     "execution_count": 208,
     "metadata": {},
     "output_type": "execute_result"
    }
   ],
   "source": [
    "factor = pd.qcut(df.target, [0, .25, .5, .75, 1.])\n",
    "meansByTarget = df.groupby(factor).mean()\n",
    "meansByTarget\n",
    "#factor"
   ]
  }
 ],
 "metadata": {
  "kernelspec": {
   "display_name": "Python 3",
   "language": "python",
   "name": "python3"
  },
  "language_info": {
   "codemirror_mode": {
    "name": "ipython",
    "version": 3
   },
   "file_extension": ".py",
   "mimetype": "text/x-python",
   "name": "python",
   "nbconvert_exporter": "python",
   "pygments_lexer": "ipython3",
   "version": "3.6.4"
  }
 },
 "nbformat": 4,
 "nbformat_minor": 2
}
