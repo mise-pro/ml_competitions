{
 "cells": [
  {
   "cell_type": "code",
   "execution_count": 1,
   "metadata": {
    "ExecuteTime": {
     "end_time": "2018-10-11T12:10:00.153213Z",
     "start_time": "2018-10-11T12:09:53.957195Z"
    }
   },
   "outputs": [],
   "source": [
    "import numpy as np\n",
    "import pandas as pd\n",
    "from sklearn.metrics import mean_squared_error, roc_auc_score"
   ]
  },
  {
   "cell_type": "code",
   "execution_count": 2,
   "metadata": {
    "ExecuteTime": {
     "end_time": "2018-10-11T12:10:00.159216Z",
     "start_time": "2018-10-11T12:10:00.155213Z"
    }
   },
   "outputs": [],
   "source": [
    "#datasets = ['check_1_r', 'check_2_r', 'check_3_r', 'check_4_c', 'check_5_c', 'check_6_c', 'check_7_c', 'check_8_c']\n",
    "dataset = 'check_1_r'\n",
    "result_dir = './res'\n",
    "data_dir = './data'"
   ]
  },
  {
   "cell_type": "code",
   "execution_count": 3,
   "metadata": {
    "ExecuteTime": {
     "end_time": "2018-10-11T12:10:01.616602Z",
     "start_time": "2018-10-11T12:10:00.161218Z"
    }
   },
   "outputs": [
    {
     "data": {
      "text/html": [
       "<div>\n",
       "<style scoped>\n",
       "    .dataframe tbody tr th:only-of-type {\n",
       "        vertical-align: middle;\n",
       "    }\n",
       "\n",
       "    .dataframe tbody tr th {\n",
       "        vertical-align: top;\n",
       "    }\n",
       "\n",
       "    .dataframe thead th {\n",
       "        text-align: right;\n",
       "    }\n",
       "</style>\n",
       "<table border=\"1\" class=\"dataframe\">\n",
       "  <thead>\n",
       "    <tr style=\"text-align: right;\">\n",
       "      <th></th>\n",
       "      <th>line_id</th>\n",
       "      <th>target</th>\n",
       "    </tr>\n",
       "  </thead>\n",
       "  <tbody>\n",
       "    <tr>\n",
       "      <th>0</th>\n",
       "      <td>0</td>\n",
       "      <td>38.682374</td>\n",
       "    </tr>\n",
       "    <tr>\n",
       "      <th>1</th>\n",
       "      <td>2</td>\n",
       "      <td>32.982233</td>\n",
       "    </tr>\n",
       "    <tr>\n",
       "      <th>2</th>\n",
       "      <td>6</td>\n",
       "      <td>43.440548</td>\n",
       "    </tr>\n",
       "    <tr>\n",
       "      <th>3</th>\n",
       "      <td>10</td>\n",
       "      <td>32.219988</td>\n",
       "    </tr>\n",
       "    <tr>\n",
       "      <th>4</th>\n",
       "      <td>13</td>\n",
       "      <td>0.000000</td>\n",
       "    </tr>\n",
       "  </tbody>\n",
       "</table>\n",
       "</div>"
      ],
      "text/plain": [
       "   line_id     target\n",
       "0        0  38.682374\n",
       "1        2  32.982233\n",
       "2        6  43.440548\n",
       "3       10  32.219988\n",
       "4       13   0.000000"
      ]
     },
     "execution_count": 3,
     "metadata": {},
     "output_type": "execute_result"
    }
   ],
   "source": [
    "df = pd.read_csv('{}/{}/test-target.csv'.format(data_dir, dataset))\n",
    "df.head()"
   ]
  },
  {
   "cell_type": "code",
   "execution_count": 4,
   "metadata": {
    "ExecuteTime": {
     "end_time": "2018-10-11T12:10:01.647624Z",
     "start_time": "2018-10-11T12:10:01.618604Z"
    }
   },
   "outputs": [
    {
     "data": {
      "text/html": [
       "<div>\n",
       "<style scoped>\n",
       "    .dataframe tbody tr th:only-of-type {\n",
       "        vertical-align: middle;\n",
       "    }\n",
       "\n",
       "    .dataframe tbody tr th {\n",
       "        vertical-align: top;\n",
       "    }\n",
       "\n",
       "    .dataframe thead th {\n",
       "        text-align: right;\n",
       "    }\n",
       "</style>\n",
       "<table border=\"1\" class=\"dataframe\">\n",
       "  <thead>\n",
       "    <tr style=\"text-align: right;\">\n",
       "      <th></th>\n",
       "      <th>line_id</th>\n",
       "      <th>prediction</th>\n",
       "    </tr>\n",
       "  </thead>\n",
       "  <tbody>\n",
       "    <tr>\n",
       "      <th>0</th>\n",
       "      <td>0</td>\n",
       "      <td>39.346196</td>\n",
       "    </tr>\n",
       "    <tr>\n",
       "      <th>1</th>\n",
       "      <td>2</td>\n",
       "      <td>24.313224</td>\n",
       "    </tr>\n",
       "    <tr>\n",
       "      <th>2</th>\n",
       "      <td>6</td>\n",
       "      <td>45.143301</td>\n",
       "    </tr>\n",
       "    <tr>\n",
       "      <th>3</th>\n",
       "      <td>10</td>\n",
       "      <td>38.668763</td>\n",
       "    </tr>\n",
       "    <tr>\n",
       "      <th>4</th>\n",
       "      <td>13</td>\n",
       "      <td>3.012409</td>\n",
       "    </tr>\n",
       "  </tbody>\n",
       "</table>\n",
       "</div>"
      ],
      "text/plain": [
       "   line_id  prediction\n",
       "0        0   39.346196\n",
       "1        2   24.313224\n",
       "2        6   45.143301\n",
       "3       10   38.668763\n",
       "4       13    3.012409"
      ]
     },
     "execution_count": 4,
     "metadata": {},
     "output_type": "execute_result"
    }
   ],
   "source": [
    "df_pred = pd.read_csv('{}/{}/pred.csv'.format(result_dir, dataset))\n",
    "df_pred.head()"
   ]
  },
  {
   "cell_type": "code",
   "execution_count": 5,
   "metadata": {
    "ExecuteTime": {
     "end_time": "2018-10-11T12:10:01.703662Z",
     "start_time": "2018-10-11T12:10:01.651627Z"
    }
   },
   "outputs": [
    {
     "data": {
      "text/html": [
       "<div>\n",
       "<style scoped>\n",
       "    .dataframe tbody tr th:only-of-type {\n",
       "        vertical-align: middle;\n",
       "    }\n",
       "\n",
       "    .dataframe tbody tr th {\n",
       "        vertical-align: top;\n",
       "    }\n",
       "\n",
       "    .dataframe thead th {\n",
       "        text-align: right;\n",
       "    }\n",
       "</style>\n",
       "<table border=\"1\" class=\"dataframe\">\n",
       "  <thead>\n",
       "    <tr style=\"text-align: right;\">\n",
       "      <th></th>\n",
       "      <th>line_id</th>\n",
       "      <th>target</th>\n",
       "      <th>prediction</th>\n",
       "    </tr>\n",
       "  </thead>\n",
       "  <tbody>\n",
       "    <tr>\n",
       "      <th>0</th>\n",
       "      <td>0</td>\n",
       "      <td>38.682374</td>\n",
       "      <td>39.346196</td>\n",
       "    </tr>\n",
       "    <tr>\n",
       "      <th>1</th>\n",
       "      <td>2</td>\n",
       "      <td>32.982233</td>\n",
       "      <td>24.313224</td>\n",
       "    </tr>\n",
       "    <tr>\n",
       "      <th>2</th>\n",
       "      <td>6</td>\n",
       "      <td>43.440548</td>\n",
       "      <td>45.143301</td>\n",
       "    </tr>\n",
       "    <tr>\n",
       "      <th>3</th>\n",
       "      <td>10</td>\n",
       "      <td>32.219988</td>\n",
       "      <td>38.668763</td>\n",
       "    </tr>\n",
       "    <tr>\n",
       "      <th>4</th>\n",
       "      <td>13</td>\n",
       "      <td>0.000000</td>\n",
       "      <td>3.012409</td>\n",
       "    </tr>\n",
       "  </tbody>\n",
       "</table>\n",
       "</div>"
      ],
      "text/plain": [
       "   line_id     target  prediction\n",
       "0        0  38.682374   39.346196\n",
       "1        2  32.982233   24.313224\n",
       "2        6  43.440548   45.143301\n",
       "3       10  32.219988   38.668763\n",
       "4       13   0.000000    3.012409"
      ]
     },
     "execution_count": 5,
     "metadata": {},
     "output_type": "execute_result"
    }
   ],
   "source": [
    "df = pd.merge(df, df_pred, on='line_id', left_index=True)\n",
    "df.head()"
   ]
  },
  {
   "cell_type": "code",
   "execution_count": 6,
   "metadata": {
    "ExecuteTime": {
     "end_time": "2018-10-11T12:10:01.721673Z",
     "start_time": "2018-10-11T12:10:01.705662Z"
    }
   },
   "outputs": [
    {
     "name": "stdout",
     "output_type": "stream",
     "text": [
      "Score 10.5086\n"
     ]
    }
   ],
   "source": [
    "score = roc_auc_score(df.target.values, df.prediction.values) if dataset[-1] == 'c' else \\\n",
    "            np.sqrt(mean_squared_error(df.target.values, df.prediction.values))\n",
    "print('Score {:0.4f}'.format(score))"
   ]
  },
  {
   "cell_type": "code",
   "execution_count": 7,
   "metadata": {
    "ExecuteTime": {
     "end_time": "2018-10-11T12:10:01.730679Z",
     "start_time": "2018-10-11T12:10:01.724675Z"
    }
   },
   "outputs": [],
   "source": [
    "#df.memory_usage().sum()"
   ]
  },
  {
   "cell_type": "markdown",
   "metadata": {},
   "source": [
    "# Пройдем весь путь с одним датасетом"
   ]
  },
  {
   "cell_type": "code",
   "execution_count": 8,
   "metadata": {
    "ExecuteTime": {
     "end_time": "2018-10-11T12:10:02.419469Z",
     "start_time": "2018-10-11T12:10:01.732681Z"
    }
   },
   "outputs": [],
   "source": [
    "import argparse\n",
    "import os\n",
    "import pandas as pd\n",
    "import pickle\n",
    "import time\n",
    "\n",
    "from sklearn.linear_model import Ridge, LogisticRegression\n",
    "from sklearn.preprocessing import StandardScaler\n",
    "\n",
    "import lightgbm as lgb\n",
    "\n",
    "from sklearn import model_selection\n",
    "\n",
    "from utils import transform_datetime_features\n",
    "from sdsj_feat import load_data"
   ]
  },
  {
   "cell_type": "code",
   "execution_count": 9,
   "metadata": {
    "ExecuteTime": {
     "end_time": "2018-10-11T12:10:02.426472Z",
     "start_time": "2018-10-11T12:10:02.421469Z"
    }
   },
   "outputs": [],
   "source": [
    "#os.system('python train.py --mode {} --train-csv {} --model-dir {}'.format(\n",
    "#        'regression' if dataset[-1] == 'r' else 'classification',\n",
    "#        '{}/{}/train.csv'.format(data_dir, dataset),\n",
    "#        '{}/{}/'.format(result_dir, dataset)"
   ]
  },
  {
   "cell_type": "code",
   "execution_count": 10,
   "metadata": {
    "ExecuteTime": {
     "end_time": "2018-10-11T12:10:02.855759Z",
     "start_time": "2018-10-11T12:10:02.429476Z"
    }
   },
   "outputs": [
    {
     "name": "stdout",
     "output_type": "stream",
     "text": [
      "Dataset read, shape (365, 41)\n",
      "Transform datetime done, shape (365, 46)\n",
      "Transform categorical done, shape (365, 46)\n",
      "Used 43 columns\n",
      "Train time: 0.3782505989074707\n"
     ]
    }
   ],
   "source": [
    "#parser = argparse.ArgumentParser()\n",
    "#parser.add_argument('--train-csv', required=True)\n",
    "#parser.add_argument('--model-dir', required=True)\n",
    "#parser.add_argument('--mode', choices=['classification', 'regression'], required=True)\n",
    "#args = parser.parse_args()\n",
    "\n",
    "model_dir = 'exp'\n",
    "\n",
    "start_time = time.time()\n",
    "\n",
    "df_X, df_y, model_config, _ = load_data('{}/{}/train.csv'.format(data_dir, dataset))\n",
    "\n",
    "model_config['mode'] = 'regression'\n",
    "\n",
    "params =  {\n",
    "\t'task': 'train',\n",
    "\t'boosting_type': 'gbdt',\n",
    "\t'objective': 'regression',# if args.mode == 'regression' else 'binary',\n",
    "\t'metric': 'rmse',\n",
    "\t\"learning_rate\": 0.01,\n",
    "\t\"num_leaves\": 200,\n",
    "\t\"feature_fraction\": 0.70,\n",
    "\t\"bagging_fraction\": 0.70,\n",
    "\t'bagging_freq': 4,\n",
    "\t\"max_depth\": -1,\n",
    "        \"verbosity\" : -1,\n",
    "\t\"reg_alpha\": 0.3,\n",
    "\t\"reg_lambda\": 0.1,\n",
    "\t#\"min_split_gain\":0.2,\n",
    "\t\"min_child_weight\":10,\n",
    "\t'zero_as_missing':True,\n",
    "        'num_threads': 4,\n",
    "    }\n",
    "\n",
    "params['seed'] = 1\n",
    "model = lgb.train(params, lgb.Dataset(df_X, label=df_y), 600)\n",
    "\n",
    "model_config['model'] = model\n",
    "model_config['params'] = params\n",
    "\n",
    "#result_dir = './res'\n",
    "\n",
    "model_config_filename = os.path.join(model_dir, 'model_config.pkl')\n",
    "with open(model_config_filename, 'wb') as fout:\n",
    "    pickle.dump(model_config, fout, protocol=pickle.HIGHEST_PROTOCOL)\n",
    "\n",
    "print('Train time: {}'.format(time.time() - start_time))"
   ]
  },
  {
   "cell_type": "markdown",
   "metadata": {},
   "source": [
    "## Делаем предсказания"
   ]
  },
  {
   "cell_type": "code",
   "execution_count": 11,
   "metadata": {
    "ExecuteTime": {
     "end_time": "2018-10-11T12:10:03.060897Z",
     "start_time": "2018-10-11T12:10:02.857761Z"
    }
   },
   "outputs": [
    {
     "name": "stdout",
     "output_type": "stream",
     "text": [
      "Dataset read, shape (172, 41)\n",
      "Transform datetime done, shape (172, 46)\n",
      "Transform categorical done, shape (172, 46)\n",
      "Used 43 columns\n",
      "Prediction time: 0.15910553932189941\n"
     ]
    }
   ],
   "source": [
    "#call from validate\n",
    "#    os.system('python predict.py --prediction-csv {} --test-csv {} --model-dir {}'.format(\n",
    "#        '{}/{}/pred.csv'.format(result_dir, dataset),\n",
    "#        '{}/{}/test.csv'.format(data_dir, dataset),\n",
    "#        '{}/{}/'.format(result_dir, dataset)\n",
    "#    ))\n",
    "\n",
    "#    parser = argparse.ArgumentParser()\n",
    "#    parser.add_argument('--test-csv', required=True)\n",
    "#    parser.add_argument('--prediction-csv', type=argparse.FileType('w'), required=True)\n",
    "#    parser.add_argument('--model-dir', required=True)\n",
    "#    args = parser.parse_args()\n",
    "\n",
    "start_time = time.time()\n",
    "\n",
    "# load model\n",
    "model_config_filename = os.path.join(model_dir, 'model_config.pkl')\n",
    "with open(model_config_filename, 'rb') as fin:\n",
    "    model_config = pickle.load(fin)\n",
    "\n",
    "test_csv = '{}/{}/test.csv'.format(data_dir, dataset)\n",
    "    \n",
    "X_scaled, _, _, df = load_data(test_csv, datatype='test', cfg=model_config)\n",
    "\n",
    "model = model_config['model']\n",
    "    #df = pd.read_csv(args.test_csv, usecols=['line_id',])\n",
    "    #print(args.test_csv)\n",
    "    #df = pd.read_csv(args.test_csv)\n",
    "if model_config['mode'] == 'regression':\n",
    "    df['prediction'] = model.predict(X_scaled)\n",
    "elif model_config['mode'] == 'classification':\n",
    "    #df['prediction'] = model.predict_proba(X_scaled)[:, 1]\n",
    "    df['prediction'] = model.predict(X_scaled)\n",
    "\n",
    "df[['line_id', 'prediction']].to_csv('exp/pred.csv', index=False)\n",
    "\n",
    "print('Prediction time: {}'.format(time.time() - start_time))"
   ]
  },
  {
   "cell_type": "markdown",
   "metadata": {
    "ExecuteTime": {
     "end_time": "2018-10-09T09:37:51.239513Z",
     "start_time": "2018-10-09T09:37:51.236509Z"
    }
   },
   "source": [
    "## Отдельные функции"
   ]
  },
  {
   "cell_type": "code",
   "execution_count": 12,
   "metadata": {
    "ExecuteTime": {
     "end_time": "2018-10-11T12:10:03.118933Z",
     "start_time": "2018-10-11T12:10:03.063898Z"
    }
   },
   "outputs": [
    {
     "data": {
      "text/html": [
       "<div>\n",
       "<style scoped>\n",
       "    .dataframe tbody tr th:only-of-type {\n",
       "        vertical-align: middle;\n",
       "    }\n",
       "\n",
       "    .dataframe tbody tr th {\n",
       "        vertical-align: top;\n",
       "    }\n",
       "\n",
       "    .dataframe thead th {\n",
       "        text-align: right;\n",
       "    }\n",
       "</style>\n",
       "<table border=\"1\" class=\"dataframe\">\n",
       "  <thead>\n",
       "    <tr style=\"text-align: right;\">\n",
       "      <th></th>\n",
       "      <th>datetime_0</th>\n",
       "      <th>target</th>\n",
       "      <th>number_0</th>\n",
       "      <th>number_1</th>\n",
       "      <th>number_2</th>\n",
       "      <th>number_3</th>\n",
       "      <th>number_4</th>\n",
       "      <th>number_5</th>\n",
       "      <th>number_6</th>\n",
       "      <th>number_7</th>\n",
       "      <th>...</th>\n",
       "      <th>number_30</th>\n",
       "      <th>number_31</th>\n",
       "      <th>number_32</th>\n",
       "      <th>number_33</th>\n",
       "      <th>number_34</th>\n",
       "      <th>number_35</th>\n",
       "      <th>number_36</th>\n",
       "      <th>number_37</th>\n",
       "      <th>number_38</th>\n",
       "      <th>line_id</th>\n",
       "    </tr>\n",
       "  </thead>\n",
       "  <tbody>\n",
       "    <tr>\n",
       "      <th>0</th>\n",
       "      <td>2017-03-11</td>\n",
       "      <td>0.000000</td>\n",
       "      <td>0.485840</td>\n",
       "      <td>0.169376</td>\n",
       "      <td>0.866834</td>\n",
       "      <td>0.968541</td>\n",
       "      <td>0.001060</td>\n",
       "      <td>1.000000</td>\n",
       "      <td>0.573018</td>\n",
       "      <td>0.981073</td>\n",
       "      <td>...</td>\n",
       "      <td>0</td>\n",
       "      <td>0</td>\n",
       "      <td>0</td>\n",
       "      <td>0</td>\n",
       "      <td>0</td>\n",
       "      <td>0</td>\n",
       "      <td>0</td>\n",
       "      <td>0</td>\n",
       "      <td>0</td>\n",
       "      <td>1</td>\n",
       "    </tr>\n",
       "    <tr>\n",
       "      <th>1</th>\n",
       "      <td>2017-01-10</td>\n",
       "      <td>30.231827</td>\n",
       "      <td>0.303703</td>\n",
       "      <td>0.200773</td>\n",
       "      <td>0.869347</td>\n",
       "      <td>0.973308</td>\n",
       "      <td>0.009912</td>\n",
       "      <td>1.000000</td>\n",
       "      <td>0.141864</td>\n",
       "      <td>0.993691</td>\n",
       "      <td>...</td>\n",
       "      <td>0</td>\n",
       "      <td>0</td>\n",
       "      <td>0</td>\n",
       "      <td>0</td>\n",
       "      <td>0</td>\n",
       "      <td>0</td>\n",
       "      <td>0</td>\n",
       "      <td>0</td>\n",
       "      <td>0</td>\n",
       "      <td>3</td>\n",
       "    </tr>\n",
       "    <tr>\n",
       "      <th>2</th>\n",
       "      <td>2017-02-26</td>\n",
       "      <td>0.000000</td>\n",
       "      <td>0.568567</td>\n",
       "      <td>0.190993</td>\n",
       "      <td>0.929648</td>\n",
       "      <td>0.987607</td>\n",
       "      <td>0.002207</td>\n",
       "      <td>1.000000</td>\n",
       "      <td>1.000000</td>\n",
       "      <td>1.000000</td>\n",
       "      <td>...</td>\n",
       "      <td>0</td>\n",
       "      <td>0</td>\n",
       "      <td>0</td>\n",
       "      <td>0</td>\n",
       "      <td>0</td>\n",
       "      <td>0</td>\n",
       "      <td>0</td>\n",
       "      <td>0</td>\n",
       "      <td>0</td>\n",
       "      <td>4</td>\n",
       "    </tr>\n",
       "    <tr>\n",
       "      <th>3</th>\n",
       "      <td>2017-02-02</td>\n",
       "      <td>22.756754</td>\n",
       "      <td>0.336114</td>\n",
       "      <td>0.051069</td>\n",
       "      <td>0.919598</td>\n",
       "      <td>0.983794</td>\n",
       "      <td>0.006191</td>\n",
       "      <td>1.000000</td>\n",
       "      <td>0.166898</td>\n",
       "      <td>0.984227</td>\n",
       "      <td>...</td>\n",
       "      <td>0</td>\n",
       "      <td>0</td>\n",
       "      <td>0</td>\n",
       "      <td>0</td>\n",
       "      <td>0</td>\n",
       "      <td>0</td>\n",
       "      <td>0</td>\n",
       "      <td>0</td>\n",
       "      <td>0</td>\n",
       "      <td>5</td>\n",
       "    </tr>\n",
       "    <tr>\n",
       "      <th>4</th>\n",
       "      <td>2017-06-08</td>\n",
       "      <td>22.754865</td>\n",
       "      <td>0.330694</td>\n",
       "      <td>0.132386</td>\n",
       "      <td>0.655779</td>\n",
       "      <td>0.889418</td>\n",
       "      <td>0.199192</td>\n",
       "      <td>0.727273</td>\n",
       "      <td>0.126565</td>\n",
       "      <td>0.703470</td>\n",
       "      <td>...</td>\n",
       "      <td>0</td>\n",
       "      <td>0</td>\n",
       "      <td>0</td>\n",
       "      <td>0</td>\n",
       "      <td>0</td>\n",
       "      <td>0</td>\n",
       "      <td>0</td>\n",
       "      <td>0</td>\n",
       "      <td>0</td>\n",
       "      <td>7</td>\n",
       "    </tr>\n",
       "  </tbody>\n",
       "</table>\n",
       "<p>5 rows × 42 columns</p>\n",
       "</div>"
      ],
      "text/plain": [
       "   datetime_0     target  number_0  number_1  number_2  number_3  number_4  \\\n",
       "0  2017-03-11   0.000000  0.485840  0.169376  0.866834  0.968541  0.001060   \n",
       "1  2017-01-10  30.231827  0.303703  0.200773  0.869347  0.973308  0.009912   \n",
       "2  2017-02-26   0.000000  0.568567  0.190993  0.929648  0.987607  0.002207   \n",
       "3  2017-02-02  22.756754  0.336114  0.051069  0.919598  0.983794  0.006191   \n",
       "4  2017-06-08  22.754865  0.330694  0.132386  0.655779  0.889418  0.199192   \n",
       "\n",
       "   number_5  number_6  number_7   ...     number_30  number_31  number_32  \\\n",
       "0  1.000000  0.573018  0.981073   ...             0          0          0   \n",
       "1  1.000000  0.141864  0.993691   ...             0          0          0   \n",
       "2  1.000000  1.000000  1.000000   ...             0          0          0   \n",
       "3  1.000000  0.166898  0.984227   ...             0          0          0   \n",
       "4  0.727273  0.126565  0.703470   ...             0          0          0   \n",
       "\n",
       "   number_33  number_34  number_35  number_36  number_37  number_38  line_id  \n",
       "0          0          0          0          0          0          0        1  \n",
       "1          0          0          0          0          0          0        3  \n",
       "2          0          0          0          0          0          0        4  \n",
       "3          0          0          0          0          0          0        5  \n",
       "4          0          0          0          0          0          0        7  \n",
       "\n",
       "[5 rows x 42 columns]"
      ]
     },
     "execution_count": 12,
     "metadata": {},
     "output_type": "execute_result"
    }
   ],
   "source": [
    "df = pd.read_csv('{}/{}/train.csv'.format(data_dir, dataset))\n",
    "df.head()"
   ]
  },
  {
   "cell_type": "code",
   "execution_count": 13,
   "metadata": {
    "ExecuteTime": {
     "end_time": "2018-10-11T12:10:03.181977Z",
     "start_time": "2018-10-11T12:10:03.120937Z"
    }
   },
   "outputs": [
    {
     "data": {
      "text/html": [
       "<div>\n",
       "<style scoped>\n",
       "    .dataframe tbody tr th:only-of-type {\n",
       "        vertical-align: middle;\n",
       "    }\n",
       "\n",
       "    .dataframe tbody tr th {\n",
       "        vertical-align: top;\n",
       "    }\n",
       "\n",
       "    .dataframe thead th {\n",
       "        text-align: right;\n",
       "    }\n",
       "</style>\n",
       "<table border=\"1\" class=\"dataframe\">\n",
       "  <thead>\n",
       "    <tr style=\"text-align: right;\">\n",
       "      <th></th>\n",
       "      <th>datetime_0</th>\n",
       "      <th>target</th>\n",
       "      <th>number_0</th>\n",
       "      <th>number_1</th>\n",
       "      <th>number_2</th>\n",
       "      <th>number_3</th>\n",
       "      <th>number_4</th>\n",
       "      <th>number_5</th>\n",
       "      <th>number_6</th>\n",
       "      <th>number_7</th>\n",
       "      <th>...</th>\n",
       "      <th>number_35</th>\n",
       "      <th>number_36</th>\n",
       "      <th>number_37</th>\n",
       "      <th>number_38</th>\n",
       "      <th>line_id</th>\n",
       "      <th>number_year_datetime_0</th>\n",
       "      <th>number_weekday_datetime_0</th>\n",
       "      <th>number_month_datetime_0</th>\n",
       "      <th>number_day_datetime_0</th>\n",
       "      <th>number_hour_datetime_0</th>\n",
       "    </tr>\n",
       "  </thead>\n",
       "  <tbody>\n",
       "    <tr>\n",
       "      <th>0</th>\n",
       "      <td>2017-03-11</td>\n",
       "      <td>0.000000</td>\n",
       "      <td>0.485840</td>\n",
       "      <td>0.169376</td>\n",
       "      <td>0.866834</td>\n",
       "      <td>0.968541</td>\n",
       "      <td>0.001060</td>\n",
       "      <td>1.000000</td>\n",
       "      <td>0.573018</td>\n",
       "      <td>0.981073</td>\n",
       "      <td>...</td>\n",
       "      <td>0</td>\n",
       "      <td>0</td>\n",
       "      <td>0</td>\n",
       "      <td>0</td>\n",
       "      <td>1</td>\n",
       "      <td>2017</td>\n",
       "      <td>5</td>\n",
       "      <td>3</td>\n",
       "      <td>11</td>\n",
       "      <td>0</td>\n",
       "    </tr>\n",
       "    <tr>\n",
       "      <th>1</th>\n",
       "      <td>2017-01-10</td>\n",
       "      <td>30.231827</td>\n",
       "      <td>0.303703</td>\n",
       "      <td>0.200773</td>\n",
       "      <td>0.869347</td>\n",
       "      <td>0.973308</td>\n",
       "      <td>0.009912</td>\n",
       "      <td>1.000000</td>\n",
       "      <td>0.141864</td>\n",
       "      <td>0.993691</td>\n",
       "      <td>...</td>\n",
       "      <td>0</td>\n",
       "      <td>0</td>\n",
       "      <td>0</td>\n",
       "      <td>0</td>\n",
       "      <td>3</td>\n",
       "      <td>2017</td>\n",
       "      <td>1</td>\n",
       "      <td>1</td>\n",
       "      <td>10</td>\n",
       "      <td>0</td>\n",
       "    </tr>\n",
       "    <tr>\n",
       "      <th>2</th>\n",
       "      <td>2017-02-26</td>\n",
       "      <td>0.000000</td>\n",
       "      <td>0.568567</td>\n",
       "      <td>0.190993</td>\n",
       "      <td>0.929648</td>\n",
       "      <td>0.987607</td>\n",
       "      <td>0.002207</td>\n",
       "      <td>1.000000</td>\n",
       "      <td>1.000000</td>\n",
       "      <td>1.000000</td>\n",
       "      <td>...</td>\n",
       "      <td>0</td>\n",
       "      <td>0</td>\n",
       "      <td>0</td>\n",
       "      <td>0</td>\n",
       "      <td>4</td>\n",
       "      <td>2017</td>\n",
       "      <td>6</td>\n",
       "      <td>2</td>\n",
       "      <td>26</td>\n",
       "      <td>0</td>\n",
       "    </tr>\n",
       "    <tr>\n",
       "      <th>3</th>\n",
       "      <td>2017-02-02</td>\n",
       "      <td>22.756754</td>\n",
       "      <td>0.336114</td>\n",
       "      <td>0.051069</td>\n",
       "      <td>0.919598</td>\n",
       "      <td>0.983794</td>\n",
       "      <td>0.006191</td>\n",
       "      <td>1.000000</td>\n",
       "      <td>0.166898</td>\n",
       "      <td>0.984227</td>\n",
       "      <td>...</td>\n",
       "      <td>0</td>\n",
       "      <td>0</td>\n",
       "      <td>0</td>\n",
       "      <td>0</td>\n",
       "      <td>5</td>\n",
       "      <td>2017</td>\n",
       "      <td>3</td>\n",
       "      <td>2</td>\n",
       "      <td>2</td>\n",
       "      <td>0</td>\n",
       "    </tr>\n",
       "    <tr>\n",
       "      <th>4</th>\n",
       "      <td>2017-06-08</td>\n",
       "      <td>22.754865</td>\n",
       "      <td>0.330694</td>\n",
       "      <td>0.132386</td>\n",
       "      <td>0.655779</td>\n",
       "      <td>0.889418</td>\n",
       "      <td>0.199192</td>\n",
       "      <td>0.727273</td>\n",
       "      <td>0.126565</td>\n",
       "      <td>0.703470</td>\n",
       "      <td>...</td>\n",
       "      <td>0</td>\n",
       "      <td>0</td>\n",
       "      <td>0</td>\n",
       "      <td>0</td>\n",
       "      <td>7</td>\n",
       "      <td>2017</td>\n",
       "      <td>3</td>\n",
       "      <td>6</td>\n",
       "      <td>8</td>\n",
       "      <td>0</td>\n",
       "    </tr>\n",
       "  </tbody>\n",
       "</table>\n",
       "<p>5 rows × 47 columns</p>\n",
       "</div>"
      ],
      "text/plain": [
       "  datetime_0     target  number_0  number_1  number_2  number_3  number_4  \\\n",
       "0 2017-03-11   0.000000  0.485840  0.169376  0.866834  0.968541  0.001060   \n",
       "1 2017-01-10  30.231827  0.303703  0.200773  0.869347  0.973308  0.009912   \n",
       "2 2017-02-26   0.000000  0.568567  0.190993  0.929648  0.987607  0.002207   \n",
       "3 2017-02-02  22.756754  0.336114  0.051069  0.919598  0.983794  0.006191   \n",
       "4 2017-06-08  22.754865  0.330694  0.132386  0.655779  0.889418  0.199192   \n",
       "\n",
       "   number_5  number_6  number_7           ...            number_35  number_36  \\\n",
       "0  1.000000  0.573018  0.981073           ...                    0          0   \n",
       "1  1.000000  0.141864  0.993691           ...                    0          0   \n",
       "2  1.000000  1.000000  1.000000           ...                    0          0   \n",
       "3  1.000000  0.166898  0.984227           ...                    0          0   \n",
       "4  0.727273  0.126565  0.703470           ...                    0          0   \n",
       "\n",
       "   number_37  number_38  line_id  number_year_datetime_0  \\\n",
       "0          0          0        1                    2017   \n",
       "1          0          0        3                    2017   \n",
       "2          0          0        4                    2017   \n",
       "3          0          0        5                    2017   \n",
       "4          0          0        7                    2017   \n",
       "\n",
       "   number_weekday_datetime_0  number_month_datetime_0  number_day_datetime_0  \\\n",
       "0                          5                        3                     11   \n",
       "1                          1                        1                     10   \n",
       "2                          6                        2                     26   \n",
       "3                          3                        2                      2   \n",
       "4                          3                        6                      8   \n",
       "\n",
       "   number_hour_datetime_0  \n",
       "0                       0  \n",
       "1                       0  \n",
       "2                       0  \n",
       "3                       0  \n",
       "4                       0  \n",
       "\n",
       "[5 rows x 47 columns]"
      ]
     },
     "execution_count": 13,
     "metadata": {},
     "output_type": "execute_result"
    }
   ],
   "source": [
    "# features from datetime\n",
    "df = transform_datetime_features(df)\n",
    "df.head()"
   ]
  }
 ],
 "metadata": {
  "kernelspec": {
   "display_name": "Python 3",
   "language": "python",
   "name": "python3"
  },
  "language_info": {
   "codemirror_mode": {
    "name": "ipython",
    "version": 3
   },
   "file_extension": ".py",
   "mimetype": "text/x-python",
   "name": "python",
   "nbconvert_exporter": "python",
   "pygments_lexer": "ipython3",
   "version": "3.6.4"
  }
 },
 "nbformat": 4,
 "nbformat_minor": 2
}
